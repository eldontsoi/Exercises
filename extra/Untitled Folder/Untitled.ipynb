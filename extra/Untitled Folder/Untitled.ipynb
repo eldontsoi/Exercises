{
 "cells": [
  {
   "cell_type": "code",
   "execution_count": 12,
   "metadata": {},
   "outputs": [
    {
     "name": "stdout",
     "output_type": "stream",
     "text": [
      "0\n"
     ]
    }
   ],
   "source": [
    "count = 0\n",
    "negResponse = ['nothing','Nothing','no','idk']\n",
    "neg_response = {}\n",
    "with open('ist335 chart.csv','r',encoding='utf-8') as f:\n",
    "    for nothing in f.readlines():\n",
    "        nothing = nothing.split(\"\\n\")\n",
    "        #nothing = nothing.lower()\n",
    "        if negResponse in nothing:\n",
    "            count = count + 1\n",
    "            \n",
    "print(count)"
   ]
  },
  {
   "cell_type": "code",
   "execution_count": null,
   "metadata": {},
   "outputs": [],
   "source": []
  }
 ],
 "metadata": {
  "kernelspec": {
   "display_name": "Python 3",
   "language": "python",
   "name": "python3"
  },
  "language_info": {
   "codemirror_mode": {
    "name": "ipython",
    "version": 3
   },
   "file_extension": ".py",
   "mimetype": "text/x-python",
   "name": "python",
   "nbconvert_exporter": "python",
   "pygments_lexer": "ipython3",
   "version": "3.6.4"
  }
 },
 "nbformat": 4,
 "nbformat_minor": 2
}
