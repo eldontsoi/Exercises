{
 "cells": [
  {
   "cell_type": "markdown",
   "metadata": {},
   "source": [
    "# Now You Code 1: Exam Stats\n",
    "\n",
    "Write a program to input exam scores (out of 100) until you enter 'quit'. After you finish entering exam scores the program will print out the average of all the exam scores.\n",
    "\n",
    "**HINTS:** \n",
    "\n",
    "- To figure out the average you must keep a running total of exam scores and a count of the number entered.\n",
    "- Try to make the program work 1 time, then figure out the exit condition and use a while True: loop.\n",
    "\n",
    "Example Run:\n",
    "\n",
    "```\n",
    "Enter exam score or type 'quit': 100\n",
    "Enter exam score or type 'quit': 100\n",
    "Enter exam score or type 'quit': 50\n",
    "Enter exam score or type 'quit': quit\n",
    "Number of scores 3. Average is 83.33\n",
    "```"
   ]
  },
  {
   "cell_type": "markdown",
   "metadata": {
    "collapsed": true
   },
   "source": [
    "## Step 1: Problem Analysis\n",
    "\n",
    "Inputs:\n",
    "\n",
    "- input first exam score\n",
    "- input second exam score\n",
    "- input third exam score\n",
    "\n",
    "Outputs:\n",
    "\n",
    "- average score\n",
    "\n",
    "Algorithm (Steps in Program):\n",
    "\n",
    "- ask for first exam score/quit\n",
    "- ask for second exam score/quit\n",
    "- ask for third exam score/quit\n",
    "- count number of scores\n",
    "- calculate average\n",
    "- output average\n",
    "\n"
   ]
  },
  {
   "cell_type": "code",
   "execution_count": null,
   "metadata": {},
   "outputs": [
    {
     "name": "stdout",
     "output_type": "stream",
     "text": [
      "enter exam score or quit: 3\n"
     ]
    }
   ],
   "source": [
    "# Step 2: Write code here\n",
    "count = 0\n",
    "exam_score = str(input(\"enter exam score or quit: \"))\n",
    "\n",
    "while True:\n",
    "    if exam_score !=quit:\n",
    "        count=count+1\n",
    "        exam_score = int(exam_score)\n",
    "        avg_score = (exam_score)/count\n",
    "    if exam_score == \"quit\":\n",
    "        break\n",
    "        print (\"your exam score is %d. Your average is %f \"%(count,avg_score))\n",
    "        \n",
    "    \n"
   ]
  },
  {
   "cell_type": "markdown",
   "metadata": {},
   "source": [
    "# 6###### 4\n",
    "#### Step 3: Questions\n",
    "\n",
    "1. What is the loop control variable in this program?\n",
    "2. What is the exit or terminating condition of the loop in this program?\n",
    "3. What happens when you enter an exam score outside the range of 0 to 100? Re-write your code to not accept exam scores outside this range.\n",
    "\n"
   ]
  },
  {
   "cell_type": "markdown",
   "metadata": {},
   "source": [
    "## Reminder of Evaluation Criteria\n",
    "\n",
    "1. What the problem attempted (analysis, code, and answered questions) ?\n",
    "2. What the problem analysis thought out? (does the program match the plan?)\n",
    "3. Does the code execute without syntax error?\n",
    "4. Does the code solve the intended problem?\n",
    "5. Is the code well written? (easy to understand, modular, and self-documenting, handles errors)\n"
   ]
  },
  {
   "cell_type": "code",
   "execution_count": 8,
   "metadata": {},
   "outputs": [
    {
     "data": {
      "text/plain": [
       "str"
      ]
     },
     "execution_count": 8,
     "metadata": {},
     "output_type": "execute_result"
    }
   ],
   "source": [
    "type(exam_score)"
   ]
  },
  {
   "cell_type": "code",
   "execution_count": null,
   "metadata": {},
   "outputs": [],
   "source": []
  }
 ],
 "metadata": {
  "anaconda-cloud": {},
  "kernelspec": {
   "display_name": "Python 3",
   "language": "python",
   "name": "python3"
  },
  "language_info": {
   "codemirror_mode": {
    "name": "ipython",
    "version": 3
   },
   "file_extension": ".py",
   "mimetype": "text/x-python",
   "name": "python",
   "nbconvert_exporter": "python",
   "pygments_lexer": "ipython3",
   "version": "3.6.3"
  }
 },
 "nbformat": 4,
 "nbformat_minor": 1
}
