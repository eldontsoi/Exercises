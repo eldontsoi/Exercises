{
 "cells": [
  {
   "cell_type": "markdown",
   "metadata": {},
   "source": [
    "# Now You Code 2: Multiply By\n",
    "\n",
    "Write a program to ask for a number to multiply by and then lists the multiplication table for that number from 1 to 10. This process will repeat until you enter quit as which point the program will exit.\n",
    "\n",
    "Wow. Seems complicated! We'll use technique called problem simplification to make this problem a little easier to solve.\n",
    "\n",
    "First we'll write a complete program to solve *part* of the problem, then we will take our new level of understanding to solve the *entire* problem.\n",
    "\n",
    "## Start with Sub-Problem 1\n",
    "\n",
    "Let's write a program to simply input a number and then uses a loop to print out the multiplication table up to 10  for that number. \n",
    "\n",
    "For example, when you input `5`:\n",
    "\n",
    "```\n",
    "Enter number to multiply by: 5\n",
    "1 x 5 = 5\n",
    "2 x 5 = 10\n",
    "3 x 5 = 15\n",
    "4 x 5 = 20\n",
    "5 x 5 = 25\n",
    "6 x 5 = 30\n",
    "7 x 5 = 35\n",
    "8 x 5 = 40\n",
    "9 x 5 = 45\n",
    "10 x 5 = 50\n",
    "```\n"
   ]
  },
  {
   "cell_type": "markdown",
   "metadata": {
    "collapsed": true
   },
   "source": [
    "## Step 1: Problem Analysis for Sub-Problem 1\n",
    "\n",
    "Inputs:\n",
    "\n",
    "- any number\n",
    "\n",
    "Outputs:\n",
    "\n",
    "- multiplication table for that number 1-10\n",
    "\n",
    "Algorithm (Steps in Program):\n",
    "\n",
    "\n",
    " - ask for input\n",
    " - do for loop\n",
    " - if enter quit then stop loop\n",
    " - print multiplication table "
   ]
  },
  {
   "cell_type": "code",
   "execution_count": 5,
   "metadata": {},
   "outputs": [
    {
     "name": "stdout",
     "output_type": "stream",
     "text": [
      "input a number: 89\n",
      "1 x 89 = 89\n",
      "2 x 89 = 178\n",
      "3 x 89 = 267\n",
      "4 x 89 = 356\n",
      "5 x 89 = 445\n",
      "6 x 89 = 534\n",
      "7 x 89 = 623\n",
      "8 x 89 = 712\n",
      "9 x 89 = 801\n",
      "10 x 89 = 890\n"
     ]
    }
   ],
   "source": [
    "# Step 2: write code for sub-problem 1\n",
    "\n",
    "number = int(input(\"input a number: \"))\n",
    "count = 0\n",
    "while count < 10:\n",
    "    count = count + 1\n",
    "    print (\"%d x %d = %d\" % (count,number, count*number))    \n"
   ]
  },
  {
   "cell_type": "code",
   "execution_count": 6,
   "metadata": {},
   "outputs": [
    {
     "name": "stdout",
     "output_type": "stream",
     "text": [
      "input a number: 10\n",
      "10 x 1 = 10\n",
      "10 x 2 = 20\n",
      "10 x 3 = 30\n",
      "10 x 4 = 40\n",
      "10 x 5 = 50\n",
      "10 x 6 = 60\n",
      "10 x 7 = 70\n",
      "10 x 8 = 80\n",
      "10 x 9 = 90\n",
      "10 x 10 = 100\n",
      "input a number: 20\n",
      "input a number: quit\n"
     ]
    }
   ],
   "source": [
    "\n",
    "while True:\n",
    "    number = input(\"input a number: \")\n",
    "    count = 0\n",
    "    \n",
    "    if(number == 'quit'):\n",
    "        break\n",
    "    else:\n",
    "        try:\n",
    "            number = int(number)\n",
    "            count = 0\n",
    "            while count < 10:\n",
    "                count = count + 1\n",
    "                print (\"%d x %d = %d\" % (number, count, count*number))    \n",
    "        except ValueError:\n",
    "            print(\"YOu did not enter a valid integer\")"
   ]
  },
  {
   "cell_type": "code",
   "execution_count": 5,
   "metadata": {},
   "outputs": [
    {
     "name": "stdout",
     "output_type": "stream",
     "text": [
      "input a number: 10\n",
      "10 x 1 = 10\n",
      "10 x 2 = 20\n",
      "10 x 3 = 30\n",
      "10 x 4 = 40\n",
      "10 x 5 = 50\n",
      "10 x 6 = 60\n",
      "10 x 7 = 70\n",
      "10 x 8 = 80\n",
      "10 x 9 = 90\n",
      "10 x 10 = 100\n",
      "input a number: quit\n",
      "YOu did not enter a valid integer\n"
     ]
    }
   ],
   "source": [
    "number = ''\n",
    "while number != 'quit':\n",
    "    number = input(\"input a number: \")\n",
    "    \n",
    "    try:\n",
    "        number = int(number)\n",
    "        count = 0\n",
    "        while count < 10:\n",
    "            count = count + 1\n",
    "            print (\"%d x %d = %d\" % (number, count, count*number))    \n",
    "    except ValueError:\n",
    "        print(\"YOu did not enter a valid integer\")\n",
    "# Avi version 2"
   ]
  },
  {
   "cell_type": "markdown",
   "metadata": {},
   "source": [
    "# Full Problem \n",
    "\n",
    "Now that we've got part of the problem figured out, let's solve the entire problem. The program should keep asking for numbers and then print out multiplcation tables until you enter `quit`. Here's an example:\n",
    "\n",
    "Example Run:\n",
    "\n",
    "```\n",
    "Enter number to multiply by or type 'quit': 10\n",
    "1 x 10 = 10\n",
    "2 x 10 = 20\n",
    "3 x 10 = 30\n",
    "4 x 10 = 40\n",
    "5 x 10 = 50\n",
    "6 x 10 = 60\n",
    "7 x 10 = 70\n",
    "8 x 10 = 80\n",
    "9 x 10 = 90\n",
    "10 x 10 = 100\n",
    "Enter number to multiply by or type 'quit': 5\n",
    "1 x 5 = 5\n",
    "2 x 5 = 10\n",
    "3 x 5 = 15\n",
    "4 x 5 = 20\n",
    "5 x 5 = 25\n",
    "6 x 5 = 30\n",
    "7 x 5 = 35\n",
    "8 x 5 = 40\n",
    "9 x 5 = 45\n",
    "10 x 5 = 50\n",
    "Enter number to multiply by or type 'quit': quit\n",
    "```\n",
    "\n",
    "**NOTE:** you need another loop complete this program. Take the code you wrote in the first part and repeat it in another loop until you type quit. "
   ]
  },
  {
   "cell_type": "markdown",
   "metadata": {
    "collapsed": true
   },
   "source": [
    "## Step 3: Problem Analysis for Full Problem\n",
    "\n",
    "Inputs:\n",
    "\n",
    "- a number or quit\n",
    "\n",
    "Outputs:\n",
    "\n",
    "- multiply that number from 1 to 10\n",
    "- multiply another number from 1 to 10 until input quit\n",
    "\n",
    "Algorithm (Steps in Program):\n",
    "\n",
    "- while loop\n",
    "    - set everything true\n",
    "    - increment count by 1\n",
    "    - do if count == 10\n",
    "        -display prompt\n",
    "    - if input==quit\n",
    "        -quit \n",
    "- for loop\n",
    "    - if count == 10\n",
    "        - increment count by 1\n",
    "        - ask for input\n",
    "    - if input == quit\n",
    "        - quit"
   ]
  },
  {
   "cell_type": "code",
   "execution_count": 1,
   "metadata": {},
   "outputs": [
    {
     "name": "stdout",
     "output_type": "stream",
     "text": [
      "Enter number to multiply by or type 'quit': \n"
     ]
    },
    {
     "ename": "ValueError",
     "evalue": "invalid literal for int() with base 10: ''",
     "output_type": "error",
     "traceback": [
      "\u001b[1;31m---------------------------------------------------------------------------\u001b[0m",
      "\u001b[1;31mValueError\u001b[0m                                Traceback (most recent call last)",
      "\u001b[1;32m<ipython-input-1-803ac56f3a52>\u001b[0m in \u001b[0;36m<module>\u001b[1;34m()\u001b[0m\n\u001b[0;32m      1\u001b[0m \u001b[1;31m# Step 4: Write code for full problem\u001b[0m\u001b[1;33m\u001b[0m\u001b[1;33m\u001b[0m\u001b[0m\n\u001b[1;32m----> 2\u001b[1;33m \u001b[0mnumber\u001b[0m \u001b[1;33m=\u001b[0m \u001b[0mint\u001b[0m\u001b[1;33m(\u001b[0m\u001b[0minput\u001b[0m\u001b[1;33m(\u001b[0m\u001b[1;34m\"Enter number to multiply by or type 'quit': \"\u001b[0m\u001b[1;33m)\u001b[0m\u001b[1;33m)\u001b[0m\u001b[1;33m\u001b[0m\u001b[0m\n\u001b[0m\u001b[0;32m      3\u001b[0m \u001b[0mcount\u001b[0m \u001b[1;33m=\u001b[0m \u001b[1;36m0\u001b[0m\u001b[1;33m\u001b[0m\u001b[0m\n\u001b[0;32m      4\u001b[0m \u001b[1;32mwhile\u001b[0m \u001b[1;32mTrue\u001b[0m\u001b[1;33m:\u001b[0m\u001b[1;33m\u001b[0m\u001b[0m\n\u001b[0;32m      5\u001b[0m     \u001b[0mcount\u001b[0m \u001b[1;33m=\u001b[0m \u001b[0mcount\u001b[0m \u001b[1;33m+\u001b[0m \u001b[1;36m1\u001b[0m\u001b[1;33m\u001b[0m\u001b[0m\n",
      "\u001b[1;31mValueError\u001b[0m: invalid literal for int() with base 10: ''"
     ]
    }
   ],
   "source": [
    "# Step 4: Write code for full problem\n",
    "number = int(input(\"Enter number to multiply by or type 'quit': \"))\n",
    "count = 0\n",
    "while True:\n",
    "    count = count + 1\n",
    "    print (\"%d x %d = %d\" % (count,number, count*number)) \n",
    "    if count == 10:\n",
    "        count = count + 1      \n",
    "        number = int(input(\"Enter number to multiply by or type 'quit': \"))\n",
    "    if number == \"quit\" :\n",
    "        break\n",
    "    \n",
    "#error version"
   ]
  },
  {
   "cell_type": "code",
   "execution_count": null,
   "metadata": {},
   "outputs": [
    {
     "name": "stdout",
     "output_type": "stream",
     "text": [
      "input a number: abc\n",
      "YOu did not enter a valid integer\n"
     ]
    }
   ],
   "source": [
    "while True:\n",
    "    number = input(\"input a number: \")\n",
    "    count = 0\n",
    "    \n",
    "    if(number == 'quit'):\n",
    "        break\n",
    "    else:\n",
    "        try:\n",
    "            number = int(number)\n",
    "            count = 0\n",
    "            while count < 10:\n",
    "                count = count + 1\n",
    "                print (\"%d x %d = %d\" % (number, count, count*number))    \n",
    "        except ValueError:\n",
    "            print(\"YOu did not enter a valid integer\")"
   ]
  },
  {
   "cell_type": "code",
   "execution_count": null,
   "metadata": {},
   "outputs": [],
   "source": []
  },
  {
   "cell_type": "code",
   "execution_count": null,
   "metadata": {},
   "outputs": [],
   "source": [
    "number = int(input(\"Enter a number to multiply by or type 'quit \"))\n",
    "count = 0\n",
    "\n",
    "for i in count:\n",
    "    count = count + 1\n",
    "\n",
    "    if count == 10:\n",
    "        print  (\"%d x %d = %d\" % (count, number, count*number))\n",
    "        number = int(input(\"Enter a number to multiply by or type 'quit\"))\n",
    "    else:\n",
    "        \n",
    "        print  (\"%d x %d = %d\" % (count, number, count*number))\n",
    "# error version"
   ]
  },
  {
   "cell_type": "code",
   "execution_count": 1,
   "metadata": {},
   "outputs": [
    {
     "name": "stdout",
     "output_type": "stream",
     "text": [
      "Enter a number or type quit: 1\n",
      "0 x 1 = 0\n",
      "1 x 1 = 1\n",
      "2 x 1 = 2\n",
      "3 x 1 = 3\n",
      "4 x 1 = 4\n",
      "5 x 1 = 5\n",
      "6 x 1 = 6\n",
      "7 x 1 = 7\n",
      "8 x 1 = 8\n",
      "9 x 1 = 9\n",
      "Enter a number or type quit: abc\n",
      "please input a valid integer\n"
     ]
    }
   ],
   "source": [
    "for i in range (1,10000000000000000000000000000000000000000000000000000):\n",
    "    number = input (\"Enter a number or type quit: \")\n",
    "    if number == \"quit\":\n",
    "        break\n",
    "        print  (\"%d x %d = %d\" % (count, number, count*number))\n",
    "    else:\n",
    "        count  = 1\n",
    "        \n",
    "        try:\n",
    "            for count in range (0,10):\n",
    "                number = int(number)\n",
    "\n",
    "                print  (\"%d x %d = %d\" % (count, number, count*number))\n",
    "        except ValueError:\n",
    "                print(\"please input a valid integer\")\n",
    "                break\n",
    "            \n",
    "            "
   ]
  },
  {
   "cell_type": "markdown",
   "metadata": {},
   "source": [
    "## Step 4: Questions\n",
    "\n",
    "1. What is the loop control variable for the first (outer) loop?\n",
    "2. What is the loop control variable for the second (inner) loop?\n",
    "3. Provide at least one way this program can be improved, or make more flexible by introducing more inputs?\n"
   ]
  },
  {
   "cell_type": "markdown",
   "metadata": {},
   "source": [
    "## Reminder of Evaluation Criteria\n",
    "\n",
    "1. What the problem attempted (analysis, code, and answered questions) ?\n",
    "2. What the problem analysis thought out? (does the program match the plan?)\n",
    "3. Does the code execute without syntax error?\n",
    "4. Does the code solve the intended problem?\n",
    "5. Is the code well written? (easy to understand, modular, and self-documenting, handles errors)\n"
   ]
  },
  {
   "cell_type": "code",
   "execution_count": 2,
   "metadata": {},
   "outputs": [
    {
     "data": {
      "text/plain": [
       "'95'"
      ]
     },
     "execution_count": 2,
     "metadata": {},
     "output_type": "execute_result"
    }
   ],
   "source": [
    "a= '9'\n",
    "b='5'\n",
    "a+b"
   ]
  },
  {
   "cell_type": "code",
   "execution_count": null,
   "metadata": {},
   "outputs": [],
   "source": []
  }
 ],
 "metadata": {
  "anaconda-cloud": {},
  "kernelspec": {
   "display_name": "Python 3",
   "language": "python",
   "name": "python3"
  },
  "language_info": {
   "codemirror_mode": {
    "name": "ipython",
    "version": 3
   },
   "file_extension": ".py",
   "mimetype": "text/x-python",
   "name": "python",
   "nbconvert_exporter": "python",
   "pygments_lexer": "ipython3",
   "version": "3.6.3"
  }
 },
 "nbformat": 4,
 "nbformat_minor": 1
}
