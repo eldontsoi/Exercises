{
 "cells": [
  {
   "cell_type": "markdown",
   "metadata": {},
   "source": [
    "# Now You Code 4: Guess A Number\n",
    "\n",
    "Write a program to play the classic \"Guess a number\" game.\n",
    "\n",
    "In this game the computer selects a random number between 1 and 10.\n",
    "It's your job to guess the number. Whenever you guess, the computer will\n",
    "give you a hint of higher or lower. This process repeats until you guess\n",
    "the number, after which the computer reports the number of guesses it took you.\n",
    "\n",
    "For Example:\n",
    "\n",
    "I'm thinking of a number between 1 and 10...\n",
    "Your guess: 5\n",
    "Too low. Guess higher.\n",
    "Your guess: 7\n",
    "Too high. Guess lower.\n",
    "Your guess: 6\n",
    "You guessed it in 3 tries.\n",
    "\n",
    "Your loop should continue until your input guess equals the\n",
    "computer generated random number.\n",
    "\n",
    "### How do you make Python generate a random number? "
   ]
  },
  {
   "cell_type": "code",
   "execution_count": 3,
   "metadata": {},
   "outputs": [
    {
     "name": "stdout",
     "output_type": "stream",
     "text": [
      "5\n"
     ]
    }
   ],
   "source": [
    "# Sample code which demostrates how to generate a number between 1 and 10\n",
    "import random \n",
    "number = random.randint(1,10)\n",
    "print(number)"
   ]
  },
  {
   "cell_type": "markdown",
   "metadata": {},
   "source": [
    "Run the cell above a couple of times. Notice how each time you execute the code, it comes up with a different number. \n",
    "\n",
    "Here's a breakdown of the code\n",
    "\n",
    "```\n",
    "line 1 imports the random module\n",
    "line 2 randomly selects an integer between 1 and 10\n",
    "line 3 prints the number\n",
    "```\n",
    "\n",
    "Now that you understand how to generate a random number, try to design then write code for the program. The first step in your program should be to generate the random number."
   ]
  },
  {
   "cell_type": "markdown",
   "metadata": {
    "collapsed": true
   },
   "source": [
    "## Step 1: Problem Analysis \n",
    "\n",
    "Inputs:\n",
    "\n",
    " - input a guess\n",
    " - import random number\n",
    "\n",
    "Outputs:\n",
    " \n",
    " - if to high\n",
    "     - print to high\n",
    " - if too low\n",
    "     - print to low\n",
    " - if exact\n",
    "     - print u guessed it\n",
    "\n",
    "Algorithm (Steps in Program):\n",
    "\n",
    " - input random number\n",
    " - prompt input\n",
    " - use while loop\n",
    "     - if to high\n",
    "         - print to high\n",
    "     - if too low\n",
    "         - print to low\n",
    "     - if exact\n",
    "         - print u guessed it\n",
    "         - break\n",
    " - use for loop\n",
    "     - change input prompt to random input\n",
    "\n",
    "\n"
   ]
  },
  {
   "cell_type": "code",
   "execution_count": 2,
   "metadata": {},
   "outputs": [
    {
     "name": "stdout",
     "output_type": "stream",
     "text": [
      "There is a number in my little eye... \n",
      "input a number ! :) lets start the game : 23\n",
      "you guessed 23.0. guess higher\n",
      "input a number ! :) lets start the game : 70\n",
      "you guessed 70.0. guess lower\n",
      "input a number ! :) lets start the game : 50\n",
      "you guessed 50.0. guess higher\n",
      "input a number ! :) lets start the game : 60\n",
      "congradulations!\n",
      "the number is 60, you guessd it in 4 times\n"
     ]
    }
   ],
   "source": [
    "print(\"There is a number in my little eye... \")\n",
    "import random\n",
    "number = random.randint(1,100)\n",
    "count = 0\n",
    "\n",
    "# Step 2: write code for program\n",
    "\n",
    "while True:\n",
    "    count = count + 1\n",
    "    try:\n",
    "        num = float(input(\"input a number ! :) lets start the game : \"))\n",
    "\n",
    "        if num == number:\n",
    "            print (\"congradulations!\")\n",
    "            print(\"the number is %d, you guessd it in %d times\"%(number ,count))\n",
    "            break\n",
    "        elif num < number:\n",
    "            print (\"you guessed %.1f. guess higher\" % (num))\n",
    "        else:\n",
    "            print (\"you guessed %.1f. guess lower\" % (num))\n",
    "    except ValueError:\n",
    "        print (\"did u input a number?\")\n",
    "        \n",
    "#while loop version "
   ]
  },
  {
   "cell_type": "code",
   "execution_count": 3,
   "metadata": {},
   "outputs": [
    {
     "name": "stdout",
     "output_type": "stream",
     "text": [
      "too high yo\n",
      "too high yo\n",
      "too low yo\n",
      "too low yo\n",
      "too low yo\n",
      "too low yo\n",
      "too low yo\n",
      "too low yo\n",
      "too low yo\n",
      "too low yo\n",
      "too low yo\n",
      "too low yo\n",
      "too low yo\n",
      "too low yo\n",
      "too low yo\n",
      "too low yo\n",
      "too low yo\n",
      "congradulations!\n",
      "the number is 77\n"
     ]
    }
   ],
   "source": [
    "import random\n",
    "number = random.randint(1,100)\n",
    "\n",
    "# Step 2: write code for program\n",
    "\n",
    "for i in range (0,150):\n",
    "    try:\n",
    "        num = random.randint (1,100)\n",
    "\n",
    "        if num == number:\n",
    "            print (\"congradulations!\")\n",
    "            print(\"the number is\" , number)\n",
    "            break\n",
    "        elif num < number:\n",
    "            print (\"too low yo\")\n",
    "        else:\n",
    "            print (\"too high yo\")\n",
    "    except ValueError:\n",
    "        print (\"did u input a number?\")\n",
    "        \n",
    "# for loop computer vs compute xddddddddd"
   ]
  },
  {
   "cell_type": "markdown",
   "metadata": {},
   "source": [
    "## Step 3: Questions\n",
    "\n",
    "1. Which loop did you use to solve the problem? What is a definite or indefinite loop?\n",
    "\n",
    " - i use indefinite loop for computer vs human\n",
    " - use for loop for computer vs computer \n",
    " \n",
    "\n",
    "2. Modify this program to allow you to guess a number between 1 and 100. How much of your code did you need to change to make this work? \n",
    "\n",
    " - add one more zero after 10\n",
    "\n",
    "3. This program is a good example of a difficult problem to conceptualize which has a simple solution when you look at actual lines of code. I assume you did not write this in a single try, so explain where you got stuck and describe your approach to overcoming it.\n",
    "\n",
    " - I had a dumb mistake on not breaking the loop when i guessed the number.\n"
   ]
  },
  {
   "cell_type": "markdown",
   "metadata": {},
   "source": [
    "## Reminder of Evaluation Criteria\n",
    "\n",
    "1. What the problem attempted (analysis, code, and answered questions) ?\n",
    "2. What the problem analysis thought out? (does the program match the plan?)\n",
    "3. Does the code execute without syntax error?\n",
    "4. Does the code solve the intended problem?\n",
    "5. Is the code well written? (easy to understand, modular, and self-documenting, handles errors)\n"
   ]
  },
  {
   "cell_type": "code",
   "execution_count": null,
   "metadata": {
    "collapsed": true
   },
   "outputs": [],
   "source": []
  }
 ],
 "metadata": {
  "anaconda-cloud": {},
  "kernelspec": {
   "display_name": "Python 3",
   "language": "python",
   "name": "python3"
  },
  "language_info": {
   "codemirror_mode": {
    "name": "ipython",
    "version": 3
   },
   "file_extension": ".py",
   "mimetype": "text/x-python",
   "name": "python",
   "nbconvert_exporter": "python",
   "pygments_lexer": "ipython3",
   "version": "3.6.3"
  }
 },
 "nbformat": 4,
 "nbformat_minor": 1
}
