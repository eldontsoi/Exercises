{
 "cells": [
  {
   "cell_type": "markdown",
   "metadata": {},
   "source": [
    "# Watch Me Code 2: Geocoding \n",
    "\n",
    "- Get Lat/Long for address\n",
    "- Get city / state for zipcode\n"
   ]
  },
  {
   "cell_type": "code",
   "execution_count": 1,
   "metadata": {},
   "outputs": [
    {
     "data": {
      "text/plain": [
       "{'results': [{'address_components': [{'long_name': '90210',\n",
       "     'short_name': '90210',\n",
       "     'types': ['postal_code']},\n",
       "    {'long_name': 'Beverly Hills',\n",
       "     'short_name': 'Beverly Hills',\n",
       "     'types': ['locality', 'political']},\n",
       "    {'long_name': 'Los Angeles County',\n",
       "     'short_name': 'Los Angeles County',\n",
       "     'types': ['administrative_area_level_2', 'political']},\n",
       "    {'long_name': 'California',\n",
       "     'short_name': 'CA',\n",
       "     'types': ['administrative_area_level_1', 'political']},\n",
       "    {'long_name': 'United States',\n",
       "     'short_name': 'US',\n",
       "     'types': ['country', 'political']}],\n",
       "   'formatted_address': 'Beverly Hills, CA 90210, USA',\n",
       "   'geometry': {'bounds': {'northeast': {'lat': 34.1354771,\n",
       "      'lng': -118.3867129},\n",
       "     'southwest': {'lat': 34.065094, 'lng': -118.4423781}},\n",
       "    'location': {'lat': 34.1030032, 'lng': -118.4104684},\n",
       "    'location_type': 'APPROXIMATE',\n",
       "    'viewport': {'northeast': {'lat': 34.1354771, 'lng': -118.3867129},\n",
       "     'southwest': {'lat': 34.065094, 'lng': -118.4423781}}},\n",
       "   'place_id': 'ChIJ7xfS-zW8woARXNkAJzX5Hs8',\n",
       "   'types': ['postal_code']}],\n",
       " 'status': 'OK'}"
      ]
     },
     "execution_count": 1,
     "metadata": {},
     "output_type": "execute_result"
    }
   ],
   "source": [
    "import requests\n",
    "import json\n",
    "\n",
    "url = 'http://maps.googleapis.com/maps/api/geocode/json?address=90210'\n",
    "response = requests.get(url)\n",
    "geodata = response.json()\n",
    "geodata"
   ]
  },
  {
   "cell_type": "code",
   "execution_count": 2,
   "metadata": {},
   "outputs": [
    {
     "ename": "IndexError",
     "evalue": "list index out of range",
     "output_type": "error",
     "traceback": [
      "\u001b[0;31m---------------------------------------------------------------------------\u001b[0m",
      "\u001b[0;31mIndexError\u001b[0m                                Traceback (most recent call last)",
      "\u001b[0;32m<ipython-input-2-6682554614a8>\u001b[0m in \u001b[0;36m<module>\u001b[0;34m()\u001b[0m\n\u001b[1;32m      5\u001b[0m \u001b[0mresponse\u001b[0m \u001b[0;34m=\u001b[0m \u001b[0mrequests\u001b[0m\u001b[0;34m.\u001b[0m\u001b[0mget\u001b[0m\u001b[0;34m(\u001b[0m\u001b[0murl\u001b[0m\u001b[0;34m)\u001b[0m\u001b[0;34m\u001b[0m\u001b[0m\n\u001b[1;32m      6\u001b[0m \u001b[0mgeodata\u001b[0m \u001b[0;34m=\u001b[0m \u001b[0mresponse\u001b[0m\u001b[0;34m.\u001b[0m\u001b[0mjson\u001b[0m\u001b[0;34m(\u001b[0m\u001b[0;34m)\u001b[0m\u001b[0;34m\u001b[0m\u001b[0m\n\u001b[0;32m----> 7\u001b[0;31m \u001b[0maddress\u001b[0m \u001b[0;34m=\u001b[0m \u001b[0mgeodata\u001b[0m\u001b[0;34m[\u001b[0m\u001b[0;34m'results'\u001b[0m\u001b[0;34m]\u001b[0m\u001b[0;34m[\u001b[0m\u001b[0;36m0\u001b[0m\u001b[0;34m]\u001b[0m\u001b[0;34m[\u001b[0m\u001b[0;34m'formatted_address'\u001b[0m\u001b[0;34m]\u001b[0m\u001b[0;34m\u001b[0m\u001b[0m\n\u001b[0m\u001b[1;32m      8\u001b[0m \u001b[0maddress\u001b[0m\u001b[0;34m\u001b[0m\u001b[0m\n",
      "\u001b[0;31mIndexError\u001b[0m: list index out of range"
     ]
    }
   ],
   "source": [
    "import requests\n",
    "import json\n",
    "\n",
    "url = 'http://maps.googleapis.com/maps/api/geocode/json?address=90210'\n",
    "response = requests.get(url)\n",
    "geodata = response.json()\n",
    "address = geodata['results'][0]['formatted_address']\n",
    "address"
   ]
  },
  {
   "cell_type": "code",
   "execution_count": 5,
   "metadata": {},
   "outputs": [
    {
     "name": "stdout",
     "output_type": "stream",
     "text": [
      "Enter Zip Code13244\n"
     ]
    },
    {
     "data": {
      "text/plain": [
       "'Syracuse, NY 13244, USA'"
      ]
     },
     "execution_count": 5,
     "metadata": {},
     "output_type": "execute_result"
    }
   ],
   "source": [
    "import requests\n",
    "import json\n",
    "\n",
    "url = 'http://maps.googleapis.com/maps/api/geocode/json'\n",
    "params = { 'address' : input(\"Enter Zip Code\") }\n",
    "response = requests.get(url, params = params)\n",
    "geodata = response.json()\n",
    "address = geodata['results'][0]['formatted_address']\n",
    "address"
   ]
  },
  {
   "cell_type": "code",
   "execution_count": 7,
   "metadata": {},
   "outputs": [
    {
     "name": "stdout",
     "output_type": "stream",
     "text": [
      "13244\n",
      "Syracuse\n",
      "Onondaga County\n",
      "NY\n",
      "US\n"
     ]
    }
   ],
   "source": [
    "for address in geodata['results'][0]['address_components']:\n",
    "    print(address['short_name'])"
   ]
  },
  {
   "cell_type": "code",
   "execution_count": 8,
   "metadata": {},
   "outputs": [
    {
     "data": {
      "text/plain": [
       "{'results': [{'address_components': [{'long_name': '13244',\n",
       "     'short_name': '13244',\n",
       "     'types': ['postal_code']},\n",
       "    {'long_name': 'Syracuse',\n",
       "     'short_name': 'Syracuse',\n",
       "     'types': ['locality', 'political']},\n",
       "    {'long_name': 'Onondaga County',\n",
       "     'short_name': 'Onondaga County',\n",
       "     'types': ['administrative_area_level_2', 'political']},\n",
       "    {'long_name': 'New York',\n",
       "     'short_name': 'NY',\n",
       "     'types': ['administrative_area_level_1', 'political']},\n",
       "    {'long_name': 'United States',\n",
       "     'short_name': 'US',\n",
       "     'types': ['country', 'political']}],\n",
       "   'formatted_address': 'Syracuse, NY 13244, USA',\n",
       "   'geometry': {'bounds': {'northeast': {'lat': 43.049482,\n",
       "      'lng': -76.14264709999999},\n",
       "     'southwest': {'lat': 43.047424, 'lng': -76.14392509999999}},\n",
       "    'location': {'lat': 43.04782609999999, 'lng': -76.1432291},\n",
       "    'location_type': 'APPROXIMATE',\n",
       "    'viewport': {'northeast': {'lat': 43.0498019802915,\n",
       "      'lng': -76.14193711970847},\n",
       "     'southwest': {'lat': 43.0471040197085, 'lng': -76.1446350802915}}},\n",
       "   'place_id': 'ChIJCwhR9J_z2YkR_gb7vHTA2jg',\n",
       "   'types': ['postal_code']}],\n",
       " 'status': 'OK'}"
      ]
     },
     "execution_count": 8,
     "metadata": {},
     "output_type": "execute_result"
    }
   ],
   "source": [
    "geodata"
   ]
  },
  {
   "cell_type": "code",
   "execution_count": null,
   "metadata": {},
   "outputs": [
    {
     "name": "stdout",
     "output_type": "stream",
     "text": [
      "Enter location: Hong Kong\n",
      "Retrieving http://maps.googleapis.com/maps/api/geocode/xml?address=Hong+Kong\n",
      "Retrieved 1040 characters\n",
      "<?xml version=\"1.0\" encoding=\"UTF-8\"?>\n",
      "<GeocodeResponse>\n",
      " <status>OK</status>\n",
      " <result>\n",
      "  <type>country</type>\n",
      "  <type>locality</type>\n",
      "  <type>political</type>\n",
      "  <formatted_address>Hong Kong</formatted_address>\n",
      "  <address_component>\n",
      "   <long_name>Hong Kong</long_name>\n",
      "   <short_name>HK</short_name>\n",
      "   <type>country</type>\n",
      "   <type>locality</type>\n",
      "   <type>political</type>\n",
      "  </address_component>\n",
      "  <geometry>\n",
      "   <location>\n",
      "    <lat>22.3964280</lat>\n",
      "    <lng>114.1094970</lng>\n",
      "   </location>\n",
      "   <location_type>APPROXIMATE</location_type>\n",
      "   <viewport>\n",
      "    <southwest>\n",
      "     <lat>22.1435000</lat>\n",
      "     <lng>113.8259001</lng>\n",
      "    </southwest>\n",
      "    <northeast>\n",
      "     <lat>22.5619680</lat>\n",
      "     <lng>114.4294999</lng>\n",
      "    </northeast>\n",
      "   </viewport>\n",
      "   <bounds>\n",
      "    <southwest>\n",
      "     <lat>22.1435000</lat>\n",
      "     <lng>113.8259001</lng>\n",
      "    </southwest>\n",
      "    <northeast>\n",
      "     <lat>22.5619680</lat>\n",
      "     <lng>114.4294999</lng>\n",
      "    </northeast>\n",
      "   </bounds>\n",
      "  </geometry>\n",
      "  <place_id>ChIJD5gyo-3iAzQRfMnq27qzivA</place_id>\n",
      " </result>\n",
      "</GeocodeResponse>\n",
      "\n",
      "lat 22.3964280 lng 114.1094970\n",
      "Hong Kong\n",
      "Enter location: Beijing\n",
      "Retrieving http://maps.googleapis.com/maps/api/geocode/xml?address=Beijing\n",
      "Retrieved 1344 characters\n",
      "<?xml version=\"1.0\" encoding=\"UTF-8\"?>\n",
      "<GeocodeResponse>\n",
      " <status>OK</status>\n",
      " <result>\n",
      "  <type>locality</type>\n",
      "  <type>political</type>\n",
      "  <formatted_address>Beijing, China</formatted_address>\n",
      "  <address_component>\n",
      "   <long_name>Beijing</long_name>\n",
      "   <short_name>Beijing</short_name>\n",
      "   <type>locality</type>\n",
      "   <type>political</type>\n",
      "  </address_component>\n",
      "  <address_component>\n",
      "   <long_name>Beijing</long_name>\n",
      "   <short_name>Beijing</short_name>\n",
      "   <type>administrative_area_level_1</type>\n",
      "   <type>political</type>\n",
      "  </address_component>\n",
      "  <address_component>\n",
      "   <long_name>China</long_name>\n",
      "   <short_name>CN</short_name>\n",
      "   <type>country</type>\n",
      "   <type>political</type>\n",
      "  </address_component>\n",
      "  <geometry>\n",
      "   <location>\n",
      "    <lat>39.9041999</lat>\n",
      "    <lng>116.4073963</lng>\n",
      "   </location>\n",
      "   <location_type>APPROXIMATE</location_type>\n",
      "   <viewport>\n",
      "    <southwest>\n",
      "     <lat>39.6612714</lat>\n",
      "     <lng>116.0119343</lng>\n",
      "    </southwest>\n",
      "    <northeast>\n",
      "     <lat>40.2164962</lat>\n",
      "     <lng>116.7829835</lng>\n",
      "    </northeast>\n",
      "   </viewport>\n",
      "   <bounds>\n",
      "    <southwest>\n",
      "     <lat>39.4427580</lat>\n",
      "     <lng>115.4234112</lng>\n",
      "    </southwest>\n",
      "    <northeast>\n",
      "     <lat>41.0608157</lat>\n",
      "     <lng>117.5146250</lng>\n",
      "    </northeast>\n",
      "   </bounds>\n",
      "  </geometry>\n",
      "  <place_id>ChIJuSwU55ZS8DURiqkPryBWYrk</place_id>\n",
      " </result>\n",
      "</GeocodeResponse>\n",
      "\n",
      "lat 39.9041999 lng 116.4073963\n",
      "Beijing, China\n"
     ]
    }
   ],
   "source": [
    "import urllib.request, urllib.parse, urllib.error\n",
    "import xml.etree.ElementTree as ET\n",
    "\n",
    "serviceurl = 'http://maps.googleapis.com/maps/api/geocode/xml?'\n",
    "\n",
    "while True:\n",
    "    address = input('Enter location: ')\n",
    "    if len(address) < 1: break\n",
    "\n",
    "    url = serviceurl + urllib.parse.urlencode({'address': address})\n",
    "    print('Retrieving', url)\n",
    "    uh = urllib.request.urlopen(url)\n",
    "    data = uh.read()\n",
    "    print('Retrieved', len(data), 'characters')\n",
    "    print(data.decode())\n",
    "    tree = ET.fromstring(data)\n",
    "\n",
    "    results = tree.findall('result')\n",
    "    lat = results[0].find('geometry').find('location').find('lat').text\n",
    "    lng = results[0].find('geometry').find('location').find('lng').text\n",
    "    location = results[0].find('formatted_address').text\n",
    "\n",
    "    print('lat', lat, 'lng', lng)\n",
    "    print(location)"
   ]
  },
  {
   "cell_type": "code",
   "execution_count": null,
   "metadata": {},
   "outputs": [],
   "source": []
  }
 ],
 "metadata": {
  "anaconda-cloud": {},
  "kernelspec": {
   "display_name": "Python 3",
   "language": "python",
   "name": "python3"
  },
  "language_info": {
   "codemirror_mode": {
    "name": "ipython",
    "version": 3
   },
   "file_extension": ".py",
   "mimetype": "text/x-python",
   "name": "python",
   "nbconvert_exporter": "python",
   "pygments_lexer": "ipython3",
   "version": "3.6.4"
  }
 },
 "nbformat": 4,
 "nbformat_minor": 1
}
