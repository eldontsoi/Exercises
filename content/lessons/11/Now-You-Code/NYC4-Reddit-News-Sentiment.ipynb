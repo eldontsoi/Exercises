{
 "cells": [
  {
   "cell_type": "markdown",
   "metadata": {},
   "source": [
    "# Now You Code 4: Reddit News Sentiment Analysis\n",
    "\n",
    "In this assignment you're tasked with performing a sentiment analysis on top Reddit news articles. (`https://www.reddit.com/r/news/top.json`)\n",
    "\n",
    "You should perform the analysis on the titles only. \n",
    "\n",
    "Start by getting the Reddit API to work, and extracting a list of titles only. You'll have to research the Reddit API, and can do so here: https://www.reddit.com/dev/api/ The Reddit API requires a custom 'User-Agent' You must specify this in your headers, as explained here: https://github.com/reddit/reddit/wiki/API \n",
    "\n",
    "\n",
    "After you get Reddit working move on to sentiment analysis. Once again, we will use (`http://text-processing.com/api/sentiment/`) like we did in the in-class coding lab. \n",
    "\n",
    "We will start by writing the `GetRedditStories` and `GetSentiment` functions, then putting it all together."
   ]
  },
  {
   "cell_type": "markdown",
   "metadata": {
    "collapsed": true
   },
   "source": [
    "## Step 1: Problem Analysis for `GetRedditStories`\n",
    "\n",
    "First let's write a function `GetRedditStories` to get the top news articles from the http://www.reddit.com site. \n",
    "\n",
    "\n",
    "Inputs: None\n",
    "\n",
    "Outputs: the top `stories` as a Python object converted from JSON\n",
    "\n",
    "Algorithm (Steps in Program):\n",
    "\n",
    "```\n",
    "todo write algorithm here\n",
    "```\n",
    "\n",
    "1. import modules\n",
    "2. make request to Reddit\n",
    "3. Convert response to json object\n",
    "\n",
    "4. Parse json object to get news heading\n",
    "    - go into data value\n",
    "    - go through value\n",
    "    - go to children key\n",
    "    - go to the index 0\n",
    "    - loop to index that says 'title'\n",
    "    \n",
    "5. print all news heading\n",
    "\n",
    "6. send news heading to sentiment analyser\n",
    "7. print statement\n",
    "\n",
    "\n",
    "\n",
    "\n"
   ]
  },
  {
   "cell_type": "code",
   "execution_count": 57,
   "metadata": {
    "collapsed": true
   },
   "outputs": [
    {
     "name": "stdout",
     "output_type": "stream",
     "text": [
      "dict_values(['t3_8bfquk', 25, '', 'all_ads', [{'kind': 't3', 'data': {'subreddit_id': 't5_2qh3l', 'approved_at_utc': None, 'send_replies': True, 'mod_reason_by': None, 'banned_by': None, 'num_reports': None, 'removal_reason': None, 'subreddit': 'news', 'selftext_html': None, 'selftext': '', 'likes': None, 'suggested_sort': None, 'user_reports': [], 'secure_media': None, 'is_reddit_media_domain': False, 'saved': False, 'id': '8bdci4', 'banned_at_utc': None, 'mod_reason_title': None, 'view_count': None, 'archived': False, 'clicked': False, 'no_follow': False, 'author': 'TheMnemosyne', 'num_crossposts': 20, 'link_flair_text': None, 'mod_reports': [], 'can_mod_post': False, 'is_crosspostable': False, 'pinned': False, 'score': 65591, 'approved_by': None, 'over_18': False, 'report_reasons': None, 'domain': 'nme.com', 'hidden': False, 'thumbnail': '', 'edited': False, 'link_flair_css_class': None, 'author_flair_css_class': None, 'contest_mode': False, 'gilded': 0, 'downs': 0, 'brand_safe': True, 'secure_media_embed': {}, 'media_embed': {}, 'author_flair_text': None, 'stickied': False, 'visited': False, 'can_gild': False, 'is_self': False, 'parent_whitelist_status': 'all_ads', 'name': 't3_8bdci4', 'spoiler': False, 'permalink': '/r/news/comments/8bdci4/police_raid_illegal_rave_inside_abandoned_toys_r/', 'subreddit_type': 'public', 'locked': False, 'hide_score': False, 'created': 1523438854.0, 'url': 'http://www.nme.com/news/music/police-raid-rave-at-toys-r-us-store-2288378', 'whitelist_status': 'all_ads', 'quarantine': False, 'subreddit_subscribers': 15885750, 'created_utc': 1523410054.0, 'subreddit_name_prefixed': 'r/news', 'ups': 65591, 'media': None, 'num_comments': 2076, 'title': 'Police raid illegal rave inside abandoned Toys R Us', 'mod_note': None, 'is_video': False, 'distinguished': None}}, {'kind': 't3', 'data': {'subreddit_id': 't5_2qh3l', 'approved_at_utc': None, 'send_replies': True, 'mod_reason_by': None, 'banned_by': None, 'num_reports': None, 'removal_reason': None, 'subreddit': 'news', 'selftext_html': None, 'selftext': '', 'likes': None, 'suggested_sort': None, 'user_reports': [], 'secure_media': None, 'is_reddit_media_domain': False, 'saved': False, 'id': '8bh3cj', 'banned_at_utc': None, 'mod_reason_title': None, 'view_count': None, 'archived': False, 'clicked': False, 'no_follow': False, 'author': 'meanhoegreen', 'num_crossposts': 3, 'link_flair_text': None, 'mod_reports': [], 'can_mod_post': False, 'is_crosspostable': False, 'pinned': False, 'score': 36682, 'approved_by': None, 'over_18': False, 'report_reasons': None, 'domain': 'wbrz.com', 'hidden': False, 'thumbnail': '', 'edited': False, 'link_flair_css_class': None, 'author_flair_css_class': None, 'contest_mode': False, 'gilded': 0, 'downs': 0, 'brand_safe': True, 'secure_media_embed': {}, 'media_embed': {}, 'author_flair_text': None, 'stickied': False, 'visited': False, 'can_gild': False, 'is_self': False, 'parent_whitelist_status': 'all_ads', 'name': 't3_8bh3cj', 'spoiler': False, 'permalink': '/r/news/comments/8bh3cj/louisiana_teacher_fired_after_mocking_autistic/', 'subreddit_type': 'public', 'locked': False, 'hide_score': False, 'created': 1523482462.0, 'url': 'http://www.wbrz.com/news/educators-fired-after-mocking-autistic-student-in-audio-recording/', 'whitelist_status': 'all_ads', 'quarantine': False, 'subreddit_subscribers': 15885750, 'created_utc': 1523453662.0, 'subreddit_name_prefixed': 'r/news', 'ups': 36682, 'media': None, 'num_comments': 2522, 'title': 'Louisiana teacher fired after mocking autistic student in audio recording during class', 'mod_note': None, 'is_video': False, 'distinguished': None}}, {'kind': 't3', 'data': {'subreddit_id': 't5_2qh3l', 'approved_at_utc': None, 'send_replies': True, 'mod_reason_by': None, 'banned_by': None, 'num_reports': None, 'removal_reason': None, 'subreddit': 'news', 'selftext_html': None, 'selftext': '', 'likes': None, 'suggested_sort': None, 'user_reports': [], 'secure_media': None, 'is_reddit_media_domain': False, 'saved': False, 'id': '8bb4xk', 'banned_at_utc': None, 'mod_reason_title': None, 'view_count': None, 'archived': False, 'clicked': False, 'no_follow': False, 'author': 'jaronbrandon', 'num_crossposts': 1, 'link_flair_text': None, 'mod_reports': [], 'can_mod_post': False, 'is_crosspostable': False, 'pinned': False, 'score': 5616, 'approved_by': None, 'over_18': False, 'report_reasons': None, 'domain': 'news18.com', 'hidden': False, 'thumbnail': '', 'edited': False, 'link_flair_css_class': None, 'author_flair_css_class': None, 'contest_mode': False, 'gilded': 0, 'downs': 0, 'brand_safe': True, 'secure_media_embed': {}, 'media_embed': {}, 'author_flair_text': None, 'stickied': False, 'visited': False, 'can_gild': False, 'is_self': False, 'parent_whitelist_status': 'all_ads', 'name': 't3_8bb4xk', 'spoiler': False, 'permalink': '/r/news/comments/8bb4xk/mark_zuckerberg_testimony_live_we_dont_sell_data/', 'subreddit_type': 'public', 'locked': False, 'hide_score': False, 'created': 1523421336.0, 'url': 'https://www.news18.com/news/tech/mark-zuckerberg-testimony-live-zuckerberg-dodges-question-on-cross-device-tracking-1714513.html', 'whitelist_status': 'all_ads', 'quarantine': False, 'subreddit_subscribers': 15885750, 'created_utc': 1523392536.0, 'subreddit_name_prefixed': 'r/news', 'ups': 5616, 'media': None, 'num_comments': 1373, 'title': \"Mark Zuckerberg Testimony Live: We Don't Sell Data to Advertisers, Says Zuckerberg\", 'mod_note': None, 'is_video': False, 'distinguished': None}}, {'kind': 't3', 'data': {'subreddit_id': 't5_2qh3l', 'approved_at_utc': None, 'send_replies': True, 'mod_reason_by': None, 'banned_by': None, 'num_reports': None, 'removal_reason': None, 'subreddit': 'news', 'selftext_html': None, 'selftext': '', 'likes': None, 'suggested_sort': None, 'user_reports': [], 'secure_media': None, 'is_reddit_media_domain': False, 'saved': False, 'id': '8bcf9t', 'banned_at_utc': None, 'mod_reason_title': None, 'view_count': None, 'archived': False, 'clicked': False, 'no_follow': False, 'author': 'oliveturtle', 'num_crossposts': 2, 'link_flair_text': None, 'mod_reports': [], 'can_mod_post': False, 'is_crosspostable': False, 'pinned': False, 'score': 2838, 'approved_by': None, 'over_18': False, 'report_reasons': None, 'domain': 'erienewsnow.com', 'hidden': False, 'thumbnail': '', 'edited': False, 'link_flair_css_class': None, 'author_flair_css_class': None, 'contest_mode': False, 'gilded': 0, 'downs': 0, 'brand_safe': True, 'secure_media_embed': {}, 'media_embed': {}, 'author_flair_text': None, 'stickied': False, 'visited': False, 'can_gild': False, 'is_self': False, 'parent_whitelist_status': 'all_ads', 'name': 't3_8bcf9t', 'spoiler': False, 'permalink': '/r/news/comments/8bcf9t/pennsylvania_school_district_arms_500_teachers/', 'subreddit_type': 'public', 'locked': False, 'hide_score': False, 'created': 1523431105.0, 'url': 'http://www.erienewsnow.com/story/37926169/millcreek-school-district-arms-teachers-with-baseball-bats', 'whitelist_status': 'all_ads', 'quarantine': False, 'subreddit_subscribers': 15885750, 'created_utc': 1523402305.0, 'subreddit_name_prefixed': 'r/news', 'ups': 2838, 'media': None, 'num_comments': 910, 'title': 'Pennsylvania school district arms 500 teachers with 16 inch-miniature baseball bats in case of school shooting', 'mod_note': None, 'is_video': False, 'distinguished': None}}, {'kind': 't3', 'data': {'subreddit_id': 't5_2qh3l', 'approved_at_utc': None, 'send_replies': True, 'mod_reason_by': None, 'banned_by': None, 'num_reports': None, 'removal_reason': None, 'subreddit': 'news', 'selftext_html': None, 'selftext': '', 'likes': None, 'suggested_sort': None, 'user_reports': [], 'secure_media': None, 'is_reddit_media_domain': False, 'saved': False, 'id': '8bfyzx', 'banned_at_utc': None, 'mod_reason_title': None, 'view_count': None, 'archived': False, 'clicked': False, 'no_follow': False, 'author': 'barry1727', 'num_crossposts': 2, 'link_flair_text': None, 'mod_reports': [], 'can_mod_post': False, 'is_crosspostable': False, 'pinned': False, 'score': 2806, 'approved_by': None, 'over_18': False, 'report_reasons': None, 'domain': 'nbcnews.com', 'hidden': False, 'thumbnail': '', 'edited': False, 'link_flair_css_class': None, 'author_flair_css_class': None, 'contest_mode': False, 'gilded': 0, 'downs': 0, 'brand_safe': True, 'secure_media_embed': {}, 'media_embed': {}, 'author_flair_text': None, 'stickied': False, 'visited': False, 'can_gild': False, 'is_self': False, 'parent_whitelist_status': 'all_ads', 'name': 't3_8bfyzx', 'spoiler': False, 'permalink': '/r/news/comments/8bfyzx/video_shows_us_agents_trying_to_dump_injured_man/', 'subreddit_type': 'public', 'locked': False, 'hide_score': False, 'created': 1523470612.0, 'url': 'https://www.nbcnews.com/storyline/immigration-border-crisis/video-shows-u-s-agents-trying-dump-injured-man-over-n861146', 'whitelist_status': 'all_ads', 'quarantine': False, 'subreddit_subscribers': 15885750, 'created_utc': 1523441812.0, 'subreddit_name_prefixed': 'r/news', 'ups': 2806, 'media': None, 'num_comments': 604, 'title': 'Video shows U.S. agents trying to dump injured man over Mexican border', 'mod_note': None, 'is_video': False, 'distinguished': None}}, {'kind': 't3', 'data': {'subreddit_id': 't5_2qh3l', 'approved_at_utc': None, 'send_replies': True, 'mod_reason_by': None, 'banned_by': None, 'num_reports': None, 'removal_reason': None, 'subreddit': 'news', 'selftext_html': None, 'selftext': '', 'likes': None, 'suggested_sort': None, 'user_reports': [], 'secure_media': None, 'is_reddit_media_domain': False, 'saved': False, 'id': '8bemmp', 'banned_at_utc': None, 'mod_reason_title': None, 'view_count': None, 'archived': False, 'clicked': False, 'no_follow': False, 'author': 'AutomaticAssumption', 'num_crossposts': 0, 'link_flair_text': None, 'mod_reports': [], 'can_mod_post': False, 'is_crosspostable': False, 'pinned': False, 'score': 1941, 'approved_by': None, 'over_18': False, 'report_reasons': None, 'domain': 'cbsnews.com', 'hidden': False, 'thumbnail': '', 'edited': False, 'link_flair_css_class': None, 'author_flair_css_class': None, 'contest_mode': False, 'gilded': 0, 'downs': 0, 'brand_safe': True, 'secure_media_embed': {}, 'media_embed': {}, 'author_flair_text': None, 'stickied': False, 'visited': False, 'can_gild': False, 'is_self': False, 'parent_whitelist_status': 'all_ads', 'name': 't3_8bemmp', 'spoiler': False, 'permalink': '/r/news/comments/8bemmp/parkland_school_district_votes_against_arming/', 'subreddit_type': 'public', 'locked': False, 'hide_score': False, 'created': 1523452254.0, 'url': 'https://www.cbsnews.com/news/parkland-school-shooting-arming-teachers-vote-today-2018-04-10/', 'whitelist_status': 'all_ads', 'quarantine': False, 'subreddit_subscribers': 15885750, 'created_utc': 1523423454.0, 'subreddit_name_prefixed': 'r/news', 'ups': 1941, 'media': None, 'num_comments': 991, 'title': 'Parkland school district votes against arming teachers', 'mod_note': None, 'is_video': False, 'distinguished': None}}, {'kind': 't3', 'data': {'subreddit_id': 't5_2qh3l', 'approved_at_utc': None, 'send_replies': True, 'mod_reason_by': None, 'banned_by': None, 'num_reports': None, 'removal_reason': None, 'subreddit': 'news', 'selftext_html': None, 'selftext': '', 'likes': None, 'suggested_sort': None, 'user_reports': [], 'secure_media': None, 'is_reddit_media_domain': False, 'saved': False, 'id': '8bgeiw', 'banned_at_utc': None, 'mod_reason_title': None, 'view_count': None, 'archived': False, 'clicked': False, 'no_follow': False, 'author': 'snowmansni', 'num_crossposts': 0, 'link_flair_text': None, 'mod_reports': [], 'can_mod_post': False, 'is_crosspostable': False, 'pinned': False, 'score': 2000, 'approved_by': None, 'over_18': False, 'report_reasons': None, 'domain': 'theguardian.com', 'hidden': False, 'thumbnail': '', 'edited': False, 'link_flair_css_class': None, 'author_flair_css_class': None, 'contest_mode': False, 'gilded': 0, 'downs': 0, 'brand_safe': True, 'secure_media_embed': {}, 'media_embed': {}, 'author_flair_text': None, 'stickied': False, 'visited': False, 'can_gild': False, 'is_self': False, 'parent_whitelist_status': 'all_ads', 'name': 't3_8bgeiw', 'spoiler': False, 'permalink': '/r/news/comments/8bgeiw/sinclair_chairman_broke_restraining_order_and/', 'subreddit_type': 'public', 'locked': False, 'hide_score': False, 'created': 1523475837.0, 'url': 'https://www.theguardian.com/us-news/2018/apr/11/sinclair-chairman-david-d-smith-neighbors-disputes', 'whitelist_status': 'all_ads', 'quarantine': False, 'subreddit_subscribers': 15885750, 'created_utc': 1523447037.0, 'subreddit_name_prefixed': 'r/news', 'ups': 2000, 'media': None, 'num_comments': 115, 'title': 'Sinclair chairman broke restraining order and allegedly threatened neighbor', 'mod_note': None, 'is_video': False, 'distinguished': None}}, {'kind': 't3', 'data': {'subreddit_id': 't5_2qh3l', 'approved_at_utc': None, 'send_replies': True, 'mod_reason_by': None, 'banned_by': None, 'num_reports': None, 'removal_reason': None, 'subreddit': 'news', 'selftext_html': None, 'selftext': '', 'likes': None, 'suggested_sort': None, 'user_reports': [], 'secure_media': None, 'is_reddit_media_domain': False, 'saved': False, 'id': '8bg2ee', 'banned_at_utc': None, 'mod_reason_title': None, 'view_count': None, 'archived': False, 'clicked': False, 'no_follow': False, 'author': 'newnemo', 'num_crossposts': 1, 'link_flair_text': None, 'mod_reports': [], 'can_mod_post': False, 'is_crosspostable': False, 'pinned': False, 'score': 1783, 'approved_by': None, 'over_18': False, 'report_reasons': None, 'domain': 'reuters.com', 'hidden': False, 'thumbnail': '', 'edited': False, 'link_flair_css_class': None, 'author_flair_css_class': None, 'contest_mode': False, 'gilded': 0, 'downs': 0, 'brand_safe': True, 'secure_media_embed': {}, 'media_embed': {}, 'author_flair_text': None, 'stickied': False, 'visited': False, 'can_gild': False, 'is_self': False, 'parent_whitelist_status': 'all_ads', 'name': 't3_8bg2ee', 'spoiler': False, 'permalink': '/r/news/comments/8bg2ee/puerto_rico_to_get_185_billion_to_rebuild/', 'subreddit_type': 'public', 'locked': False, 'hide_score': False, 'created': 1523471844.0, 'url': 'https://www.reuters.com/article/us-usa-puertorico-housing/puerto-rico-to-get-18-5-billion-to-rebuild-shattered-housing-market-idUSKBN1HH3IR', 'whitelist_status': 'all_ads', 'quarantine': False, 'subreddit_subscribers': 15885750, 'created_utc': 1523443044.0, 'subreddit_name_prefixed': 'r/news', 'ups': 1783, 'media': None, 'num_comments': 324, 'title': 'Puerto Rico to get $18.5 billion to rebuild shattered housing market', 'mod_note': None, 'is_video': False, 'distinguished': None}}, {'kind': 't3', 'data': {'subreddit_id': 't5_2qh3l', 'approved_at_utc': None, 'send_replies': False, 'mod_reason_by': None, 'banned_by': None, 'num_reports': None, 'removal_reason': None, 'subreddit': 'news', 'selftext_html': None, 'selftext': '', 'likes': None, 'suggested_sort': None, 'user_reports': [], 'secure_media': None, 'is_reddit_media_domain': False, 'saved': False, 'id': '8bc0n0', 'banned_at_utc': None, 'mod_reason_title': None, 'view_count': None, 'archived': False, 'clicked': False, 'no_follow': False, 'author': 'Deanpool918', 'num_crossposts': 0, 'link_flair_text': None, 'mod_reports': [], 'can_mod_post': False, 'is_crosspostable': False, 'pinned': False, 'score': 1580, 'approved_by': None, 'over_18': False, 'report_reasons': None, 'domain': 'tulsaworld.com', 'hidden': False, 'thumbnail': '', 'edited': False, 'link_flair_css_class': None, 'author_flair_css_class': None, 'contest_mode': False, 'gilded': 0, 'downs': 0, 'brand_safe': True, 'secure_media_embed': {}, 'media_embed': {}, 'author_flair_text': None, 'stickied': False, 'visited': False, 'can_gild': False, 'is_self': False, 'parent_whitelist_status': 'all_ads', 'name': 't3_8bc0n0', 'spoiler': False, 'permalink': '/r/news/comments/8bc0n0/oklahoma_governor_rejects_teacher_union_demand/', 'subreddit_type': 'public', 'locked': False, 'hide_score': False, 'created': 1523427709.0, 'url': 'http://www.tulsaworld.com/news/teacherwalkout/governor-rejects-teacher-union-demand-signs-repeal-of-hotel-motel/article_6ac8f448-3e75-55bf-8137-254da3727813.html', 'whitelist_status': 'all_ads', 'quarantine': False, 'subreddit_subscribers': 15885750, 'created_utc': 1523398909.0, 'subreddit_name_prefixed': 'r/news', 'ups': 1580, 'media': None, 'num_comments': 438, 'title': 'Oklahoma Governor rejects teacher union demand, signs repeal of hotel/motel tax', 'mod_note': None, 'is_video': False, 'distinguished': None}}, {'kind': 't3', 'data': {'subreddit_id': 't5_2qh3l', 'approved_at_utc': None, 'send_replies': False, 'mod_reason_by': None, 'banned_by': None, 'num_reports': None, 'removal_reason': None, 'subreddit': 'news', 'selftext_html': None, 'selftext': '', 'likes': None, 'suggested_sort': None, 'user_reports': [], 'secure_media': None, 'is_reddit_media_domain': False, 'saved': False, 'id': '8bd4ov', 'banned_at_utc': None, 'mod_reason_title': None, 'view_count': None, 'archived': False, 'clicked': False, 'no_follow': False, 'author': 'valencia_orange_sack', 'num_crossposts': 0, 'link_flair_text': None, 'mod_reports': [], 'can_mod_post': False, 'is_crosspostable': False, 'pinned': False, 'score': 1098, 'approved_by': None, 'over_18': False, 'report_reasons': None, 'domain': 'nbcnews.com', 'hidden': False, 'thumbnail': '', 'edited': False, 'link_flair_css_class': None, 'author_flair_css_class': None, 'contest_mode': False, 'gilded': 0, 'downs': 0, 'brand_safe': True, 'secure_media_embed': {}, 'media_embed': {}, 'author_flair_text': None, 'stickied': False, 'visited': False, 'can_gild': False, 'is_self': False, 'parent_whitelist_status': 'all_ads', 'name': 't3_8bd4ov', 'spoiler': False, 'permalink': '/r/news/comments/8bd4ov/sinclair_talk_show_canceled_after_host_appears_to/', 'subreddit_type': 'public', 'locked': False, 'hide_score': False, 'created': 1523436833.0, 'url': 'https://www.nbcnews.com/news/us-news/sinclair-talk-show-canceled-after-host-appears-threaten-parkland-survivor-n864211', 'whitelist_status': 'all_ads', 'quarantine': False, 'subreddit_subscribers': 15885750, 'created_utc': 1523408033.0, 'subreddit_name_prefixed': 'r/news', 'ups': 1098, 'media': None, 'num_comments': 512, 'title': 'Sinclair talk show canceled after host appears to threaten Parkland survivor David Hogg', 'mod_note': None, 'is_video': False, 'distinguished': None}}, {'kind': 't3', 'data': {'subreddit_id': 't5_2qh3l', 'approved_at_utc': None, 'send_replies': True, 'mod_reason_by': None, 'banned_by': None, 'num_reports': None, 'removal_reason': None, 'subreddit': 'news', 'selftext_html': None, 'selftext': '', 'likes': None, 'suggested_sort': None, 'user_reports': [], 'secure_media': None, 'is_reddit_media_domain': False, 'saved': False, 'id': '8bgu4s', 'banned_at_utc': None, 'mod_reason_title': None, 'view_count': None, 'archived': False, 'clicked': False, 'no_follow': False, 'author': 'pitterpatter4', 'num_crossposts': 0, 'link_flair_text': None, 'mod_reports': [], 'can_mod_post': False, 'is_crosspostable': False, 'pinned': False, 'score': 1141, 'approved_by': None, 'over_18': False, 'report_reasons': None, 'domain': 'abcnews.go.com', 'hidden': False, 'thumbnail': '', 'edited': False, 'link_flair_css_class': None, 'author_flair_css_class': None, 'contest_mode': False, 'gilded': 0, 'downs': 0, 'brand_safe': True, 'secure_media_embed': {}, 'media_embed': {}, 'author_flair_text': None, 'stickied': False, 'visited': False, 'can_gild': False, 'is_self': False, 'parent_whitelist_status': 'all_ads', 'name': 't3_8bgu4s', 'spoiler': False, 'permalink': '/r/news/comments/8bgu4s/oklahoma_teachers_rally_at_capitol_as_walkout/', 'subreddit_type': 'public', 'locked': False, 'hide_score': False, 'created': 1523480188.0, 'url': 'http://abcnews.go.com/US/oklahoma-teachers-rally-capitol-walkout-enters-7th-day/story?id=54374538', 'whitelist_status': 'all_ads', 'quarantine': False, 'subreddit_subscribers': 15885750, 'created_utc': 1523451388.0, 'subreddit_name_prefixed': 'r/news', 'ups': 1141, 'media': None, 'num_comments': 195, 'title': 'Oklahoma teachers rally at capitol as walkout enters 7th day', 'mod_note': None, 'is_video': False, 'distinguished': None}}, {'kind': 't3', 'data': {'subreddit_id': 't5_2qh3l', 'approved_at_utc': None, 'send_replies': True, 'mod_reason_by': None, 'banned_by': None, 'num_reports': None, 'removal_reason': None, 'subreddit': 'news', 'selftext_html': None, 'selftext': '', 'likes': None, 'suggested_sort': None, 'user_reports': [], 'secure_media': None, 'is_reddit_media_domain': False, 'saved': False, 'id': '8bb3r6', 'banned_at_utc': None, 'mod_reason_title': None, 'view_count': None, 'archived': False, 'clicked': False, 'no_follow': False, 'author': 'travelbae', 'num_crossposts': 1, 'link_flair_text': None, 'mod_reports': [], 'can_mod_post': False, 'is_crosspostable': False, 'pinned': False, 'score': 956, 'approved_by': None, 'over_18': False, 'report_reasons': None, 'domain': 'ajc.com', 'hidden': False, 'thumbnail': '', 'edited': False, 'link_flair_css_class': None, 'author_flair_css_class': None, 'contest_mode': False, 'gilded': 0, 'downs': 0, 'brand_safe': True, 'secure_media_embed': {}, 'media_embed': {}, 'author_flair_text': None, 'stickied': False, 'visited': False, 'can_gild': False, 'is_self': False, 'parent_whitelist_status': 'all_ads', 'name': 't3_8bb3r6', 'spoiler': False, 'permalink': '/r/news/comments/8bb3r6/california_sheriff_killing_suspects_better/', 'subreddit_type': 'public', 'locked': False, 'hide_score': False, 'created': 1523421121.0, 'url': 'https://www.ajc.com/news/national/california-sheriff-killing-suspects-better-financially-than-wounding-them/DQn1R1UZFgR2CGRHM4UseL/', 'whitelist_status': 'all_ads', 'quarantine': False, 'subreddit_subscribers': 15885750, 'created_utc': 1523392321.0, 'subreddit_name_prefixed': 'r/news', 'ups': 956, 'media': None, 'num_comments': 189, 'title': \"California sheriff: Killing suspects 'better financially' than wounding them\", 'mod_note': None, 'is_video': False, 'distinguished': None}}, {'kind': 't3', 'data': {'subreddit_id': 't5_2qh3l', 'approved_at_utc': None, 'send_replies': True, 'mod_reason_by': None, 'banned_by': None, 'num_reports': None, 'removal_reason': None, 'subreddit': 'news', 'selftext_html': None, 'selftext': '', 'likes': None, 'suggested_sort': None, 'user_reports': [], 'secure_media': None, 'is_reddit_media_domain': False, 'saved': False, 'id': '8bczql', 'banned_at_utc': None, 'mod_reason_title': None, 'view_count': None, 'archived': False, 'clicked': False, 'no_follow': False, 'author': 'AltB4RedditTurnsShit', 'num_crossposts': 1, 'link_flair_text': None, 'mod_reports': [], 'can_mod_post': False, 'is_crosspostable': False, 'pinned': False, 'score': 706, 'approved_by': None, 'over_18': False, 'report_reasons': None, 'domain': 'time.com', 'hidden': False, 'thumbnail': '', 'edited': False, 'link_flair_css_class': None, 'author_flair_css_class': None, 'contest_mode': False, 'gilded': 0, 'downs': 0, 'brand_safe': True, 'secure_media_embed': {}, 'media_embed': {}, 'author_flair_text': None, 'stickied': False, 'visited': False, 'can_gild': False, 'is_self': False, 'parent_whitelist_status': 'all_ads', 'name': 't3_8bczql', 'spoiler': False, 'permalink': '/r/news/comments/8bczql/bank_of_america_says_it_will_stop_lending_to/', 'subreddit_type': 'public', 'locked': False, 'hide_score': False, 'created': 1523435647.0, 'url': 'http://time.com/5235598/bank-of-america-loans-military-assault-weapon-gun-manufacturers/?utm_campaign=time&amp;utm_source=twitter.com&amp;utm_medium=social&amp;xid=time_socialflow_twitter', 'whitelist_status': 'all_ads', 'quarantine': False, 'subreddit_subscribers': 15885750, 'created_utc': 1523406847.0, 'subreddit_name_prefixed': 'r/news', 'ups': 706, 'media': None, 'num_comments': 427, 'title': 'Bank of America Says It Will Stop Lending to Military-Style Gunmakers', 'mod_note': None, 'is_video': False, 'distinguished': None}}, {'kind': 't3', 'data': {'subreddit_id': 't5_2qh3l', 'approved_at_utc': None, 'send_replies': True, 'mod_reason_by': None, 'banned_by': None, 'num_reports': None, 'removal_reason': None, 'subreddit': 'news', 'selftext_html': None, 'selftext': '', 'likes': None, 'suggested_sort': None, 'user_reports': [], 'secure_media': None, 'is_reddit_media_domain': False, 'saved': False, 'id': '8bhh7b', 'banned_at_utc': None, 'mod_reason_title': None, 'view_count': None, 'archived': False, 'clicked': False, 'no_follow': False, 'author': 'CCCmonster', 'num_crossposts': 1, 'link_flair_text': None, 'mod_reports': [], 'can_mod_post': False, 'is_crosspostable': False, 'pinned': False, 'score': 840, 'approved_by': None, 'over_18': False, 'report_reasons': None, 'domain': 'foxnews.com', 'hidden': False, 'thumbnail': '', 'edited': False, 'link_flair_css_class': None, 'author_flair_css_class': None, 'contest_mode': False, 'gilded': 0, 'downs': 0, 'brand_safe': True, 'secure_media_embed': {}, 'media_embed': {}, 'author_flair_text': None, 'stickied': False, 'visited': False, 'can_gild': False, 'is_self': False, 'parent_whitelist_status': 'all_ads', 'name': 't3_8bhh7b', 'spoiler': False, 'permalink': '/r/news/comments/8bhh7b/traffic_camera_in_new_orleans_giving_speeding/', 'subreddit_type': 'public', 'locked': False, 'hide_score': False, 'created': 1523485701.0, 'url': 'http://www.foxnews.com/auto/2018/04/11/traffic-camera-in-new-orleans-giving-speeding-tickets-to-parked-cars.html', 'whitelist_status': 'all_ads', 'quarantine': False, 'subreddit_subscribers': 15885750, 'created_utc': 1523456901.0, 'subreddit_name_prefixed': 'r/news', 'ups': 840, 'media': None, 'num_comments': 160, 'title': 'Traffic camera in New Orleans giving speeding tickets to parked cars', 'mod_note': None, 'is_video': False, 'distinguished': None}}, {'kind': 't3', 'data': {'subreddit_id': 't5_2qh3l', 'approved_at_utc': None, 'send_replies': False, 'mod_reason_by': None, 'banned_by': None, 'num_reports': None, 'removal_reason': None, 'subreddit': 'news', 'selftext_html': None, 'selftext': '', 'likes': None, 'suggested_sort': None, 'user_reports': [], 'secure_media': None, 'is_reddit_media_domain': False, 'saved': False, 'id': '8bgpkp', 'banned_at_utc': None, 'mod_reason_title': None, 'view_count': None, 'archived': False, 'clicked': False, 'no_follow': False, 'author': 'djohnstonb', 'num_crossposts': 0, 'link_flair_text': None, 'mod_reports': [], 'can_mod_post': False, 'is_crosspostable': False, 'pinned': False, 'score': 683, 'approved_by': None, 'over_18': False, 'report_reasons': None, 'domain': 'cnn.com', 'hidden': False, 'thumbnail': '', 'edited': False, 'link_flair_css_class': None, 'author_flair_css_class': None, 'contest_mode': False, 'gilded': 0, 'downs': 0, 'brand_safe': True, 'secure_media_embed': {}, 'media_embed': {}, 'author_flair_text': None, 'stickied': False, 'visited': False, 'can_gild': False, 'is_self': False, 'parent_whitelist_status': 'all_ads', 'name': 't3_8bgpkp', 'spoiler': False, 'permalink': '/r/news/comments/8bgpkp/algerian_military_plane_crash_kills_257_people/', 'subreddit_type': 'public', 'locked': False, 'hide_score': False, 'created': 1523478941.0, 'url': 'https://www.cnn.com/2018/04/11/africa/algeria-plane-crash-intl/index.html', 'whitelist_status': 'all_ads', 'quarantine': False, 'subreddit_subscribers': 15885750, 'created_utc': 1523450141.0, 'subreddit_name_prefixed': 'r/news', 'ups': 683, 'media': None, 'num_comments': 38, 'title': 'Algerian military plane crash kills 257 people', 'mod_note': None, 'is_video': False, 'distinguished': None}}, {'kind': 't3', 'data': {'subreddit_id': 't5_2qh3l', 'approved_at_utc': None, 'send_replies': True, 'mod_reason_by': None, 'banned_by': None, 'num_reports': None, 'removal_reason': None, 'subreddit': 'news', 'selftext_html': None, 'selftext': '', 'likes': None, 'suggested_sort': None, 'user_reports': [], 'secure_media': None, 'is_reddit_media_domain': False, 'saved': False, 'id': '8bgktp', 'banned_at_utc': None, 'mod_reason_title': None, 'view_count': None, 'archived': False, 'clicked': False, 'no_follow': False, 'author': 'FerryLunchBox', 'num_crossposts': 0, 'link_flair_text': None, 'mod_reports': [], 'can_mod_post': False, 'is_crosspostable': False, 'pinned': False, 'score': 561, 'approved_by': None, 'over_18': False, 'report_reasons': None, 'domain': 'apnews.com', 'hidden': False, 'thumbnail': '', 'edited': False, 'link_flair_css_class': None, 'author_flair_css_class': None, 'contest_mode': False, 'gilded': 0, 'downs': 0, 'brand_safe': True, 'secure_media_embed': {}, 'media_embed': {}, 'author_flair_text': None, 'stickied': False, 'visited': False, 'can_gild': False, 'is_self': False, 'parent_whitelist_status': 'all_ads', 'name': 't3_8bgktp', 'spoiler': False, 'permalink': '/r/news/comments/8bgktp/judge_wont_block_speed_cameras_that_issued_12000/', 'subreddit_type': 'public', 'locked': False, 'hide_score': False, 'created': 1523477617.0, 'url': 'https://apnews.com/7145b987e63045b19cd8278ad5d4c798', 'whitelist_status': 'all_ads', 'quarantine': False, 'subreddit_subscribers': 15885750, 'created_utc': 1523448817.0, 'subreddit_name_prefixed': 'r/news', 'ups': 561, 'media': None, 'num_comments': 357, 'title': \"Judge won't block speed cameras that issued 12,000 tickets\", 'mod_note': None, 'is_video': False, 'distinguished': None}}, {'kind': 't3', 'data': {'subreddit_id': 't5_2qh3l', 'approved_at_utc': None, 'send_replies': True, 'mod_reason_by': None, 'banned_by': None, 'num_reports': None, 'removal_reason': None, 'subreddit': 'news', 'selftext_html': None, 'selftext': '', 'likes': None, 'suggested_sort': None, 'user_reports': [], 'secure_media': None, 'is_reddit_media_domain': False, 'saved': False, 'id': '8bb57o', 'banned_at_utc': None, 'mod_reason_title': None, 'gilded': 0, 'archived': False, 'clicked': False, 'no_follow': False, 'author': 'ledgendary', 'num_crossposts': 0, 'link_flair_text': 'Soft paywall', 'mod_reports': [], 'can_mod_post': False, 'is_crosspostable': False, 'pinned': False, 'score': 354, 'approved_by': None, 'over_18': False, 'report_reasons': None, 'domain': 'telegraph.co.uk', 'hidden': False, 'thumbnail': '', 'edited': False, 'link_flair_css_class': '', 'author_flair_css_class': None, 'contest_mode': False, 'view_count': None, 'downs': 0, 'brand_safe': True, 'secure_media_embed': {}, 'media_embed': {}, 'author_flair_text': None, 'stickied': False, 'visited': False, 'can_gild': False, 'is_self': False, 'parent_whitelist_status': 'all_ads', 'name': 't3_8bb57o', 'spoiler': False, 'permalink': '/r/news/comments/8bb57o/european_commission_raids_murdochs_fox_hq_in/', 'subreddit_type': 'public', 'locked': False, 'hide_score': False, 'created': 1523421389.0, 'url': 'https://www.telegraph.co.uk/business/2018/04/10/european-commission-raids-murdochs-fox-hq-london/?utm_source=dlvr.it&amp;utm_medium=twitter', 'whitelist_status': 'all_ads', 'quarantine': False, 'subreddit_subscribers': 15885750, 'created_utc': 1523392589.0, 'previous_visits': [], 'subreddit_name_prefixed': 'r/news', 'ups': 354, 'media': None, 'num_comments': 26, 'title': \"European Commission raids Murdoch's Fox HQ in London\", 'mod_note': None, 'is_video': False, 'distinguished': None}}, {'kind': 't3', 'data': {'subreddit_id': 't5_2qh3l', 'approved_at_utc': None, 'send_replies': True, 'mod_reason_by': None, 'banned_by': None, 'num_reports': None, 'removal_reason': None, 'subreddit': 'news', 'selftext_html': None, 'selftext': '', 'likes': None, 'suggested_sort': None, 'user_reports': [], 'secure_media': None, 'is_reddit_media_domain': False, 'saved': False, 'id': '8bde9o', 'banned_at_utc': None, 'mod_reason_title': None, 'view_count': None, 'archived': False, 'clicked': False, 'no_follow': False, 'author': 'yomamascub', 'num_crossposts': 0, 'link_flair_text': None, 'mod_reports': [], 'can_mod_post': False, 'is_crosspostable': False, 'pinned': False, 'score': 344, 'approved_by': None, 'over_18': False, 'report_reasons': None, 'domain': 'reuters.com', 'hidden': False, 'thumbnail': '', 'edited': False, 'link_flair_css_class': None, 'author_flair_css_class': None, 'contest_mode': False, 'gilded': 0, 'downs': 0, 'brand_safe': True, 'secure_media_embed': {}, 'media_embed': {}, 'author_flair_text': None, 'stickied': False, 'visited': False, 'can_gild': False, 'is_self': False, 'parent_whitelist_status': 'all_ads', 'name': 't3_8bde9o', 'spoiler': False, 'permalink': '/r/news/comments/8bde9o/reddit_takes_down_accounts_suspected_of_ties_to/', 'subreddit_type': 'public', 'locked': False, 'hide_score': False, 'created': 1523439320.0, 'url': 'http://www.reuters.com/article/us-reddit-russia/reddit-takes-down-accounts-suspected-of-ties-to-russian-propaganda-idUSKBN1HH3MC', 'whitelist_status': 'all_ads', 'quarantine': False, 'subreddit_subscribers': 15885750, 'created_utc': 1523410520.0, 'subreddit_name_prefixed': 'r/news', 'ups': 344, 'media': None, 'num_comments': 204, 'title': 'Reddit takes down accounts suspected of ties to Russian propaganda', 'mod_note': None, 'is_video': False, 'distinguished': None}}, {'kind': 't3', 'data': {'subreddit_id': 't5_2qh3l', 'approved_at_utc': None, 'send_replies': True, 'mod_reason_by': None, 'banned_by': None, 'num_reports': None, 'removal_reason': None, 'subreddit': 'news', 'selftext_html': None, 'selftext': '', 'likes': None, 'suggested_sort': None, 'user_reports': [], 'secure_media': None, 'is_reddit_media_domain': False, 'saved': False, 'id': '8bffx1', 'banned_at_utc': None, 'mod_reason_title': None, 'view_count': None, 'archived': False, 'clicked': False, 'no_follow': False, 'author': 'jaronbrandon', 'num_crossposts': 0, 'link_flair_text': None, 'mod_reports': [], 'can_mod_post': False, 'is_crosspostable': False, 'pinned': False, 'score': 332, 'approved_by': None, 'over_18': False, 'report_reasons': None, 'domain': 'q13fox.com', 'hidden': False, 'thumbnail': '', 'edited': False, 'link_flair_css_class': None, 'author_flair_css_class': None, 'contest_mode': False, 'gilded': 0, 'downs': 0, 'brand_safe': True, 'secure_media_embed': {}, 'media_embed': {}, 'author_flair_text': None, 'stickied': False, 'visited': False, 'can_gild': False, 'is_self': False, 'parent_whitelist_status': 'all_ads', 'name': 't3_8bffx1', 'spoiler': False, 'permalink': '/r/news/comments/8bffx1/oregon_troopers_investigating_after_three_bald/', 'subreddit_type': 'public', 'locked': False, 'hide_score': False, 'created': 1523463228.0, 'url': 'http://q13fox.com/2018/04/10/oregon-troopers-investigating-after-three-bald-eagles-shot-to-death/', 'whitelist_status': 'all_ads', 'quarantine': False, 'subreddit_subscribers': 15885750, 'created_utc': 1523434428.0, 'subreddit_name_prefixed': 'r/news', 'ups': 332, 'media': None, 'num_comments': 67, 'title': 'Oregon troopers investigating after three bald eagles shot to death', 'mod_note': None, 'is_video': False, 'distinguished': None}}, {'kind': 't3', 'data': {'subreddit_id': 't5_2qh3l', 'approved_at_utc': None, 'send_replies': False, 'mod_reason_by': None, 'banned_by': None, 'num_reports': None, 'removal_reason': None, 'subreddit': 'news', 'selftext_html': None, 'selftext': '', 'likes': None, 'suggested_sort': None, 'user_reports': [], 'secure_media': None, 'is_reddit_media_domain': False, 'saved': False, 'id': '8bhn51', 'banned_at_utc': None, 'mod_reason_title': None, 'view_count': None, 'archived': False, 'clicked': False, 'no_follow': False, 'author': 'jimmyolsenblues', 'num_crossposts': 1, 'link_flair_text': None, 'mod_reports': [], 'can_mod_post': False, 'is_crosspostable': False, 'pinned': False, 'score': 295, 'approved_by': None, 'over_18': False, 'report_reasons': None, 'domain': 'foxnews.com', 'hidden': False, 'thumbnail': '', 'edited': False, 'link_flair_css_class': None, 'author_flair_css_class': None, 'contest_mode': False, 'gilded': 0, 'downs': 0, 'brand_safe': True, 'secure_media_embed': {}, 'media_embed': {}, 'author_flair_text': None, 'stickied': False, 'visited': False, 'can_gild': False, 'is_self': False, 'parent_whitelist_status': 'all_ads', 'name': 't3_8bhn51', 'spoiler': False, 'permalink': '/r/news/comments/8bhn51/hypnotherapist_28_accused_of_having_sex_with/', 'subreddit_type': 'public', 'locked': False, 'hide_score': False, 'created': 1523486972.0, 'url': 'http://www.foxnews.com/us/2018/04/11/hypnotherapist-28-accused-having-sex-with-14-year-old-boy.html', 'whitelist_status': 'all_ads', 'quarantine': False, 'subreddit_subscribers': 15885750, 'created_utc': 1523458172.0, 'subreddit_name_prefixed': 'r/news', 'ups': 295, 'media': None, 'num_comments': 258, 'title': 'Hypnotherapist, 28, accused of having sex with 14-year-old boy', 'mod_note': None, 'is_video': False, 'distinguished': None}}, {'kind': 't3', 'data': {'subreddit_id': 't5_2qh3l', 'approved_at_utc': None, 'send_replies': True, 'mod_reason_by': None, 'banned_by': None, 'num_reports': None, 'removal_reason': None, 'subreddit': 'news', 'selftext_html': None, 'selftext': '', 'likes': None, 'suggested_sort': None, 'user_reports': [], 'secure_media': None, 'is_reddit_media_domain': False, 'saved': False, 'id': '8bi3jd', 'banned_at_utc': None, 'mod_reason_title': None, 'view_count': None, 'archived': False, 'clicked': False, 'no_follow': False, 'author': 'SuccessfulOperation', 'num_crossposts': 0, 'link_flair_text': None, 'mod_reports': [], 'can_mod_post': False, 'is_crosspostable': False, 'pinned': False, 'score': 364, 'approved_by': None, 'over_18': False, 'report_reasons': None, 'domain': 'bloomberg.com', 'hidden': False, 'thumbnail': '', 'edited': False, 'link_flair_css_class': None, 'author_flair_css_class': None, 'contest_mode': False, 'gilded': 0, 'downs': 0, 'brand_safe': True, 'secure_media_embed': {}, 'media_embed': {}, 'author_flair_text': None, 'stickied': False, 'visited': False, 'can_gild': False, 'is_self': False, 'parent_whitelist_status': 'all_ads', 'name': 't3_8bi3jd', 'spoiler': False, 'permalink': '/r/news/comments/8bi3jd/exspeaker_john_boehner_joins_marijuana_firms/', 'subreddit_type': 'public', 'locked': False, 'hide_score': False, 'created': 1523490511.0, 'url': 'https://www.bloomberg.com/news/articles/2018-04-11/ex-speaker-john-boehner-joins-marijuana-firm-s-advisory-board', 'whitelist_status': 'all_ads', 'quarantine': False, 'subreddit_subscribers': 15885750, 'created_utc': 1523461711.0, 'subreddit_name_prefixed': 'r/news', 'ups': 364, 'media': None, 'num_comments': 156, 'title': 'Ex-Speaker John Boehner Joins Marijuana Firm’s Advisory Board', 'mod_note': None, 'is_video': False, 'distinguished': None}}, {'kind': 't3', 'data': {'subreddit_id': 't5_2qh3l', 'approved_at_utc': None, 'send_replies': True, 'mod_reason_by': None, 'banned_by': None, 'num_reports': None, 'removal_reason': None, 'subreddit': 'news', 'selftext_html': None, 'selftext': '', 'likes': None, 'suggested_sort': None, 'user_reports': [], 'secure_media': None, 'is_reddit_media_domain': False, 'saved': False, 'id': '8bd048', 'banned_at_utc': None, 'mod_reason_title': None, 'view_count': None, 'archived': False, 'clicked': False, 'no_follow': False, 'author': '_bani_', 'num_crossposts': 0, 'link_flair_text': None, 'mod_reports': [], 'can_mod_post': False, 'is_crosspostable': False, 'pinned': False, 'score': 244, 'approved_by': None, 'over_18': False, 'report_reasons': None, 'domain': 'wcax.com', 'hidden': False, 'thumbnail': '', 'edited': False, 'link_flair_css_class': None, 'author_flair_css_class': None, 'contest_mode': False, 'gilded': 0, 'downs': 0, 'brand_safe': True, 'secure_media_embed': {}, 'media_embed': {}, 'author_flair_text': None, 'stickied': False, 'visited': False, 'can_gild': False, 'is_self': False, 'parent_whitelist_status': 'all_ads', 'name': 't3_8bd048', 'spoiler': False, 'permalink': '/r/news/comments/8bd048/gun_sales_surge_ahead_of_new_restrictions_in/', 'subreddit_type': 'public', 'locked': False, 'hide_score': False, 'created': 1523435735.0, 'url': 'http://www.wcax.com/content/news/Gun-sales-surge-ahead-of-new-restrictions-in-Vermont-479185223.html', 'whitelist_status': 'all_ads', 'quarantine': False, 'subreddit_subscribers': 15885750, 'created_utc': 1523406935.0, 'subreddit_name_prefixed': 'r/news', 'ups': 244, 'media': None, 'num_comments': 359, 'title': 'Gun sales surge ahead of new restrictions in Vermont', 'mod_note': None, 'is_video': False, 'distinguished': None}}, {'kind': 't3', 'data': {'subreddit_id': 't5_2qh3l', 'approved_at_utc': None, 'send_replies': True, 'mod_reason_by': None, 'banned_by': None, 'num_reports': None, 'removal_reason': None, 'subreddit': 'news', 'selftext_html': None, 'selftext': '', 'likes': None, 'suggested_sort': None, 'user_reports': [], 'secure_media': None, 'is_reddit_media_domain': False, 'saved': False, 'id': '8begg3', 'banned_at_utc': None, 'mod_reason_title': None, 'view_count': None, 'archived': False, 'clicked': False, 'no_follow': False, 'author': 'Poverty_4_Sale', 'num_crossposts': 0, 'link_flair_text': None, 'mod_reports': [], 'can_mod_post': False, 'is_crosspostable': False, 'pinned': False, 'score': 237, 'approved_by': None, 'over_18': False, 'report_reasons': None, 'domain': 'amny.com', 'hidden': False, 'thumbnail': '', 'edited': False, 'link_flair_css_class': None, 'author_flair_css_class': None, 'contest_mode': False, 'gilded': 0, 'downs': 0, 'brand_safe': True, 'secure_media_embed': {}, 'media_embed': {}, 'author_flair_text': None, 'stickied': False, 'visited': False, 'can_gild': False, 'is_self': False, 'parent_whitelist_status': 'all_ads', 'name': 't3_8begg3', 'spoiler': False, 'permalink': '/r/news/comments/8begg3/womans_armless_legless_body_found_in_brooklyn/', 'subreddit_type': 'public', 'locked': False, 'hide_score': False, 'created': 1523450230.0, 'url': 'https://www.amny.com/news/body-canarsie-park-1.17958126', 'whitelist_status': 'all_ads', 'quarantine': False, 'subreddit_subscribers': 15885750, 'created_utc': 1523421430.0, 'subreddit_name_prefixed': 'r/news', 'ups': 237, 'media': None, 'num_comments': 51, 'title': 'Woman’s armless, legless body found in Brooklyn park, NYPD says', 'mod_note': None, 'is_video': False, 'distinguished': None}}, {'kind': 't3', 'data': {'subreddit_id': 't5_2qh3l', 'approved_at_utc': None, 'send_replies': True, 'mod_reason_by': None, 'banned_by': None, 'num_reports': None, 'removal_reason': None, 'subreddit': 'news', 'selftext_html': None, 'selftext': '', 'likes': None, 'suggested_sort': None, 'user_reports': [], 'secure_media': None, 'is_reddit_media_domain': False, 'saved': False, 'id': '8bgzl4', 'banned_at_utc': None, 'mod_reason_title': None, 'view_count': None, 'archived': False, 'clicked': False, 'no_follow': False, 'author': 'Amcal', 'num_crossposts': 0, 'link_flair_text': 'Soft paywall', 'mod_reports': [], 'can_mod_post': False, 'is_crosspostable': False, 'pinned': False, 'score': 239, 'approved_by': None, 'over_18': False, 'report_reasons': None, 'domain': 'latimes.com', 'hidden': False, 'thumbnail': '', 'edited': False, 'link_flair_css_class': '', 'author_flair_css_class': None, 'contest_mode': False, 'gilded': 0, 'downs': 0, 'brand_safe': True, 'secure_media_embed': {}, 'media_embed': {}, 'author_flair_text': None, 'stickied': False, 'visited': False, 'can_gild': False, 'is_self': False, 'parent_whitelist_status': 'all_ads', 'name': 't3_8bgzl4', 'spoiler': False, 'permalink': '/r/news/comments/8bgzl4/protesters_fight_against_homeless_moving_to/', 'subreddit_type': 'public', 'locked': False, 'hide_score': False, 'created': 1523481542.0, 'url': 'http://www.latimes.com/local/lanow/la-me-ln-irvine-homeless-protest-20180410-story.html', 'whitelist_status': 'all_ads', 'quarantine': False, 'subreddit_subscribers': 15885750, 'created_utc': 1523452742.0, 'subreddit_name_prefixed': 'r/news', 'ups': 239, 'media': None, 'num_comments': 253, 'title': \"Protesters fight against homeless moving to Irvine: 'We will decide who comes into the city'\", 'mod_note': None, 'is_video': False, 'distinguished': None}}, {'kind': 't3', 'data': {'subreddit_id': 't5_2qh3l', 'approved_at_utc': None, 'send_replies': True, 'mod_reason_by': None, 'banned_by': None, 'num_reports': None, 'removal_reason': None, 'subreddit': 'news', 'selftext_html': None, 'selftext': '', 'likes': None, 'suggested_sort': None, 'user_reports': [], 'secure_media': None, 'is_reddit_media_domain': False, 'saved': False, 'id': '8bfquk', 'banned_at_utc': None, 'mod_reason_title': None, 'view_count': None, 'archived': False, 'clicked': False, 'no_follow': False, 'author': 'Mk2_vdub', 'num_crossposts': 0, 'link_flair_text': None, 'mod_reports': [], 'can_mod_post': False, 'is_crosspostable': False, 'pinned': False, 'score': 202, 'approved_by': None, 'over_18': False, 'report_reasons': None, 'domain': 'ktvu.com', 'hidden': False, 'thumbnail': '', 'edited': False, 'link_flair_css_class': None, 'author_flair_css_class': None, 'contest_mode': False, 'gilded': 0, 'downs': 0, 'brand_safe': True, 'secure_media_embed': {}, 'media_embed': {}, 'author_flair_text': None, 'stickied': False, 'visited': False, 'can_gild': False, 'is_self': False, 'parent_whitelist_status': 'all_ads', 'name': 't3_8bfquk', 'spoiler': False, 'permalink': '/r/news/comments/8bfquk/burned_out_home_in_silicon_valley_selling_for_800k/', 'subreddit_type': 'public', 'locked': False, 'hide_score': False, 'created': 1523467578.0, 'url': 'http://www.ktvu.com/news/burned-out-home-in-silicon-valley-selling-for-800k', 'whitelist_status': 'all_ads', 'quarantine': False, 'subreddit_subscribers': 15885750, 'created_utc': 1523438778.0, 'subreddit_name_prefixed': 'r/news', 'ups': 202, 'media': None, 'num_comments': 92, 'title': 'Burned out home in Silicon Valley selling for $800K', 'mod_note': None, 'is_video': False, 'distinguished': None}}], None])\n"
     ]
    }
   ],
   "source": [
    "url = 'https://www.reddit.com/r/news/top.json'\n",
    "response = requests.get(url, headers = {'User-Agent' : 'reddit_news_sentiment_analysis'})\n",
    "stories = response.json()\n",
    "#print(stories)\n",
    "#stuff = stories['data']\n",
    "#type(stuff)\n",
    "headings = stories['data'].values()#['children'][0]['title']\n",
    "\n",
    "#navigate to the key title\n",
    "\n",
    "\n",
    "\n",
    "\n",
    "\n",
    "print(headings)"
   ]
  },
  {
   "cell_type": "code",
   "execution_count": 85,
   "metadata": {
    "collapsed": true
   },
   "outputs": [
    {
     "name": "stdout",
     "output_type": "stream",
     "text": [
      "Police raid illegal rave inside abandoned Toys R Us\n",
      "Louisiana teacher fired after mocking autistic student in audio recording during class\n",
      "Mark Zuckerberg Testimony Live: We Don't Sell Data to Advertisers, Says Zuckerberg\n",
      "Pennsylvania school district arms 500 teachers with 16 inch-miniature baseball bats in case of school shooting\n",
      "Video shows U.S. agents trying to dump injured man over Mexican border\n",
      "Parkland school district votes against arming teachers\n",
      "Sinclair chairman broke restraining order and allegedly threatened neighbor\n",
      "Puerto Rico to get $18.5 billion to rebuild shattered housing market\n",
      "Oklahoma Governor rejects teacher union demand, signs repeal of hotel/motel tax\n",
      "Sinclair talk show canceled after host appears to threaten Parkland survivor David Hogg\n",
      "Oklahoma teachers rally at capitol as walkout enters 7th day\n",
      "California sheriff: Killing suspects 'better financially' than wounding them\n",
      "Bank of America Says It Will Stop Lending to Military-Style Gunmakers\n",
      "Traffic camera in New Orleans giving speeding tickets to parked cars\n",
      "Algerian military plane crash kills 257 people\n",
      "Judge won't block speed cameras that issued 12,000 tickets\n",
      "European Commission raids Murdoch's Fox HQ in London\n",
      "Reddit takes down accounts suspected of ties to Russian propaganda\n",
      "Oregon troopers investigating after three bald eagles shot to death\n",
      "Hypnotherapist, 28, accused of having sex with 14-year-old boy\n",
      "Ex-Speaker John Boehner Joins Marijuana Firm’s Advisory Board\n",
      "Gun sales surge ahead of new restrictions in Vermont\n",
      "Woman’s armless, legless body found in Brooklyn park, NYPD says\n",
      "Protesters fight against homeless moving to Irvine: 'We will decide who comes into the city'\n",
      "Burned out home in Silicon Valley selling for $800K\n",
      "25\n"
     ]
    }
   ],
   "source": [
    "count = 0\n",
    "story_object = stories['data']['children']#['data']['title']\n",
    "#story_object = stories['data']['children']\n",
    "#story_list = [0]['data']['title']\n",
    "for titles in story_object:\n",
    "    print(titles['data']['title'])\n",
    "    count = count + 1\n",
    "print(count)\n"
   ]
  },
  {
   "cell_type": "code",
   "execution_count": null,
   "metadata": {
    "collapsed": true
   },
   "outputs": [],
   "source": [
    "count = 0\n",
    "story_object = stories['data']['children']#['data']['title']\n",
    "#story_object = stories['data']['children']\n",
    "#story_list = [0]['data']['title']\n",
    "for titles in story_object:\n",
    "    if 'title' in ['data']:\n",
    "        count = count + 1\n",
    "print(count)\n"
   ]
  },
  {
   "cell_type": "code",
   "execution_count": 71,
   "metadata": {
    "collapsed": false
   },
   "outputs": [
    {
     "data": {
      "text/plain": [
       "str"
      ]
     },
     "execution_count": 71,
     "metadata": {},
     "output_type": "execute_result"
    }
   ],
   "source": [
    "type(titles)\n",
    "type('data')"
   ]
  },
  {
   "cell_type": "code",
   "execution_count": 78,
   "metadata": {
    "collapsed": false
   },
   "outputs": [
    {
     "name": "stdout",
     "output_type": "stream",
     "text": [
      "{'subreddit_id': 't5_2qh3l', 'approved_at_utc': None, 'send_replies': True, 'mod_reason_by': None, 'banned_by': None, 'num_reports': None, 'removal_reason': None, 'subreddit': 'news', 'selftext_html': None, 'selftext': '', 'likes': None, 'suggested_sort': None, 'user_reports': [], 'secure_media': None, 'is_reddit_media_domain': False, 'saved': False, 'id': '8bdci4', 'banned_at_utc': None, 'mod_reason_title': None, 'view_count': None, 'archived': False, 'clicked': False, 'no_follow': False, 'author': 'TheMnemosyne', 'num_crossposts': 20, 'link_flair_text': None, 'mod_reports': [], 'can_mod_post': False, 'is_crosspostable': False, 'pinned': False, 'score': 65591, 'approved_by': None, 'over_18': False, 'report_reasons': None, 'domain': 'nme.com', 'hidden': False, 'thumbnail': '', 'edited': False, 'link_flair_css_class': None, 'author_flair_css_class': None, 'contest_mode': False, 'gilded': 0, 'downs': 0, 'brand_safe': True, 'secure_media_embed': {}, 'media_embed': {}, 'author_flair_text': None, 'stickied': False, 'visited': False, 'can_gild': False, 'is_self': False, 'parent_whitelist_status': 'all_ads', 'name': 't3_8bdci4', 'spoiler': False, 'permalink': '/r/news/comments/8bdci4/police_raid_illegal_rave_inside_abandoned_toys_r/', 'subreddit_type': 'public', 'locked': False, 'hide_score': False, 'created': 1523438854.0, 'url': 'http://www.nme.com/news/music/police-raid-rave-at-toys-r-us-store-2288378', 'whitelist_status': 'all_ads', 'quarantine': False, 'subreddit_subscribers': 15885750, 'created_utc': 1523410054.0, 'subreddit_name_prefixed': 'r/news', 'ups': 65591, 'media': None, 'num_comments': 2076, 'title': 'Police raid illegal rave inside abandoned Toys R Us', 'mod_note': None, 'is_video': False, 'distinguished': None}\n"
     ]
    }
   ],
   "source": [
    "print(stories['data']['children'][0]['data'])"
   ]
  },
  {
   "cell_type": "code",
   "execution_count": 3,
   "metadata": {
    "collapsed": false
   },
   "outputs": [
    {
     "name": "stdout",
     "output_type": "stream",
     "text": [
      "['Louisiana teacher fired after mocking autistic student in audio recording during class', 'Alabama evangelist Acton Bowen jailed in Hoover on child sex charges involving young boy', 'Man Hospitalized After Father Catches Him Dragging Daughter Out of Park', 'Man who accused Indian politician of raping daughter dies in custody', 'Oil exploration banned in New Zealand', 'Traffic camera in New Orleans giving speeding tickets to parked cars', 'Oklahoma teachers rally at capitol as walkout enters 7th day', \"NJ cop was hired even after stabbing wife's ex-lover 4 times\", 'Ex-Speaker John Boehner Joins Marijuana Firm’s Advisory Board', 'Sinclair Stations Release Video Attacking CNN', '70,000 students in prisons in Turkey', 'ACLU sues to block new Kentucky law restricting abortions', \"Judge won't block speed cameras that issued 12,000 tickets\", 'Trump signs ‘FOSTA’ bill targeting online sex trafficking, enables states and victims to pursue websites', 'Hypnotherapist, 28, accused of having sex with 14-year-old boy', \"Texas nurse arrested after introducing air into patient's arterial lines, leaving two dead.\", 'Walkout Day 8: Oklahoma union tells teachers that 95 percent of its funding request has been secured', 'Cops: Border Patrol agent who told 911 he found bodies killed girlfriend, infant', 'One million killer bees are threatening an entire neighborhood in far east El Paso, Texas', 'Fake marijuana laced with rat poison kills 3, makes 100 sick in U.S. - National', 'Stand Up Comedy Matriarch Mitzi Shore Has Died', 'MS-13 gang leader in Massachusetts gets 19-year prison sentence', \"Protesters fight against homeless moving to Irvine: 'We will decide who comes into the city'\", 'Mom who let 4-year-old eat a PB&amp;J in a shopping cart branded a monster by parenting forum', 'Sacramento police unveil new body cam policy after deadly shooting, protests']\n",
      "Louisiana teacher fired after mocking autistic student in audio recording during class\n",
      "\n",
      "Alabama evangelist Acton Bowen jailed in Hoover on child sex charges involving young boy\n",
      "\n",
      "Man Hospitalized After Father Catches Him Dragging Daughter Out of Park\n",
      "\n",
      "Man who accused Indian politician of raping daughter dies in custody\n",
      "\n",
      "Oil exploration banned in New Zealand\n",
      "\n",
      "Traffic camera in New Orleans giving speeding tickets to parked cars\n",
      "\n",
      "Oklahoma teachers rally at capitol as walkout enters 7th day\n",
      "\n",
      "NJ cop was hired even after stabbing wife's ex-lover 4 times\n",
      "\n",
      "Ex-Speaker John Boehner Joins Marijuana Firm’s Advisory Board\n",
      "\n",
      "Sinclair Stations Release Video Attacking CNN\n",
      "\n",
      "70,000 students in prisons in Turkey\n",
      "\n",
      "ACLU sues to block new Kentucky law restricting abortions\n",
      "\n",
      "Judge won't block speed cameras that issued 12,000 tickets\n",
      "\n",
      "Trump signs ‘FOSTA’ bill targeting online sex trafficking, enables states and victims to pursue websites\n",
      "\n",
      "Hypnotherapist, 28, accused of having sex with 14-year-old boy\n",
      "\n",
      "Texas nurse arrested after introducing air into patient's arterial lines, leaving two dead.\n",
      "\n",
      "Walkout Day 8: Oklahoma union tells teachers that 95 percent of its funding request has been secured\n",
      "\n",
      "Cops: Border Patrol agent who told 911 he found bodies killed girlfriend, infant\n",
      "\n",
      "One million killer bees are threatening an entire neighborhood in far east El Paso, Texas\n",
      "\n",
      "Fake marijuana laced with rat poison kills 3, makes 100 sick in U.S. - National\n",
      "\n",
      "Stand Up Comedy Matriarch Mitzi Shore Has Died\n",
      "\n",
      "MS-13 gang leader in Massachusetts gets 19-year prison sentence\n",
      "\n",
      "Protesters fight against homeless moving to Irvine: 'We will decide who comes into the city'\n",
      "\n",
      "Mom who let 4-year-old eat a PB&amp;J in a shopping cart branded a monster by parenting forum\n",
      "\n",
      "Sacramento police unveil new body cam policy after deadly shooting, protests\n",
      "\n"
     ]
    }
   ],
   "source": [
    "# Step 2: write code \n",
    "\n",
    "#User-Agent = <jupyternotebook>:<3.5.7>:<anaconda> (by /u/<etdon>)\n",
    "\n",
    "import requests\n",
    "import json\n",
    "def GetRedditStories():\n",
    "    # todo write code\n",
    "    \n",
    "    url = 'https://www.reddit.com/r/news/top.json'\n",
    "    response = requests.get(url, headers = {'User-Agent' : 'reddit_news_sentiment_analysis'})\n",
    "    stories = response.json()   \n",
    "    count = 0\n",
    "    story_object = stories['data']['children']\n",
    "    stories_list = []\n",
    "    for titles in story_object:\n",
    "        stories_list.append(titles['data']['title'])\n",
    "        \n",
    "        #count = count + 1\n",
    "    \n",
    "    return stories_list\n",
    "\n",
    "\n",
    "\n",
    "# testing \n",
    "stories=GetRedditStories() # you should see some stories\n",
    "print(stories)\n",
    "for items in stories:\n",
    "    print(items + '\\n')\n",
    "\n",
    "#for items in stories:\n",
    "#    print(sentiment)"
   ]
  },
  {
   "cell_type": "code",
   "execution_count": 4,
   "metadata": {
    "collapsed": false
   },
   "outputs": [
    {
     "name": "stdout",
     "output_type": "stream",
     "text": [
      "['Louisiana teacher fired after mocking autistic student in audio recording during class', 'Alabama evangelist Acton Bowen jailed in Hoover on child sex charges involving young boy', 'Man Hospitalized After Father Catches Him Dragging Daughter Out of Park', 'Man who accused Indian politician of raping daughter dies in custody', 'Oil exploration banned in New Zealand', 'Traffic camera in New Orleans giving speeding tickets to parked cars', 'Oklahoma teachers rally at capitol as walkout enters 7th day', \"NJ cop was hired even after stabbing wife's ex-lover 4 times\", 'Ex-Speaker John Boehner Joins Marijuana Firm’s Advisory Board', 'Sinclair Stations Release Video Attacking CNN', '70,000 students in prisons in Turkey', 'ACLU sues to block new Kentucky law restricting abortions', \"Judge won't block speed cameras that issued 12,000 tickets\", 'Trump signs ‘FOSTA’ bill targeting online sex trafficking, enables states and victims to pursue websites', 'Hypnotherapist, 28, accused of having sex with 14-year-old boy', \"Texas nurse arrested after introducing air into patient's arterial lines, leaving two dead.\", 'Walkout Day 8: Oklahoma union tells teachers that 95 percent of its funding request has been secured', 'Cops: Border Patrol agent who told 911 he found bodies killed girlfriend, infant', 'One million killer bees are threatening an entire neighborhood in far east El Paso, Texas', 'Fake marijuana laced with rat poison kills 3, makes 100 sick in U.S. - National', 'Stand Up Comedy Matriarch Mitzi Shore Has Died', 'MS-13 gang leader in Massachusetts gets 19-year prison sentence', \"Protesters fight against homeless moving to Irvine: 'We will decide who comes into the city'\", 'Mom who let 4-year-old eat a PB&amp;J in a shopping cart branded a monster by parenting forum', 'Sacramento police unveil new body cam policy after deadly shooting, protests']\n"
     ]
    }
   ],
   "source": [
    "print(stories)"
   ]
  },
  {
   "cell_type": "markdown",
   "metadata": {},
   "source": [
    "## Step 3: Problem Analysis for `GetSentiment`\n",
    "\n",
    "Now let's write a function, that when given `text` will return the sentiment score for the text. We will use http://text-processing.com 's API for this. \n",
    "\n",
    "Inputs: `text` string\n",
    "\n",
    "Outputs: a Python dictionary of sentiment information based on `text`\n",
    "\n",
    "Algorithm (Steps in Program):\n",
    "\n",
    "```\n",
    "todo write algorithm here\n",
    "```\n",
    "-1. make a list \n",
    "0. return to list\n",
    "1. for item in list\n",
    "2. loop through list\n",
    "3. look for positive and negative"
   ]
  },
  {
   "cell_type": "code",
   "execution_count": 5,
   "metadata": {
    "collapsed": false
   },
   "outputs": [
    {
     "name": "stdout",
     "output_type": "stream",
     "text": [
      "[{'subreddit_id': 't5_2qh3l', 'approved_at_utc': None, 'send_replies': True, 'mod_reason_by': None, 'banned_by': None, 'num_reports': None, 'removal_reason': None, 'subreddit': 'news', 'selftext_html': None, 'selftext': '', 'likes': None, 'suggested_sort': None, 'user_reports': [], 'secure_media': None, 'is_reddit_media_domain': False, 'saved': False, 'id': '8bh3cj', 'banned_at_utc': None, 'mod_reason_title': None, 'view_count': None, 'archived': False, 'clicked': False, 'no_follow': False, 'author': 'meanhoegreen', 'num_crossposts': 5, 'link_flair_text': None, 'mod_reports': [], 'can_mod_post': False, 'is_crosspostable': False, 'pinned': False, 'score': 48061, 'approved_by': None, 'over_18': False, 'report_reasons': None, 'domain': 'wbrz.com', 'hidden': False, 'thumbnail': '', 'edited': False, 'link_flair_css_class': None, 'author_flair_css_class': None, 'contest_mode': False, 'gilded': 0, 'downs': 0, 'brand_safe': True, 'secure_media_embed': {}, 'media_embed': {}, 'author_flair_text': None, 'stickied': False, 'visited': False, 'can_gild': False, 'is_self': False, 'parent_whitelist_status': 'all_ads', 'name': 't3_8bh3cj', 'spoiler': False, 'permalink': '/r/news/comments/8bh3cj/louisiana_teacher_fired_after_mocking_autistic/', 'subreddit_type': 'public', 'locked': False, 'hide_score': False, 'created': 1523482462.0, 'url': 'http://www.wbrz.com/news/educators-fired-after-mocking-autistic-student-in-audio-recording/', 'whitelist_status': 'all_ads', 'quarantine': False, 'subreddit_subscribers': 15888151, 'created_utc': 1523453662.0, 'subreddit_name_prefixed': 'r/news', 'ups': 48061, 'media': None, 'num_comments': 3343, 'title': 'Louisiana teacher fired after mocking autistic student in audio recording during class', 'mod_note': None, 'is_video': False, 'distinguished': None}, {'subreddit_id': 't5_2qh3l', 'approved_at_utc': None, 'send_replies': True, 'mod_reason_by': None, 'banned_by': None, 'num_reports': None, 'removal_reason': None, 'subreddit': 'news', 'selftext_html': None, 'selftext': '', 'likes': None, 'suggested_sort': None, 'user_reports': [], 'secure_media': None, 'is_reddit_media_domain': False, 'saved': False, 'id': '8bjpod', 'banned_at_utc': None, 'mod_reason_title': None, 'view_count': None, 'archived': False, 'clicked': False, 'no_follow': False, 'author': 'hopopo', 'num_crossposts': 4, 'link_flair_text': None, 'mod_reports': [], 'can_mod_post': False, 'is_crosspostable': False, 'pinned': False, 'score': 23230, 'approved_by': None, 'over_18': False, 'report_reasons': None, 'domain': 'al.com', 'hidden': False, 'thumbnail': '', 'edited': False, 'link_flair_css_class': None, 'author_flair_css_class': None, 'contest_mode': False, 'gilded': 0, 'downs': 0, 'brand_safe': True, 'secure_media_embed': {}, 'media_embed': {}, 'author_flair_text': None, 'stickied': False, 'visited': False, 'can_gild': False, 'is_self': False, 'parent_whitelist_status': 'all_ads', 'name': 't3_8bjpod', 'spoiler': False, 'permalink': '/r/news/comments/8bjpod/alabama_evangelist_acton_bowen_jailed_in_hoover/', 'subreddit_type': 'public', 'locked': False, 'hide_score': False, 'created': 1523502648.0, 'url': 'http://www.al.com/news/birmingham/index.ssf/2018/04/alabama_evangelist_acton_bowen.html', 'whitelist_status': 'all_ads', 'quarantine': False, 'subreddit_subscribers': 15888151, 'created_utc': 1523473848.0, 'subreddit_name_prefixed': 'r/news', 'ups': 23230, 'media': None, 'num_comments': 1302, 'title': 'Alabama evangelist Acton Bowen jailed in Hoover on child sex charges involving young boy', 'mod_note': None, 'is_video': False, 'distinguished': None}, {'subreddit_id': 't5_2qh3l', 'approved_at_utc': None, 'send_replies': True, 'mod_reason_by': None, 'banned_by': None, 'num_reports': None, 'removal_reason': None, 'subreddit': 'news', 'selftext_html': None, 'selftext': '', 'likes': None, 'suggested_sort': None, 'user_reports': [], 'secure_media': None, 'is_reddit_media_domain': False, 'saved': False, 'id': '8bk1rf', 'banned_at_utc': None, 'mod_reason_title': None, 'view_count': None, 'archived': False, 'clicked': False, 'no_follow': False, 'author': 'Amcal', 'num_crossposts': 4, 'link_flair_text': None, 'mod_reports': [], 'can_mod_post': False, 'is_crosspostable': False, 'pinned': False, 'score': 11897, 'approved_by': None, 'over_18': False, 'report_reasons': None, 'domain': 'ntd.tv', 'hidden': False, 'thumbnail': '', 'edited': False, 'link_flair_css_class': None, 'author_flair_css_class': None, 'contest_mode': False, 'gilded': 0, 'downs': 0, 'brand_safe': True, 'secure_media_embed': {}, 'media_embed': {}, 'author_flair_text': None, 'stickied': False, 'visited': False, 'can_gild': False, 'is_self': False, 'parent_whitelist_status': 'all_ads', 'name': 't3_8bk1rf', 'spoiler': False, 'permalink': '/r/news/comments/8bk1rf/man_hospitalized_after_father_catches_him/', 'subreddit_type': 'public', 'locked': False, 'hide_score': False, 'created': 1523505180.0, 'url': 'http://www.ntd.tv/2018/04/11/man-hospitalized-after-father-catches-him-trying-to-grab-toddler-at-park/', 'whitelist_status': 'all_ads', 'quarantine': False, 'subreddit_subscribers': 15888151, 'created_utc': 1523476380.0, 'subreddit_name_prefixed': 'r/news', 'ups': 11897, 'media': None, 'num_comments': 1519, 'title': 'Man Hospitalized After Father Catches Him Dragging Daughter Out of Park', 'mod_note': None, 'is_video': False, 'distinguished': None}, {'subreddit_id': 't5_2qh3l', 'approved_at_utc': None, 'send_replies': True, 'mod_reason_by': None, 'banned_by': None, 'num_reports': None, 'removal_reason': None, 'subreddit': 'news', 'selftext_html': None, 'selftext': '', 'likes': None, 'suggested_sort': None, 'user_reports': [], 'secure_media': None, 'is_reddit_media_domain': False, 'saved': False, 'id': '8bkldh', 'banned_at_utc': None, 'mod_reason_title': None, 'view_count': None, 'archived': False, 'clicked': False, 'no_follow': False, 'author': 'avivi_', 'num_crossposts': 0, 'link_flair_text': None, 'mod_reports': [], 'can_mod_post': False, 'is_crosspostable': False, 'pinned': False, 'score': 11790, 'approved_by': None, 'over_18': False, 'report_reasons': None, 'domain': 'theguardian.com', 'hidden': False, 'thumbnail': '', 'edited': False, 'link_flair_css_class': None, 'author_flair_css_class': None, 'contest_mode': False, 'gilded': 0, 'downs': 0, 'brand_safe': True, 'secure_media_embed': {}, 'media_embed': {}, 'author_flair_text': None, 'stickied': False, 'visited': False, 'can_gild': False, 'is_self': False, 'parent_whitelist_status': 'all_ads', 'name': 't3_8bkldh', 'spoiler': False, 'permalink': '/r/news/comments/8bkldh/man_who_accused_indian_politician_of_raping/', 'subreddit_type': 'public', 'locked': False, 'hide_score': False, 'created': 1523509451.0, 'url': 'https://www.theguardian.com/world/2018/apr/11/man-accused-india-politician-raping-daughter-dies-in-custody', 'whitelist_status': 'all_ads', 'quarantine': False, 'subreddit_subscribers': 15888151, 'created_utc': 1523480651.0, 'subreddit_name_prefixed': 'r/news', 'ups': 11790, 'media': None, 'num_comments': 449, 'title': 'Man who accused Indian politician of raping daughter dies in custody', 'mod_note': None, 'is_video': False, 'distinguished': None}, {'subreddit_id': 't5_2qh3l', 'approved_at_utc': None, 'send_replies': False, 'mod_reason_by': None, 'banned_by': None, 'num_reports': None, 'removal_reason': None, 'subreddit': 'news', 'selftext_html': None, 'selftext': '', 'likes': None, 'suggested_sort': None, 'user_reports': [], 'secure_media': None, 'is_reddit_media_domain': False, 'saved': False, 'id': '8bkqng', 'banned_at_utc': None, 'mod_reason_title': None, 'view_count': None, 'archived': False, 'clicked': False, 'no_follow': False, 'author': 'posttmortem', 'num_crossposts': 0, 'link_flair_text': None, 'mod_reports': [], 'can_mod_post': False, 'is_crosspostable': False, 'pinned': False, 'score': 4414, 'approved_by': None, 'over_18': False, 'report_reasons': None, 'domain': 'nzherald.co.nz', 'hidden': False, 'thumbnail': '', 'edited': False, 'link_flair_css_class': None, 'author_flair_css_class': None, 'contest_mode': False, 'gilded': 0, 'downs': 0, 'brand_safe': True, 'secure_media_embed': {}, 'media_embed': {}, 'author_flair_text': None, 'stickied': False, 'visited': False, 'can_gild': False, 'is_self': False, 'parent_whitelist_status': 'all_ads', 'name': 't3_8bkqng', 'spoiler': False, 'permalink': '/r/news/comments/8bkqng/oil_exploration_banned_in_new_zealand/', 'subreddit_type': 'public', 'locked': False, 'hide_score': False, 'created': 1523510574.0, 'url': 'http://www.nzherald.co.nz/nz/news/article.cfm?c_id=1&amp;objectid=12030956', 'whitelist_status': 'all_ads', 'quarantine': False, 'subreddit_subscribers': 15888151, 'created_utc': 1523481774.0, 'subreddit_name_prefixed': 'r/news', 'ups': 4414, 'media': None, 'num_comments': 236, 'title': 'Oil exploration banned in New Zealand', 'mod_note': None, 'is_video': False, 'distinguished': None}, {'subreddit_id': 't5_2qh3l', 'approved_at_utc': None, 'send_replies': True, 'mod_reason_by': None, 'banned_by': None, 'num_reports': None, 'removal_reason': None, 'subreddit': 'news', 'selftext_html': None, 'selftext': '', 'likes': None, 'suggested_sort': None, 'user_reports': [], 'secure_media': None, 'is_reddit_media_domain': False, 'saved': False, 'id': '8bhh7b', 'banned_at_utc': None, 'mod_reason_title': None, 'view_count': None, 'archived': False, 'clicked': False, 'no_follow': False, 'author': 'CCCmonster', 'num_crossposts': 2, 'link_flair_text': None, 'mod_reports': [], 'can_mod_post': False, 'is_crosspostable': False, 'pinned': False, 'score': 2868, 'approved_by': None, 'over_18': False, 'report_reasons': None, 'domain': 'foxnews.com', 'hidden': False, 'thumbnail': '', 'edited': False, 'link_flair_css_class': None, 'author_flair_css_class': None, 'contest_mode': False, 'gilded': 0, 'downs': 0, 'brand_safe': True, 'secure_media_embed': {}, 'media_embed': {}, 'author_flair_text': None, 'stickied': False, 'visited': False, 'can_gild': False, 'is_self': False, 'parent_whitelist_status': 'all_ads', 'name': 't3_8bhh7b', 'spoiler': False, 'permalink': '/r/news/comments/8bhh7b/traffic_camera_in_new_orleans_giving_speeding/', 'subreddit_type': 'public', 'locked': False, 'hide_score': False, 'created': 1523485701.0, 'url': 'http://www.foxnews.com/auto/2018/04/11/traffic-camera-in-new-orleans-giving-speeding-tickets-to-parked-cars.html', 'whitelist_status': 'all_ads', 'quarantine': False, 'subreddit_subscribers': 15888151, 'created_utc': 1523456901.0, 'subreddit_name_prefixed': 'r/news', 'ups': 2868, 'media': None, 'num_comments': 323, 'title': 'Traffic camera in New Orleans giving speeding tickets to parked cars', 'mod_note': None, 'is_video': False, 'distinguished': None}, {'subreddit_id': 't5_2qh3l', 'approved_at_utc': None, 'send_replies': True, 'mod_reason_by': None, 'banned_by': None, 'num_reports': None, 'removal_reason': None, 'subreddit': 'news', 'selftext_html': None, 'selftext': '', 'likes': None, 'suggested_sort': None, 'user_reports': [], 'secure_media': None, 'is_reddit_media_domain': False, 'saved': False, 'id': '8bgu4s', 'banned_at_utc': None, 'mod_reason_title': None, 'view_count': None, 'archived': False, 'clicked': False, 'no_follow': False, 'author': 'pitterpatter4', 'num_crossposts': 0, 'link_flair_text': None, 'mod_reports': [], 'can_mod_post': False, 'is_crosspostable': False, 'pinned': False, 'score': 2585, 'approved_by': None, 'over_18': False, 'report_reasons': None, 'domain': 'abcnews.go.com', 'hidden': False, 'thumbnail': '', 'edited': False, 'link_flair_css_class': None, 'author_flair_css_class': None, 'contest_mode': False, 'gilded': 0, 'downs': 0, 'brand_safe': True, 'secure_media_embed': {}, 'media_embed': {}, 'author_flair_text': None, 'stickied': False, 'visited': False, 'can_gild': False, 'is_self': False, 'parent_whitelist_status': 'all_ads', 'name': 't3_8bgu4s', 'spoiler': False, 'permalink': '/r/news/comments/8bgu4s/oklahoma_teachers_rally_at_capitol_as_walkout/', 'subreddit_type': 'public', 'locked': False, 'hide_score': False, 'created': 1523480188.0, 'url': 'http://abcnews.go.com/US/oklahoma-teachers-rally-capitol-walkout-enters-7th-day/story?id=54374538', 'whitelist_status': 'all_ads', 'quarantine': False, 'subreddit_subscribers': 15888151, 'created_utc': 1523451388.0, 'subreddit_name_prefixed': 'r/news', 'ups': 2585, 'media': None, 'num_comments': 307, 'title': 'Oklahoma teachers rally at capitol as walkout enters 7th day', 'mod_note': None, 'is_video': False, 'distinguished': None}, {'subreddit_id': 't5_2qh3l', 'approved_at_utc': None, 'send_replies': True, 'mod_reason_by': None, 'banned_by': None, 'num_reports': None, 'removal_reason': None, 'subreddit': 'news', 'selftext_html': None, 'selftext': '', 'likes': None, 'suggested_sort': None, 'user_reports': [], 'secure_media': None, 'is_reddit_media_domain': False, 'saved': False, 'id': '8biij3', 'banned_at_utc': None, 'mod_reason_title': None, 'view_count': None, 'archived': False, 'clicked': False, 'no_follow': False, 'author': 'kek05001', 'num_crossposts': 0, 'link_flair_text': None, 'mod_reports': [], 'can_mod_post': False, 'is_crosspostable': False, 'pinned': False, 'score': 2602, 'approved_by': None, 'over_18': False, 'report_reasons': None, 'domain': 'app.com', 'hidden': False, 'thumbnail': '', 'edited': False, 'link_flair_css_class': None, 'author_flair_css_class': None, 'contest_mode': False, 'gilded': 0, 'downs': 0, 'brand_safe': True, 'secure_media_embed': {}, 'media_embed': {}, 'author_flair_text': None, 'stickied': False, 'visited': False, 'can_gild': False, 'is_self': False, 'parent_whitelist_status': 'all_ads', 'name': 't3_8biij3', 'spoiler': False, 'permalink': '/r/news/comments/8biij3/nj_cop_was_hired_even_after_stabbing_wifes/', 'subreddit_type': 'public', 'locked': False, 'hide_score': False, 'created': 1523493705.0, 'url': 'https://www.app.com/story/news/investigations/watchdog/shield/2018/04/11/franco-sydnor-atlantic-city-cop-criminal-history/502353002/', 'whitelist_status': 'all_ads', 'quarantine': False, 'subreddit_subscribers': 15888151, 'created_utc': 1523464905.0, 'subreddit_name_prefixed': 'r/news', 'ups': 2602, 'media': None, 'num_comments': 146, 'title': \"NJ cop was hired even after stabbing wife's ex-lover 4 times\", 'mod_note': None, 'is_video': False, 'distinguished': None}, {'subreddit_id': 't5_2qh3l', 'approved_at_utc': None, 'send_replies': True, 'mod_reason_by': None, 'banned_by': None, 'num_reports': None, 'removal_reason': None, 'subreddit': 'news', 'selftext_html': None, 'selftext': '', 'likes': None, 'suggested_sort': None, 'user_reports': [], 'secure_media': None, 'is_reddit_media_domain': False, 'saved': False, 'id': '8bi3jd', 'banned_at_utc': None, 'mod_reason_title': None, 'view_count': None, 'archived': False, 'clicked': False, 'no_follow': False, 'author': 'SuccessfulOperation', 'num_crossposts': 0, 'link_flair_text': None, 'mod_reports': [], 'can_mod_post': False, 'is_crosspostable': False, 'pinned': False, 'score': 1637, 'approved_by': None, 'over_18': False, 'report_reasons': None, 'domain': 'bloomberg.com', 'hidden': False, 'thumbnail': '', 'edited': False, 'link_flair_css_class': None, 'author_flair_css_class': None, 'contest_mode': False, 'gilded': 0, 'downs': 0, 'brand_safe': True, 'secure_media_embed': {}, 'media_embed': {}, 'author_flair_text': None, 'stickied': False, 'visited': False, 'can_gild': False, 'is_self': False, 'parent_whitelist_status': 'all_ads', 'name': 't3_8bi3jd', 'spoiler': False, 'permalink': '/r/news/comments/8bi3jd/exspeaker_john_boehner_joins_marijuana_firms/', 'subreddit_type': 'public', 'locked': False, 'hide_score': False, 'created': 1523490511.0, 'url': 'https://www.bloomberg.com/news/articles/2018-04-11/ex-speaker-john-boehner-joins-marijuana-firm-s-advisory-board', 'whitelist_status': 'all_ads', 'quarantine': False, 'subreddit_subscribers': 15888151, 'created_utc': 1523461711.0, 'subreddit_name_prefixed': 'r/news', 'ups': 1637, 'media': None, 'num_comments': 369, 'title': 'Ex-Speaker John Boehner Joins Marijuana Firm’s Advisory Board', 'mod_note': None, 'is_video': False, 'distinguished': None}, {'subreddit_id': 't5_2qh3l', 'approved_at_utc': None, 'send_replies': True, 'mod_reason_by': None, 'banned_by': None, 'num_reports': None, 'removal_reason': None, 'subreddit': 'news', 'selftext_html': None, 'selftext': '', 'likes': None, 'suggested_sort': None, 'user_reports': [], 'secure_media': None, 'is_reddit_media_domain': False, 'saved': False, 'id': '8bmi1m', 'banned_at_utc': None, 'mod_reason_title': None, 'view_count': None, 'archived': False, 'clicked': False, 'no_follow': False, 'author': 'fwowit', 'num_crossposts': 0, 'link_flair_text': None, 'mod_reports': [], 'can_mod_post': False, 'is_crosspostable': False, 'pinned': False, 'score': 1138, 'approved_by': None, 'over_18': False, 'report_reasons': None, 'domain': 'tvnewscheck.com', 'hidden': False, 'thumbnail': '', 'edited': False, 'link_flair_css_class': None, 'author_flair_css_class': None, 'contest_mode': False, 'gilded': 0, 'downs': 0, 'brand_safe': True, 'secure_media_embed': {}, 'media_embed': {}, 'author_flair_text': None, 'stickied': False, 'visited': False, 'can_gild': False, 'is_self': False, 'parent_whitelist_status': 'all_ads', 'name': 't3_8bmi1m', 'spoiler': False, 'permalink': '/r/news/comments/8bmi1m/sinclair_stations_release_video_attacking_cnn/', 'subreddit_type': 'public', 'locked': False, 'hide_score': False, 'created': 1523525837.0, 'url': 'http://www.tvnewscheck.com/article/112705/sinclair-stations-release-video-attacking-cnn', 'whitelist_status': 'all_ads', 'quarantine': False, 'subreddit_subscribers': 15888151, 'created_utc': 1523497037.0, 'subreddit_name_prefixed': 'r/news', 'ups': 1138, 'media': None, 'num_comments': 294, 'title': 'Sinclair Stations Release Video Attacking CNN', 'mod_note': None, 'is_video': False, 'distinguished': None}, {'subreddit_id': 't5_2qh3l', 'approved_at_utc': None, 'send_replies': True, 'mod_reason_by': None, 'banned_by': None, 'num_reports': None, 'removal_reason': None, 'subreddit': 'news', 'selftext_html': None, 'selftext': '', 'likes': None, 'suggested_sort': None, 'user_reports': [], 'secure_media': None, 'is_reddit_media_domain': False, 'saved': False, 'id': '8bjvhw', 'banned_at_utc': None, 'mod_reason_title': None, 'view_count': None, 'archived': False, 'clicked': False, 'no_follow': False, 'author': 'SilentSoftware', 'num_crossposts': 0, 'link_flair_text': None, 'mod_reports': [], 'can_mod_post': False, 'is_crosspostable': False, 'pinned': False, 'score': 1066, 'approved_by': None, 'over_18': False, 'report_reasons': None, 'domain': 'news.sol.org.tr', 'hidden': False, 'thumbnail': '', 'edited': False, 'link_flair_css_class': None, 'author_flair_css_class': None, 'contest_mode': False, 'gilded': 0, 'downs': 0, 'brand_safe': True, 'secure_media_embed': {}, 'media_embed': {}, 'author_flair_text': None, 'stickied': False, 'visited': False, 'can_gild': False, 'is_self': False, 'parent_whitelist_status': 'all_ads', 'name': 't3_8bjvhw', 'spoiler': False, 'permalink': '/r/news/comments/8bjvhw/70000_students_in_prisons_in_turkey/', 'subreddit_type': 'public', 'locked': False, 'hide_score': False, 'created': 1523503878.0, 'url': 'http://news.sol.org.tr/70000-students-prisons-turkey-174490', 'whitelist_status': 'all_ads', 'quarantine': False, 'subreddit_subscribers': 15888151, 'created_utc': 1523475078.0, 'subreddit_name_prefixed': 'r/news', 'ups': 1066, 'media': None, 'num_comments': 100, 'title': '70,000 students in prisons in Turkey', 'mod_note': None, 'is_video': False, 'distinguished': None}, {'subreddit_id': 't5_2qh3l', 'approved_at_utc': None, 'send_replies': True, 'mod_reason_by': None, 'banned_by': None, 'num_reports': None, 'removal_reason': None, 'subreddit': 'news', 'selftext_html': None, 'selftext': '', 'likes': None, 'suggested_sort': None, 'user_reports': [], 'secure_media': None, 'is_reddit_media_domain': False, 'saved': False, 'id': '8bixwg', 'banned_at_utc': None, 'mod_reason_title': None, 'view_count': None, 'archived': False, 'clicked': False, 'no_follow': False, 'author': 'CCCmonster', 'num_crossposts': 1, 'link_flair_text': None, 'mod_reports': [], 'can_mod_post': False, 'is_crosspostable': False, 'pinned': False, 'score': 1035, 'approved_by': None, 'over_18': False, 'report_reasons': None, 'domain': 'reuters.com', 'hidden': False, 'thumbnail': '', 'edited': False, 'link_flair_css_class': None, 'author_flair_css_class': None, 'contest_mode': False, 'gilded': 0, 'downs': 0, 'brand_safe': True, 'secure_media_embed': {}, 'media_embed': {}, 'author_flair_text': None, 'stickied': False, 'visited': False, 'can_gild': False, 'is_self': False, 'parent_whitelist_status': 'all_ads', 'name': 't3_8bixwg', 'spoiler': False, 'permalink': '/r/news/comments/8bixwg/aclu_sues_to_block_new_kentucky_law_restricting/', 'subreddit_type': 'public', 'locked': False, 'hide_score': False, 'created': 1523496892.0, 'url': 'https://www.reuters.com/article/us-kentucky-abortion/aclu-sues-to-block-new-kentucky-law-restricting-abortions-idUSKBN1HI2IE?il=0', 'whitelist_status': 'all_ads', 'quarantine': False, 'subreddit_subscribers': 15888151, 'created_utc': 1523468092.0, 'subreddit_name_prefixed': 'r/news', 'ups': 1035, 'media': None, 'num_comments': 201, 'title': 'ACLU sues to block new Kentucky law restricting abortions', 'mod_note': None, 'is_video': False, 'distinguished': None}, {'subreddit_id': 't5_2qh3l', 'approved_at_utc': None, 'send_replies': True, 'mod_reason_by': None, 'banned_by': None, 'num_reports': None, 'removal_reason': None, 'subreddit': 'news', 'selftext_html': None, 'selftext': '', 'likes': None, 'suggested_sort': None, 'user_reports': [], 'secure_media': None, 'is_reddit_media_domain': False, 'saved': False, 'id': '8bgktp', 'banned_at_utc': None, 'mod_reason_title': None, 'view_count': None, 'archived': False, 'clicked': False, 'no_follow': False, 'author': 'FerryLunchBox', 'num_crossposts': 0, 'link_flair_text': None, 'mod_reports': [], 'can_mod_post': False, 'is_crosspostable': False, 'pinned': False, 'score': 984, 'approved_by': None, 'over_18': False, 'report_reasons': None, 'domain': 'apnews.com', 'hidden': False, 'thumbnail': '', 'edited': False, 'link_flair_css_class': None, 'author_flair_css_class': None, 'contest_mode': False, 'gilded': 0, 'downs': 0, 'brand_safe': True, 'secure_media_embed': {}, 'media_embed': {}, 'author_flair_text': None, 'stickied': False, 'visited': False, 'can_gild': False, 'is_self': False, 'parent_whitelist_status': 'all_ads', 'name': 't3_8bgktp', 'spoiler': False, 'permalink': '/r/news/comments/8bgktp/judge_wont_block_speed_cameras_that_issued_12000/', 'subreddit_type': 'public', 'locked': False, 'hide_score': False, 'created': 1523477617.0, 'url': 'https://apnews.com/7145b987e63045b19cd8278ad5d4c798', 'whitelist_status': 'all_ads', 'quarantine': False, 'subreddit_subscribers': 15888151, 'created_utc': 1523448817.0, 'subreddit_name_prefixed': 'r/news', 'ups': 984, 'media': None, 'num_comments': 478, 'title': \"Judge won't block speed cameras that issued 12,000 tickets\", 'mod_note': None, 'is_video': False, 'distinguished': None}, {'subreddit_id': 't5_2qh3l', 'approved_at_utc': None, 'send_replies': True, 'mod_reason_by': None, 'banned_by': None, 'num_reports': None, 'removal_reason': None, 'subreddit': 'news', 'selftext_html': None, 'selftext': '', 'likes': None, 'suggested_sort': None, 'user_reports': [], 'secure_media': None, 'is_reddit_media_domain': False, 'saved': False, 'id': '8bjzao', 'banned_at_utc': None, 'mod_reason_title': None, 'gilded': 0, 'archived': False, 'clicked': False, 'no_follow': False, 'author': 'Emineminist', 'num_crossposts': 0, 'link_flair_text': None, 'mod_reports': [], 'can_mod_post': False, 'is_crosspostable': False, 'pinned': False, 'score': 752, 'approved_by': None, 'over_18': False, 'report_reasons': None, 'domain': 'washingtonpost.com', 'hidden': False, 'thumbnail': '', 'edited': False, 'link_flair_css_class': None, 'author_flair_css_class': None, 'contest_mode': False, 'view_count': None, 'downs': 0, 'brand_safe': True, 'secure_media_embed': {}, 'media_embed': {}, 'author_flair_text': None, 'stickied': False, 'visited': False, 'can_gild': False, 'is_self': False, 'parent_whitelist_status': 'all_ads', 'name': 't3_8bjzao', 'spoiler': False, 'permalink': '/r/news/comments/8bjzao/trump_signs_fosta_bill_targeting_online_sex/', 'subreddit_type': 'public', 'locked': False, 'hide_score': False, 'created': 1523504689.0, 'url': 'https://www.washingtonpost.com/news/true-crime/wp/2018/04/11/trump-signs-fosta-bill-targeting-online-sex-trafficking-enables-states-and-victims-to-pursue-websites/?utm_term=.c990fce41d1d', 'whitelist_status': 'all_ads', 'quarantine': False, 'subreddit_subscribers': 15888151, 'created_utc': 1523475889.0, 'previous_visits': [], 'subreddit_name_prefixed': 'r/news', 'ups': 752, 'media': None, 'num_comments': 267, 'title': 'Trump signs ‘FOSTA’ bill targeting online sex trafficking, enables states and victims to pursue websites', 'mod_note': None, 'is_video': False, 'distinguished': None}, {'subreddit_id': 't5_2qh3l', 'approved_at_utc': None, 'send_replies': False, 'mod_reason_by': None, 'banned_by': None, 'num_reports': None, 'removal_reason': None, 'subreddit': 'news', 'selftext_html': None, 'selftext': '', 'likes': None, 'suggested_sort': None, 'user_reports': [], 'secure_media': None, 'is_reddit_media_domain': False, 'saved': False, 'id': '8bhn51', 'banned_at_utc': None, 'mod_reason_title': None, 'view_count': None, 'archived': False, 'clicked': False, 'no_follow': False, 'author': 'jimmyolsenblues', 'num_crossposts': 1, 'link_flair_text': None, 'mod_reports': [], 'can_mod_post': False, 'is_crosspostable': False, 'pinned': False, 'score': 717, 'approved_by': None, 'over_18': False, 'report_reasons': None, 'domain': 'foxnews.com', 'hidden': False, 'thumbnail': '', 'edited': False, 'link_flair_css_class': None, 'author_flair_css_class': None, 'contest_mode': False, 'gilded': 0, 'downs': 0, 'brand_safe': True, 'secure_media_embed': {}, 'media_embed': {}, 'author_flair_text': None, 'stickied': False, 'visited': False, 'can_gild': False, 'is_self': False, 'parent_whitelist_status': 'all_ads', 'name': 't3_8bhn51', 'spoiler': False, 'permalink': '/r/news/comments/8bhn51/hypnotherapist_28_accused_of_having_sex_with/', 'subreddit_type': 'public', 'locked': False, 'hide_score': False, 'created': 1523486972.0, 'url': 'http://www.foxnews.com/us/2018/04/11/hypnotherapist-28-accused-having-sex-with-14-year-old-boy.html', 'whitelist_status': 'all_ads', 'quarantine': False, 'subreddit_subscribers': 15888151, 'created_utc': 1523458172.0, 'subreddit_name_prefixed': 'r/news', 'ups': 717, 'media': None, 'num_comments': 439, 'title': 'Hypnotherapist, 28, accused of having sex with 14-year-old boy', 'mod_note': None, 'is_video': False, 'distinguished': None}, {'subreddit_id': 't5_2qh3l', 'approved_at_utc': None, 'send_replies': True, 'mod_reason_by': None, 'banned_by': None, 'num_reports': None, 'removal_reason': None, 'subreddit': 'news', 'selftext_html': None, 'selftext': '', 'likes': None, 'suggested_sort': None, 'user_reports': [], 'secure_media': None, 'is_reddit_media_domain': False, 'saved': False, 'id': '8bm1gg', 'banned_at_utc': None, 'mod_reason_title': None, 'view_count': None, 'archived': False, 'clicked': False, 'no_follow': False, 'author': 'Crohnsta', 'num_crossposts': 0, 'link_flair_text': None, 'mod_reports': [], 'can_mod_post': False, 'is_crosspostable': False, 'pinned': False, 'score': 603, 'approved_by': None, 'over_18': False, 'report_reasons': None, 'domain': 'kltv.com', 'hidden': False, 'thumbnail': '', 'edited': False, 'link_flair_css_class': None, 'author_flair_css_class': None, 'contest_mode': False, 'gilded': 0, 'downs': 0, 'brand_safe': True, 'secure_media_embed': {}, 'media_embed': {}, 'author_flair_text': None, 'stickied': False, 'visited': False, 'can_gild': False, 'is_self': False, 'parent_whitelist_status': 'all_ads', 'name': 't3_8bm1gg', 'spoiler': False, 'permalink': '/r/news/comments/8bm1gg/texas_nurse_arrested_after_introducing_air_into/', 'subreddit_type': 'public', 'locked': False, 'hide_score': False, 'created': 1523521560.0, 'url': 'http://www.kltv.com/story/37934998/arrest-affidavit-alleges-tyler-nurse-purposely-introduced-air-into-patients-arterial-lines', 'whitelist_status': 'all_ads', 'quarantine': False, 'subreddit_subscribers': 15888151, 'created_utc': 1523492760.0, 'subreddit_name_prefixed': 'r/news', 'ups': 603, 'media': None, 'num_comments': 73, 'title': \"Texas nurse arrested after introducing air into patient's arterial lines, leaving two dead.\", 'mod_note': None, 'is_video': False, 'distinguished': None}, {'subreddit_id': 't5_2qh3l', 'approved_at_utc': None, 'send_replies': True, 'mod_reason_by': None, 'banned_by': None, 'num_reports': None, 'removal_reason': None, 'subreddit': 'news', 'selftext_html': None, 'selftext': '', 'likes': None, 'suggested_sort': None, 'user_reports': [], 'secure_media': None, 'is_reddit_media_domain': False, 'saved': False, 'id': '8bj1sg', 'banned_at_utc': None, 'mod_reason_title': None, 'view_count': None, 'archived': False, 'clicked': False, 'no_follow': False, 'author': 'a1a4ou', 'num_crossposts': 0, 'link_flair_text': None, 'mod_reports': [], 'can_mod_post': False, 'is_crosspostable': False, 'pinned': False, 'score': 521, 'approved_by': None, 'over_18': False, 'report_reasons': None, 'domain': 'tulsaworld.com', 'hidden': False, 'thumbnail': '', 'edited': False, 'link_flair_css_class': None, 'author_flair_css_class': None, 'contest_mode': False, 'gilded': 0, 'downs': 0, 'brand_safe': True, 'secure_media_embed': {}, 'media_embed': {}, 'author_flair_text': None, 'stickied': False, 'visited': False, 'can_gild': False, 'is_self': False, 'parent_whitelist_status': 'all_ads', 'name': 't3_8bj1sg', 'spoiler': False, 'permalink': '/r/news/comments/8bj1sg/walkout_day_8_oklahoma_union_tells_teachers_that/', 'subreddit_type': 'public', 'locked': False, 'hide_score': False, 'created': 1523497702.0, 'url': 'http://www.tulsaworld.com/news/walkout-day-oea-tells-teachers-that-percent-of-its-funding/article_a8c126b9-1d91-5013-b756-ed36af245efa.html', 'whitelist_status': 'all_ads', 'quarantine': False, 'subreddit_subscribers': 15888151, 'created_utc': 1523468902.0, 'subreddit_name_prefixed': 'r/news', 'ups': 521, 'media': None, 'num_comments': 26, 'title': 'Walkout Day 8: Oklahoma union tells teachers that 95 percent of its funding request has been secured', 'mod_note': None, 'is_video': False, 'distinguished': None}, {'subreddit_id': 't5_2qh3l', 'approved_at_utc': None, 'send_replies': True, 'mod_reason_by': None, 'banned_by': None, 'num_reports': None, 'removal_reason': None, 'subreddit': 'news', 'selftext_html': None, 'selftext': '', 'likes': None, 'suggested_sort': None, 'user_reports': [], 'secure_media': None, 'is_reddit_media_domain': False, 'saved': False, 'id': '8bjpxa', 'banned_at_utc': None, 'mod_reason_title': None, 'view_count': None, 'archived': False, 'clicked': False, 'no_follow': False, 'author': 'F_D_P', 'num_crossposts': 0, 'link_flair_text': None, 'mod_reports': [], 'can_mod_post': False, 'is_crosspostable': False, 'pinned': False, 'score': 528, 'approved_by': None, 'over_18': False, 'report_reasons': None, 'domain': 'cbsnews.com', 'hidden': False, 'thumbnail': '', 'edited': False, 'link_flair_css_class': None, 'author_flair_css_class': None, 'contest_mode': False, 'gilded': 0, 'downs': 0, 'brand_safe': True, 'secure_media_embed': {}, 'media_embed': {}, 'author_flair_text': None, 'stickied': False, 'visited': False, 'can_gild': False, 'is_self': False, 'parent_whitelist_status': 'all_ads', 'name': 't3_8bjpxa', 'spoiler': False, 'permalink': '/r/news/comments/8bjpxa/cops_border_patrol_agent_who_told_911_he_found/', 'subreddit_type': 'public', 'locked': False, 'hide_score': False, 'created': 1523502689.0, 'url': 'https://www.cbsnews.com/news/cops-border-patrol-agent-who-told-911-he-found-bodies-killed-girlfriend-infant/', 'whitelist_status': 'all_ads', 'quarantine': False, 'subreddit_subscribers': 15888151, 'created_utc': 1523473889.0, 'subreddit_name_prefixed': 'r/news', 'ups': 528, 'media': None, 'num_comments': 80, 'title': 'Cops: Border Patrol agent who told 911 he found bodies killed girlfriend, infant', 'mod_note': None, 'is_video': False, 'distinguished': None}, {'subreddit_id': 't5_2qh3l', 'approved_at_utc': None, 'send_replies': False, 'mod_reason_by': None, 'banned_by': None, 'num_reports': None, 'removal_reason': None, 'subreddit': 'news', 'selftext_html': None, 'selftext': '', 'likes': None, 'suggested_sort': None, 'user_reports': [], 'secure_media': None, 'is_reddit_media_domain': False, 'saved': False, 'id': '8bjd28', 'banned_at_utc': None, 'mod_reason_title': None, 'view_count': None, 'archived': False, 'clicked': False, 'no_follow': False, 'author': 'ProbablyMisinformed', 'num_crossposts': 0, 'link_flair_text': None, 'mod_reports': [], 'can_mod_post': False, 'is_crosspostable': False, 'pinned': False, 'score': 508, 'approved_by': None, 'over_18': False, 'report_reasons': None, 'domain': 'news3lv.com', 'hidden': False, 'thumbnail': '', 'edited': False, 'link_flair_css_class': None, 'author_flair_css_class': None, 'contest_mode': False, 'gilded': 0, 'downs': 0, 'brand_safe': True, 'secure_media_embed': {}, 'media_embed': {}, 'author_flair_text': None, 'stickied': False, 'visited': False, 'can_gild': False, 'is_self': False, 'parent_whitelist_status': 'all_ads', 'name': 't3_8bjd28', 'spoiler': False, 'permalink': '/r/news/comments/8bjd28/one_million_killer_bees_are_threatening_an_entire/', 'subreddit_type': 'public', 'locked': False, 'hide_score': False, 'created': 1523499991.0, 'url': 'http://news3lv.com/news/offbeat/million-killer-bees-threatening-neighborhood-in-far-east-el-paso', 'whitelist_status': 'all_ads', 'quarantine': False, 'subreddit_subscribers': 15888151, 'created_utc': 1523471191.0, 'subreddit_name_prefixed': 'r/news', 'ups': 508, 'media': None, 'num_comments': 137, 'title': 'One million killer bees are threatening an entire neighborhood in far east El Paso, Texas', 'mod_note': None, 'is_video': False, 'distinguished': None}, {'subreddit_id': 't5_2qh3l', 'approved_at_utc': None, 'send_replies': True, 'mod_reason_by': None, 'banned_by': None, 'num_reports': None, 'removal_reason': None, 'subreddit': 'news', 'selftext_html': None, 'selftext': '', 'likes': None, 'suggested_sort': None, 'user_reports': [], 'secure_media': None, 'is_reddit_media_domain': False, 'saved': False, 'id': '8blitr', 'banned_at_utc': None, 'mod_reason_title': None, 'gilded': 0, 'archived': False, 'clicked': False, 'no_follow': False, 'author': 'RemarkableLab', 'num_crossposts': 0, 'link_flair_text': None, 'mod_reports': [], 'can_mod_post': False, 'is_crosspostable': False, 'pinned': False, 'score': 483, 'approved_by': None, 'over_18': False, 'report_reasons': None, 'domain': 'globalnews.ca', 'hidden': False, 'thumbnail': '', 'edited': False, 'link_flair_css_class': None, 'author_flair_css_class': None, 'contest_mode': False, 'view_count': None, 'downs': 0, 'brand_safe': True, 'secure_media_embed': {}, 'media_embed': {}, 'author_flair_text': None, 'stickied': False, 'visited': False, 'can_gild': False, 'is_self': False, 'parent_whitelist_status': 'all_ads', 'name': 't3_8blitr', 'spoiler': False, 'permalink': '/r/news/comments/8blitr/fake_marijuana_laced_with_rat_poison_kills_3/', 'subreddit_type': 'public', 'locked': False, 'hide_score': False, 'created': 1523516983.0, 'url': 'https://globalnews.ca/news/4138448/fake-marijuana-rat-poison-deaths/', 'whitelist_status': 'all_ads', 'quarantine': False, 'subreddit_subscribers': 15888151, 'created_utc': 1523488183.0, 'previous_visits': [], 'subreddit_name_prefixed': 'r/news', 'ups': 483, 'media': None, 'num_comments': 131, 'title': 'Fake marijuana laced with rat poison kills 3, makes 100 sick in U.S. - National', 'mod_note': None, 'is_video': False, 'distinguished': None}, {'subreddit_id': 't5_2qh3l', 'approved_at_utc': None, 'send_replies': True, 'mod_reason_by': None, 'banned_by': None, 'num_reports': None, 'removal_reason': None, 'subreddit': 'news', 'selftext_html': None, 'selftext': '', 'likes': None, 'suggested_sort': None, 'user_reports': [], 'secure_media': None, 'is_reddit_media_domain': False, 'saved': False, 'id': '8bi64j', 'banned_at_utc': None, 'mod_reason_title': None, 'view_count': None, 'archived': False, 'clicked': False, 'no_follow': False, 'author': 'vatred', 'num_crossposts': 0, 'link_flair_text': None, 'mod_reports': [], 'can_mod_post': False, 'is_crosspostable': False, 'pinned': False, 'score': 397, 'approved_by': None, 'over_18': False, 'report_reasons': None, 'domain': 'deadline.com', 'hidden': False, 'thumbnail': '', 'edited': False, 'link_flair_css_class': None, 'author_flair_css_class': None, 'contest_mode': False, 'gilded': 0, 'downs': 0, 'brand_safe': True, 'secure_media_embed': {}, 'media_embed': {}, 'author_flair_text': None, 'stickied': False, 'visited': False, 'can_gild': False, 'is_self': False, 'parent_whitelist_status': 'all_ads', 'name': 't3_8bi64j', 'spoiler': False, 'permalink': '/r/news/comments/8bi64j/stand_up_comedy_matriarch_mitzi_shore_has_died/', 'subreddit_type': 'public', 'locked': False, 'hide_score': False, 'created': 1523491047.0, 'url': 'http://deadline.com/2018/04/mitzi-shore-the-comedy-store-died-this-morning-standup-comedy-matriarch-1202362288/', 'whitelist_status': 'all_ads', 'quarantine': False, 'subreddit_subscribers': 15888151, 'created_utc': 1523462247.0, 'subreddit_name_prefixed': 'r/news', 'ups': 397, 'media': None, 'num_comments': 71, 'title': 'Stand Up Comedy Matriarch Mitzi Shore Has Died', 'mod_note': None, 'is_video': False, 'distinguished': None}, {'subreddit_id': 't5_2qh3l', 'approved_at_utc': None, 'send_replies': True, 'mod_reason_by': None, 'banned_by': None, 'num_reports': None, 'removal_reason': None, 'subreddit': 'news', 'selftext_html': None, 'selftext': '', 'likes': None, 'suggested_sort': None, 'user_reports': [], 'secure_media': None, 'is_reddit_media_domain': False, 'saved': False, 'id': '8bh6gr', 'banned_at_utc': None, 'mod_reason_title': None, 'view_count': None, 'archived': False, 'clicked': False, 'no_follow': False, 'author': 'rightwingerandproud', 'num_crossposts': 2, 'link_flair_text': None, 'mod_reports': [], 'can_mod_post': False, 'is_crosspostable': False, 'pinned': False, 'score': 367, 'approved_by': None, 'over_18': False, 'report_reasons': None, 'domain': 'reuters.com', 'hidden': False, 'thumbnail': '', 'edited': False, 'link_flair_css_class': None, 'author_flair_css_class': None, 'contest_mode': False, 'gilded': 0, 'downs': 0, 'brand_safe': True, 'secure_media_embed': {}, 'media_embed': {}, 'author_flair_text': None, 'stickied': False, 'visited': False, 'can_gild': False, 'is_self': False, 'parent_whitelist_status': 'all_ads', 'name': 't3_8bh6gr', 'spoiler': False, 'permalink': '/r/news/comments/8bh6gr/ms13_gang_leader_in_massachusetts_gets_19year/', 'subreddit_type': 'public', 'locked': False, 'hide_score': False, 'created': 1523483239.0, 'url': 'https://www.reuters.com/article/us-massachusetts-crime-gang/ms-13-gang-leader-in-massachusetts-gets-19-year-prison-sentence-idUSKBN1HG38M', 'whitelist_status': 'all_ads', 'quarantine': False, 'subreddit_subscribers': 15888151, 'created_utc': 1523454439.0, 'subreddit_name_prefixed': 'r/news', 'ups': 367, 'media': None, 'num_comments': 132, 'title': 'MS-13 gang leader in Massachusetts gets 19-year prison sentence', 'mod_note': None, 'is_video': False, 'distinguished': None}, {'subreddit_id': 't5_2qh3l', 'approved_at_utc': None, 'send_replies': True, 'mod_reason_by': None, 'banned_by': None, 'num_reports': None, 'removal_reason': None, 'subreddit': 'news', 'selftext_html': None, 'selftext': '', 'likes': None, 'suggested_sort': None, 'user_reports': [], 'secure_media': None, 'is_reddit_media_domain': False, 'saved': False, 'id': '8bgzl4', 'banned_at_utc': None, 'mod_reason_title': None, 'view_count': None, 'archived': False, 'clicked': False, 'no_follow': False, 'author': 'Amcal', 'num_crossposts': 0, 'link_flair_text': 'Soft paywall', 'mod_reports': [], 'can_mod_post': False, 'is_crosspostable': False, 'pinned': False, 'score': 348, 'approved_by': None, 'over_18': False, 'report_reasons': None, 'domain': 'latimes.com', 'hidden': False, 'thumbnail': '', 'edited': False, 'link_flair_css_class': '', 'author_flair_css_class': None, 'contest_mode': False, 'gilded': 0, 'downs': 0, 'brand_safe': True, 'secure_media_embed': {}, 'media_embed': {}, 'author_flair_text': None, 'stickied': False, 'visited': False, 'can_gild': False, 'is_self': False, 'parent_whitelist_status': 'all_ads', 'name': 't3_8bgzl4', 'spoiler': False, 'permalink': '/r/news/comments/8bgzl4/protesters_fight_against_homeless_moving_to/', 'subreddit_type': 'public', 'locked': False, 'hide_score': False, 'created': 1523481542.0, 'url': 'http://www.latimes.com/local/lanow/la-me-ln-irvine-homeless-protest-20180410-story.html', 'whitelist_status': 'all_ads', 'quarantine': False, 'subreddit_subscribers': 15888151, 'created_utc': 1523452742.0, 'subreddit_name_prefixed': 'r/news', 'ups': 348, 'media': None, 'num_comments': 415, 'title': \"Protesters fight against homeless moving to Irvine: 'We will decide who comes into the city'\", 'mod_note': None, 'is_video': False, 'distinguished': None}, {'subreddit_id': 't5_2qh3l', 'approved_at_utc': None, 'send_replies': True, 'mod_reason_by': None, 'banned_by': None, 'num_reports': None, 'removal_reason': None, 'subreddit': 'news', 'selftext_html': None, 'selftext': '', 'likes': None, 'suggested_sort': None, 'user_reports': [], 'secure_media': None, 'is_reddit_media_domain': False, 'saved': False, 'id': '8blf75', 'banned_at_utc': None, 'mod_reason_title': None, 'view_count': None, 'archived': False, 'clicked': False, 'no_follow': False, 'author': 'Keikobad', 'num_crossposts': 0, 'link_flair_text': None, 'mod_reports': [], 'can_mod_post': False, 'is_crosspostable': False, 'pinned': False, 'score': 338, 'approved_by': None, 'over_18': False, 'report_reasons': None, 'domain': 'chron.com', 'hidden': False, 'thumbnail': '', 'edited': False, 'link_flair_css_class': None, 'author_flair_css_class': None, 'contest_mode': False, 'gilded': 0, 'downs': 0, 'brand_safe': True, 'secure_media_embed': {}, 'media_embed': {}, 'author_flair_text': None, 'stickied': False, 'visited': False, 'can_gild': False, 'is_self': False, 'parent_whitelist_status': 'all_ads', 'name': 't3_8blf75', 'spoiler': False, 'permalink': '/r/news/comments/8blf75/mom_who_let_4yearold_eat_a_pbj_in_a_shopping_cart/', 'subreddit_type': 'public', 'locked': False, 'hide_score': False, 'created': 1523516160.0, 'url': 'https://www.chron.com/living/article/Mother-peanut-butter-allergy-Target-child-12826097.php', 'whitelist_status': 'all_ads', 'quarantine': False, 'subreddit_subscribers': 15888151, 'created_utc': 1523487360.0, 'subreddit_name_prefixed': 'r/news', 'ups': 338, 'media': None, 'num_comments': 321, 'title': 'Mom who let 4-year-old eat a PB&amp;J in a shopping cart branded a monster by parenting forum', 'mod_note': None, 'is_video': False, 'distinguished': None}, {'subreddit_id': 't5_2qh3l', 'approved_at_utc': None, 'send_replies': True, 'mod_reason_by': None, 'banned_by': None, 'num_reports': None, 'removal_reason': None, 'subreddit': 'news', 'selftext_html': None, 'selftext': '', 'likes': None, 'suggested_sort': None, 'user_reports': [], 'secure_media': None, 'is_reddit_media_domain': False, 'saved': False, 'id': '8bgocx', 'banned_at_utc': None, 'mod_reason_title': None, 'view_count': None, 'archived': False, 'clicked': False, 'no_follow': False, 'author': '1975-2050', 'num_crossposts': 0, 'link_flair_text': None, 'mod_reports': [], 'can_mod_post': False, 'is_crosspostable': False, 'pinned': False, 'score': 279, 'approved_by': None, 'over_18': False, 'report_reasons': None, 'domain': 'nbcnews.com', 'hidden': False, 'thumbnail': '', 'edited': False, 'link_flair_css_class': None, 'author_flair_css_class': None, 'contest_mode': False, 'gilded': 0, 'downs': 0, 'brand_safe': True, 'secure_media_embed': {}, 'media_embed': {}, 'author_flair_text': None, 'stickied': False, 'visited': False, 'can_gild': False, 'is_self': False, 'parent_whitelist_status': 'all_ads', 'name': 't3_8bgocx', 'spoiler': False, 'permalink': '/r/news/comments/8bgocx/sacramento_police_unveil_new_body_cam_policy/', 'subreddit_type': 'public', 'locked': False, 'hide_score': False, 'created': 1523478641.0, 'url': 'https://www.nbcnews.com/news/amp/ncna864911', 'whitelist_status': 'all_ads', 'quarantine': False, 'subreddit_subscribers': 15888151, 'created_utc': 1523449841.0, 'subreddit_name_prefixed': 'r/news', 'ups': 279, 'media': None, 'num_comments': 75, 'title': 'Sacramento police unveil new body cam policy after deadly shooting, protests', 'mod_note': None, 'is_video': False, 'distinguished': None}] \n",
      "\n"
     ]
    }
   ],
   "source": [
    "def GetRedditStories(url):\n",
    "    # todo write code\n",
    "    \n",
    "    #url = 'https://www.reddit.com/r/news/top.json'\n",
    "    response = requests.get(url, headers = {'User-Agent' : 'reddit_news_sentiment_analysis'})\n",
    "    stories = response.json()   \n",
    "    count = 0\n",
    "    story_object = stories['data']['children']\n",
    "    story_list = []\n",
    "    for titles in story_object:\n",
    "        #print(titles['data']['title'] + '\\n')\n",
    "        count = count + 1\n",
    "        story_list.append(titles['data'])#['title'])\n",
    "    return story_list\n",
    "url = 'https://www.reddit.com/r/news/top.json'\n",
    "stuff=print(GetRedditStories(url) ,'\\n')\n",
    "#print(stories)"
   ]
  },
  {
   "cell_type": "code",
   "execution_count": 6,
   "metadata": {
    "collapsed": true
   },
   "outputs": [
    {
     "name": "stdout",
     "output_type": "stream",
     "text": [
      "Louisiana teacher fired after mocking autistic student in audio recording during class\n",
      "\n",
      "Alabama evangelist Acton Bowen jailed in Hoover on child sex charges involving young boy\n",
      "\n",
      "Man Hospitalized After Father Catches Him Dragging Daughter Out of Park\n",
      "\n",
      "Man who accused Indian politician of raping daughter dies in custody\n",
      "\n",
      "Oil exploration banned in New Zealand\n",
      "\n",
      "Traffic camera in New Orleans giving speeding tickets to parked cars\n",
      "\n",
      "Oklahoma teachers rally at capitol as walkout enters 7th day\n",
      "\n",
      "NJ cop was hired even after stabbing wife's ex-lover 4 times\n",
      "\n",
      "Ex-Speaker John Boehner Joins Marijuana Firm’s Advisory Board\n",
      "\n",
      "Sinclair Stations Release Video Attacking CNN\n",
      "\n",
      "70,000 students in prisons in Turkey\n",
      "\n",
      "ACLU sues to block new Kentucky law restricting abortions\n",
      "\n",
      "Judge won't block speed cameras that issued 12,000 tickets\n",
      "\n",
      "Trump signs ‘FOSTA’ bill targeting online sex trafficking, enables states and victims to pursue websites\n",
      "\n",
      "Hypnotherapist, 28, accused of having sex with 14-year-old boy\n",
      "\n",
      "Texas nurse arrested after introducing air into patient's arterial lines, leaving two dead.\n",
      "\n",
      "Walkout Day 8: Oklahoma union tells teachers that 95 percent of its funding request has been secured\n",
      "\n",
      "Cops: Border Patrol agent who told 911 he found bodies killed girlfriend, infant\n",
      "\n",
      "One million killer bees are threatening an entire neighborhood in far east El Paso, Texas\n",
      "\n",
      "Fake marijuana laced with rat poison kills 3, makes 100 sick in U.S. - National\n",
      "\n",
      "Stand Up Comedy Matriarch Mitzi Shore Has Died\n",
      "\n",
      "MS-13 gang leader in Massachusetts gets 19-year prison sentence\n",
      "\n",
      "Protesters fight against homeless moving to Irvine: 'We will decide who comes into the city'\n",
      "\n",
      "Mom who let 4-year-old eat a PB&amp;J in a shopping cart branded a monster by parenting forum\n",
      "\n",
      "Sacramento police unveil new body cam policy after deadly shooting, protests\n",
      "\n"
     ]
    }
   ],
   "source": [
    "# Step 2: write code \n",
    "\n",
    "#User-Agent = <jupyternotebook>:<3.5.7>:<anaconda> (by /u/<etdon>)\n",
    "\n",
    "import requests\n",
    "import json\n",
    "def GetRedditStories():\n",
    "    # todo write code\n",
    "    \n",
    "    url = 'https://www.reddit.com/r/news/top.json'\n",
    "    response = requests.get(url, headers = {'User-Agent' : 'reddit_news_sentiment_analysis'})\n",
    "    stories = response.json()   \n",
    "    count = 0\n",
    "    story_object = stories['data']['children'] #do type for children \n",
    "    stories_list = []\n",
    "    for titles in story_object:\n",
    "        stories_list.append(titles['data']['title'])\n",
    "        \n",
    "        #count = count + 1\n",
    "    \n",
    "    return stories_list\n",
    "\n",
    "\n",
    "\n",
    "# testing \n",
    "stories=GetRedditStories() # you should see some stories\n",
    "for items in stories:\n",
    "    print(items + '\\n')\n",
    "\n",
    "#for items in stories:\n",
    "#    print(sentiment)"
   ]
  },
  {
   "cell_type": "code",
   "execution_count": 53,
   "metadata": {
    "collapsed": false
   },
   "outputs": [
    {
     "ename": "TypeError",
     "evalue": "list indices must be integers or slices, not str",
     "output_type": "error",
     "traceback": [
      "\u001b[0;31m---------------------------------------------------------------------------\u001b[0m",
      "\u001b[0;31mTypeError\u001b[0m                                 Traceback (most recent call last)",
      "\u001b[0;32m<ipython-input-53-a43e7f770daf>\u001b[0m in \u001b[0;36m<module>\u001b[0;34m()\u001b[0m\n\u001b[0;32m----> 1\u001b[0;31m \u001b[0mtype\u001b[0m\u001b[0;34m(\u001b[0m\u001b[0mstories\u001b[0m\u001b[0;34m[\u001b[0m\u001b[0;34m'data'\u001b[0m\u001b[0;34m]\u001b[0m\u001b[0;34m[\u001b[0m\u001b[0;34m'children'\u001b[0m\u001b[0;34m]\u001b[0m\u001b[0;34m)\u001b[0m\u001b[0;34m\u001b[0m\u001b[0m\n\u001b[0m",
      "\u001b[0;31mTypeError\u001b[0m: list indices must be integers or slices, not str"
     ]
    }
   ],
   "source": [
    "type(stories['data']['children'])"
   ]
  },
  {
   "cell_type": "code",
   "execution_count": 67,
   "metadata": {
    "collapsed": false
   },
   "outputs": [
    {
     "name": "stdout",
     "output_type": "stream",
     "text": [
      "neutral: Louisiana teacher fired after mocking autistic student in audio recording during class\n",
      "\n",
      "neutral: Alabama evangelist Acton Bowen jailed in Hoover on child sex charges involving young boy\n",
      "\n",
      "neutral: Man Hospitalized After Father Catches Him Dragging Daughter Out of Park\n",
      "\n",
      "neutral: Man who accused Indian politician of raping daughter dies in custody\n",
      "\n",
      "pos: Oil exploration banned in New Zealand\n",
      "\n",
      "neutral: Traffic camera in New Orleans giving speeding tickets to parked cars\n",
      "\n",
      "neutral: Oklahoma teachers rally at capitol as walkout enters 7th day\n",
      "\n",
      "neutral: NJ cop was hired even after stabbing wife's ex-lover 4 times\n",
      "\n",
      "neutral: Ex-Speaker John Boehner Joins Marijuana Firm’s Advisory Board\n",
      "\n",
      "neutral: Sinclair Stations Release Video Attacking CNN\n",
      "\n",
      "neutral: 70,000 students in prisons in Turkey\n",
      "\n",
      "neutral: ACLU sues to block new Kentucky law restricting abortions\n",
      "\n",
      "neutral: Judge won't block speed cameras that issued 12,000 tickets\n",
      "\n",
      "neutral: Trump signs ‘FOSTA’ bill targeting online sex trafficking, enables states and victims to pursue websites\n",
      "\n",
      "neutral: Hypnotherapist, 28, accused of having sex with 14-year-old boy\n",
      "\n",
      "neutral: Texas nurse arrested after introducing air into patient's arterial lines, leaving two dead.\n",
      "\n",
      "neutral: Walkout Day 8: Oklahoma union tells teachers that 95 percent of its funding request has been secured\n",
      "\n",
      "neutral: Cops: Border Patrol agent who told 911 he found bodies killed girlfriend, infant\n",
      "\n",
      "neutral: One million killer bees are threatening an entire neighborhood in far east El Paso, Texas\n",
      "\n",
      "neutral: Fake marijuana laced with rat poison kills 3, makes 100 sick in U.S. - National\n",
      "\n",
      "neg: Stand Up Comedy Matriarch Mitzi Shore Has Died\n",
      "\n",
      "neutral: MS-13 gang leader in Massachusetts gets 19-year prison sentence\n",
      "\n",
      "neutral: Protesters fight against homeless moving to Irvine: 'We will decide who comes into the city'\n",
      "\n",
      "neutral: Mom who let 4-year-old eat a PB&amp;J in a shopping cart branded a monster by parenting forum\n",
      "\n",
      "neutral: Sacramento police unveil new body cam policy after deadly shooting, protests\n",
      "\n"
     ]
    }
   ],
   "source": [
    "# Step 4: write code \n",
    "\n",
    "def GetSentiment(text):\n",
    "    # todo write code\n",
    "    empty_list = []\n",
    "    url = 'http://text-processing.com/api/sentiment/'\n",
    "    count = 0\n",
    "    #for items in text:\n",
    "    options = { 'text' : items} #creating a dict text = key items = value\n",
    "    response = requests.post(url, data = options) #post is take this data to apply to the end of the website\n",
    "    sentiment = response.json()  \n",
    "    count = count + 1\n",
    "    sentiment_2=(sentiment['label']+':',items + '\\n')\n",
    "    #print(count)\n",
    "    #for sentiment in range(len(empty_list)):\n",
    "    #for item in empty_list range(0,24):\n",
    "        #print(sentiment)\n",
    "    #print(sentiment)\n",
    "    return sentiment_2\n",
    "\n",
    "#25 setiments\n",
    "# testing\n",
    "for items in text:\n",
    "    something=GetSentiment(stories)\n",
    "    #for lists in something: #hello tuple wade teach me how to use tuple \n",
    "    print(something[0],something[1])"
   ]
  },
  {
   "cell_type": "code",
   "execution_count": 58,
   "metadata": {
    "collapsed": false
   },
   "outputs": [
    {
     "data": {
      "text/plain": [
       "tuple"
      ]
     },
     "execution_count": 58,
     "metadata": {},
     "output_type": "execute_result"
    }
   ],
   "source": [
    "type(something)"
   ]
  },
  {
   "cell_type": "code",
   "execution_count": 51,
   "metadata": {
    "collapsed": false,
    "scrolled": true
   },
   "outputs": [
    {
     "name": "stdout",
     "output_type": "stream",
     "text": [
      "neutral: Louisiana teacher fired after mocking autistic student in audio recording during class\n",
      "\n",
      "neutral: Alabama evangelist Acton Bowen jailed in Hoover on child sex charges involving young boy\n",
      "\n",
      "neutral: Man Hospitalized After Father Catches Him Dragging Daughter Out of Park\n",
      "\n",
      "neutral: Man who accused Indian politician of raping daughter dies in custody\n",
      "\n",
      "pos: Oil exploration banned in New Zealand\n",
      "\n",
      "neutral: Traffic camera in New Orleans giving speeding tickets to parked cars\n",
      "\n",
      "neutral: Oklahoma teachers rally at capitol as walkout enters 7th day\n",
      "\n",
      "neutral: NJ cop was hired even after stabbing wife's ex-lover 4 times\n",
      "\n",
      "neutral: Ex-Speaker John Boehner Joins Marijuana Firm’s Advisory Board\n",
      "\n",
      "neutral: Sinclair Stations Release Video Attacking CNN\n",
      "\n",
      "neutral: 70,000 students in prisons in Turkey\n",
      "\n",
      "neutral: ACLU sues to block new Kentucky law restricting abortions\n",
      "\n",
      "neutral: Judge won't block speed cameras that issued 12,000 tickets\n",
      "\n",
      "neutral: Trump signs ‘FOSTA’ bill targeting online sex trafficking, enables states and victims to pursue websites\n",
      "\n",
      "neutral: Hypnotherapist, 28, accused of having sex with 14-year-old boy\n",
      "\n",
      "neutral: Texas nurse arrested after introducing air into patient's arterial lines, leaving two dead.\n",
      "\n",
      "neutral: Walkout Day 8: Oklahoma union tells teachers that 95 percent of its funding request has been secured\n",
      "\n",
      "neutral: Cops: Border Patrol agent who told 911 he found bodies killed girlfriend, infant\n",
      "\n",
      "neutral: One million killer bees are threatening an entire neighborhood in far east El Paso, Texas\n",
      "\n",
      "neutral: Fake marijuana laced with rat poison kills 3, makes 100 sick in U.S. - National\n",
      "\n",
      "neg: Stand Up Comedy Matriarch Mitzi Shore Has Died\n",
      "\n",
      "neutral: MS-13 gang leader in Massachusetts gets 19-year prison sentence\n",
      "\n",
      "neutral: Protesters fight against homeless moving to Irvine: 'We will decide who comes into the city'\n",
      "\n",
      "neutral: Mom who let 4-year-old eat a PB&amp;J in a shopping cart branded a monster by parenting forum\n",
      "\n",
      "neutral: Sacramento police unveil new body cam policy after deadly shooting, protests\n",
      "\n",
      "25\n"
     ]
    }
   ],
   "source": [
    "url = 'http://text-processing.com/api/sentiment/'\n",
    "count = 0\n",
    "for items in text:\n",
    "    options = { 'text' : items}\n",
    "    response_2 = requests.post(url, data = options)\n",
    "    sentiment = response_2.json()\n",
    "    count = count + 1\n",
    "    print(sentiment['label']+':',items + '\\n')\n",
    "print(count)"
   ]
  },
  {
   "cell_type": "code",
   "execution_count": 26,
   "metadata": {
    "collapsed": true
   },
   "outputs": [],
   "source": [
    "text = ['Stand Up Comedy Matriarch Mitzi Shore Has Died']\n",
    "url = 'http://text-processing.com/api/sentiment/'\n",
    "options = { 'text' : text}\n",
    "response_2 = requests.post(url, data = options)\n",
    "#for option in options:\n",
    "#    print(option)\n",
    "#sentiment = response.json()    \n",
    "#for sentiment in range(len(empty_list)):\n",
    "#    print(sentiment)"
   ]
  },
  {
   "cell_type": "code",
   "execution_count": 35,
   "metadata": {
    "collapsed": true,
    "scrolled": true
   },
   "outputs": [],
   "source": [
    "#error\n",
    "#not sure what's happening. why neg neutral pos only 3?\n",
    "text = [\"Police raid illegal rave inside abandoned Toys R Us\", \n",
    "        'Louisiana teacher fired after mocking autistic student in audio recording during class', \n",
    "        'Alabama evangelist Acton Bowen jailed in Hoover on child sex charges involving young boy', \n",
    "        'Video shows U.S. agents trying to dump injured man over Mexican border', \n",
    "        'Sinclair chairman broke restraining order and allegedly threatened neighbor', \n",
    "        'Puerto Rico to get $18.5 billion to rebuild shattered housing market', \n",
    "        'Man Hospitalized After Father Catches Him Dragging Daughter Out of Park',\n",
    "        ]\n",
    "url = 'http://text-processing.com/api/sentiment/'\n",
    "options = { 'text' : text[2]}\n",
    "response_2 = requests.post(url, data = options)\n",
    "sentiment = response_2.json()"
   ]
  },
  {
   "cell_type": "code",
   "execution_count": 36,
   "metadata": {
    "collapsed": true
   },
   "outputs": [],
   "source": [
    "#error\n",
    "#not sure what's happening. why neg neutral pos only 3?\n",
    "text = stories\n",
    "url = 'http://text-processing.com/api/sentiment/'\n",
    "options = { 'text' : text}\n",
    "response_2 = requests.post(url, data = options)\n",
    "sentiment = response_2.json()"
   ]
  },
  {
   "cell_type": "code",
   "execution_count": 49,
   "metadata": {
    "collapsed": false
   },
   "outputs": [
    {
     "name": "stdout",
     "output_type": "stream",
     "text": [
      "neutral\n"
     ]
    }
   ],
   "source": [
    "print(sentiment['label'])"
   ]
  },
  {
   "cell_type": "code",
   "execution_count": 73,
   "metadata": {
    "collapsed": false
   },
   "outputs": [
    {
     "ename": "ConnectionError",
     "evalue": "HTTPConnectionPool(host='text-processing.com', port=80): Max retries exceeded with url: /api/sentiment/ (Caused by NewConnectionError('<urllib3.connection.HTTPConnection object at 0x108e00da0>: Failed to establish a new connection: [Errno 8] nodename nor servname provided, or not known',))",
     "output_type": "error",
     "traceback": [
      "\u001b[0;31m---------------------------------------------------------------------------\u001b[0m",
      "\u001b[0;31mgaierror\u001b[0m                                  Traceback (most recent call last)",
      "\u001b[0;32m~/miniconda3/lib/python3.6/site-packages/urllib3/connection.py\u001b[0m in \u001b[0;36m_new_conn\u001b[0;34m(self)\u001b[0m\n\u001b[1;32m    140\u001b[0m             conn = connection.create_connection(\n\u001b[0;32m--> 141\u001b[0;31m                 (self.host, self.port), self.timeout, **extra_kw)\n\u001b[0m\u001b[1;32m    142\u001b[0m \u001b[0;34m\u001b[0m\u001b[0m\n",
      "\u001b[0;32m~/miniconda3/lib/python3.6/site-packages/urllib3/util/connection.py\u001b[0m in \u001b[0;36mcreate_connection\u001b[0;34m(address, timeout, source_address, socket_options)\u001b[0m\n\u001b[1;32m     59\u001b[0m \u001b[0;34m\u001b[0m\u001b[0m\n\u001b[0;32m---> 60\u001b[0;31m     \u001b[0;32mfor\u001b[0m \u001b[0mres\u001b[0m \u001b[0;32min\u001b[0m \u001b[0msocket\u001b[0m\u001b[0;34m.\u001b[0m\u001b[0mgetaddrinfo\u001b[0m\u001b[0;34m(\u001b[0m\u001b[0mhost\u001b[0m\u001b[0;34m,\u001b[0m \u001b[0mport\u001b[0m\u001b[0;34m,\u001b[0m \u001b[0mfamily\u001b[0m\u001b[0;34m,\u001b[0m \u001b[0msocket\u001b[0m\u001b[0;34m.\u001b[0m\u001b[0mSOCK_STREAM\u001b[0m\u001b[0;34m)\u001b[0m\u001b[0;34m:\u001b[0m\u001b[0;34m\u001b[0m\u001b[0m\n\u001b[0m\u001b[1;32m     61\u001b[0m         \u001b[0maf\u001b[0m\u001b[0;34m,\u001b[0m \u001b[0msocktype\u001b[0m\u001b[0;34m,\u001b[0m \u001b[0mproto\u001b[0m\u001b[0;34m,\u001b[0m \u001b[0mcanonname\u001b[0m\u001b[0;34m,\u001b[0m \u001b[0msa\u001b[0m \u001b[0;34m=\u001b[0m \u001b[0mres\u001b[0m\u001b[0;34m\u001b[0m\u001b[0m\n",
      "\u001b[0;32m~/miniconda3/lib/python3.6/socket.py\u001b[0m in \u001b[0;36mgetaddrinfo\u001b[0;34m(host, port, family, type, proto, flags)\u001b[0m\n\u001b[1;32m    744\u001b[0m     \u001b[0maddrlist\u001b[0m \u001b[0;34m=\u001b[0m \u001b[0;34m[\u001b[0m\u001b[0;34m]\u001b[0m\u001b[0;34m\u001b[0m\u001b[0m\n\u001b[0;32m--> 745\u001b[0;31m     \u001b[0;32mfor\u001b[0m \u001b[0mres\u001b[0m \u001b[0;32min\u001b[0m \u001b[0m_socket\u001b[0m\u001b[0;34m.\u001b[0m\u001b[0mgetaddrinfo\u001b[0m\u001b[0;34m(\u001b[0m\u001b[0mhost\u001b[0m\u001b[0;34m,\u001b[0m \u001b[0mport\u001b[0m\u001b[0;34m,\u001b[0m \u001b[0mfamily\u001b[0m\u001b[0;34m,\u001b[0m \u001b[0mtype\u001b[0m\u001b[0;34m,\u001b[0m \u001b[0mproto\u001b[0m\u001b[0;34m,\u001b[0m \u001b[0mflags\u001b[0m\u001b[0;34m)\u001b[0m\u001b[0;34m:\u001b[0m\u001b[0;34m\u001b[0m\u001b[0m\n\u001b[0m\u001b[1;32m    746\u001b[0m         \u001b[0maf\u001b[0m\u001b[0;34m,\u001b[0m \u001b[0msocktype\u001b[0m\u001b[0;34m,\u001b[0m \u001b[0mproto\u001b[0m\u001b[0;34m,\u001b[0m \u001b[0mcanonname\u001b[0m\u001b[0;34m,\u001b[0m \u001b[0msa\u001b[0m \u001b[0;34m=\u001b[0m \u001b[0mres\u001b[0m\u001b[0;34m\u001b[0m\u001b[0m\n",
      "\u001b[0;31mgaierror\u001b[0m: [Errno 8] nodename nor servname provided, or not known",
      "\nDuring handling of the above exception, another exception occurred:\n",
      "\u001b[0;31mNewConnectionError\u001b[0m                        Traceback (most recent call last)",
      "\u001b[0;32m~/miniconda3/lib/python3.6/site-packages/urllib3/connectionpool.py\u001b[0m in \u001b[0;36murlopen\u001b[0;34m(self, method, url, body, headers, retries, redirect, assert_same_host, timeout, pool_timeout, release_conn, chunked, body_pos, **response_kw)\u001b[0m\n\u001b[1;32m    600\u001b[0m                                                   \u001b[0mbody\u001b[0m\u001b[0;34m=\u001b[0m\u001b[0mbody\u001b[0m\u001b[0;34m,\u001b[0m \u001b[0mheaders\u001b[0m\u001b[0;34m=\u001b[0m\u001b[0mheaders\u001b[0m\u001b[0;34m,\u001b[0m\u001b[0;34m\u001b[0m\u001b[0m\n\u001b[0;32m--> 601\u001b[0;31m                                                   chunked=chunked)\n\u001b[0m\u001b[1;32m    602\u001b[0m \u001b[0;34m\u001b[0m\u001b[0m\n",
      "\u001b[0;32m~/miniconda3/lib/python3.6/site-packages/urllib3/connectionpool.py\u001b[0m in \u001b[0;36m_make_request\u001b[0;34m(self, conn, method, url, timeout, chunked, **httplib_request_kw)\u001b[0m\n\u001b[1;32m    356\u001b[0m         \u001b[0;32melse\u001b[0m\u001b[0;34m:\u001b[0m\u001b[0;34m\u001b[0m\u001b[0m\n\u001b[0;32m--> 357\u001b[0;31m             \u001b[0mconn\u001b[0m\u001b[0;34m.\u001b[0m\u001b[0mrequest\u001b[0m\u001b[0;34m(\u001b[0m\u001b[0mmethod\u001b[0m\u001b[0;34m,\u001b[0m \u001b[0murl\u001b[0m\u001b[0;34m,\u001b[0m \u001b[0;34m**\u001b[0m\u001b[0mhttplib_request_kw\u001b[0m\u001b[0;34m)\u001b[0m\u001b[0;34m\u001b[0m\u001b[0m\n\u001b[0m\u001b[1;32m    358\u001b[0m \u001b[0;34m\u001b[0m\u001b[0m\n",
      "\u001b[0;32m~/miniconda3/lib/python3.6/http/client.py\u001b[0m in \u001b[0;36mrequest\u001b[0;34m(self, method, url, body, headers, encode_chunked)\u001b[0m\n\u001b[1;32m   1238\u001b[0m         \u001b[0;34m\"\"\"Send a complete request to the server.\"\"\"\u001b[0m\u001b[0;34m\u001b[0m\u001b[0m\n\u001b[0;32m-> 1239\u001b[0;31m         \u001b[0mself\u001b[0m\u001b[0;34m.\u001b[0m\u001b[0m_send_request\u001b[0m\u001b[0;34m(\u001b[0m\u001b[0mmethod\u001b[0m\u001b[0;34m,\u001b[0m \u001b[0murl\u001b[0m\u001b[0;34m,\u001b[0m \u001b[0mbody\u001b[0m\u001b[0;34m,\u001b[0m \u001b[0mheaders\u001b[0m\u001b[0;34m,\u001b[0m \u001b[0mencode_chunked\u001b[0m\u001b[0;34m)\u001b[0m\u001b[0;34m\u001b[0m\u001b[0m\n\u001b[0m\u001b[1;32m   1240\u001b[0m \u001b[0;34m\u001b[0m\u001b[0m\n",
      "\u001b[0;32m~/miniconda3/lib/python3.6/http/client.py\u001b[0m in \u001b[0;36m_send_request\u001b[0;34m(self, method, url, body, headers, encode_chunked)\u001b[0m\n\u001b[1;32m   1284\u001b[0m             \u001b[0mbody\u001b[0m \u001b[0;34m=\u001b[0m \u001b[0m_encode\u001b[0m\u001b[0;34m(\u001b[0m\u001b[0mbody\u001b[0m\u001b[0;34m,\u001b[0m \u001b[0;34m'body'\u001b[0m\u001b[0;34m)\u001b[0m\u001b[0;34m\u001b[0m\u001b[0m\n\u001b[0;32m-> 1285\u001b[0;31m         \u001b[0mself\u001b[0m\u001b[0;34m.\u001b[0m\u001b[0mendheaders\u001b[0m\u001b[0;34m(\u001b[0m\u001b[0mbody\u001b[0m\u001b[0;34m,\u001b[0m \u001b[0mencode_chunked\u001b[0m\u001b[0;34m=\u001b[0m\u001b[0mencode_chunked\u001b[0m\u001b[0;34m)\u001b[0m\u001b[0;34m\u001b[0m\u001b[0m\n\u001b[0m\u001b[1;32m   1286\u001b[0m \u001b[0;34m\u001b[0m\u001b[0m\n",
      "\u001b[0;32m~/miniconda3/lib/python3.6/http/client.py\u001b[0m in \u001b[0;36mendheaders\u001b[0;34m(self, message_body, encode_chunked)\u001b[0m\n\u001b[1;32m   1233\u001b[0m             \u001b[0;32mraise\u001b[0m \u001b[0mCannotSendHeader\u001b[0m\u001b[0;34m(\u001b[0m\u001b[0;34m)\u001b[0m\u001b[0;34m\u001b[0m\u001b[0m\n\u001b[0;32m-> 1234\u001b[0;31m         \u001b[0mself\u001b[0m\u001b[0;34m.\u001b[0m\u001b[0m_send_output\u001b[0m\u001b[0;34m(\u001b[0m\u001b[0mmessage_body\u001b[0m\u001b[0;34m,\u001b[0m \u001b[0mencode_chunked\u001b[0m\u001b[0;34m=\u001b[0m\u001b[0mencode_chunked\u001b[0m\u001b[0;34m)\u001b[0m\u001b[0;34m\u001b[0m\u001b[0m\n\u001b[0m\u001b[1;32m   1235\u001b[0m \u001b[0;34m\u001b[0m\u001b[0m\n",
      "\u001b[0;32m~/miniconda3/lib/python3.6/http/client.py\u001b[0m in \u001b[0;36m_send_output\u001b[0;34m(self, message_body, encode_chunked)\u001b[0m\n\u001b[1;32m   1025\u001b[0m         \u001b[0;32mdel\u001b[0m \u001b[0mself\u001b[0m\u001b[0;34m.\u001b[0m\u001b[0m_buffer\u001b[0m\u001b[0;34m[\u001b[0m\u001b[0;34m:\u001b[0m\u001b[0;34m]\u001b[0m\u001b[0;34m\u001b[0m\u001b[0m\n\u001b[0;32m-> 1026\u001b[0;31m         \u001b[0mself\u001b[0m\u001b[0;34m.\u001b[0m\u001b[0msend\u001b[0m\u001b[0;34m(\u001b[0m\u001b[0mmsg\u001b[0m\u001b[0;34m)\u001b[0m\u001b[0;34m\u001b[0m\u001b[0m\n\u001b[0m\u001b[1;32m   1027\u001b[0m \u001b[0;34m\u001b[0m\u001b[0m\n",
      "\u001b[0;32m~/miniconda3/lib/python3.6/http/client.py\u001b[0m in \u001b[0;36msend\u001b[0;34m(self, data)\u001b[0m\n\u001b[1;32m    963\u001b[0m             \u001b[0;32mif\u001b[0m \u001b[0mself\u001b[0m\u001b[0;34m.\u001b[0m\u001b[0mauto_open\u001b[0m\u001b[0;34m:\u001b[0m\u001b[0;34m\u001b[0m\u001b[0m\n\u001b[0;32m--> 964\u001b[0;31m                 \u001b[0mself\u001b[0m\u001b[0;34m.\u001b[0m\u001b[0mconnect\u001b[0m\u001b[0;34m(\u001b[0m\u001b[0;34m)\u001b[0m\u001b[0;34m\u001b[0m\u001b[0m\n\u001b[0m\u001b[1;32m    965\u001b[0m             \u001b[0;32melse\u001b[0m\u001b[0;34m:\u001b[0m\u001b[0;34m\u001b[0m\u001b[0m\n",
      "\u001b[0;32m~/miniconda3/lib/python3.6/site-packages/urllib3/connection.py\u001b[0m in \u001b[0;36mconnect\u001b[0;34m(self)\u001b[0m\n\u001b[1;32m    165\u001b[0m     \u001b[0;32mdef\u001b[0m \u001b[0mconnect\u001b[0m\u001b[0;34m(\u001b[0m\u001b[0mself\u001b[0m\u001b[0;34m)\u001b[0m\u001b[0;34m:\u001b[0m\u001b[0;34m\u001b[0m\u001b[0m\n\u001b[0;32m--> 166\u001b[0;31m         \u001b[0mconn\u001b[0m \u001b[0;34m=\u001b[0m \u001b[0mself\u001b[0m\u001b[0;34m.\u001b[0m\u001b[0m_new_conn\u001b[0m\u001b[0;34m(\u001b[0m\u001b[0;34m)\u001b[0m\u001b[0;34m\u001b[0m\u001b[0m\n\u001b[0m\u001b[1;32m    167\u001b[0m         \u001b[0mself\u001b[0m\u001b[0;34m.\u001b[0m\u001b[0m_prepare_conn\u001b[0m\u001b[0;34m(\u001b[0m\u001b[0mconn\u001b[0m\u001b[0;34m)\u001b[0m\u001b[0;34m\u001b[0m\u001b[0m\n",
      "\u001b[0;32m~/miniconda3/lib/python3.6/site-packages/urllib3/connection.py\u001b[0m in \u001b[0;36m_new_conn\u001b[0;34m(self)\u001b[0m\n\u001b[1;32m    149\u001b[0m             raise NewConnectionError(\n\u001b[0;32m--> 150\u001b[0;31m                 self, \"Failed to establish a new connection: %s\" % e)\n\u001b[0m\u001b[1;32m    151\u001b[0m \u001b[0;34m\u001b[0m\u001b[0m\n",
      "\u001b[0;31mNewConnectionError\u001b[0m: <urllib3.connection.HTTPConnection object at 0x108e00da0>: Failed to establish a new connection: [Errno 8] nodename nor servname provided, or not known",
      "\nDuring handling of the above exception, another exception occurred:\n",
      "\u001b[0;31mMaxRetryError\u001b[0m                             Traceback (most recent call last)",
      "\u001b[0;32m~/miniconda3/lib/python3.6/site-packages/requests/adapters.py\u001b[0m in \u001b[0;36msend\u001b[0;34m(self, request, stream, timeout, verify, cert, proxies)\u001b[0m\n\u001b[1;32m    439\u001b[0m                     \u001b[0mretries\u001b[0m\u001b[0;34m=\u001b[0m\u001b[0mself\u001b[0m\u001b[0;34m.\u001b[0m\u001b[0mmax_retries\u001b[0m\u001b[0;34m,\u001b[0m\u001b[0;34m\u001b[0m\u001b[0m\n\u001b[0;32m--> 440\u001b[0;31m                     \u001b[0mtimeout\u001b[0m\u001b[0;34m=\u001b[0m\u001b[0mtimeout\u001b[0m\u001b[0;34m\u001b[0m\u001b[0m\n\u001b[0m\u001b[1;32m    441\u001b[0m                 )\n",
      "\u001b[0;32m~/miniconda3/lib/python3.6/site-packages/urllib3/connectionpool.py\u001b[0m in \u001b[0;36murlopen\u001b[0;34m(self, method, url, body, headers, retries, redirect, assert_same_host, timeout, pool_timeout, release_conn, chunked, body_pos, **response_kw)\u001b[0m\n\u001b[1;32m    638\u001b[0m             retries = retries.increment(method, url, error=e, _pool=self,\n\u001b[0;32m--> 639\u001b[0;31m                                         _stacktrace=sys.exc_info()[2])\n\u001b[0m\u001b[1;32m    640\u001b[0m             \u001b[0mretries\u001b[0m\u001b[0;34m.\u001b[0m\u001b[0msleep\u001b[0m\u001b[0;34m(\u001b[0m\u001b[0;34m)\u001b[0m\u001b[0;34m\u001b[0m\u001b[0m\n",
      "\u001b[0;32m~/miniconda3/lib/python3.6/site-packages/urllib3/util/retry.py\u001b[0m in \u001b[0;36mincrement\u001b[0;34m(self, method, url, response, error, _pool, _stacktrace)\u001b[0m\n\u001b[1;32m    387\u001b[0m         \u001b[0;32mif\u001b[0m \u001b[0mnew_retry\u001b[0m\u001b[0;34m.\u001b[0m\u001b[0mis_exhausted\u001b[0m\u001b[0;34m(\u001b[0m\u001b[0;34m)\u001b[0m\u001b[0;34m:\u001b[0m\u001b[0;34m\u001b[0m\u001b[0m\n\u001b[0;32m--> 388\u001b[0;31m             \u001b[0;32mraise\u001b[0m \u001b[0mMaxRetryError\u001b[0m\u001b[0;34m(\u001b[0m\u001b[0m_pool\u001b[0m\u001b[0;34m,\u001b[0m \u001b[0murl\u001b[0m\u001b[0;34m,\u001b[0m \u001b[0merror\u001b[0m \u001b[0;32mor\u001b[0m \u001b[0mResponseError\u001b[0m\u001b[0;34m(\u001b[0m\u001b[0mcause\u001b[0m\u001b[0;34m)\u001b[0m\u001b[0;34m)\u001b[0m\u001b[0;34m\u001b[0m\u001b[0m\n\u001b[0m\u001b[1;32m    389\u001b[0m \u001b[0;34m\u001b[0m\u001b[0m\n",
      "\u001b[0;31mMaxRetryError\u001b[0m: HTTPConnectionPool(host='text-processing.com', port=80): Max retries exceeded with url: /api/sentiment/ (Caused by NewConnectionError('<urllib3.connection.HTTPConnection object at 0x108e00da0>: Failed to establish a new connection: [Errno 8] nodename nor servname provided, or not known',))",
      "\nDuring handling of the above exception, another exception occurred:\n",
      "\u001b[0;31mConnectionError\u001b[0m                           Traceback (most recent call last)",
      "\u001b[0;32m<ipython-input-73-7f4a19d9509a>\u001b[0m in \u001b[0;36m<module>\u001b[0;34m()\u001b[0m\n\u001b[1;32m      3\u001b[0m \u001b[0;32mfor\u001b[0m \u001b[0mitems\u001b[0m \u001b[0;32min\u001b[0m \u001b[0mtext\u001b[0m\u001b[0;34m:\u001b[0m\u001b[0;34m\u001b[0m\u001b[0m\n\u001b[1;32m      4\u001b[0m     \u001b[0moptions\u001b[0m \u001b[0;34m=\u001b[0m \u001b[0;34m{\u001b[0m \u001b[0;34m'text'\u001b[0m \u001b[0;34m:\u001b[0m \u001b[0mitems\u001b[0m\u001b[0;34m}\u001b[0m\u001b[0;34m\u001b[0m\u001b[0m\n\u001b[0;32m----> 5\u001b[0;31m     \u001b[0mresponse_2\u001b[0m \u001b[0;34m=\u001b[0m \u001b[0mrequests\u001b[0m\u001b[0;34m.\u001b[0m\u001b[0mpost\u001b[0m\u001b[0;34m(\u001b[0m\u001b[0murl\u001b[0m\u001b[0;34m,\u001b[0m \u001b[0mdata\u001b[0m \u001b[0;34m=\u001b[0m \u001b[0moptions\u001b[0m\u001b[0;34m)\u001b[0m\u001b[0;34m\u001b[0m\u001b[0m\n\u001b[0m\u001b[1;32m      6\u001b[0m     \u001b[0msentiment\u001b[0m \u001b[0;34m=\u001b[0m \u001b[0mresponse_2\u001b[0m\u001b[0;34m.\u001b[0m\u001b[0mjson\u001b[0m\u001b[0;34m(\u001b[0m\u001b[0;34m)\u001b[0m\u001b[0;34m\u001b[0m\u001b[0m\n\u001b[1;32m      7\u001b[0m     \u001b[0mcount\u001b[0m \u001b[0;34m=\u001b[0m \u001b[0mcount\u001b[0m \u001b[0;34m+\u001b[0m \u001b[0;36m1\u001b[0m\u001b[0;34m\u001b[0m\u001b[0m\n",
      "\u001b[0;32m~/miniconda3/lib/python3.6/site-packages/requests/api.py\u001b[0m in \u001b[0;36mpost\u001b[0;34m(url, data, json, **kwargs)\u001b[0m\n\u001b[1;32m    110\u001b[0m     \"\"\"\n\u001b[1;32m    111\u001b[0m \u001b[0;34m\u001b[0m\u001b[0m\n\u001b[0;32m--> 112\u001b[0;31m     \u001b[0;32mreturn\u001b[0m \u001b[0mrequest\u001b[0m\u001b[0;34m(\u001b[0m\u001b[0;34m'post'\u001b[0m\u001b[0;34m,\u001b[0m \u001b[0murl\u001b[0m\u001b[0;34m,\u001b[0m \u001b[0mdata\u001b[0m\u001b[0;34m=\u001b[0m\u001b[0mdata\u001b[0m\u001b[0;34m,\u001b[0m \u001b[0mjson\u001b[0m\u001b[0;34m=\u001b[0m\u001b[0mjson\u001b[0m\u001b[0;34m,\u001b[0m \u001b[0;34m**\u001b[0m\u001b[0mkwargs\u001b[0m\u001b[0;34m)\u001b[0m\u001b[0;34m\u001b[0m\u001b[0m\n\u001b[0m\u001b[1;32m    113\u001b[0m \u001b[0;34m\u001b[0m\u001b[0m\n\u001b[1;32m    114\u001b[0m \u001b[0;34m\u001b[0m\u001b[0m\n",
      "\u001b[0;32m~/miniconda3/lib/python3.6/site-packages/requests/api.py\u001b[0m in \u001b[0;36mrequest\u001b[0;34m(method, url, **kwargs)\u001b[0m\n\u001b[1;32m     56\u001b[0m     \u001b[0;31m# cases, and look like a memory leak in others.\u001b[0m\u001b[0;34m\u001b[0m\u001b[0;34m\u001b[0m\u001b[0m\n\u001b[1;32m     57\u001b[0m     \u001b[0;32mwith\u001b[0m \u001b[0msessions\u001b[0m\u001b[0;34m.\u001b[0m\u001b[0mSession\u001b[0m\u001b[0;34m(\u001b[0m\u001b[0;34m)\u001b[0m \u001b[0;32mas\u001b[0m \u001b[0msession\u001b[0m\u001b[0;34m:\u001b[0m\u001b[0;34m\u001b[0m\u001b[0m\n\u001b[0;32m---> 58\u001b[0;31m         \u001b[0;32mreturn\u001b[0m \u001b[0msession\u001b[0m\u001b[0;34m.\u001b[0m\u001b[0mrequest\u001b[0m\u001b[0;34m(\u001b[0m\u001b[0mmethod\u001b[0m\u001b[0;34m=\u001b[0m\u001b[0mmethod\u001b[0m\u001b[0;34m,\u001b[0m \u001b[0murl\u001b[0m\u001b[0;34m=\u001b[0m\u001b[0murl\u001b[0m\u001b[0;34m,\u001b[0m \u001b[0;34m**\u001b[0m\u001b[0mkwargs\u001b[0m\u001b[0;34m)\u001b[0m\u001b[0;34m\u001b[0m\u001b[0m\n\u001b[0m\u001b[1;32m     59\u001b[0m \u001b[0;34m\u001b[0m\u001b[0m\n\u001b[1;32m     60\u001b[0m \u001b[0;34m\u001b[0m\u001b[0m\n",
      "\u001b[0;32m~/miniconda3/lib/python3.6/site-packages/requests/sessions.py\u001b[0m in \u001b[0;36mrequest\u001b[0;34m(self, method, url, params, data, headers, cookies, files, auth, timeout, allow_redirects, proxies, hooks, stream, verify, cert, json)\u001b[0m\n\u001b[1;32m    506\u001b[0m         }\n\u001b[1;32m    507\u001b[0m         \u001b[0msend_kwargs\u001b[0m\u001b[0;34m.\u001b[0m\u001b[0mupdate\u001b[0m\u001b[0;34m(\u001b[0m\u001b[0msettings\u001b[0m\u001b[0;34m)\u001b[0m\u001b[0;34m\u001b[0m\u001b[0m\n\u001b[0;32m--> 508\u001b[0;31m         \u001b[0mresp\u001b[0m \u001b[0;34m=\u001b[0m \u001b[0mself\u001b[0m\u001b[0;34m.\u001b[0m\u001b[0msend\u001b[0m\u001b[0;34m(\u001b[0m\u001b[0mprep\u001b[0m\u001b[0;34m,\u001b[0m \u001b[0;34m**\u001b[0m\u001b[0msend_kwargs\u001b[0m\u001b[0;34m)\u001b[0m\u001b[0;34m\u001b[0m\u001b[0m\n\u001b[0m\u001b[1;32m    509\u001b[0m \u001b[0;34m\u001b[0m\u001b[0m\n\u001b[1;32m    510\u001b[0m         \u001b[0;32mreturn\u001b[0m \u001b[0mresp\u001b[0m\u001b[0;34m\u001b[0m\u001b[0m\n",
      "\u001b[0;32m~/miniconda3/lib/python3.6/site-packages/requests/sessions.py\u001b[0m in \u001b[0;36msend\u001b[0;34m(self, request, **kwargs)\u001b[0m\n\u001b[1;32m    616\u001b[0m \u001b[0;34m\u001b[0m\u001b[0m\n\u001b[1;32m    617\u001b[0m         \u001b[0;31m# Send the request\u001b[0m\u001b[0;34m\u001b[0m\u001b[0;34m\u001b[0m\u001b[0m\n\u001b[0;32m--> 618\u001b[0;31m         \u001b[0mr\u001b[0m \u001b[0;34m=\u001b[0m \u001b[0madapter\u001b[0m\u001b[0;34m.\u001b[0m\u001b[0msend\u001b[0m\u001b[0;34m(\u001b[0m\u001b[0mrequest\u001b[0m\u001b[0;34m,\u001b[0m \u001b[0;34m**\u001b[0m\u001b[0mkwargs\u001b[0m\u001b[0;34m)\u001b[0m\u001b[0;34m\u001b[0m\u001b[0m\n\u001b[0m\u001b[1;32m    619\u001b[0m \u001b[0;34m\u001b[0m\u001b[0m\n\u001b[1;32m    620\u001b[0m         \u001b[0;31m# Total elapsed time of the request (approximately)\u001b[0m\u001b[0;34m\u001b[0m\u001b[0;34m\u001b[0m\u001b[0m\n",
      "\u001b[0;32m~/miniconda3/lib/python3.6/site-packages/requests/adapters.py\u001b[0m in \u001b[0;36msend\u001b[0;34m(self, request, stream, timeout, verify, cert, proxies)\u001b[0m\n\u001b[1;32m    506\u001b[0m                 \u001b[0;32mraise\u001b[0m \u001b[0mSSLError\u001b[0m\u001b[0;34m(\u001b[0m\u001b[0me\u001b[0m\u001b[0;34m,\u001b[0m \u001b[0mrequest\u001b[0m\u001b[0;34m=\u001b[0m\u001b[0mrequest\u001b[0m\u001b[0;34m)\u001b[0m\u001b[0;34m\u001b[0m\u001b[0m\n\u001b[1;32m    507\u001b[0m \u001b[0;34m\u001b[0m\u001b[0m\n\u001b[0;32m--> 508\u001b[0;31m             \u001b[0;32mraise\u001b[0m \u001b[0mConnectionError\u001b[0m\u001b[0;34m(\u001b[0m\u001b[0me\u001b[0m\u001b[0;34m,\u001b[0m \u001b[0mrequest\u001b[0m\u001b[0;34m=\u001b[0m\u001b[0mrequest\u001b[0m\u001b[0;34m)\u001b[0m\u001b[0;34m\u001b[0m\u001b[0m\n\u001b[0m\u001b[1;32m    509\u001b[0m \u001b[0;34m\u001b[0m\u001b[0m\n\u001b[1;32m    510\u001b[0m         \u001b[0;32mexcept\u001b[0m \u001b[0mClosedPoolError\u001b[0m \u001b[0;32mas\u001b[0m \u001b[0me\u001b[0m\u001b[0;34m:\u001b[0m\u001b[0;34m\u001b[0m\u001b[0m\n",
      "\u001b[0;31mConnectionError\u001b[0m: HTTPConnectionPool(host='text-processing.com', port=80): Max retries exceeded with url: /api/sentiment/ (Caused by NewConnectionError('<urllib3.connection.HTTPConnection object at 0x108e00da0>: Failed to establish a new connection: [Errno 8] nodename nor servname provided, or not known',))"
     ]
    }
   ],
   "source": [
    "url = 'http://text-processing.com/api/sentiment/'\n",
    "count = 0\n",
    "for items in text:\n",
    "    options = { 'text' : items}\n",
    "    response_2 = requests.post(url, data = options)\n",
    "    sentiment = response_2.json()\n",
    "    count = count + 1\n",
    "    print(sentiment,items + '\\n')\n",
    "print(count)"
   ]
  },
  {
   "cell_type": "code",
   "execution_count": 74,
   "metadata": {
    "collapsed": false
   },
   "outputs": [
    {
     "data": {
      "text/plain": [
       "'{\"probability\": {\"neg\": 0.58545830145453914, \"neutral\": 0.68897889443934535, \"pos\": 0.4145416985454608}, \"label\": \"neutral\"}'"
      ]
     },
     "execution_count": 74,
     "metadata": {},
     "output_type": "execute_result"
    }
   ],
   "source": [
    "response_2.text"
   ]
  },
  {
   "cell_type": "code",
   "execution_count": 75,
   "metadata": {
    "collapsed": false
   },
   "outputs": [
    {
     "data": {
      "text/plain": [
       "200"
      ]
     },
     "execution_count": 75,
     "metadata": {},
     "output_type": "execute_result"
    }
   ],
   "source": [
    "response_2.status_code\n"
   ]
  },
  {
   "cell_type": "code",
   "execution_count": 76,
   "metadata": {
    "collapsed": false
   },
   "outputs": [
    {
     "data": {
      "text/plain": [
       "list"
      ]
     },
     "execution_count": 76,
     "metadata": {},
     "output_type": "execute_result"
    }
   ],
   "source": [
    "type(text)"
   ]
  },
  {
   "cell_type": "code",
   "execution_count": 77,
   "metadata": {
    "collapsed": false
   },
   "outputs": [
    {
     "data": {
      "text/plain": [
       "True"
      ]
     },
     "execution_count": 77,
     "metadata": {},
     "output_type": "execute_result"
    }
   ],
   "source": [
    "response_2.ok"
   ]
  },
  {
   "cell_type": "markdown",
   "metadata": {},
   "source": [
    "## Step 5: Problem Analysis for entire program\n",
    "\n",
    "Now let's write entire program.  This program should take the titles of the Reddit stories and for each one run sentiment analysis on it. It should output the sentiment label and story title, like this:\n",
    "\n",
    "Example Run (Your output will vary as news stories change...)\n",
    "\n",
    "```\n",
    "neutral : FBI Chief Comey 'Rejects' Phone Tap Allegation\n",
    "pos : New Peeps-flavored Oreos reportedly turning people's poop pink\n",
    "neutral : President Trump Signs Revised Travel Ban Executive Order\n",
    "neutral : Police: Overdose survivors to be charged with misdemeanor\n",
    "neutral : Struggling students forced to wait 3-4 weeks as Utah's public colleges don't have enough mental health therapists\n",
    "neutral : Army Veteran Faces Possible Deportation to Mexico\n",
    "neutral : Rep. Scott Taylor called out at town hall for ‘blocking’ constituents on social media\n",
    "neutral : GM to suspend third shift at Delta Township plant, layoff 1,100 workers\n",
    "neutral : American citizen Khizr Khan reportedly cancels trip to Canada after being warned his 'travel privileges are being reviewed'\n",
    "neg : Mars far more likely to have had life than we thought, researchers find after new water discovery\n",
    "neutral : Bird Flu Found at U.S. Farm That Supplies Chickens to Tyson\n",
    "neutral : Investigation Reveals Huge Volume of Shark Fins Evading International Shipping Bans\n",
    "neg : Sikh man's shooting in Washington investigated as hate crime\n",
    "```\n",
    "\n",
    "### Problem Analysis\n",
    "\n",
    "Inputs: (Reads current stories from Reddit)\n",
    "\n",
    "Outputs: Sentiment Label and story title for each story.\n",
    "\n",
    "Algorithm (Steps in Program):\n",
    "\n",
    "```\n",
    "todo write algorithm here\n",
    "```\n"
   ]
  },
  {
   "cell_type": "code",
   "execution_count": 79,
   "metadata": {
    "collapsed": false,
    "scrolled": false
   },
   "outputs": [
    {
     "name": "stdout",
     "output_type": "stream",
     "text": [
      "neutral: Louisiana teacher fired after mocking autistic student in audio recording during class\n",
      "\n",
      "neutral: Alabama evangelist Acton Bowen jailed in Hoover on child sex charges involving young boy\n",
      "\n",
      "neutral: Man Hospitalized After Father Catches Him Dragging Daughter Out of Park\n",
      "\n",
      "neutral: Man who accused Indian politician of raping daughter dies in custody\n",
      "\n",
      "pos: Oil exploration banned in New Zealand\n",
      "\n",
      "neutral: Traffic camera in New Orleans giving speeding tickets to parked cars\n",
      "\n",
      "neutral: Oklahoma teachers rally at capitol as walkout enters 7th day\n",
      "\n",
      "neutral: NJ cop was hired even after stabbing wife's ex-lover 4 times\n",
      "\n",
      "neutral: Ex-Speaker John Boehner Joins Marijuana Firm’s Advisory Board\n",
      "\n",
      "neutral: Sinclair Stations Release Video Attacking CNN\n",
      "\n",
      "neutral: 70,000 students in prisons in Turkey\n",
      "\n",
      "neutral: ACLU sues to block new Kentucky law restricting abortions\n",
      "\n",
      "neutral: Judge won't block speed cameras that issued 12,000 tickets\n",
      "\n",
      "neutral: Trump signs ‘FOSTA’ bill targeting online sex trafficking, enables states and victims to pursue websites\n",
      "\n",
      "neutral: Hypnotherapist, 28, accused of having sex with 14-year-old boy\n",
      "\n",
      "neutral: Texas nurse arrested after introducing air into patient's arterial lines, leaving two dead.\n",
      "\n",
      "neutral: Walkout Day 8: Oklahoma union tells teachers that 95 percent of its funding request has been secured\n",
      "\n",
      "neutral: Cops: Border Patrol agent who told 911 he found bodies killed girlfriend, infant\n",
      "\n",
      "neutral: One million killer bees are threatening an entire neighborhood in far east El Paso, Texas\n",
      "\n",
      "neutral: Fake marijuana laced with rat poison kills 3, makes 100 sick in U.S. - National\n",
      "\n",
      "neg: Stand Up Comedy Matriarch Mitzi Shore Has Died\n",
      "\n",
      "neutral: MS-13 gang leader in Massachusetts gets 19-year prison sentence\n",
      "\n",
      "neutral: Protesters fight against homeless moving to Irvine: 'We will decide who comes into the city'\n",
      "\n",
      "neutral: Mom who let 4-year-old eat a PB&amp;J in a shopping cart branded a monster by parenting forum\n",
      "\n",
      "neutral: Sacramento police unveil new body cam policy after deadly shooting, protests\n",
      "\n"
     ]
    }
   ],
   "source": [
    "## Step 6 Write final program here\n",
    "\n",
    "#stories = GetRedditStories()\n",
    "#for story in stories['data']['children']:\n",
    "#    title = story['data']['title']\n",
    "#    sentiment = GetSentiment(title)\n",
    "#    print(sentiment['label'],':', title)\n",
    "    \n",
    "###################################\n",
    "\n",
    "# Step 2: write code \n",
    "\n",
    "#User-Agent = <jupyternotebook>:<3.5.7>:<anaconda> (by /u/<etdon>)\n",
    "\n",
    "import requests\n",
    "import json\n",
    "def GetRedditStories():\n",
    "    # todo write code\n",
    "    \n",
    "    url = 'https://www.reddit.com/r/news/top.json'\n",
    "    response = requests.get(url, headers = {'User-Agent' : 'reddit_news_sentiment_analysis'})\n",
    "    stories = response.json()   \n",
    "    count = 0\n",
    "    story_object = stories['data']['children']\n",
    "    stories_list = []\n",
    "    for titles in story_object:\n",
    "        stories_list.append(titles['data']['title'])\n",
    "        \n",
    "        #count = count + 1\n",
    "    \n",
    "    return stories_list\n",
    "\n",
    "\n",
    "\n",
    "# testing \n",
    "stories=GetRedditStories() # you should see some stories\n",
    "#print(stories)\n",
    "#for items in stories:\n",
    "#    print(items + '\\n')\n",
    "#\n",
    "#for items in stories:\n",
    "#    print(sentiment)\n",
    "\n",
    "\n",
    "def GetSentiment(text):\n",
    "    # todo write code\n",
    "    empty_list = []\n",
    "    url = 'http://text-processing.com/api/sentiment/'\n",
    "    count = 0\n",
    "    #for items in text:\n",
    "    options = { 'text' : items} #creating a dict text = key items = value\n",
    "    response = requests.post(url, data = options) #post is take this data to apply to the end of the website\n",
    "    sentiment = response.json()  \n",
    "    count = count + 1\n",
    "    sentiment_2=(sentiment['label']+':',items + '\\n')\n",
    "    #print(count)\n",
    "    #for sentiment in range(len(empty_list)):\n",
    "    #for item in empty_list range(0,24):\n",
    "        #print(sentiment)\n",
    "    #print(sentiment)\n",
    "    return sentiment_2\n",
    "\n",
    "#25 setiments\n",
    "# testing\n",
    "for items in text:\n",
    "    final_title=GetSentiment(stories)\n",
    "    #for lists in something: #hello tuple wade teach me how to use tuple \n",
    "    print(final_title[0],final_title[1])"
   ]
  },
  {
   "cell_type": "markdown",
   "metadata": {},
   "source": [
    "## Step 7: Questions\n",
    "\n",
    "1. What happens to this program when you do not have connectivity to the Internet? How can this code be modified to correct the issue?\n",
    "- this creates a connection error \n",
    "- save the text from reddit into a file\n",
    "- save the api to a file\n",
    "\n",
    "\n",
    "2. Most of the news stories come back with a neutral sentiment score. Does this surprise you? Explain your answer.\n",
    "\n",
    "- i actually did not read the question before running, therefore it is super suprising and i paniced did i call the api wrong. \n",
    "\n",
    "3. In what ways can this program be made better / more useful?\n",
    "\n",
    "- this program can be made better to not only call reddit api but also other apis from other services in the function. For now, the function is limited to calling only reddit titles. Furthermore, we can implement to social media so they can anlayze hate speeches and what are not hate speeches and filter them. "
   ]
  },
  {
   "cell_type": "code",
   "execution_count": 52,
   "metadata": {
    "collapsed": false
   },
   "outputs": [
    {
     "name": "stdout",
     "output_type": "stream",
     "text": [
      "neutral: Dead sperm whale found with 30 kilograms of trash in digestive system\n",
      "\n",
      "neutral: Alabama evangelist Acton Bowen jailed in Hoover on child sex charges involving young boy\n",
      "\n",
      "neutral: Man who accused Indian politician of raping daughter dies in custody\n",
      "\n",
      "neutral: Man Hospitalized After Father Catches Him Dragging Daughter Out of Park\n",
      "\n",
      "pos: Oil exploration banned in New Zealand\n",
      "\n",
      "neutral: Sinclair Stations Release Video Attacking CNN\n",
      "\n",
      "neutral: Texas nurse arrested after introducing air into patient's arterial lines, leaving two dead.\n",
      "\n",
      "neutral: Trump signs ‘FOSTA’ bill targeting online sex trafficking, enables states and victims to pursue websites\n",
      "\n",
      "neutral: Fake marijuana laced with rat poison kills 3, makes 100 sick in U.S. - National\n",
      "\n",
      "neutral: Cops: Border Patrol agent who told 911 he found bodies killed girlfriend, infant\n",
      "\n",
      "neutral: One million killer bees are threatening an entire neighborhood in far east El Paso, Texas\n",
      "\n",
      "neutral: Mom who let 4-year-old eat a PB&amp;J in a shopping cart branded a monster by parenting forum\n",
      "\n",
      "neutral: Marjory Stoneman Douglas teacher charged after leaving gun in public restroom\n",
      "\n",
      "neutral: Alberta student discovers salty Nunavut lakes under 700 metres of ice, a first for our planet\n",
      "\n",
      "neutral: He beat a puppy to death, and tried to make money off its pain, for veterinary bills from a GoFundMe page\n",
      "\n",
      "neg: 'I just like killing': Valdosta Airman guilty of killing female service member\n",
      "\n",
      "neutral: New Jersey man vomits 32 bags of heroin in jail.\n",
      "\n",
      "neutral: Kevin Spacey sex crimes case under review\n",
      "\n",
      "neutral: Man who claimed boss dubbed ‘Mr Stinky’ would ‘lift his bum and fart’ on him loses $1.8 million case\n",
      "\n",
      "neutral: Inspectors back UK in spy poisoning row\n",
      "\n",
      "neutral: Drug testing plan considered for some food stamp recipients\n",
      "\n",
      "neutral: Argentinian officers fired after claiming mice ate half a ton of missing marijuana | World news\n",
      "\n",
      "neutral: Police: Student faked kidnapping to scam parents for $85K ransom\n",
      "\n",
      "neg: Missing hyphens will make it hard for some people to vote in U.S. election\n",
      "\n",
      "neutral: Historian stole nearly 300 dog tags of WWII fallen soldiers from National Archives, authorities say\n",
      "\n",
      "25\n"
     ]
    },
    {
     "data": {
      "text/plain": [
       "{'label': 'neutral',\n",
       " 'probability': {'neg': 0.41193423081403935,\n",
       "  'neutral': 0.8227323813522757,\n",
       "  'pos': 0.5880657691859607}}"
      ]
     },
     "execution_count": 52,
     "metadata": {},
     "output_type": "execute_result"
    }
   ],
   "source": [
    "# Step 4: write code \n",
    "\n",
    "def GetSentiment(text):\n",
    "    # todo write code\n",
    "    empty_list = []\n",
    "    url = 'http://text-processing.com/api/sentiment/'\n",
    "    count = 0\n",
    "    for items in text:\n",
    "        options = { 'text' : items} #creating a dict text = key items = value\n",
    "        response = requests.post(url, data = options) #post is take this data to apply to the end of the website\n",
    "        sentiment = response.json()  \n",
    "        count = count + 1\n",
    "        print(sentiment['label']+':',items + '\\n')\n",
    "    print(count)\n",
    "    #for sentiment in range(len(empty_list)):\n",
    "    #for item in empty_list range(0,24):\n",
    "        #print(sentiment)\n",
    "    #print(sentiment)\n",
    "    return sentiment\n",
    "\n",
    "#25 setiments\n",
    "# testing\n",
    "GetSentiment(stories)"
   ]
  },
  {
   "cell_type": "code",
   "execution_count": 72,
   "metadata": {
    "collapsed": false
   },
   "outputs": [
    {
     "ename": "NameError",
     "evalue": "name 'response' is not defined",
     "output_type": "error",
     "traceback": [
      "\u001b[0;31m---------------------------------------------------------------------------\u001b[0m",
      "\u001b[0;31mNameError\u001b[0m                                 Traceback (most recent call last)",
      "\u001b[0;32m<ipython-input-72-c88d4615604c>\u001b[0m in \u001b[0;36m<module>\u001b[0;34m()\u001b[0m\n\u001b[0;32m----> 1\u001b[0;31m \u001b[0mresponse\u001b[0m\u001b[0;34m.\u001b[0m\u001b[0mtype\u001b[0m\u001b[0;34m(\u001b[0m\u001b[0;34m)\u001b[0m\u001b[0;34m\u001b[0m\u001b[0m\n\u001b[0m",
      "\u001b[0;31mNameError\u001b[0m: name 'response' is not defined"
     ]
    }
   ],
   "source": [
    "response.type()"
   ]
  },
  {
   "cell_type": "markdown",
   "metadata": {},
   "source": [
    "## Reminder of Evaluation Criteria\n",
    "\n",
    "1. What the problem attempted (analysis, code, and answered questions) ?\n",
    "2. What the problem analysis thought out? (does the program match the plan?)\n",
    "3. Does the code execute without syntax error?\n",
    "4. Does the code solve the intended problem?\n",
    "5. Is the code well written? (easy to understand, modular, and self-documenting, handles errors)"
   ]
  },
  {
   "cell_type": "markdown",
   "metadata": {},
   "source": []
  }
 ],
 "metadata": {
  "anaconda-cloud": {},
  "kernelspec": {
   "display_name": "Python 3",
   "language": "python",
   "name": "python3"
  },
  "language_info": {
   "codemirror_mode": {
    "name": "ipython",
    "version": 3
   },
   "file_extension": ".py",
   "mimetype": "text/x-python",
   "name": "python",
   "nbconvert_exporter": "python",
   "pygments_lexer": "ipython3",
   "version": "3.6.0"
  }
 },
 "nbformat": 4,
 "nbformat_minor": 1
}
