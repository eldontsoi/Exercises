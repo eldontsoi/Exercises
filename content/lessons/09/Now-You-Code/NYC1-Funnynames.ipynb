{
 "cells": [
  {
   "cell_type": "markdown",
   "metadata": {},
   "source": [
    "# Now You Code 1: Funny Names\n",
    "\n",
    "Write a program to \n",
    "\n",
    " 1. read the file `NYC1-funnynames.txt` into a list, by completing the provided user-defined function\n",
    " 2. sort the list of names\n",
    " 3. print the list of names one name per line.\n",
    "\n",
    "Sample Program Output:\n",
    "```\n",
    "Alma Frienzergon\n",
    "Kent Belevit\n",
    "Mitch Again\n",
    "Oliver Stuffismisson\n",
    "Sandi Shores\n",
    "Sarah Bellum\n",
    "Willie Pas-D'course\n",
    "Yolanda Ismyland\n",
    "```\n"
   ]
  },
  {
   "cell_type": "markdown",
   "metadata": {},
   "source": [
    "## Step 1: Problem Analysis for `read_names` user-defined function\n",
    "\n",
    "Inputs: None\n",
    "\n",
    "Outputs: a list of names\n",
    "\n",
    "Algorithm (Steps in Program):\n",
    "    \n",
    "- assign an empty list to a variable\n",
    "- open a file name and read\n",
    "    - for loop \n",
    "        - readlines\n",
    "        - strip lines\n",
    "        - append lines to empty list\n",
    "    - return empty list\n"
   ]
  },
  {
   "cell_type": "code",
   "execution_count": null,
   "metadata": {},
   "outputs": [],
   "source": []
  },
  {
   "cell_type": "code",
   "execution_count": 2,
   "metadata": {},
   "outputs": [
    {
     "name": "stdout",
     "output_type": "stream",
     "text": [
      "['Alma Frienzergon', 'Kent Belevit', 'Mitch Again', 'Oliver Stuffismisson', 'Sandi Shores', 'Sarah Bellum', \"Willie Pas-D'course\", 'Yolanda Ismyland', 'Euron Trouble']\n"
     ]
    }
   ],
   "source": [
    "def read_names (filename,empty_list):\n",
    "    empty_list = []\n",
    "    with open (filename, 'r') as f:\n",
    "        for lines in f.readlines():\n",
    "            lines = lines.strip(\"\\n\")\n",
    "            empty_list.append(lines)  \n",
    "    return empty_list\n",
    "\n",
    "nameList = []\n",
    "filename = \"NYC1-funnynames.txt\"\n",
    "nameList = read_names(filename, nameList)\n",
    "print(nameList)\n",
    "#for name in nameList:\n",
    "    \n",
    "#    print(name)"
   ]
  },
  {
   "cell_type": "code",
   "execution_count": null,
   "metadata": {},
   "outputs": [],
   "source": []
  },
  {
   "cell_type": "code",
   "execution_count": 29,
   "metadata": {},
   "outputs": [
    {
     "data": {
      "text/plain": [
       "1"
      ]
     },
     "execution_count": 29,
     "metadata": {},
     "output_type": "execute_result"
    }
   ],
   "source": [
    "a= 'abcd'\n",
    "a.find('b')"
   ]
  },
  {
   "cell_type": "code",
   "execution_count": 3,
   "metadata": {},
   "outputs": [
    {
     "name": "stdout",
     "output_type": "stream",
     "text": [
      "Alma Frienzergon\n",
      "Kent Belevit\n",
      "Mitch Again\n",
      "Oliver Stuffismisson\n",
      "Sandi Shores\n",
      "Sarah Bellum\n",
      "Willie Pas-D'course\n",
      "Yolanda Ismyland\n",
      "Euron Trouble\n"
     ]
    }
   ],
   "source": [
    "# Step 2: write function\n",
    "# this function reads from \"NYC-funnynames.txt\" places the names in a list. \n",
    "def read_names (filename,empty_list):\n",
    "    empty_list = []\n",
    "    with open (filename, 'r') as f:\n",
    "        for lines in f.readlines():\n",
    "            lines = lines.strip(\"\\n\")\n",
    "            empty_list.append(lines)\n",
    "            \n",
    "    return empty_list\n",
    "filename = \"NYC1-funnynames.txt\"\n",
    "nameList = read_names(filename, nameList)\n",
    "\n",
    "for name in nameList:\n",
    "    \n",
    "    print(name)"
   ]
  },
  {
   "cell_type": "code",
   "execution_count": 4,
   "metadata": {},
   "outputs": [
    {
     "ename": "TypeError",
     "evalue": "read_names() missing 1 required positional argument: 'empty_list'",
     "output_type": "error",
     "traceback": [
      "\u001b[0;31m---------------------------------------------------------------------------\u001b[0m",
      "\u001b[0;31mTypeError\u001b[0m                                 Traceback (most recent call last)",
      "\u001b[0;32m<ipython-input-4-1390b8ab7814>\u001b[0m in \u001b[0;36m<module>\u001b[0;34m()\u001b[0m\n\u001b[1;32m      1\u001b[0m \u001b[0mfilename\u001b[0m \u001b[0;34m=\u001b[0m \u001b[0;34m\"NYC1-funnynames.txt\"\u001b[0m\u001b[0;34m\u001b[0m\u001b[0m\n\u001b[0;32m----> 2\u001b[0;31m \u001b[0mread_names\u001b[0m\u001b[0;34m(\u001b[0m\u001b[0mfilename\u001b[0m\u001b[0;34m)\u001b[0m\u001b[0;34m\u001b[0m\u001b[0m\n\u001b[0m",
      "\u001b[0;31mTypeError\u001b[0m: read_names() missing 1 required positional argument: 'empty_list'"
     ]
    }
   ],
   "source": [
    "filename = \"NYC1-funnynames.txt\"\n",
    "read_names(filename)"
   ]
  },
  {
   "cell_type": "markdown",
   "metadata": {
    "collapsed": true
   },
   "source": [
    "## Step 3: Problem Analysis for entire program\n",
    "\n",
    "Inputs:\n",
    "file\n",
    "Outputs:\n",
    "print names\n",
    "Algorithm (Steps in Program):\n",
    " assign filename to variable\n",
    " assign empty list to a variable\n",
    " call function\n",
    " do for loop\n",
    "  for item in empty list\n",
    "  print item\n"
   ]
  },
  {
   "cell_type": "code",
   "execution_count": 5,
   "metadata": {},
   "outputs": [
    {
     "name": "stdout",
     "output_type": "stream",
     "text": [
      "Alma Frienzergon\n",
      "Kent Belevit\n",
      "Mitch Again\n",
      "Oliver Stuffismisson\n",
      "Sandi Shores\n",
      "Sarah Bellum\n",
      "Willie Pas-D'course\n",
      "Yolanda Ismyland\n",
      "Euron Trouble\n"
     ]
    }
   ],
   "source": [
    "## Step 4: write entire program making sure to use read_names \n",
    "\n",
    "def read_names (filename,empty_list):\n",
    "    empty_list = []\n",
    "    with open (filename, 'r') as f:\n",
    "        for lines in f.readlines():\n",
    "            lines = lines.strip(\"\\n\")\n",
    "            empty_list.append(lines)\n",
    "            \n",
    "    return empty_list\n",
    "filename = \"NYC1-funnynames.txt\"\n",
    "nameList = read_names(filename, nameList)\n",
    "\n",
    "for name in nameList:\n",
    "    \n",
    "    print(name)"
   ]
  },
  {
   "cell_type": "markdown",
   "metadata": {},
   "source": [
    "## Step 5: Questions\n",
    "\n",
    "1. Does writing the `read_names` function clarify the intent of the main program in step 4? Why or why not?\n",
    "\n",
    "-  yes, functions allow the actual program to be shortened\n",
    "\n",
    "2. Find the `NYC-funnynames.txt` file in your `lessons/09` folder. Open the file and add the name `Euron Trouble` to the file, then save and close it. Re-run the program in step 4. Do you see the new name in the program output? Explain why or why not? \n",
    "\n",
    "- yes it does. because i appended the text file manually so it will appear when i put everything from the text to the list. the program will print out the updated text file as a list. \n"
   ]
  },
  {
   "cell_type": "markdown",
   "metadata": {},
   "source": [
    "## Reminder of Evaluation Criteria\n",
    "\n",
    "1. What the problem attempted (analysis, code, and answered questions) ?\n",
    "2. What the problem analysis thought out? (does the program match the plan?)\n",
    "3. Does the code execute without syntax error?\n",
    "4. Does the code solve the intended problem?\n",
    "5. Is the code well written? (easy to understand, modular, and self-documenting, handles errors)\n"
   ]
  },
  {
   "cell_type": "code",
   "execution_count": null,
   "metadata": {
    "collapsed": true
   },
   "outputs": [],
   "source": []
  }
 ],
 "metadata": {
  "anaconda-cloud": {},
  "kernelspec": {
   "display_name": "Python 3",
   "language": "python",
   "name": "python3"
  },
  "language_info": {
   "codemirror_mode": {
    "name": "ipython",
    "version": 3
   },
   "file_extension": ".py",
   "mimetype": "text/x-python",
   "name": "python",
   "nbconvert_exporter": "python",
   "pygments_lexer": "ipython3",
   "version": "3.6.4"
  }
 },
 "nbformat": 4,
 "nbformat_minor": 1
}
