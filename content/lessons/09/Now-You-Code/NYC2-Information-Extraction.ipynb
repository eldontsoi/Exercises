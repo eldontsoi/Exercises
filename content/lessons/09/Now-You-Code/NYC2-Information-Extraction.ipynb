{
 "cells": [
  {
   "cell_type": "markdown",
   "metadata": {},
   "source": [
    "# Now You Code 2: Information Extraction\n",
    "\n",
    "How do we make computers seem intelligent? One approach is to use *term extraction*. Term extration is a type of information extration where we attempt to find relevant terms in text. The relevant terms come from a *corpus*, or set of plausible terms we want to extract.\n",
    "\n",
    "For example, suppose we have the text:\n",
    "\n",
    "`One day I would like to visit Syracuse`\n",
    "\n",
    "We has smart humans can be fairly confident that `Syracuse` is a place, more specifically a `city`. \n",
    "\n",
    "A rudimentary method to make the computer interpret `Syracuse` as a place is to provide a corpus of cities and have the computer look up `Syracuse` in that corpus. \n",
    "\n",
    "In this code exercise we will do just that. Let's first write a function to read cities from the file `NYC2-cities.txt` into a corpus of cities, which will be represented in Python as a list.\n",
    "\n",
    "Then write a main program loop to input some text, split the text into a list of words and if any of the words match a city in the corpus list we will output the word is a city.\n",
    "\n",
    "The program should handle upper / lower case matching. A good approach is to title case the input. \n",
    "\n",
    "IMPORTANT: Please note that our program will ONLY work for one word cities, like `Syracuse` and will not work for multiple-word cities like `San Diego`. Don't worry about that now. \n",
    "\n",
    "SAMPLE RUN\n",
    "\n",
    "```\n",
    "Enter some text (or ENTER to quit): one day I would like to visit syraucse and rochester\n",
    "Syracuse is a city\n",
    "Rochester is a city\n",
    "Enter some text (or ENTER to quit): austin is in texas\n",
    "Austin is a city\n",
    "Enter some text (or ENTER to quit): \n",
    "Quitting...\n",
    "```\n",
    "\n",
    "Once again we will solve this problem using the problem simplification approach. First we will write the `load_city_corpus` function to build our city list. Second we will write the  `is_a_city` function which given a word and a city list will return `True` when the word is a city. Finally we conclude with the main program which finds cities in our text, as demonstrated in our sample run."
   ]
  },
  {
   "cell_type": "markdown",
   "metadata": {
    "collapsed": true
   },
   "source": [
    "## Step 1: Problem Analysis for `load_city_corpus`\n",
    "\n",
    "Inputs: None (reads from a file)\n",
    "\n",
    "\n",
    "\n",
    "Outputs: a Python list of cities\n",
    "\n",
    "\n",
    "\n",
    "\n",
    "Algorithm (Steps in Program):\n",
    "write a function perhaps?\n",
    "\n",
    "function:\n",
    " define a function, argument is filename\n",
    " open file read\n",
    " readlines in function\n",
    " return filename\n",
    "\n",
    "- prompt input\n",
    "- open file to read\n",
    "    - for lines in file # how to use this for loop? how conditions fit in?\n",
    "        - \n",
    "            - split\n",
    "                - for split in input\n",
    "                - if split == readlines\n",
    "                - yes\n",
    "                \n",
    "        if input match lines\n",
    "            - print input is a city\n",
    "        - if input not city\n",
    "            - print this is not city\n",
    "        - if input is quit\n",
    "#             - print quitting"
   ]
  },
  {
   "cell_type": "code",
   "execution_count": 18,
   "metadata": {},
   "outputs": [
    {
     "name": "stdout",
     "output_type": "stream",
     "text": [
      "Enter some text (or ENTER to quit): Syracuse\n",
      "Enter some text (or ENTER to quit): no\n",
      "Enter some text (or ENTER to quit): it still does not wor\n",
      "Enter some text (or ENTER to quit): Syracuse is a city\n",
      "Enter some text (or ENTER to quit): \n"
     ]
    }
   ],
   "source": [
    "filename = \"NYC2-cities.txt\"\n",
    "cities_list = []\n",
    "with open (filename, 'r') as f:\n",
    "    for lines in f.readlines():\n",
    "        #change the cities into list\n",
    "        cities_list.append(lines)\n",
    "#print(cities_list)\n",
    "while True:\n",
    "    user_inp = input(\"Enter some text (or ENTER to quit): \")\n",
    "    if user_inp == '':\n",
    "        break\n",
    "    else:\n",
    "        tokens = user_inp.split(\" \")\n",
    "        for word in tokens:\n",
    "            \n",
    "            if word in cities_list: #how do i do a loop for these\n",
    "                print(word,'is a city name')\n",
    "                \n",
    "                \n",
    "                \n",
    "                \n",
    "            "
   ]
  },
  {
   "cell_type": "code",
   "execution_count": null,
   "metadata": {},
   "outputs": [],
   "source": []
  },
  {
   "cell_type": "code",
   "execution_count": null,
   "metadata": {
    "collapsed": true
   },
   "outputs": [],
   "source": [
    "## Step 2: write the defintion for the load_city_corpus function\n",
    "\n",
    "def "
   ]
  },
  {
   "cell_type": "markdown",
   "metadata": {},
   "source": [
    "## Step 3: Problem Analysis for `is_a_city`\n",
    "\n",
    "Inputs: a string word and a Python list of cities\n",
    "\n",
    "Outputs: True or False when word is in the list of cities.\n",
    "\n",
    "Algorithm (Steps in Program):\n",
    "\n"
   ]
  },
  {
   "cell_type": "code",
   "execution_count": null,
   "metadata": {
    "collapsed": true
   },
   "outputs": [],
   "source": [
    "## Step 4: write the definition for the is_a_city function\n"
   ]
  },
  {
   "cell_type": "markdown",
   "metadata": {},
   "source": [
    "## Step 5: Problem Analysis for entire program\n",
    "\n",
    "Inputs:\n",
    "\n",
    "Outputs:\n",
    "\n",
    "Algorithm (Steps in Program): (make sure to use the two functions we created)\n",
    "\n"
   ]
  },
  {
   "cell_type": "code",
   "execution_count": 1,
   "metadata": {
    "collapsed": true
   },
   "outputs": [],
   "source": [
    "## Step 6: Write complete program, making sure to use your two functions.\n"
   ]
  },
  {
   "cell_type": "markdown",
   "metadata": {
    "collapsed": true
   },
   "source": [
    "## Step 7: Questions\n",
    "\n",
    "1. Explain your approach to solving this problem for cities with 2 words like `New York` or `Los Angeles`?\n",
    "2. How would you solve the problem where you enter a city name which is not in the corpus?\n"
   ]
  },
  {
   "cell_type": "markdown",
   "metadata": {
    "collapsed": true
   },
   "source": [
    "## Reminder of Evaluation Criteria\n",
    "\n",
    "1. What the problem attempted (analysis, code, and answered questions) ?\n",
    "2. What the problem analysis thought out? (does the program match the plan?)\n",
    "3. Does the code execute without syntax error?\n",
    "4. Does the code solve the intended problem?\n",
    "5. Is the code well written? (easy to understand, modular, and self-documenting, handles errors)\n"
   ]
  },
  {
   "cell_type": "code",
   "execution_count": null,
   "metadata": {
    "collapsed": true
   },
   "outputs": [],
   "source": [
    "# i want to write a code that writes back to the file and add more cities\n",
    "\n",
    "def write_cities(filename, str_list):\n",
    "    empty_list = []\n",
    "    str_list = \" \"\n",
    "    for items in empty_list:\n",
    "        str_list = empty_list.append(str.items)\n",
    "        with open(filename, 'w') as f:\n",
    "        \n",
    "        #for items in empty_list:\n",
    "            \n",
    "            f.write(str_list)\n",
    "    return str_list\n",
    "        \n",
    "    \n",
    "filename = 'cities 2.txt'\n",
    "yay = ['Hong Kong','Shenzhen','Beijing']\n",
    "write_cities(filename,yay)\n",
    "\n",
    "\n",
    "\n",
    "\n"
   ]
  }
 ],
 "metadata": {
  "anaconda-cloud": {},
  "kernelspec": {
   "display_name": "Python 3",
   "language": "python",
   "name": "python3"
  },
  "language_info": {
   "codemirror_mode": {
    "name": "ipython",
    "version": 3
   },
   "file_extension": ".py",
   "mimetype": "text/x-python",
   "name": "python",
   "nbconvert_exporter": "python",
   "pygments_lexer": "ipython3",
   "version": "3.6.4"
  }
 },
 "nbformat": 4,
 "nbformat_minor": 1
}
