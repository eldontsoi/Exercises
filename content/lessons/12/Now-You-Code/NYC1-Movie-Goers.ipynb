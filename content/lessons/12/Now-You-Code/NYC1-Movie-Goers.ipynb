{
 "cells": [
  {
   "cell_type": "markdown",
   "metadata": {},
   "source": [
    "# Now You Code 1: Data Analysis of Movie Goers\n",
    "\n",
    "In this assignment you will perform a data analysis of people who go to the movies. \n",
    "\n",
    "A movie theatre chain asked movie goers to fill out a quick survey in exchange for a 1/2 price ticket. The survey asked for basic demographics: age, gender, occupation and zip code. This survey results are contained in the data file `'NYC1-moviegoers.csv'`\n",
    "\n",
    "In this assignment you will write a series of Python pandas code (in several cells) to answer some basic questions about the responses in the dataset.\n"
   ]
  },
  {
   "cell_type": "code",
   "execution_count": 1,
   "metadata": {},
   "outputs": [],
   "source": [
    "# this turns off warning messages\n",
    "import warnings\n",
    "warnings.filterwarnings('ignore')"
   ]
  },
  {
   "cell_type": "markdown",
   "metadata": {},
   "source": [
    "### Part 1: Load the dataset\n",
    "\n",
    "write code to import pandas and load the dataset (in csv format) into the variable `moviegoers` and then print a random sample of 5 people from the data set."
   ]
  },
  {
   "cell_type": "code",
   "execution_count": 29,
   "metadata": {},
   "outputs": [
    {
     "data": {
      "text/html": [
       "<div>\n",
       "<style scoped>\n",
       "    .dataframe tbody tr th:only-of-type {\n",
       "        vertical-align: middle;\n",
       "    }\n",
       "\n",
       "    .dataframe tbody tr th {\n",
       "        vertical-align: top;\n",
       "    }\n",
       "\n",
       "    .dataframe thead th {\n",
       "        text-align: right;\n",
       "    }\n",
       "</style>\n",
       "<table border=\"1\" class=\"dataframe\">\n",
       "  <thead>\n",
       "    <tr style=\"text-align: right;\">\n",
       "      <th></th>\n",
       "      <th>user_id</th>\n",
       "      <th>age</th>\n",
       "      <th>gender</th>\n",
       "      <th>occupation</th>\n",
       "      <th>zip_code</th>\n",
       "    </tr>\n",
       "  </thead>\n",
       "  <tbody>\n",
       "    <tr>\n",
       "      <th>342</th>\n",
       "      <td>343</td>\n",
       "      <td>43</td>\n",
       "      <td>M</td>\n",
       "      <td>engineer</td>\n",
       "      <td>30093</td>\n",
       "    </tr>\n",
       "    <tr>\n",
       "      <th>352</th>\n",
       "      <td>353</td>\n",
       "      <td>25</td>\n",
       "      <td>M</td>\n",
       "      <td>scientist</td>\n",
       "      <td>28480</td>\n",
       "    </tr>\n",
       "    <tr>\n",
       "      <th>851</th>\n",
       "      <td>852</td>\n",
       "      <td>46</td>\n",
       "      <td>M</td>\n",
       "      <td>administrator</td>\n",
       "      <td>94086</td>\n",
       "    </tr>\n",
       "    <tr>\n",
       "      <th>130</th>\n",
       "      <td>131</td>\n",
       "      <td>59</td>\n",
       "      <td>F</td>\n",
       "      <td>administrator</td>\n",
       "      <td>15237</td>\n",
       "    </tr>\n",
       "    <tr>\n",
       "      <th>47</th>\n",
       "      <td>48</td>\n",
       "      <td>45</td>\n",
       "      <td>M</td>\n",
       "      <td>administrator</td>\n",
       "      <td>12550</td>\n",
       "    </tr>\n",
       "  </tbody>\n",
       "</table>\n",
       "</div>"
      ],
      "text/plain": [
       "     user_id  age gender     occupation zip_code\n",
       "342      343   43      M       engineer    30093\n",
       "352      353   25      M      scientist    28480\n",
       "851      852   46      M  administrator    94086\n",
       "130      131   59      F  administrator    15237\n",
       "47        48   45      M  administrator    12550"
      ]
     },
     "execution_count": 29,
     "metadata": {},
     "output_type": "execute_result"
    }
   ],
   "source": [
    "import pandas as pd\n",
    "moviegoers = pd.read_csv('NYC1-moviegoers.csv')\n",
    "moviegoers.sample(5)"
   ]
  },
  {
   "cell_type": "markdown",
   "metadata": {},
   "source": [
    "### Part 2: Gender distribution \n",
    "\n",
    "How many males and females filled out our data set? \n",
    "\n",
    "Write a single line of Python Pandas code to count the genders in the data set. (There should be M = 670, F = 273)\n",
    "\n",
    "**HINT:** Select the `gender` column then use a built-in series method to count the values in the series."
   ]
  },
  {
   "cell_type": "code",
   "execution_count": 5,
   "metadata": {},
   "outputs": [
    {
     "data": {
      "text/plain": [
       "M    670\n",
       "F    273\n",
       "Name: gender, dtype: int64"
      ]
     },
     "execution_count": 5,
     "metadata": {},
     "output_type": "execute_result"
    }
   ],
   "source": [
    "moviegoers['gender'].value_counts()"
   ]
  },
  {
   "cell_type": "markdown",
   "metadata": {},
   "source": [
    "### Part 3: People without jobs\n",
    "\n",
    "Who are the survey respondents without jobs? \n",
    "\n",
    "Write Python Pandas code to create a variable `no_occupation` which filters the `moviegoers` data set to only those survey respondents with an ocupation of `'none'`.  (There should be 9 people)\n"
   ]
  },
  {
   "cell_type": "code",
   "execution_count": 11,
   "metadata": {},
   "outputs": [
    {
     "name": "stdout",
     "output_type": "stream",
     "text": [
      "     user_id  age gender occupation zip_code\n",
      "56        57   16      M       none    84010\n",
      "126      127   33      M       none    73439\n",
      "129      130   20      M       none    60115\n",
      "255      256   35      F       none    39042\n",
      "288      289   11      M       none    94619\n",
      "417      418   55      F       none    21206\n",
      "627      628   13      M       none    94306\n",
      "656      657   26      F       none    78704\n",
      "755      756   30      F       none    90247\n"
     ]
    }
   ],
   "source": [
    "no_occupation = moviegoers[moviegoers['occupation'] =='none']\n",
    "print(no_occupation)"
   ]
  },
  {
   "cell_type": "markdown",
   "metadata": {},
   "source": [
    "### Part 4: Gender distribution of people without jobs.\n",
    "\n",
    "What is the gender distribution of the 9 respondents without jobs? \n",
    "\n",
    "Write Python Pandas code to display this. \n",
    "\n",
    "**HINT:** Use the variable `no_occupation` from the previous step."
   ]
  },
  {
   "cell_type": "code",
   "execution_count": 12,
   "metadata": {},
   "outputs": [
    {
     "data": {
      "text/plain": [
       "56     M\n",
       "126    M\n",
       "129    M\n",
       "255    F\n",
       "288    M\n",
       "417    F\n",
       "627    M\n",
       "656    F\n",
       "755    F\n",
       "Name: gender, dtype: object"
      ]
     },
     "execution_count": 12,
     "metadata": {},
     "output_type": "execute_result"
    }
   ],
   "source": [
    "no_occupation['gender'] "
   ]
  },
  {
   "cell_type": "markdown",
   "metadata": {},
   "source": [
    "### Part 5: Young Artists\n",
    "\n",
    "Write Python Pandas code to display the count of respondents with an occupation of artist who are 21 and under. (There should be 5)\n",
    "\n",
    "**HINT:** You can either set each Pandas filter to a new `DataFrame` variable or try to chain the filters together. Also display them before you try and count them."
   ]
  },
  {
   "cell_type": "code",
   "execution_count": 13,
   "metadata": {},
   "outputs": [
    {
     "data": {
      "text/html": [
       "<div>\n",
       "<style scoped>\n",
       "    .dataframe tbody tr th:only-of-type {\n",
       "        vertical-align: middle;\n",
       "    }\n",
       "\n",
       "    .dataframe tbody tr th {\n",
       "        vertical-align: top;\n",
       "    }\n",
       "\n",
       "    .dataframe thead th {\n",
       "        text-align: right;\n",
       "    }\n",
       "</style>\n",
       "<table border=\"1\" class=\"dataframe\">\n",
       "  <thead>\n",
       "    <tr style=\"text-align: right;\">\n",
       "      <th></th>\n",
       "      <th>age</th>\n",
       "    </tr>\n",
       "  </thead>\n",
       "  <tbody>\n",
       "    <tr>\n",
       "      <th>56</th>\n",
       "      <td>16</td>\n",
       "    </tr>\n",
       "    <tr>\n",
       "      <th>126</th>\n",
       "      <td>33</td>\n",
       "    </tr>\n",
       "    <tr>\n",
       "      <th>129</th>\n",
       "      <td>20</td>\n",
       "    </tr>\n",
       "    <tr>\n",
       "      <th>255</th>\n",
       "      <td>35</td>\n",
       "    </tr>\n",
       "    <tr>\n",
       "      <th>288</th>\n",
       "      <td>11</td>\n",
       "    </tr>\n",
       "    <tr>\n",
       "      <th>417</th>\n",
       "      <td>55</td>\n",
       "    </tr>\n",
       "    <tr>\n",
       "      <th>627</th>\n",
       "      <td>13</td>\n",
       "    </tr>\n",
       "    <tr>\n",
       "      <th>656</th>\n",
       "      <td>26</td>\n",
       "    </tr>\n",
       "    <tr>\n",
       "      <th>755</th>\n",
       "      <td>30</td>\n",
       "    </tr>\n",
       "  </tbody>\n",
       "</table>\n",
       "</div>"
      ],
      "text/plain": [
       "     age\n",
       "56    16\n",
       "126   33\n",
       "129   20\n",
       "255   35\n",
       "288   11\n",
       "417   55\n",
       "627   13\n",
       "656   26\n",
       "755   30"
      ]
     },
     "execution_count": 13,
     "metadata": {},
     "output_type": "execute_result"
    }
   ],
   "source": [
    "no_occupation[['age']]"
   ]
  },
  {
   "cell_type": "markdown",
   "metadata": {},
   "source": [
    "### Part 6: Distribution by age group\n",
    "\n",
    "The movie theater which conducted this survey prices their tickets by age group:\n",
    "\n",
    " - Youth (age 18 and under) $7.50 \n",
    " \n",
    " - Adult (age 19 55) $12.50 \n",
    " \n",
    " - Senior (age 56 and up) $8.50 \n",
    "\n",
    "Write python code to count the number of moviegoers in each of these age groups.\n",
    "\n",
    "Your counts should be as follows:\n",
    "```\n",
    "Adult     837\n",
    "Youth      54\n",
    "Senior     52\n",
    "```\n",
    "\n",
    "**HINT:** You must perform feature engineering. Create a new column `'age_group'` and use the `'age'` column to assign one or more values to the age group. After you create the column and set the values get a count of values for the `'age_group'` column.\n",
    "\n"
   ]
  },
  {
   "cell_type": "code",
   "execution_count": 35,
   "metadata": {},
   "outputs": [
    {
     "data": {
      "text/plain": [
       "Adult     837\n",
       "Youth      54\n",
       "Senior     52\n",
       "Name: age_group, dtype: int64"
      ]
     },
     "execution_count": 35,
     "metadata": {},
     "output_type": "execute_result"
    }
   ],
   "source": [
    "#age_group_all_series = moviegoers['age'].value_counts()\n",
    "#age_group_price = moviegoers['']\n",
    "moviegoers['age_group'] = ''\n",
    "\n",
    "moviegoers['age_group'][moviegoers['age']<=18] = 'Youth' #<= 18 == 'Youth',19 <=moviegoers['Adult'] <=55, 56<=moviegoers['Senior']\n",
    "moviegoers['age_group'][(moviegoers['age']<=55) & (moviegoers['age']>=19)] = 'Adult'\n",
    "moviegoers['age_group'][moviegoers['age'] >= 56] = 'Senior'\n",
    "moviegoers['age_group'].value_counts()\n"
   ]
  },
  {
   "cell_type": "code",
   "execution_count": null,
   "metadata": {},
   "outputs": [],
   "source": [
    "sex_all_series = passengers['Sex'].value_counts()\n",
    "sex_survivor_series = survivors['Sex'].value_counts()\n",
    "\n",
    "sex_comparision_df = pd.DataFrame({ 'AllPassengers' : sex_all_series, 'Survivors' : sex_survivor_series })\n",
    "sex_comparision_df['SexSurvivialRate'] = sex_comparision_df['Survivors'] / sex_comparision_df['AllPassengers']\n",
    "sex_comparision_df\n",
    "\n",
    "passengers['AgeCat'][ passengers['Age'] <=18 ] = 'Child'\n",
    "passengers['AgeCat'][ passengers['Age'] > 18 ] = 'Adult'"
   ]
  },
  {
   "cell_type": "markdown",
   "metadata": {},
   "source": [
    "## Step 7: Questions\n",
    "\n",
    "1. Pandas programs are different than typical Python programs. Explain the process by which you got the final solution?\n",
    "2. What was the most difficult aspect of this assignment? "
   ]
  },
  {
   "cell_type": "markdown",
   "metadata": {},
   "source": [
    "## Reminder of Evaluation Criteria\n",
    "\n",
    "1. What the problem attempted (analysis, code, and answered questions) ?\n",
    "2. What the problem analysis thought out? (does the program match the plan?)\n",
    "3. Does the code execute without syntax error?\n",
    "4. Does the code solve the intended problem?\n",
    "5. Is the code well written? (easy to understand, modular, and self-documenting, handles errors)"
   ]
  },
  {
   "cell_type": "code",
   "execution_count": null,
   "metadata": {},
   "outputs": [],
   "source": []
  }
 ],
 "metadata": {
  "anaconda-cloud": {},
  "kernelspec": {
   "display_name": "Python 3",
   "language": "python",
   "name": "python3"
  },
  "language_info": {
   "codemirror_mode": {
    "name": "ipython",
    "version": 3
   },
   "file_extension": ".py",
   "mimetype": "text/x-python",
   "name": "python",
   "nbconvert_exporter": "python",
   "pygments_lexer": "ipython3",
   "version": "3.6.4"
  }
 },
 "nbformat": 4,
 "nbformat_minor": 1
}
