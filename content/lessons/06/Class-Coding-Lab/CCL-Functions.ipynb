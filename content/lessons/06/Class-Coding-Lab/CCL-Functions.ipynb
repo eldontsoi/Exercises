{
 "cells": [
  {
   "cell_type": "markdown",
   "metadata": {},
   "source": [
    "# In-Class Coding Lab: Functions\n",
    "\n",
    "The goals of this lab are to help you to understand:\n",
    "\n",
    "- How to use Python's built-in functions in the standard library.\n",
    "- How to write user-defined functions\n",
    "- The benefits of user-defined functions to code reuse and simplicity.\n",
    "- How to create a program to use functions to solve a complex idea\n",
    "\n",
    "We will demonstrate these through the following example:\n",
    "\n",
    "\n",
    "## The Credit Card Problem\n",
    "\n",
    "If you're going to do commerce on the web, you're going to support credit cards. But how do you know if a given number is valid? And how do you know which network issued the card?\n",
    "\n",
    "**Example:** Is `5300023581452982` a valid credit card number?Is it? Visa? MasterCard, Discover? or American Express?\n",
    "\n",
    "While eventually the card number is validated when you attempt to post a transaction, there's a lot of reasons why you might want to know its valid before the transaction takes place. The most common being just trying to catch an honest key-entry mistake made by your site visitor.\n",
    "\n",
    "So there are two things we'd like to figure out, for any \"potential\" card number:\n",
    "\n",
    "- Who is the issuing network? Visa, MasterCard, Discover or American Express.\n",
    "- In the number potentially valid (as opposed to a made up series of digits)?\n",
    "\n",
    "### What does the have to do with functions?\n",
    "\n",
    "If we get this code to work, it seems like it might be useful to re-use it in several other programs we may write in the future. We can do this by writing the code as a **function**. Think of a function as an independent program its own inputs and output. The program is defined under a name so that we can use it simply by calling its name. \n",
    "\n",
    "**Example:** `n = int(\"50\")` the function `int()` takes the string `\"50\"` as input and converts it to an `int` value `50` which is then stored in the value `n`.\n",
    "\n",
    "When you create these credit card functions, we might want to re-use them by placing them in a **Module** which is a file with a collection of functions in it. Furthermore we can take a group of related modules and place them together in a Python **Package**. You install packages on your computer with the `pip` command. \n"
   ]
  },
  {
   "cell_type": "markdown",
   "metadata": {
    "collapsed": true
   },
   "source": [
    "## Built-In Functions\n",
    "\n",
    "Let's start by checking out the built-in functions in Python's math library. We use the `dir()` function to list the names of the math library:\n"
   ]
  },
  {
   "cell_type": "code",
   "execution_count": 2,
   "metadata": {
    "collapsed": false
   },
   "outputs": [
    {
     "data": {
      "text/plain": [
       "['__doc__',\n",
       " '__loader__',\n",
       " '__name__',\n",
       " '__package__',\n",
       " '__spec__',\n",
       " 'acos',\n",
       " 'acosh',\n",
       " 'asin',\n",
       " 'asinh',\n",
       " 'atan',\n",
       " 'atan2',\n",
       " 'atanh',\n",
       " 'ceil',\n",
       " 'copysign',\n",
       " 'cos',\n",
       " 'cosh',\n",
       " 'degrees',\n",
       " 'e',\n",
       " 'erf',\n",
       " 'erfc',\n",
       " 'exp',\n",
       " 'expm1',\n",
       " 'fabs',\n",
       " 'factorial',\n",
       " 'floor',\n",
       " 'fmod',\n",
       " 'frexp',\n",
       " 'fsum',\n",
       " 'gamma',\n",
       " 'gcd',\n",
       " 'hypot',\n",
       " 'inf',\n",
       " 'isclose',\n",
       " 'isfinite',\n",
       " 'isinf',\n",
       " 'isnan',\n",
       " 'ldexp',\n",
       " 'lgamma',\n",
       " 'log',\n",
       " 'log10',\n",
       " 'log1p',\n",
       " 'log2',\n",
       " 'modf',\n",
       " 'nan',\n",
       " 'pi',\n",
       " 'pow',\n",
       " 'radians',\n",
       " 'sin',\n",
       " 'sinh',\n",
       " 'sqrt',\n",
       " 'tan',\n",
       " 'tanh',\n",
       " 'tau',\n",
       " 'trunc']"
      ]
     },
     "execution_count": 2,
     "metadata": {},
     "output_type": "execute_result"
    }
   ],
   "source": [
    "import math\n",
    "\n",
    "dir(math)"
   ]
  },
  {
   "cell_type": "markdown",
   "metadata": {},
   "source": [
    "If you look through the output, you'll see a `factorial` name. Let's see if it's a function we can use:"
   ]
  },
  {
   "cell_type": "code",
   "execution_count": 3,
   "metadata": {
    "collapsed": false
   },
   "outputs": [
    {
     "name": "stdout",
     "output_type": "stream",
     "text": [
      "Help on built-in function factorial in module math:\n",
      "\n",
      "factorial(...)\n",
      "    factorial(x) -> Integral\n",
      "    \n",
      "    Find x!. Raise a ValueError if x is negative or non-integral.\n",
      "\n"
     ]
    }
   ],
   "source": [
    "help(math.factorial)"
   ]
  },
  {
   "cell_type": "markdown",
   "metadata": {},
   "source": [
    "It says it's a built-in function, and requies an integer value (which it referrs to as x, but that value is arbitrary) as an argument. Let's call the function and see if it works:"
   ]
  },
  {
   "cell_type": "code",
   "execution_count": 4,
   "metadata": {
    "collapsed": false
   },
   "outputs": [
    {
     "data": {
      "text/plain": [
       "120"
      ]
     },
     "execution_count": 4,
     "metadata": {},
     "output_type": "execute_result"
    }
   ],
   "source": [
    "math.factorial(5) #this is an example of \"calling\" the function with input 5. The output should be 120"
   ]
  },
  {
   "cell_type": "code",
   "execution_count": 5,
   "metadata": {
    "collapsed": false
   },
   "outputs": [
    {
     "data": {
      "text/plain": [
       "1"
      ]
     },
     "execution_count": 5,
     "metadata": {},
     "output_type": "execute_result"
    }
   ],
   "source": [
    "math.factorial(0) # here we call the same function with input 0. The output should be 1."
   ]
  },
  {
   "cell_type": "code",
   "execution_count": 6,
   "metadata": {
    "collapsed": false
   },
   "outputs": [
    {
     "data": {
      "text/plain": [
       "24"
      ]
     },
     "execution_count": 6,
     "metadata": {},
     "output_type": "execute_result"
    }
   ],
   "source": [
    "## Call the factorial function with an input argument of 4. What is the output?\n",
    "#TODO write code here.\n",
    " \n",
    "math.factorial(4)\n"
   ]
  },
  {
   "cell_type": "markdown",
   "metadata": {
    "collapsed": true
   },
   "source": [
    "## Using functions to print things awesome in Juypter\n",
    "\n",
    "Up until this point we've used the boring `print()` function for our output. Let's do better. In the `IPython.display` module there are two functions `display()` and `HTML()`. The `display()` function outputs a Python object to the Jupyter notebook. The `HTML()` function creates a Python object from [HTML Markup](https://www.w3schools.com/html/html_intro.asp) as a string.\n",
    "\n",
    "For example this prints Hello in Heading 1.\n"
   ]
  },
  {
   "cell_type": "code",
   "execution_count": 1,
   "metadata": {
    "collapsed": false
   },
   "outputs": [
    {
     "name": "stdout",
     "output_type": "stream",
     "text": [
      "Exciting:\n"
     ]
    },
    {
     "data": {
      "text/html": [
       "<h1>Hello</h1>"
      ],
      "text/plain": [
       "<IPython.core.display.HTML object>"
      ]
     },
     "metadata": {},
     "output_type": "display_data"
    },
    {
     "name": "stdout",
     "output_type": "stream",
     "text": [
      "Boring:\n",
      "Hello\n"
     ]
    }
   ],
   "source": [
    "from IPython.display import display, HTML\n",
    "\n",
    "print(\"Exciting:\")\n",
    "display(HTML(\"<h1>Hello</h1>\"))\n",
    "print(\"Boring:\")\n",
    "print(\"Hello\")\n"
   ]
  },
  {
   "cell_type": "markdown",
   "metadata": {},
   "source": [
    "Let's keep the example going by writing two of our own functions to print a title and print text as normal, respectively. \n",
    "\n",
    "Execute this code:"
   ]
  },
  {
   "cell_type": "code",
   "execution_count": 2,
   "metadata": {
    "collapsed": true
   },
   "outputs": [],
   "source": [
    "def print_title(text):\n",
    "    '''\n",
    "    This prints text to IPython.display as H1\n",
    "    '''\n",
    "    return display(HTML(\"<H1>\" + text + \"</H1>\"))\n",
    "\n",
    "def print_normal(text):\n",
    "    '''\n",
    "    this prints text to IPython.display as normal text\n",
    "    '''\n",
    "    return display(HTML(text))\n"
   ]
  },
  {
   "cell_type": "markdown",
   "metadata": {},
   "source": [
    "Now let's use these two functions in a familiar program! "
   ]
  },
  {
   "cell_type": "code",
   "execution_count": 3,
   "metadata": {
    "collapsed": false
   },
   "outputs": [
    {
     "data": {
      "text/html": [
       "<H1>Area of a Rectangle</H1>"
      ],
      "text/plain": [
       "<IPython.core.display.HTML object>"
      ]
     },
     "metadata": {},
     "output_type": "display_data"
    },
    {
     "name": "stdout",
     "output_type": "stream",
     "text": [
      "Enter length: 9\n",
      "Enter width: 9\n"
     ]
    },
    {
     "data": {
      "text/html": [
       "The area is 81.00"
      ],
      "text/plain": [
       "<IPython.core.display.HTML object>"
      ]
     },
     "metadata": {},
     "output_type": "display_data"
    }
   ],
   "source": [
    "print_title(\"Area of a Rectangle\")\n",
    "length = float(input(\"Enter length: \"))\n",
    "width = float(input(\"Enter width: \"))\n",
    "area = length * width\n",
    "print_normal(\"The area is %.2f\" % area)\n"
   ]
  },
  {
   "cell_type": "markdown",
   "metadata": {},
   "source": [
    "## Let's get back to credit cards....\n",
    "\n",
    "Now that we know how a bit about **Packages**, **Modules**, and **Functions** let's attempt to write our first function. Let's tackle the easier of our two credit card related problems:\n",
    "\n",
    "- Who is the issuing network? Visa, MasterCard, Discover or American Express.\n",
    "\n",
    "This problem can be solved by looking at the first digit of the card number:\n",
    "\n",
    " - \"4\" ==> \"Visa\"\n",
    " - \"5\" ==> \"MasterCard\"\n",
    " - \"6\" ==> \"Discover\"\n",
    " - \"3\" ==> \"American Express\"\n",
    " \n",
    "So for card number `5300023581452982` the issuer is \"MasterCard\".\n",
    "\n",
    "It should be easy to write a program to solve this problem. Here's the algorithm:\n",
    "\n",
    "```\n",
    "input credit card number into variable card\n",
    "get the first digit of the card number (eg. digit = card[0])\n",
    "if digit equals \"4\"\n",
    "    the card issuer \"Visa\"\n",
    "elif digit equals \"5\"\n",
    "    the card issuer \"MasterCard\"\n",
    "elif digit equals \"6\"\n",
    "    the card issuer is \"Discover\"\n",
    "elif digit equals \"3\"\n",
    "    the card issues is \"American Express\"\n",
    "else\n",
    "    the issuer is \"Invalid\"    \n",
    "print issuer\n",
    "```\n",
    "\n",
    "### Now You Try It\n",
    "\n",
    "Turn the algorithm into python code"
   ]
  },
  {
   "cell_type": "code",
   "execution_count": 7,
   "metadata": {
    "collapsed": false
   },
   "outputs": [
    {
     "ename": "SyntaxError",
     "evalue": "invalid syntax (<ipython-input-7-ed846b4de70d>, line 3)",
     "output_type": "error",
     "traceback": [
      "\u001b[0;36m  File \u001b[0;32m\"<ipython-input-7-ed846b4de70d>\"\u001b[0;36m, line \u001b[0;32m3\u001b[0m\n\u001b[0;31m    bank =\u001b[0m\n\u001b[0m       ^\u001b[0m\n\u001b[0;31mSyntaxError\u001b[0m\u001b[0;31m:\u001b[0m invalid syntax\n"
     ]
    }
   ],
   "source": [
    "def card (number,issuer):\n",
    "    digit = list(input(\"what is your credit card number? \")\n",
    "    bank = "
   ]
  },
  {
   "cell_type": "code",
   "execution_count": 8,
   "metadata": {
    "collapsed": true
   },
   "outputs": [],
   "source": [
    "def card (number, issuer):\n",
    "    digit = 0\n",
    "    bank = 0\n",
    "    statement = digit, bank\n",
    "    return"
   ]
  },
  {
   "cell_type": "code",
   "execution_count": 9,
   "metadata": {
    "collapsed": false
   },
   "outputs": [
    {
     "ename": "IndentationError",
     "evalue": "unexpected indent (<ipython-input-9-ac4c0c894b1d>, line 2)",
     "output_type": "error",
     "traceback": [
      "\u001b[0;36m  File \u001b[0;32m\"<ipython-input-9-ac4c0c894b1d>\"\u001b[0;36m, line \u001b[0;32m2\u001b[0m\n\u001b[0;31m    return answer\u001b[0m\n\u001b[0m    ^\u001b[0m\n\u001b[0;31mIndentationError\u001b[0m\u001b[0;31m:\u001b[0m unexpected indent\n"
     ]
    }
   ],
   "source": [
    "\n",
    "    return answer\n",
    "print_title(\"Input credit card number into variable card\")\n",
    "print_normal(\"get the first digit of the number\")"
   ]
  },
  {
   "cell_type": "code",
   "execution_count": 3,
   "metadata": {
    "collapsed": false,
    "scrolled": false
   },
   "outputs": [
    {
     "name": "stdout",
     "output_type": "stream",
     "text": [
      "what is the first number of the credit card? 4\n",
      "The card issuer is Visa\n",
      "4\n"
     ]
    }
   ],
   "source": [
    "## TODO: Write your code here\n",
    "card = input(\"what is the first number of the credit card? \") \n",
    "digit = card[0]\n",
    "if card == '4':\n",
    "    print (\"The card issuer is Visa\") \n",
    "elif card =='5':\n",
    "    print(\"the card issuer is MasterCard\")\n",
    "elif number == '6':\n",
    "    print(\"The card issuer is Discover\")\n",
    "elif number == '3':\n",
    "    print_normal (\"the Card issuer is American Express\")\n",
    "else:\n",
    "    print(\"the issuer is 'invalid' \")\n",
    "print (card)"
   ]
  },
  {
   "cell_type": "markdown",
   "metadata": {},
   "source": [
    "**IMPORTANT** Make sure to test your code by running it 5 times. You should test issuer and also the \"Invalid Card\" case.\n",
    "\n",
    "## Introducing the Write - Refactor - Test - Rewrite approach\n",
    "\n",
    "It would be nice to re-write this code to use a function. This can seem daunting / confusing for beginner programmers, which is why we teach the **Write - Refactor - Test - Rewrite** approach. In this approach you write the ENTIRE PROGRAM and then REWRITE IT to use functions. Yes, it's inefficient, but until you get comfotable thinking \"functions first\" its the best way to modularize your code with functions. Here's the approach:\n",
    "\n",
    "1. Write the code\n",
    "2. Refactor (change the code around) to use a function\n",
    "3. Test the function by calling it\n",
    "4. Rewrite the original code to use the new function.\n",
    "\n",
    "\n",
    "We already did step 1: Write so let's move on to:\n",
    "\n",
    "### Step 2: refactor\n",
    "\n",
    "Let's strip the logic out of the above code to accomplish the task of the function:\n",
    "\n",
    "- Send into the function as input a credit card number as a `str`\n",
    "- Return back from the function as output the issuer of the card as a `str`\n",
    "\n",
    "To help you out we've written the function stub for you all you need to do is write the function body code."
   ]
  },
  {
   "cell_type": "code",
   "execution_count": 19,
   "metadata": {
    "collapsed": false
   },
   "outputs": [
    {
     "name": "stdout",
     "output_type": "stream",
     "text": [
      "what is the first number of the credit card? 4\n",
      "The card issuer is Visa\n"
     ]
    }
   ],
   "source": [
    "\n",
    "card = input(\"what is the first number of the credit card? \") \n",
    "def CardIssuer(card):\n",
    "    \n",
    "\n",
    "    ## TODO write code here they should be the same as lines 3-13 from the code above\n",
    "   \n",
    "    digit = card[0]\n",
    "    if digit == '4':\n",
    "        print (\"The card issuer is Visa\") \n",
    "    elif digit =='5':\n",
    "        print(\"the card issuer is MasterCard\")\n",
    "    elif digit == '6':\n",
    "        print(\"The card issuer is Discover\")\n",
    "    elif digit == '3':\n",
    "        print (\"the Card issuer is American Express\")\n",
    "    else:\n",
    "        print(\"the issuer is 'invalid' \")\n",
    "    \n",
    "    # the last line in the function should return the output\n",
    "    return \n",
    "CardIssuer(card)"
   ]
  },
  {
   "cell_type": "code",
   "execution_count": null,
   "metadata": {
    "collapsed": true
   },
   "outputs": [],
   "source": [
    "CardIssuer(card)"
   ]
  },
  {
   "cell_type": "markdown",
   "metadata": {},
   "source": [
    "### Step 3: Test\n",
    "\n",
    "You wrote the function, but how do you know it works? The short answer is unless you test it you're guessing. \n",
    "\n",
    "Testing our function is as simple as calling the function with input values where WE KNOW WHAT TO EXPECT from the output. We then compare that to the ACTUAL value from the called function. If they are the same, then we know the function is working as expected!\n",
    "\n",
    "Here's some examples:\n",
    "\n",
    "```\n",
    "WHEN card='40123456789' We EXPECT CardIssuer(card) to return Visa\n",
    "WHEN card='50123456789' We EXPECT CardIssuer(card) to return MasterCard\n",
    "WHEN card='60123456789' We EXPECT CardIssuer(card) to return Discover\n",
    "WHEN card='30123456789' We EXPECT CardIssuer(card) to return American Express\n",
    "WHEN card='90123456789' We EXPECT CardIssuer(card) to return Invalid Card\n",
    "```\n",
    "\n",
    "### Now you Try it!\n",
    "\n",
    "Write the tests based on the examples:"
   ]
  },
  {
   "cell_type": "code",
   "execution_count": 8,
   "metadata": {
    "collapsed": false
   },
   "outputs": [
    {
     "name": "stdout",
     "output_type": "stream",
     "text": [
      "what is the first number of the credit card? 5\n",
      "the card issuer is MasterCard\n",
      "5\n"
     ]
    },
    {
     "data": {
      "text/plain": [
       "'5'"
      ]
     },
     "execution_count": 8,
     "metadata": {},
     "output_type": "execute_result"
    }
   ],
   "source": [
    "CardIssuer(card)"
   ]
  },
  {
   "cell_type": "code",
   "execution_count": null,
   "metadata": {
    "collapsed": false
   },
   "outputs": [],
   "source": [
    "# Testing the CardIssuer() function\n",
    "print(\"WHEN card='40123456789' We EXPECT CardIssuer(card) to return Visa ACTUAL\", CardIssuer(\"40123456789\"))\n",
    "print(\"WHEN card='50123456789' We EXPECT CardIssuer(card) to return MasterCard ACTUAL\", CardIssuer(\"50123456789\"))\n",
    "\n",
    "## TODO: You write the remaining 3 tests, you can copy the lines and edit the values accordingly\n",
    "\n",
    "print(\"WHEN card='60123456789' We EXPECT CardIssuer(card) to return Discover ACTUAL\", CardIssuer(\"60123456789\"))\n",
    "print(\"WHEN card='30123456789' We EXPECT CardIssuer(card) to return American Express ACTUAL\",CardIssuer(\"30123456789\"))\n",
    "print(\"WHEN card='90123456789' We EXPECT CardIssuer(card) to return Invalid Card ACTUAL\",CardIssuer(\"90123456789\"))\n"
   ]
  },
  {
   "cell_type": "markdown",
   "metadata": {},
   "source": [
    "### Step 4: Rewrite\n",
    "\n",
    "The final step is to re-write the original program, but use the function instead. The algorithm becomes\n",
    "\n",
    "```\n",
    "input credit card number into variable card\n",
    "call the CardIssuer function with card as input, issuer as output\n",
    "print issuer\n",
    "```\n",
    "\n",
    "### Now You Try It!\n"
   ]
  },
  {
   "cell_type": "code",
   "execution_count": 18,
   "metadata": {
    "collapsed": false
   },
   "outputs": [
    {
     "name": "stdout",
     "output_type": "stream",
     "text": [
      "what is the first number of the credit card? 4\n"
     ]
    }
   ],
   "source": [
    "# TODO Re-write the program here, calling our function.\n",
    "issuer = input(\"what is the first number of the credit card? \")\n",
    "\n",
    "def CardIssuer(card):\n",
    "    issuer = 0\n",
    "    ## TODO write code here they should be the same as lines 3-13 from the code above\n",
    "    digit = card[0]\n",
    "    if digit == '4':\n",
    "        print (\"The card issuer is Visa\") \n",
    "    elif digit =='5':\n",
    "        print(\"the card issuer is MasterCard\")\n",
    "    elif digit == '6':\n",
    "        print(\"The card issuer is Discover\")\n",
    "    elif digit == '3':\n",
    "        print (\"the Card issuer is American Express\")\n",
    "    else:\n",
    "        print(\"the issuer is 'invalid' \")\n",
    "    \n",
    "    \n",
    "    # the last line in the function should return the output\n",
    "    return card"
   ]
  },
  {
   "cell_type": "code",
   "execution_count": 4,
   "metadata": {
    "collapsed": false
   },
   "outputs": [
    {
     "name": "stdout",
     "output_type": "stream",
     "text": [
      "what is the first number of the credit card? 4\n"
     ]
    }
   ],
   "source": [
    "\n",
    "card = input(\"what is the first number of the credit card? \") \n",
    "def CardIssuer(card):\n",
    "    card = input(\"what is the first number of the credit card? \") \n",
    "\n",
    "\n",
    "    ## TODO write code here they should be the same as lines 3-13 from the code above\n",
    "   \n",
    "    digit = card[0]\n",
    "    if digit == '4':\n",
    "        print (\"The card issuer is Visa\") \n",
    "    elif digit =='5':\n",
    "        print(\"the card issuer is MasterCard\")\n",
    "    elif digit == '6':\n",
    "        print(\"The card issuer is Discover\")\n",
    "    elif digit == '3':\n",
    "        print (\"the Card issuer is American Express\")\n",
    "    else:\n",
    "        print(\"the issuer is 'invalid' \")\n",
    "    \n",
    "    # the last line in the function should return the output\n",
    "    return \n"
   ]
  },
  {
   "cell_type": "code",
   "execution_count": 5,
   "metadata": {
    "collapsed": false
   },
   "outputs": [
    {
     "name": "stdout",
     "output_type": "stream",
     "text": [
      "what is the first number of the credit card? 4\n",
      "The card issuer is Visa\n"
     ]
    }
   ],
   "source": [
    "CardIssuer(card)"
   ]
  },
  {
   "cell_type": "markdown",
   "metadata": {},
   "source": [
    "## Functions are abstractions. Abstractions are good.\n",
    "\n",
    "\n",
    "Step on the accellerator and the car goes. How does it work? Who cares, it's an abstraction! Functions are the same way. Don't believe me. Consider the Luhn Check Algorithm: https://en.wikipedia.org/wiki/Luhn_algorithm \n",
    "\n",
    "This nifty little algorithm is used to verify that a sequence of digits is possibly a credit card number (as opposed to just a sequence of numbers). It uses a verfication approach called a **checksum** to as it uses a formula to figure out the validity. \n",
    "\n",
    "Here's the function which given a card will let you know if it passes the Luhn check:\n"
   ]
  },
  {
   "cell_type": "code",
   "execution_count": null,
   "metadata": {
    "collapsed": true
   },
   "outputs": [],
   "source": [
    "# Todo: execute this code\n",
    "\n",
    "def checkLuhn(card):\n",
    "    ''' This Luhn algorithm was adopted from the pseudocode here: https://en.wikipedia.org/wiki/Luhn_algorithm'''\n",
    "    total = 0\n",
    "    length = len(card)\n",
    "    parity = length % 2\n",
    "    for i in range(length):\n",
    "        digit = int(card[i])\n",
    "        if i%2 == parity:\n",
    "            digit = digit * 2\n",
    "            if digit > 9:\n",
    "                digit = digit -9\n",
    "        total = total + digit\n",
    "    return total % 10 == 0\n"
   ]
  },
  {
   "cell_type": "markdown",
   "metadata": {},
   "source": [
    "### Is that a credit card number or the ramblings of a madman?\n",
    "\n",
    "In order to test the `checkLuhn()` function you need some credit card numbers. (Don't look at me... you ain't gettin' mine!!!!) Not to worry, the internet has you covered. The website: http://www.getcreditcardnumbers.com/ is not some mysterious site on the dark web. It's a site for generating \"test\" credit card numbers. You can't buy anything with these numbers, but they will pass the Luhn test.\n",
    "\n",
    "Grab a couple of numbers and test the Luhn function as we did with the `CardIssuer()` function. Write at least to tests like these ones:\n",
    "\n",
    "```\n",
    "WHEN card='5443713204330437' We EXPECT checkLuhn(card) to return True\n",
    "WHEN card='5111111111111111' We EXPECT checkLuhn(card) to return False \n",
    "```\n"
   ]
  },
  {
   "cell_type": "code",
   "execution_count": 6,
   "metadata": {
    "collapsed": false
   },
   "outputs": [
    {
     "name": "stdout",
     "output_type": "stream",
     "text": [
      "what is the first number of the credit card? 4024007118205540\n",
      "The card issuer is Visa\n",
      "4024007118205540\n",
      "WHEN card='4485961198045899' We EXPECT CardIssuer(card) to return Visa ACTUAL 4024007118205540\n",
      "what is the first number of the credit card? 5426855123653778\n",
      "the card issuer is MasterCard\n",
      "5426855123653778\n",
      "WHEN card='5101138799496638' We EXPECT CardIssuer(card) to return MasterCard ACTUAL 5426855123653778\n",
      "what is the first number of the credit card? 374936012373596\n",
      "the Card issuer is American Express\n",
      "374936012373596\n",
      "WHEN card='6011979189197329' We EXPECT CardIssuer(card) to return Discover ACTUAL 374936012373596\n",
      "what is the first number of the credit card? 343396248375121\n",
      "the Card issuer is American Express\n",
      "343396248375121\n",
      "WHEN card='379154137500177' We EXPECT CardIssuer(card) to return American Express ACTUAL 343396248375121\n",
      "what is the first number of the credit card? 6011478683133773\n",
      "The card issuer is Discover\n",
      "6011478683133773\n",
      "WHEN card='90123456789' We EXPECT CardIssuer(card) to return Invalid Card ACTUAL 6011478683133773\n"
     ]
    }
   ],
   "source": [
    "#TODO Write your two tests here\n",
    "print(\"WHEN card='4485961198045899' We EXPECT CardIssuer(card) to return Visa ACTUAL\", CardIssuer(\"4485961198045899\"))\n",
    "print(\"WHEN card='5101138799496638' We EXPECT CardIssuer(card) to return MasterCard ACTUAL\", CardIssuer(\"5101138799496638\"))\n",
    "\n",
    "## TODO: You write the remaining 3 tests, you can copy the lines and edit the values accordingly\n",
    "\n",
    "print(\"WHEN card='6011979189197329' We EXPECT CardIssuer(card) to return Discover ACTUAL\", CardIssuer(\"6011979189197329\"))\n",
    "print(\"WHEN card='379154137500177' We EXPECT CardIssuer(card) to return American Express ACTUAL\",CardIssuer(\"379154137500177\"))\n",
    "print(\"WHEN card='90123456789' We EXPECT CardIssuer(card) to return Invalid Card ACTUAL\",CardIssuer(\"90123456789\"))"
   ]
  },
  {
   "cell_type": "markdown",
   "metadata": {},
   "source": [
    "## Putting it all together\n",
    "\n",
    "Finally use our two functions to write the following program. It will ask for a series of credit card numbers, until you enter 'quit' for each number it will output whether it's invalid or if valid name the issuer.\n",
    "\n",
    "\n",
    "Here's the Algorithm:\n",
    "```\n",
    "loop\n",
    "    input a credit card number\n",
    "    if card = 'quit' stop loop\n",
    "    if card passes luhn check\n",
    "        get issuer\n",
    "        print issuer\n",
    "    else\n",
    "        print invalid card\n",
    "```\n",
    "\n",
    "### Now You Try It"
   ]
  },
  {
   "cell_type": "code",
   "execution_count": null,
   "metadata": {
    "collapsed": false,
    "scrolled": true
   },
   "outputs": [
    {
     "name": "stdout",
     "output_type": "stream",
     "text": [
      "what is your credit card number? 5133621488752694\n",
      "The card issuer is Visa\n",
      "WHEN card='4485961198045899' We EXPECT CardIssuer(card) to return Visa ACTUAL None\n",
      "the card issuer is MasterCard\n",
      "WHEN card='5101138799496638' We EXPECT CardIssuer(card) to return MasterCard ACTUAL None\n",
      "The card issuer is Discover\n",
      "WHEN card='6011979189197329' We EXPECT CardIssuer(card) to return Discover ACTUAL None\n",
      "the Card issuer is American Express\n",
      "WHEN card='379154137500177' We EXPECT CardIssuer(card) to return American Express ACTUAL None\n",
      "what is your credit card number? 5133621488752694\n",
      "The card issuer is Visa\n",
      "WHEN card='4485961198045899' We EXPECT CardIssuer(card) to return Visa ACTUAL None\n",
      "the card issuer is MasterCard\n",
      "WHEN card='5101138799496638' We EXPECT CardIssuer(card) to return MasterCard ACTUAL None\n",
      "The card issuer is Discover\n",
      "WHEN card='6011979189197329' We EXPECT CardIssuer(card) to return Discover ACTUAL None\n",
      "the Card issuer is American Express\n",
      "WHEN card='379154137500177' We EXPECT CardIssuer(card) to return American Express ACTUAL None\n"
     ]
    }
   ],
   "source": [
    "## TODO Write code here\n",
    "\n",
    "while True:\n",
    "    card_number = input(\"what is your credit card number? \")\n",
    "    if card_number =='quit':\n",
    "        break\n",
    "    elif card_number != 'quit':\n",
    "        card_number = int(card_number)\n",
    "    # the last line in the function should return the output\n",
    "    \n",
    "    def checkLuhn(card):\n",
    "        total = 0\n",
    "        length = len(card)\n",
    "        parity = length % 2\n",
    "        for i in range(length):\n",
    "            digit = int(card[i])\n",
    "            if i%2 == parity:\n",
    "                digit = digit * 2\n",
    "                if digit > 9:\n",
    "                    digit = digit -9\n",
    "            total = total + digit\n",
    "        return total % 10 == 0\n",
    "    print(\"WHEN card='4485961198045899' We EXPECT CardIssuer(card) to return Visa ACTUAL\", CardIssuer(\"4485961198045899\"))\n",
    "    print(\"WHEN card='5101138799496638' We EXPECT CardIssuer(card) to return MasterCard ACTUAL\", CardIssuer(\"5101138799496638\"))\n",
    "    print(\"WHEN card='6011979189197329' We EXPECT CardIssuer(card) to return Discover ACTUAL\", CardIssuer(\"6011979189197329\"))\n",
    "    print(\"WHEN card='379154137500177' We EXPECT CardIssuer(card) to return American Express ACTUAL\",CardIssuer(\"379154137500177\"))\n",
    "\n",
    "else:\n",
    "    print(\"WHEN card='90123456789' We EXPECT CardIssuer(card) to return Invalid Card ACTUAL\",CardIssuer(\"90123456789\"))\n"
   ]
  },
  {
   "cell_type": "code",
   "execution_count": null,
   "metadata": {
    "collapsed": true
   },
   "outputs": [],
   "source": []
  },
  {
   "cell_type": "code",
   "execution_count": null,
   "metadata": {
    "collapsed": true
   },
   "outputs": [],
   "source": []
  },
  {
   "cell_type": "code",
   "execution_count": null,
   "metadata": {
    "collapsed": true
   },
   "outputs": [],
   "source": []
  },
  {
   "cell_type": "code",
   "execution_count": null,
   "metadata": {
    "collapsed": true
   },
   "outputs": [],
   "source": []
  },
  {
   "cell_type": "code",
   "execution_count": null,
   "metadata": {
    "collapsed": true
   },
   "outputs": [],
   "source": []
  },
  {
   "cell_type": "code",
   "execution_count": null,
   "metadata": {
    "collapsed": true
   },
   "outputs": [],
   "source": []
  }
 ],
 "metadata": {
  "anaconda-cloud": {},
  "kernelspec": {
   "display_name": "Python 3",
   "language": "python",
   "name": "python3"
  },
  "language_info": {
   "codemirror_mode": {
    "name": "ipython",
    "version": 3
   },
   "file_extension": ".py",
   "mimetype": "text/x-python",
   "name": "python",
   "nbconvert_exporter": "python",
   "pygments_lexer": "ipython3",
   "version": "3.6.0"
  }
 },
 "nbformat": 4,
 "nbformat_minor": 1
}
