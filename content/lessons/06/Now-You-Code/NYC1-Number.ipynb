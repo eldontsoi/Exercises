{
 "cells": [
  {
   "cell_type": "markdown",
   "metadata": {},
   "source": [
    "# Now You Code 1: Number\n",
    "\n",
    "In this now you code we will learn to re-factor a program into a function. This is the most common way to write a function when you are a beginner. *Re-factoring* is the act of re-writing code without changing its functionality. We commonly do re-factoring to improve performance or readability of our code.\n",
    "\n",
    "The way you do this is rather simple. First you write a program to solve the problem, then you re-write that program as a function and finally test the function to make sure it works as expected. \n",
    "\n",
    "This helps train you to think abstractly about problems, but leverages what you understand currently about programming.\n",
    "\n",
    "## Introducing the Write - Refactor - Test - Rewrite approach\n",
    "\n",
    "The best way to get good at writing functions, a skill you will need to master to become a respectable programmer, is to use the **Write - Refactor - Test - Rewrite** approach. Let's follow.\n",
    "\n",
    "### Step 1: we write the program \n",
    "\n",
    "Write a program to take an input string and convert to a float. If the string cannot be converted to a float it returns the string \"NaN\" which means \"Not a Number\" We did this first part for you.\n",
    "\n",
    "#### Problem Analysis (This has been done for you)\n",
    "\n",
    "Inputs: Any value\n",
    "\n",
    "Outputs: whether that value is a number\n",
    "\n",
    "Algorithm:\n",
    "0. define a function\n",
    "1. input a value\n",
    "2. try to convert the value to a number\n",
    "3. if you can convert it, print the number\n",
    "4. if you cannot print 'NaN' for Not a number."
   ]
  },
  {
   "cell_type": "code",
   "execution_count": null,
   "metadata": {},
   "outputs": [],
   "source": [
    "##atempt 2\n",
    "\n",
    "def\n"
   ]
  },
  {
   "cell_type": "code",
   "execution_count": 1,
   "metadata": {},
   "outputs": [
    {
     "name": "stdout",
     "output_type": "stream",
     "text": [
      "type in any value: not a number\n",
      "NaN\n"
     ]
    }
   ],
   "source": [
    "## STEP 2 : Write the program \n",
    "\n",
    "input = input(\"type in any value: \")\n",
    "try:\n",
    "    number = int(input)\n",
    "    print (number)\n",
    "except:\n",
    "    print ('NaN')\n",
    "\n"
   ]
  },
  {
   "cell_type": "markdown",
   "metadata": {},
   "source": [
    "### Step 2: we refactor it into a function\n",
    "\n",
    "Complete the `ToNumber` function. It should be similar to the program above, but it should not have any `input()` or `print()` functions as those are reserved for the main program, instead the function should send variable arguments in as input, and return a value as output. In this case the function takes `text` as input and returns `number` as output\n"
   ]
  },
  {
   "cell_type": "code",
   "execution_count": 31,
   "metadata": {},
   "outputs": [
    {
     "data": {
      "text/plain": [
       "'nan'"
      ]
     },
     "execution_count": 31,
     "metadata": {},
     "output_type": "execute_result"
    }
   ],
   "source": [
    "# Step 3: write the function\n",
    "## Function: ToNumber\n",
    "## Argument (input): text value\n",
    "## Returns (output): float of text value or \"NaN\"\n",
    "\n",
    "def ToNumber(text):\n",
    "    # TODO Write code here\n",
    "       # delete this one text = input(\"type in any value: \")\n",
    "        error = \"nan\"\n",
    "        number = \" \"\n",
    "        #dunno = \"input an integer!\"\n",
    "        try:\n",
    "            number = float(text)\n",
    "            return number\n",
    "        except:\n",
    "            return error\n",
    "ToNumber('123')"
   ]
  },
  {
   "cell_type": "code",
   "execution_count": 17,
   "metadata": {},
   "outputs": [
    {
     "data": {
      "text/plain": [
       "4"
      ]
     },
     "execution_count": 17,
     "metadata": {},
     "output_type": "execute_result"
    }
   ],
   "source": [
    "int(4.5)"
   ]
  },
  {
   "cell_type": "markdown",
   "metadata": {},
   "source": [
    "### Step 3: we test our function\n",
    "\n",
    "With the function complete, we need to test our function. The simplest way to do that is call the function with inputs we expect and verify the output. For example:\n",
    "\n",
    "```\n",
    "WHEN text='10.5' We EXPECT ToNumber(text) to return 10.5 ACTUAL: 10.5\n",
    "WHEN text='threeve' We EXPECT ToNumber(text) to return 'NaN' ACTUAL: NaN\n",
    "```\n",
    "\n",
    "We can do this with simple `print()` statements, where we simply say what we are testing, then call the function with the value. \n",
    "\n",
    "How many do we need? Enough to cover all the possibilities in output. We only need two tests here one for when the number can be converted and one for when the number cannot."
   ]
  },
  {
   "cell_type": "code",
   "execution_count": 3,
   "metadata": {},
   "outputs": [
    {
     "name": "stdout",
     "output_type": "stream",
     "text": [
      "WHEN text='10.5' We EXPECT ToNumber(text) to return 10.5 ACTUAL: 10.5\n",
      "WHEN text='threeve' We EXPECT ToNumber(text) to return 'NaN' ACTUAL: threeve\n"
     ]
    }
   ],
   "source": [
    "print(\"WHEN text='10.5' We EXPECT ToNumber(text) to return 10.5 ACTUAL:\", ToNumber('10.5'))\n",
    "print(\"WHEN text='threeve' We EXPECT ToNumber(text) to return 'NaN' ACTUAL:\", ToNumber('threeve'))"
   ]
  },
  {
   "cell_type": "markdown",
   "metadata": {},
   "source": [
    "### Step 4: rewrite the program to use the function\n",
    "\n",
    "Finally re-write the original program to use the new `ToNumber` function. The program now works the same as STEP1 but it now calls our function!"
   ]
  },
  {
   "cell_type": "code",
   "execution_count": 13,
   "metadata": {},
   "outputs": [
    {
     "ename": "TypeError",
     "evalue": "'str' object is not callable",
     "output_type": "error",
     "traceback": [
      "\u001b[1;31m---------------------------------------------------------------------------\u001b[0m",
      "\u001b[1;31mTypeError\u001b[0m                                 Traceback (most recent call last)",
      "\u001b[1;32m<ipython-input-13-bd8a37e8a895>\u001b[0m in \u001b[0;36m<module>\u001b[1;34m()\u001b[0m\n\u001b[0;32m      8\u001b[0m     \u001b[1;32mreturn\u001b[0m \u001b[0mvalid\u001b[0m\u001b[1;33m\u001b[0m\u001b[0m\n\u001b[0;32m      9\u001b[0m \u001b[1;33m\u001b[0m\u001b[0m\n\u001b[1;32m---> 10\u001b[1;33m \u001b[0manything\u001b[0m \u001b[1;33m=\u001b[0m \u001b[0minput\u001b[0m\u001b[1;33m(\u001b[0m\u001b[1;34m\"input a number\"\u001b[0m\u001b[1;33m)\u001b[0m\u001b[1;33m\u001b[0m\u001b[0m\n\u001b[0m\u001b[0;32m     11\u001b[0m \u001b[1;33m\u001b[0m\u001b[0m\n\u001b[0;32m     12\u001b[0m \u001b[1;32mtry\u001b[0m\u001b[1;33m:\u001b[0m\u001b[1;33m\u001b[0m\u001b[0m\n",
      "\u001b[1;31mTypeError\u001b[0m: 'str' object is not callable"
     ]
    }
   ],
   "source": [
    "## Step 4: write the program from step 2 again, but this time use the function you defined two code cells up from here.\n",
    "#def ToNumber(value,error):\n",
    "    # TODO Write code here\n",
    "    #valid = value\n",
    "    #not_valid = error\n",
    "    #value = number\n",
    "    #error = not_number\n",
    "    #return valid\n",
    "\n",
    "print(ToNumber(123)\"we expect ToNumber(123) to return 123.0\" ACTUAL\", ToNumber(123))\n",
    "\n",
    "\n",
    "    \n"
   ]
  },
  {
   "cell_type": "code",
   "execution_count": 15,
   "metadata": {},
   "outputs": [
    {
     "ename": "TypeError",
     "evalue": "'str' object is not callable",
     "output_type": "error",
     "traceback": [
      "\u001b[1;31m---------------------------------------------------------------------------\u001b[0m",
      "\u001b[1;31mTypeError\u001b[0m                                 Traceback (most recent call last)",
      "\u001b[1;32m<ipython-input-15-dccb5c7ffdd7>\u001b[0m in \u001b[0;36m<module>\u001b[1;34m()\u001b[0m\n\u001b[1;32m----> 1\u001b[1;33m \u001b[0minteger\u001b[0m \u001b[1;33m=\u001b[0m \u001b[0minput\u001b[0m\u001b[1;33m(\u001b[0m\u001b[1;34m\"input a number\"\u001b[0m\u001b[1;33m)\u001b[0m\u001b[1;33m\u001b[0m\u001b[0m\n\u001b[0m\u001b[0;32m      2\u001b[0m \u001b[1;33m\u001b[0m\u001b[0m\n\u001b[0;32m      3\u001b[0m \u001b[1;32mtry\u001b[0m\u001b[1;33m:\u001b[0m\u001b[1;33m\u001b[0m\u001b[0m\n\u001b[0;32m      4\u001b[0m     \u001b[0manything\u001b[0m \u001b[1;33m=\u001b[0m \u001b[0mint\u001b[0m\u001b[1;33m(\u001b[0m\u001b[0minput\u001b[0m\u001b[1;33m)\u001b[0m\u001b[1;33m\u001b[0m\u001b[0m\n\u001b[0;32m      5\u001b[0m     \u001b[0mprint\u001b[0m \u001b[1;33m(\u001b[0m\u001b[0mnumber\u001b[0m\u001b[1;33m)\u001b[0m\u001b[1;33m\u001b[0m\u001b[0m\n",
      "\u001b[1;31mTypeError\u001b[0m: 'str' object is not callable"
     ]
    }
   ],
   "source": [
    "#error\n",
    "\n",
    "integer = input(\"input a number\")\n",
    "\n",
    "try:\n",
    "    anything = int(input)\n",
    "    print (number)\n",
    "except:\n",
    "    print ('NaN')"
   ]
  },
  {
   "cell_type": "code",
   "execution_count": null,
   "metadata": {
    "collapsed": true
   },
   "outputs": [],
   "source": [
    "def ToNumber"
   ]
  },
  {
   "cell_type": "markdown",
   "metadata": {},
   "source": [
    "## Step 3: Questions\n",
    "\n",
    "1. Can you define a function with the same name more than once?\n",
    "\n",
    "yes, becuase the new funciton will overwrite the old one.\n",
    "\n",
    "2. Can you call a function with the name name more than once?\n",
    "\n",
    "yes, we can call a function unlimited times.\n",
    "\n",
    "3. What is the input to the number function? What is the output?\n",
    "\n",
    "\n",
    "the input to the number function is the value inside the brackets\n"
   ]
  },
  {
   "cell_type": "markdown",
   "metadata": {},
   "source": [
    "## Reminder of Evaluation Criteria\n",
    "\n",
    "1. What the problem attempted (analysis, code, and answered questions) ?\n",
    "2. What the problem analysis thought out? (does the program match the plan?)\n",
    "3. Does the code execute without syntax error?\n",
    "4. Does the code solve the intended problem?\n",
    "5. Is the code well written? (easy to understand, modular, and self-documenting, handles errors)"
   ]
  },
  {
   "cell_type": "code",
   "execution_count": null,
   "metadata": {
    "collapsed": true
   },
   "outputs": [],
   "source": []
  }
 ],
 "metadata": {
  "anaconda-cloud": {},
  "kernelspec": {
   "display_name": "Python 3",
   "language": "python",
   "name": "python3"
  },
  "language_info": {
   "codemirror_mode": {
    "name": "ipython",
    "version": 3
   },
   "file_extension": ".py",
   "mimetype": "text/x-python",
   "name": "python",
   "nbconvert_exporter": "python",
   "pygments_lexer": "ipython3",
   "version": "3.6.3"
  }
 },
 "nbformat": 4,
 "nbformat_minor": 1
}
