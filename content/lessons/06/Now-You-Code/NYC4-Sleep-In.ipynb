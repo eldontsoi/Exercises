{
 "cells": [
  {
   "cell_type": "markdown",
   "metadata": {},
   "source": [
    "# Now You Code 4: Should I Sleep In?\n",
    "\n",
    "Always. :-) \n",
    "\n",
    "Actually we'd like to write a program which will suggest whether or not we can sleep in. Our criteria will be as follows.\n",
    "\n",
    "- Is it the weekend? Then sleep in.\n",
    "- Is it a holiday? Then sleep in.\n",
    "- Otherwise you need to get up!\n",
    "\n",
    "Let's write a program to input the day of the week and ask whether or not its a holiday, then make the appropriate decision as to whether or not we should sleep in.\n",
    "\n",
    "We will use the **Write - Refactor - Test - Rewrite** approach to complete the final solution which will refactor the day of the week logic into a function."
   ]
  },
  {
   "cell_type": "markdown",
   "metadata": {},
   "source": [
    "## Step 1: Write\n",
    "\n",
    "Here's the algorithm of this program. Write the solution in Python.\n",
    "\n",
    "```\n",
    "    input day of the week\n",
    "    input is it a holiday\n",
    "    if day of the week is a weekend\n",
    "        print go back to bed its the weekend\n",
    "    else\n",
    "        if its a holiday\n",
    "            print go back to bed. its a holiday\n",
    "        else\n",
    "            print you need to get up\n",
    "```\n",
    "\n",
    "Example Run 1:\n",
    "\n",
    "```\n",
    "What day of the week is it? Monday\n",
    "Is it a holiday? No\n",
    "You need to get up!\n",
    "```\n",
    "\n",
    "Example Run 2:\n",
    "\n",
    "```\n",
    "What day of the week is it? Saturday\n",
    "Is it a holiday? No\n",
    "Go back to bed! It's the weekend.\n",
    "```\n",
    "\n",
    "Example Run 3:\n",
    "\n",
    "```\n",
    "What day of the week is it? Monday\n",
    "Is it a holiday? Yes\n",
    "Go back to bed! It's a Holiday.\n",
    "```\n"
   ]
  },
  {
   "cell_type": "code",
   "execution_count": 13,
   "metadata": {},
   "outputs": [
    {
     "name": "stdout",
     "output_type": "stream",
     "text": [
      "what day is it of the week? monday\n",
      "go back to bed!its the weekend.\n"
     ]
    }
   ],
   "source": [
    "## TODO: Write the solution here\n",
    "\n",
    "day_of_week = input(\"what day is it of the week? \")\n",
    "holiday = input (\"is it a holiday? answer yes/no \")\n",
    "if day_of_week == 'Sunday' or 'Sun' or 'Sun' or 'sunday' or 'Sat' or 'sat' or 'Saturday' or 'saturday':\n",
    "    print(\"go back to bed!its the weekend.\")\n",
    "elif day_of_week != 'Sunday' or 'Sun' or 'Sun' or 'sunday' or 'Sat' or 'sat' or 'Saturday' or 'saturday':\n",
    "    \n",
    "    if holiday == \"yes\":\n",
    "        print (\"then sleep in！\")\n",
    "    elif holiday ==\"no\":\n",
    "        print (\"you need to get up\")"
   ]
  },
  {
   "cell_type": "markdown",
   "metadata": {},
   "source": [
    "## Step 2: Refactor\n",
    "\n",
    "Next we need to refactor the part of this program which checks to see if the day of the week is a weekend. The function:\n",
    "\n",
    "- `IsWeekend()` has one input a `day_of_week` and returns `True` when it's a `Saturday` or `Sunday`, `False` for all other days.\n"
   ]
  },
  {
   "cell_type": "code",
   "execution_count": 16,
   "metadata": {},
   "outputs": [],
   "source": [
    "def IsWeekend (day):\n",
    "    if day == 'Sunday' or 'Sun' or 'Sun' or 'sunday' or 'Sat' or 'sat' or 'Saturday' or 'saturday':\n",
    "        true = \"go back to bed it is weekend or holiday\"\n",
    "    else:\n",
    "        false = \"its not holiday or weekend go to work!\"\n",
    "    return true or false"
   ]
  },
  {
   "cell_type": "code",
   "execution_count": 19,
   "metadata": {},
   "outputs": [
    {
     "name": "stdout",
     "output_type": "stream",
     "text": [
      "what day is today? monday\n"
     ]
    },
    {
     "ename": "NameError",
     "evalue": "name 'weekend' is not defined",
     "output_type": "error",
     "traceback": [
      "\u001b[1;31m---------------------------------------------------------------------------\u001b[0m",
      "\u001b[1;31mNameError\u001b[0m                                 Traceback (most recent call last)",
      "\u001b[1;32m<ipython-input-19-ad7b2d96b1f0>\u001b[0m in \u001b[0;36m<module>\u001b[1;34m()\u001b[0m\n\u001b[0;32m      1\u001b[0m \u001b[0mday\u001b[0m \u001b[1;33m=\u001b[0m \u001b[0minput\u001b[0m\u001b[1;33m(\u001b[0m\u001b[1;34m\"what day is today? \"\u001b[0m\u001b[1;33m)\u001b[0m\u001b[1;33m\u001b[0m\u001b[0m\n\u001b[1;32m----> 2\u001b[1;33m \u001b[0mweekend\u001b[0m \u001b[1;33m=\u001b[0m \u001b[0mIsWeekend\u001b[0m\u001b[1;33m(\u001b[0m\u001b[0mday\u001b[0m\u001b[1;33m)\u001b[0m\u001b[1;33m\u001b[0m\u001b[0m\n\u001b[0m",
      "\u001b[1;32m<ipython-input-16-bf4666638453>\u001b[0m in \u001b[0;36mIsWeekend\u001b[1;34m(day)\u001b[0m\n\u001b[0;32m      1\u001b[0m \u001b[1;32mdef\u001b[0m \u001b[0mIsWeekend\u001b[0m \u001b[1;33m(\u001b[0m\u001b[0mday\u001b[0m\u001b[1;33m)\u001b[0m\u001b[1;33m:\u001b[0m\u001b[1;33m\u001b[0m\u001b[0m\n\u001b[1;32m----> 2\u001b[1;33m     \u001b[1;32mif\u001b[0m \u001b[0mweekend\u001b[0m \u001b[1;33m==\u001b[0m \u001b[1;34m'Sunday'\u001b[0m \u001b[1;32mor\u001b[0m \u001b[1;34m'Sun'\u001b[0m \u001b[1;32mor\u001b[0m \u001b[1;34m'Sun'\u001b[0m \u001b[1;32mor\u001b[0m \u001b[1;34m'sunday'\u001b[0m \u001b[1;32mor\u001b[0m \u001b[1;34m'Sat'\u001b[0m \u001b[1;32mor\u001b[0m \u001b[1;34m'sat'\u001b[0m \u001b[1;32mor\u001b[0m \u001b[1;34m'Saturday'\u001b[0m \u001b[1;32mor\u001b[0m \u001b[1;34m'saturday'\u001b[0m\u001b[1;33m:\u001b[0m\u001b[1;33m\u001b[0m\u001b[0m\n\u001b[0m\u001b[0;32m      3\u001b[0m         \u001b[0mtrue\u001b[0m \u001b[1;33m=\u001b[0m \u001b[1;34m\"go back to bed it is weekend or holiday\"\u001b[0m\u001b[1;33m\u001b[0m\u001b[0m\n\u001b[0;32m      4\u001b[0m     \u001b[1;32melse\u001b[0m\u001b[1;33m:\u001b[0m\u001b[1;33m\u001b[0m\u001b[0m\n\u001b[0;32m      5\u001b[0m         \u001b[0mfalse\u001b[0m \u001b[1;33m=\u001b[0m \u001b[1;34m\"its not holiday or weekend go to work!\"\u001b[0m\u001b[1;33m\u001b[0m\u001b[0m\n",
      "\u001b[1;31mNameError\u001b[0m: name 'weekend' is not defined"
     ]
    }
   ],
   "source": [
    "day = input(\"what day is today? \")\n",
    "weekend = IsWeekend(day)"
   ]
  },
  {
   "cell_type": "code",
   "execution_count": 1,
   "metadata": {},
   "outputs": [],
   "source": [
    "## Step 2: Refactor into function IsWeekend(day_of_week)\n",
    "\n",
    "def IsWeekend (day_of_week):\n",
    "    true = \"then sleep in!\"\n",
    "    false = \"you need to get up\"\n",
    "    also_true = \"then sleep in!\"\n",
    "    if day_of_week == \"sunday\" or day_of_week == \"saturday\" or day_of_week == \"Sunday\" or day_of_week == \"Saturday\":\n",
    "        return true\n",
    "    elif day_of_week != \"sunday\" or day_of_week == \"saturday\" or day_of_week == \"Sunday\" or day_of_week == \"Saturday\":\n",
    "        if day_of_week == holiday:\n",
    "            return also_true\n",
    "        else:\n",
    "            return false\n",
    "    else:\n",
    "        return false"
   ]
  },
  {
   "cell_type": "code",
   "execution_count": 11,
   "metadata": {},
   "outputs": [
    {
     "data": {
      "text/plain": [
       "'no'"
      ]
     },
     "execution_count": 11,
     "metadata": {},
     "output_type": "execute_result"
    }
   ],
   "source": [
    "IsWeekend(\"nota day\")"
   ]
  },
  {
   "cell_type": "markdown",
   "metadata": {},
   "source": [
    "## Step 3: Test \n",
    "\n",
    "Time to test. Write 7 tests, once for each day of the week.\n",
    "```\n",
    "WHEN day_of_week='Monday' We EXPECT IsWeekend(day_of_week) to return False\n",
    "WHEN day_of_week='Tuesday' We EXPECT IsWeekend(day_of_week) to return False\n",
    "WHEN day_of_week='Wednesday' We EXPECT IsWeekend(day_of_week) to return False\n",
    "WHEN day_of_week='Thursday' We EXPECT IsWeekend(day_of_week) to return False\n",
    "WHEN day_of_week='Friday' We EXPECT IsWeekend(day_of_week) to return False\n",
    "WHEN day_of_week='Saturday' We EXPECT IsWeekend(day_of_week) to return True\n",
    "WHEN day_of_week='Sunday' We EXPECT IsWeekend(day_of_week) to return True\n",
    "```\n"
   ]
  },
  {
   "cell_type": "code",
   "execution_count": 3,
   "metadata": {},
   "outputs": [
    {
     "name": "stdout",
     "output_type": "stream",
     "text": [
      "WHEN day_of_week='Monday' We EXPECT IsWeekend(day_of_week) to return False ACTUAL: you need to get up\n",
      "WHEN day_of_week='Tuesday' We EXPECT IsWeekend(day_of_week) to return False ACTUAL: you need to get up\n",
      "WHEN day_of_week='Wednesday' We EXPECT IsWeekend(day_of_week) to return False ACTUAL: you need to get up\n",
      "WHEN day_of_week='Thursday' We EXPECT IsWeekend(day_of_week) to return False ACTUAL: you need to get up\n",
      "WHEN day_of_week='Friday' We EXPECT IsWeekend(day_of_week) to return False ACTUAL: you need to get up\n",
      "WHEN day_of_week='Saturday' We EXPECT IsWeekend(day_of_week) to return False ACTUAL: then sleep in!\n",
      "WHEN day_of_week='Sunday' We EXPECT IsWeekend(day_of_week) to return False ACTUAL: then sleep in!\n"
     ]
    }
   ],
   "source": [
    "# Step 3: Write tests. Similar to how we did it in the lab.\n",
    "print(\"WHEN day_of_week='Monday' We EXPECT IsWeekend(day_of_week) to return False ACTUAL:\", IsWeekend(\"true\"))\n",
    "print(\"WHEN day_of_week='Tuesday' We EXPECT IsWeekend(day_of_week) to return False ACTUAL:\", IsWeekend('Tuesday'))\n",
    "print(\"WHEN day_of_week='Wednesday' We EXPECT IsWeekend(day_of_week) to return False ACTUAL:\", IsWeekend('Wednesday'))\n",
    "print(\"WHEN day_of_week='Thursday' We EXPECT IsWeekend(day_of_week) to return False ACTUAL:\", IsWeekend('Thursday'))\n",
    "print(\"WHEN day_of_week='Friday' We EXPECT IsWeekend(day_of_week) to return False ACTUAL:\", IsWeekend('Friday'))\n",
    "print(\"WHEN day_of_week='Saturday' We EXPECT IsWeekend(day_of_week) to return False ACTUAL:\", IsWeekend('Saturday'))\n",
    "print(\"WHEN day_of_week='Sunday' We EXPECT IsWeekend(day_of_week) to return False ACTUAL:\", IsWeekend('Sunday'))"
   ]
  },
  {
   "cell_type": "markdown",
   "metadata": {},
   "source": [
    "## Step 4: rewrite the program to use the function\n",
    "\n",
    "Finally re-write the original program, but call the function you made in step 2: \n"
   ]
  },
  {
   "cell_type": "code",
   "execution_count": 9,
   "metadata": {},
   "outputs": [
    {
     "ename": "SyntaxError",
     "evalue": "invalid syntax (<ipython-input-9-50ba44ba8f39>, line 11)",
     "output_type": "error",
     "traceback": [
      "\u001b[1;36m  File \u001b[1;32m\"<ipython-input-9-50ba44ba8f39>\"\u001b[1;36m, line \u001b[1;32m11\u001b[0m\n\u001b[1;33m    elif:\u001b[0m\n\u001b[1;37m        ^\u001b[0m\n\u001b[1;31mSyntaxError\u001b[0m\u001b[1;31m:\u001b[0m invalid syntax\n"
     ]
    }
   ],
   "source": [
    "## Step 4: Write program here from the algorithm above\n",
    "#there is error\n",
    "while True:\n",
    "    day_of_week = input(\"what day is it of the week? \")\n",
    "    if day_of_week == 'quit':\n",
    "        break\n",
    "    elif day_of_week != 'quit':\n",
    "        if IsWeekend(day_of_week) == true:\n",
    "            print (IsWeekend(day_of_week))\n",
    "        \n",
    "        elif:\n",
    "            print (IsWeekend(day_of_week))    \n",
    "        \n",
    "        holiday = input (\"is it a holiday? answer yes/no \")\n",
    "        if holiday == \"yes\":\n",
    "            yes_holiday = (IsWeekend(day_of_week))\n",
    "            print(yes_holiday)\n",
    "        else:\n",
    "            holiday = (IsWeekend(day_of_week))\n",
    "            print(holiday)\n",
    "    else:\n",
    "        break\n",
    "        "
   ]
  },
  {
   "cell_type": "markdown",
   "metadata": {},
   "source": [
    "## Step 6: Questions\n",
    "\n",
    "1. Provide 3 advantages for programming a user function in your code like `CircleArea`  or `CircleCircumfrence`\n",
    "2. Why did we need to write 7 tests?\n",
    "3. Which code is easier to understand? Step 1 or step 4? Why? or Why not?\n",
    "4. What happens when you input `'sat'` for `'Saturday'` Does it work? How can the program be improved? Does improving it affect the readability of step 4? (HINT: Abstractions!!!)\n"
   ]
  },
  {
   "cell_type": "markdown",
   "metadata": {},
   "source": [
    "## Reminder of Evaluation Criteria\n",
    "\n",
    "1. What the problem attempted (analysis, code, and answered questions) ?\n",
    "2. What the problem analysis thought out? (does the program match the plan?)\n",
    "3. Does the code execute without syntax error?\n",
    "4. Does the code solve the intended problem?\n",
    "5. Is the code well written? (easy to understand, modular, and self-documenting, handles errors)\n"
   ]
  },
  {
   "cell_type": "code",
   "execution_count": null,
   "metadata": {
    "collapsed": true
   },
   "outputs": [],
   "source": []
  }
 ],
 "metadata": {
  "anaconda-cloud": {},
  "kernelspec": {
   "display_name": "Python 3",
   "language": "python",
   "name": "python3"
  },
  "language_info": {
   "codemirror_mode": {
    "name": "ipython",
    "version": 3
   },
   "file_extension": ".py",
   "mimetype": "text/x-python",
   "name": "python",
   "nbconvert_exporter": "python",
   "pygments_lexer": "ipython3",
   "version": "3.6.3"
  }
 },
 "nbformat": 4,
 "nbformat_minor": 1
}
