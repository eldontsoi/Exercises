{
 "cells": [
  {
   "cell_type": "markdown",
   "metadata": {},
   "source": [
    "# Now You Code 4: Should I Sleep In?\n",
    "\n",
    "Always. :-) \n",
    "\n",
    "Actually we'd like to write a program which will suggest whether or not we can sleep in. Our criteria will be as follows.\n",
    "\n",
    "- Is it the weekend? Then sleep in.\n",
    "- Is it a holiday? Then sleep in.\n",
    "- Otherwise you need to get up!\n",
    "\n",
    "Let's write a program to input the day of the week and ask whether or not its a holiday, then make the appropriate decision as to whether or not we should sleep in.\n",
    "\n",
    "We will use the **Write - Refactor - Test - Rewrite** approach to complete the final solution which will refactor the day of the week logic into a function."
   ]
  },
  {
   "cell_type": "code",
   "execution_count": null,
   "metadata": {},
   "outputs": [],
   "source": []
  },
  {
   "cell_type": "markdown",
   "metadata": {},
   "source": [
    "## Step 1: Write\n",
    "\n",
    "Here's the algorithm of this program. Write the solution in Python.\n",
    "\n",
    "```\n",
    "    input day of the week\n",
    "    input is it a holiday\n",
    "    if day of the week is a weekend\n",
    "        print go back to bed its the weekend\n",
    "    else\n",
    "        if its a holiday\n",
    "            print go back to bed. its a holiday\n",
    "        else\n",
    "            print you need to get up\n",
    "```\n",
    "\n",
    "Example Run 1:\n",
    "\n",
    "```\n",
    "What day of the week is it? Monday\n",
    "Is it a holiday? No\n",
    "You need to get up!\n",
    "```\n",
    "\n",
    "Example Run 2:\n",
    "\n",
    "```\n",
    "What day of the week is it? Saturday\n",
    "Is it a holiday? No\n",
    "Go back to bed! It's the weekend.\n",
    "```\n",
    "\n",
    "Example Run 3:\n",
    "\n",
    "```\n",
    "What day of the week is it? Monday\n",
    "Is it a holiday? Yes\n",
    "Go back to bed! It's a Holiday.\n",
    "```\n"
   ]
  },
  {
   "cell_type": "code",
   "execution_count": 10,
   "metadata": {},
   "outputs": [
    {
     "name": "stdout",
     "output_type": "stream",
     "text": [
      "what day is it of the week? monday\n",
      "is it a holiday? answer yes/no no\n",
      "you need to get up.\n"
     ]
    }
   ],
   "source": [
    "## TODO: Write the solution here\n",
    "#how come this one does not work? #problem solved, i missed the second equal sign in line 4\n",
    "day_of_week = input(\"what day is it of the week? \")\n",
    "holiday = input (\"is it a holiday? answer yes/no \")\n",
    "if day_of_week == 'Sunday' or day_of_week ==  'saturday':\n",
    "    print(\"go back to bed!its the weekend.\")\n",
    "else:\n",
    "    if holiday == \"yes\":\n",
    "        print (\"go back to sleep!\")\n",
    "    else:\n",
    "        print (\"you need to get up.\")"
   ]
  },
  {
   "cell_type": "code",
   "execution_count": 12,
   "metadata": {},
   "outputs": [
    {
     "name": "stdout",
     "output_type": "stream",
     "text": [
      "what is the day of the week? monday\n",
      "is it holiday?no\n",
      "its not holiday go to work!\n"
     ]
    }
   ],
   "source": [
    "#final version\n",
    "day = input(\"what is the day of the week? \")\n",
    "holiday = input(\"is it holiday?\")\n",
    "if day == \"sunday\" or day == \"saturday\":\n",
    "    print (\"go back to sleep its weekend\")\n",
    "else:\n",
    "    if holiday == \"yes\":\n",
    "        print (\"go back to sleep its holiday\")\n",
    "    else:\n",
    "        print (\"its not holiday go to work!\")"
   ]
  },
  {
   "cell_type": "markdown",
   "metadata": {},
   "source": [
    "## Step 2: Refactor\n",
    "\n",
    "Next we need to refactor the part of this program which checks to see if the day of the week is a weekend. The function:\n",
    "\n",
    "- `IsWeekend()` has one input a `day_of_week` and returns `True` when it's a `Saturday` or `Sunday`, `False` for all other days.\n"
   ]
  },
  {
   "cell_type": "code",
   "execution_count": 7,
   "metadata": {},
   "outputs": [
    {
     "data": {
      "text/plain": [
       "'go to work'"
      ]
     },
     "execution_count": 7,
     "metadata": {},
     "output_type": "execute_result"
    }
   ],
   "source": [
    "def Isweekend (day_of_week):\n",
    "    if day_of_week == \"sunday\" or day_of_week == \"saturday\":\n",
    "        true = \"go to sleep its weekend\"\n",
    "        return ture\n",
    "    else:\n",
    "        false = \"go to work\"\n",
    "        return false\n",
    "def IsHoliday (holiday):\n",
    "    if holiday == \"yes\":\n",
    "        sleep = \"go to sleep its holiday\"\n",
    "        return sleep\n",
    "    else:\n",
    "        no_sleep = \"go to work its not holiday!\"\n",
    "        return no_sleep\n",
    "Isweekend ('monday')        \n"
   ]
  },
  {
   "cell_type": "code",
   "execution_count": 10,
   "metadata": {},
   "outputs": [],
   "source": [
    "# one input should not work? i think i need one for day one for holiday at least?\n",
    "\n",
    "\n",
    "\n",
    "def IsWeekend (day, holiday):\n",
    "    if day == 'sunday' or day =='saturday':\n",
    "        sleep = \"go back to bed it is weekend\"\n",
    "        return sleep\n",
    "    elif day != 'sunday' or 'saturday':\n",
    "        work = \"its not weekend go to work!\"\n",
    "        return work\n",
    "        if holiday == 'yes':\n",
    "            no_work = \"go back to bed its holiday\"\n",
    "            return no_work\n",
    "        else:\n",
    "            yes_work = 'you have to work'\n",
    "            return yes_work"
   ]
  },
  {
   "cell_type": "code",
   "execution_count": 11,
   "metadata": {},
   "outputs": [
    {
     "name": "stdout",
     "output_type": "stream",
     "text": [
      "what day is today? sunday\n",
      "is it holiday?yes\n"
     ]
    },
    {
     "data": {
      "text/plain": [
       "'go back to bed it is weekend'"
      ]
     },
     "execution_count": 11,
     "metadata": {},
     "output_type": "execute_result"
    }
   ],
   "source": [
    "day = input(\"what day is today? \")\n",
    "holiday = input('is it holiday?')\n",
    "IsWeekend(day,holiday)"
   ]
  },
  {
   "cell_type": "code",
   "execution_count": 4,
   "metadata": {},
   "outputs": [
    {
     "name": "stdout",
     "output_type": "stream",
     "text": [
      "what day is it of the week?monday\n",
      "is it a holiday?yes\n",
      "what day is it of the week?sunday\n",
      "is it a holiday?yes\n",
      "what day is it of the week?monday\n",
      "is it a holiday?yes\n",
      "what day is it of the week?break\n",
      "is it a holiday?quit\n",
      "what day is it of the week?quit\n",
      "is it a holiday?quit\n"
     ]
    }
   ],
   "source": [
    "while True:\n",
    "    day = input('what day is it of the week?')\n",
    "    holiday = input('is it a holiday?')\n",
    "    if day == 'quit':\n",
    "        break\n",
    "    elif day != 'quit':\n",
    "        day = IsWeekend(day)\n",
    "    else:\n",
    "        IsHoliday (holiday)"
   ]
  },
  {
   "cell_type": "code",
   "execution_count": 1,
   "metadata": {},
   "outputs": [],
   "source": [
    "## Step 2: Refactor into function IsWeekend(day_of_week)\n",
    "\n",
    "def IsWeekend (day_of_week):\n",
    "    true = \"then sleep in!\"\n",
    "    false = \"you need to get up\"\n",
    "    also_true = \"then sleep in!\"\n",
    "    if day_of_week == \"sunday\" or day_of_week == \"saturday\" or day_of_week == \"Sunday\" or day_of_week == \"Saturday\":\n",
    "        return true\n",
    "    elif day_of_week != \"sunday\" or day_of_week == \"saturday\" or day_of_week == \"Sunday\" or day_of_week == \"Saturday\":\n",
    "        if day_of_week == holiday:\n",
    "            return also_true\n",
    "        else:\n",
    "            return false\n",
    "    else:\n",
    "        return false"
   ]
  },
  {
   "cell_type": "code",
   "execution_count": 11,
   "metadata": {},
   "outputs": [
    {
     "data": {
      "text/plain": [
       "'no'"
      ]
     },
     "execution_count": 11,
     "metadata": {},
     "output_type": "execute_result"
    }
   ],
   "source": [
    "IsWeekend(\"nota day\")"
   ]
  },
  {
   "cell_type": "markdown",
   "metadata": {},
   "source": [
    "## Step 3: Test \n",
    "\n",
    "Time to test. Write 7 tests, once for each day of the week.\n",
    "```\n",
    "WHEN day_of_week='Monday' We EXPECT IsWeekend(day_of_week) to return False\n",
    "WHEN day_of_week='Tuesday' We EXPECT IsWeekend(day_of_week) to return False\n",
    "WHEN day_of_week='Wednesday' We EXPECT IsWeekend(day_of_week) to return False\n",
    "WHEN day_of_week='Thursday' We EXPECT IsWeekend(day_of_week) to return False\n",
    "WHEN day_of_week='Friday' We EXPECT IsWeekend(day_of_week) to return False\n",
    "WHEN day_of_week='Saturday' We EXPECT IsWeekend(day_of_week) to return True\n",
    "WHEN day_of_week='Sunday' We EXPECT IsWeekend(day_of_week) to return True\n",
    "```\n"
   ]
  },
  {
   "cell_type": "code",
   "execution_count": 13,
   "metadata": {},
   "outputs": [
    {
     "ename": "TypeError",
     "evalue": "IsWeekend() missing 1 required positional argument: 'holiday'",
     "output_type": "error",
     "traceback": [
      "\u001b[1;31m---------------------------------------------------------------------------\u001b[0m",
      "\u001b[1;31mTypeError\u001b[0m                                 Traceback (most recent call last)",
      "\u001b[1;32m<ipython-input-13-2811afc5e818>\u001b[0m in \u001b[0;36m<module>\u001b[1;34m()\u001b[0m\n\u001b[0;32m      1\u001b[0m \u001b[1;31m# Step 3: Write tests. Similar to how we did it in the lab.\u001b[0m\u001b[1;33m\u001b[0m\u001b[1;33m\u001b[0m\u001b[0m\n\u001b[1;32m----> 2\u001b[1;33m \u001b[0mprint\u001b[0m\u001b[1;33m(\u001b[0m\u001b[1;34m\"WHEN day_of_week='Monday' We EXPECT IsWeekend(day_of_week) to return False ACTUAL:\"\u001b[0m\u001b[1;33m,\u001b[0m \u001b[0mIsWeekend\u001b[0m\u001b[1;33m(\u001b[0m\u001b[1;34m\"true\"\u001b[0m\u001b[1;33m)\u001b[0m\u001b[1;33m)\u001b[0m\u001b[1;33m\u001b[0m\u001b[0m\n\u001b[0m\u001b[0;32m      3\u001b[0m \u001b[0mprint\u001b[0m\u001b[1;33m(\u001b[0m\u001b[1;34m\"WHEN day_of_week='Tuesday' We EXPECT IsWeekend(day_of_week) to return False ACTUAL:\"\u001b[0m\u001b[1;33m,\u001b[0m \u001b[0mIsWeekend\u001b[0m\u001b[1;33m(\u001b[0m\u001b[1;34m'Tuesday'\u001b[0m\u001b[1;33m)\u001b[0m\u001b[1;33m)\u001b[0m\u001b[1;33m\u001b[0m\u001b[0m\n\u001b[0;32m      4\u001b[0m \u001b[0mprint\u001b[0m\u001b[1;33m(\u001b[0m\u001b[1;34m\"WHEN day_of_week='Wednesday' We EXPECT IsWeekend(day_of_week) to return False ACTUAL:\"\u001b[0m\u001b[1;33m,\u001b[0m \u001b[0mIsWeekend\u001b[0m\u001b[1;33m(\u001b[0m\u001b[1;34m'Wednesday'\u001b[0m\u001b[1;33m)\u001b[0m\u001b[1;33m)\u001b[0m\u001b[1;33m\u001b[0m\u001b[0m\n\u001b[0;32m      5\u001b[0m \u001b[0mprint\u001b[0m\u001b[1;33m(\u001b[0m\u001b[1;34m\"WHEN day_of_week='Thursday' We EXPECT IsWeekend(day_of_week) to return False ACTUAL:\"\u001b[0m\u001b[1;33m,\u001b[0m \u001b[0mIsWeekend\u001b[0m\u001b[1;33m(\u001b[0m\u001b[1;34m'Thursday'\u001b[0m\u001b[1;33m)\u001b[0m\u001b[1;33m)\u001b[0m\u001b[1;33m\u001b[0m\u001b[0m\n",
      "\u001b[1;31mTypeError\u001b[0m: IsWeekend() missing 1 required positional argument: 'holiday'"
     ]
    }
   ],
   "source": [
    "# Step 3: Write tests. Similar to how we did it in the lab.\n",
    "print(\"WHEN day_of_week='Monday' We EXPECT IsWeekend(day_of_week) to return False ACTUAL:\", IsWeekend(monday))\n",
    "print(\"WHEN day_of_week='Tuesday' We EXPECT IsWeekend(day_of_week) to return False ACTUAL:\", IsWeekend(Tuesday))\n",
    "print(\"WHEN day_of_week='Wednesday' We EXPECT IsWeekend(day_of_week) to return False ACTUAL:\", IsWeekend(wednesday))\n",
    "print(\"WHEN day_of_week='Thursday' We EXPECT IsWeekend(day_of_week) to return False ACTUAL:\", IsWeekend('Thursday'))\n",
    "print(\"WHEN day_of_week='Friday' We EXPECT IsWeekend(day_of_week) to return False ACTUAL:\", IsWeekend('Friday'))\n",
    "print(\"WHEN day_of_week='Saturday' We EXPECT IsWeekend(day_of_week) to return False ACTUAL:\", IsWeekend('Saturday'))\n",
    "print(\"WHEN day_of_week='Sunday' We EXPECT IsWeekend(day_of_week) to return False ACTUAL:\", IsWeekend('Sunday'))"
   ]
  },
  {
   "cell_type": "markdown",
   "metadata": {},
   "source": [
    "## Step 4: rewrite the program to use the function\n",
    "\n",
    "Finally re-write the original program, but call the function you made in step 2: \n"
   ]
  },
  {
   "cell_type": "code",
   "execution_count": 8,
   "metadata": {},
   "outputs": [
    {
     "name": "stdout",
     "output_type": "stream",
     "text": [
      "what is the day of the week?monday\n",
      "is it a holiday? yes\n",
      "go to work\n",
      "go to sleep its holiday\n"
     ]
    }
   ],
   "source": [
    "#huhhh?\n",
    "\n",
    "day_of_week = input(\"what is the day of the week?\")\n",
    "holiday = input(\"is it a holiday? \")\n",
    "\n",
    "print(Isweekend(day_of_week))\n",
    "print(IsHoliday(holiday))"
   ]
  },
  {
   "cell_type": "code",
   "execution_count": 9,
   "metadata": {},
   "outputs": [
    {
     "ename": "SyntaxError",
     "evalue": "invalid syntax (<ipython-input-9-50ba44ba8f39>, line 11)",
     "output_type": "error",
     "traceback": [
      "\u001b[1;36m  File \u001b[1;32m\"<ipython-input-9-50ba44ba8f39>\"\u001b[1;36m, line \u001b[1;32m11\u001b[0m\n\u001b[1;33m    elif:\u001b[0m\n\u001b[1;37m        ^\u001b[0m\n\u001b[1;31mSyntaxError\u001b[0m\u001b[1;31m:\u001b[0m invalid syntax\n"
     ]
    }
   ],
   "source": [
    "## Step 4: Write program here from the algorithm above\n",
    "#there is error\n",
    "while True:\n",
    "    day_of_week = input(\"what day is it of the week? \")\n",
    "    if day_of_week == 'quit':\n",
    "        break\n",
    "    elif day_of_week != 'quit':\n",
    "        if IsWeekend(day) == true:\n",
    "            print (IsWeekend(day_of_week))\n",
    "        \n",
    "        elif:\n",
    "            print (IsWeekend(day_of_week))    \n",
    "        \n",
    "        holiday = input (\"is it a holiday? answer yes/no \")\n",
    "        if holiday == \"yes\":\n",
    "            yes_holiday = (IsWeekend(day_of_week))\n",
    "            print(yes_holiday)\n",
    "        else:\n",
    "            holiday = (IsWeekend(day_of_week))\n",
    "            print(holiday)\n",
    "    else:\n",
    "        break\n",
    "        "
   ]
  },
  {
   "cell_type": "markdown",
   "metadata": {},
   "source": [
    "## Step 6: Questions\n",
    "\n",
    "1. Provide 3 advantages for programming a user function in your code like `CircleArea`  or `CircleCircumfrence`\n",
    "\n",
    "easy read\n",
    "easy use\n",
    "call unlimited times\n",
    "\n",
    "2. Why did we need to write 7 tests?\n",
    "\n",
    "verify each condition\n",
    "\n",
    "\n",
    "3. Which code is easier to understand? Step 1 or step 4? Why? or Why not?\n",
    "\n",
    "step four, because there are less lines in it?\n",
    "\n",
    "4. What happens when you input `'sat'` for `'Saturday'` Does it work? How can the program be improved? Does improving it affect the readability of step 4? (HINT: Abstractions!!!)\n",
    "\n",
    "\n",
    "no. add more conditions to the if statement. it improves.\n"
   ]
  },
  {
   "cell_type": "markdown",
   "metadata": {},
   "source": [
    "## Reminder of Evaluation Criteria\n",
    "\n",
    "1. What the problem attempted (analysis, code, and answered questions) ?\n",
    "2. What the problem analysis thought out? (does the program match the plan?)\n",
    "3. Does the code execute without syntax error?\n",
    "4. Does the code solve the intended problem?\n",
    "5. Is the code well written? (easy to understand, modular, and self-documenting, handles errors)\n"
   ]
  },
  {
   "cell_type": "code",
   "execution_count": 17,
   "metadata": {},
   "outputs": [
    {
     "name": "stdout",
     "output_type": "stream",
     "text": [
      "Enter \"1\" to draw monkey, \"2\" for human: 2\n",
      "   ||||| \n",
      "   o   o\n",
      "     >\n",
      "   ooooo\n",
      "     |\n",
      "   --|--\n",
      "  /  |  \\\n",
      "@    |    @\n",
      "     |\n",
      "    /|\\\n",
      "   @   @\n"
     ]
    }
   ],
   "source": [
    "def human_head():\n",
    "    print('   ||||| ')\n",
    "    print('   o   o')\n",
    "    print('     >' )\n",
    "    print('   ooooo')\n",
    "    return\n",
    "\n",
    "def monkey_head():\n",
    "    print('   .-\"-.')\n",
    "    print(' _/.-.-.\\\\_')\n",
    "    print('( ( o o ) )')\n",
    "    print(' |/  \"  \\\\|')\n",
    "    print('  \\\\ .-. /')\n",
    "    print('  /`\"\"\"`\\\\')\n",
    "    return\n",
    "\n",
    "def print_figure(face):\n",
    "    face()  # Print the face\n",
    "    print('     |')\n",
    "    print('   --|--')\n",
    "    print('  /  |  \\\\')\n",
    "    print('@    |    @')\n",
    "    print('     |')\n",
    "    print('    /|\\\\')\n",
    "    print('   @   @')\n",
    "    return\n",
    "\n",
    "choice = int(input('Enter \"1\" to draw monkey, \"2\" for human: '))\n",
    "\n",
    "if choice == 1:\n",
    "    print_figure(monkey_head)\n",
    "elif choice == 2:\n",
    "    print_figure(human_head)"
   ]
  },
  {
   "cell_type": "code",
   "execution_count": null,
   "metadata": {},
   "outputs": [],
   "source": []
  }
 ],
 "metadata": {
  "anaconda-cloud": {},
  "kernelspec": {
   "display_name": "Python 3",
   "language": "python",
   "name": "python3"
  },
  "language_info": {
   "codemirror_mode": {
    "name": "ipython",
    "version": 3
   },
   "file_extension": ".py",
   "mimetype": "text/x-python",
   "name": "python",
   "nbconvert_exporter": "python",
   "pygments_lexer": "ipython3",
   "version": "3.6.3"
  }
 },
 "nbformat": 4,
 "nbformat_minor": 1
}
