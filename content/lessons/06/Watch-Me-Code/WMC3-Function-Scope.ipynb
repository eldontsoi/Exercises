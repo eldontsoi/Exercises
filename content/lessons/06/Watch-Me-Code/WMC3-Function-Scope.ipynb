{
 "cells": [
  {
   "cell_type": "markdown",
   "metadata": {},
   "source": [
    "# Watch Me Code 3: Understanding Function Variable Scope\n",
    "\n"
   ]
  },
  {
   "cell_type": "code",
   "execution_count": 28,
   "metadata": {
    "collapsed": true
   },
   "outputs": [],
   "source": [
    "## Always pass in arguments from the global scope!\n",
    "\n",
    "def area_correct(length, width):\n",
    "    area = length * width # these are local copies from the global scope...\n",
    "    length = 0 \n",
    "    width = 0 # what happens here, stays here!\n",
    "    return area"
   ]
  },
  {
   "cell_type": "code",
   "execution_count": 29,
   "metadata": {},
   "outputs": [
    {
     "name": "stdout",
     "output_type": "stream",
     "text": [
      "length= 5 width= 10 area= 50\n"
     ]
    }
   ],
   "source": [
    "# in the global scope\n",
    "length = 5\n",
    "width = 10\n",
    "area = area_correct(length,width)\n",
    "print (\"length=\",length, \"width=\",width, \"area=\",area)"
   ]
  },
  {
   "cell_type": "code",
   "execution_count": 7,
   "metadata": {},
   "outputs": [
    {
     "name": "stdout",
     "output_type": "stream",
     "text": [
      "type a lenth2345\n",
      "length= 2345 width= 5 height= 5 volume= 58625\n"
     ]
    }
   ],
   "source": [
    "def volume (height, width, length):\n",
    "    vol = length * width * height\n",
    "    length = 0\n",
    "    width = 0\n",
    "    height = 0\n",
    "    return vol\n",
    "\n",
    "length = int(input(\"type a lenth\"))\n",
    "width =5\n",
    "height = 5\n",
    "vol = volume(height,width,length)\n",
    "print (\"length=\",length,\"width=\",width,\"height=\",height,\"volume=\",vol)"
   ]
  },
  {
   "cell_type": "code",
   "execution_count": 4,
   "metadata": {},
   "outputs": [
    {
     "name": "stdout",
     "output_type": "stream",
     "text": [
      "length= 5 width= 5 height= 5 volume= 125\n"
     ]
    }
   ],
   "source": [
    "length = 5\n",
    "width =5\n",
    "height = 5\n",
    "vol = volume(height,width,length)\n",
    "print (\"length=\",length,\"width=\",width,\"height=\",height,\"volume=\",vol)"
   ]
  },
  {
   "cell_type": "code",
   "execution_count": null,
   "metadata": {},
   "outputs": [],
   "source": []
  }
 ],
 "metadata": {
  "anaconda-cloud": {},
  "kernelspec": {
   "display_name": "Python 3",
   "language": "python",
   "name": "python3"
  },
  "language_info": {
   "codemirror_mode": {
    "name": "ipython",
    "version": 3
   },
   "file_extension": ".py",
   "mimetype": "text/x-python",
   "name": "python",
   "nbconvert_exporter": "python",
   "pygments_lexer": "ipython3",
   "version": "3.6.3"
  }
 },
 "nbformat": 4,
 "nbformat_minor": 1
}
