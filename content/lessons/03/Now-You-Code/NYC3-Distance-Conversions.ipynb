{
 "cells": [
  {
   "cell_type": "markdown",
   "metadata": {},
   "source": [
    "# Now You Code 3: Distance Conversions\n",
    "\n",
    "\n",
    "Write a Python program to enter a distnace in feet then convert that\n",
    "distance to yards and miles. \n",
    "\n",
    "For example:\n",
    "\n",
    "    Enter distance in FEET:15000\n",
    "    That's 5000.0 yards or 2.8 miles.\n",
    "\n",
    "NOTES:\n",
    "    - Research the converion formulas on your own.\n",
    "    - Format float variable output to one decimal place\n"
   ]
  },
  {
   "cell_type": "markdown",
   "metadata": {},
   "source": [
    "## Step 1: Problem Analysis\n",
    "\n",
    "Inputs:\n",
    "\n",
    "- distance in feet\n",
    "\n",
    "\n",
    "Outputs:\n",
    "\n",
    "- that's xxx yards or xxx miles.\n",
    "\n",
    "Algorithm (Steps in Program):\n",
    "\n",
    "- input distance in feet\n",
    "- calculate yards and feet conversion\n",
    "- calculate miles and feet conversion\n",
    "- print that's xxx yards or xxx miles.\n"
   ]
  },
  {
   "cell_type": "code",
   "execution_count": 6,
   "metadata": {},
   "outputs": [
    {
     "name": "stdout",
     "output_type": "stream",
     "text": [
      "enter a distance in feet: -12345\n",
      "that's -4115.0 yards or -2.3 miles.\n"
     ]
    }
   ],
   "source": [
    "# Step 2: write code here\n",
    "\n",
    "distance=float(input(\"enter a distance in feet: \"))\n",
    "yards=distance*0.333333\n",
    "miles=distance*0.000189394\n",
    "\n",
    "print(\"that's %.1f yards or %.1f miles.\"%(yards,miles))"
   ]
  },
  {
   "cell_type": "markdown",
   "metadata": {},
   "source": [
    "## Step 3: Questions\n",
    "\n",
    "1. What is the format code to output the distance with no decimal places?\n",
    "\n",
    "%d\n",
    "\n",
    "2. Does the output make sense when you enter a negative distanct in feet? Why or why not?\n",
    "\n",
    "yes, becuase i use float which allows all real numbers. negative numbers makes sense when we consider vector quantitites such as velocity.\n",
    "\n",
    "3. Did you store your conversions in variables? I argue this makes your program more readable. Why?\n",
    "\n",
    "\n",
    "yes. this makes my thinking process easier by knowing what I am doing if I look back. THe calculation is sorted step by step, which makes it clear to see.\n"
   ]
  },
  {
   "cell_type": "markdown",
   "metadata": {},
   "source": [
    "## Reminder of Evaluation Criteria\n",
    "\n",
    "1. What the problem attempted (analysis, code, and answered questions) ?\n",
    "2. What the problem analysis thought out? (does the program match the plan?)\n",
    "3. Does the code execute without syntax error?\n",
    "4. Does the code solve the intended problem?\n",
    "5. Is the code well written? (easy to understand, modular, and self-documenting, handles errors)\n"
   ]
  }
 ],
 "metadata": {
  "anaconda-cloud": {},
  "kernelspec": {
   "display_name": "Python 3",
   "language": "python",
   "name": "python3"
  },
  "language_info": {
   "codemirror_mode": {
    "name": "ipython",
    "version": 3
   },
   "file_extension": ".py",
   "mimetype": "text/x-python",
   "name": "python",
   "nbconvert_exporter": "python",
   "pygments_lexer": "ipython3",
   "version": "3.6.3"
  }
 },
 "nbformat": 4,
 "nbformat_minor": 1
}
