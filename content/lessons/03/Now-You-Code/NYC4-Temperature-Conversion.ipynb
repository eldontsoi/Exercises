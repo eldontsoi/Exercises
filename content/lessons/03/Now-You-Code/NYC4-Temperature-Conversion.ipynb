{
 "cells": [
  {
   "cell_type": "markdown",
   "metadata": {},
   "source": [
    "# Now You Code 4: Temperature Conversion\n",
    "\n",
    "Write a python program which will convert temperatures from Celcius to Fahrenheight.\n",
    "The program should take a temperature in degrees Celcius as input and output a temperature in degrees Fahrenheight.\n",
    "\n",
    "Example:\n",
    "\n",
    "```\n",
    "Enter the temperature in Celcius: 100\n",
    "100 Celcius is 212 Fahrenheight\n",
    "```\n",
    "\n",
    "HINT: Use the web to find the formula to convert from Celcius to Fahrenheight.\n"
   ]
  },
  {
   "cell_type": "markdown",
   "metadata": {},
   "source": [
    "## Step 1: Problem Analysis\n",
    "\n",
    "Inputs:\n",
    "\n",
    "Outputs:\n",
    "\n",
    "Algorithm (Steps in Program):\n",
    "\n",
    "\n"
   ]
  },
  {
   "cell_type": "code",
   "execution_count": 3,
   "metadata": {},
   "outputs": [
    {
     "name": "stdout",
     "output_type": "stream",
     "text": [
      "temperature in celcius: -1\n",
      "-1.0 celcius is 30 fahrenheit\n"
     ]
    }
   ],
   "source": [
    "# Step 2: write code here\n",
    "celcius=float(input(\"temperature in celcius: \"))\n",
    "fahrenheit=celcius*1.8+32\n",
    "print(celcius,\"celcius is\",\"%d fahrenheit\"%(fahrenheit))\n"
   ]
  },
  {
   "cell_type": "markdown",
   "metadata": {},
   "source": [
    "## Step 3: Questions\n",
    "\n",
    "1. Why does the program still run when you enter a negative number for temperature? Is this an error?\n",
    "\n",
    "because float exists as all real numbers, this is not an error\n",
    "\n",
    "2. Would it be difficult to write a program which did the opposite (conversion F to C)? Explain.\n",
    "\n",
    "no. I just have to remanipulate the algebra\n",
    "\n",
    "3. Did you store the conversion in a variable before printing it on the last line? I argue this makes your program easier to understand. Why?\n",
    "\n",
    "yes. this is easier because the calculations are not cramp together, which allows me to test each line before executing.\n"
   ]
  },
  {
   "cell_type": "markdown",
   "metadata": {},
   "source": [
    "## Reminder of Evaluation Criteria\n",
    "\n",
    "1. What the problem attempted (analysis, code, and answered questions) ?\n",
    "2. What the problem analysis thought out? (does the program match the plan?)\n",
    "3. Does the code execute without syntax error?\n",
    "4. Does the code solve the intended problem?\n",
    "5. Is the code well written? (easy to understand, modular, and self-documenting, handles errors)\n"
   ]
  },
  {
   "cell_type": "code",
   "execution_count": null,
   "metadata": {
    "collapsed": true
   },
   "outputs": [],
   "source": []
  }
 ],
 "metadata": {
  "anaconda-cloud": {},
  "kernelspec": {
   "display_name": "Python 3",
   "language": "python",
   "name": "python3"
  },
  "language_info": {
   "codemirror_mode": {
    "name": "ipython",
    "version": 3
   },
   "file_extension": ".py",
   "mimetype": "text/x-python",
   "name": "python",
   "nbconvert_exporter": "python",
   "pygments_lexer": "ipython3",
   "version": "3.6.3"
  }
 },
 "nbformat": 4,
 "nbformat_minor": 1
}
