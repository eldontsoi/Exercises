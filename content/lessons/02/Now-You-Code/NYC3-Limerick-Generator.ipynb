{
 "cells": [
  {
   "cell_type": "markdown",
   "metadata": {},
   "source": [
    "# Now You Code 3: Limerick Generator\n",
    "\n",
    "We will write code in this example to create the first two lines of a [Limerick](https://en.wikipedia.org/wiki/Limerick_(poetry)). We're going to keep it really simple, and ask for 4 inputs:\n",
    "- a woman's name  \n",
    "- a place\n",
    "- an item\n",
    "- a material \n",
    "\n",
    "The place and material must rhyme. The Python program will then output the first two lines of the limerick, substituting the values you've entered. \n",
    "\n",
    "**Example 1:**\n",
    "\n",
    "INPUT:\n",
    "\n",
    "- Enter a woman's name: Jane\n",
    "- Enter a place: New York\n",
    "- Enter an item: hat\n",
    "- Enter a material, which rhymes with 'New York': cork.\n",
    "\n",
    "OUTPUT:\n",
    "I once knew Jane from New York. Her hat was constructed of cork.\n",
    "\n",
    "**Example 2:**\n",
    "\n",
    "INPUT:\n",
    "\n",
    "- Enter a woman's name: Agatha\n",
    "- Enter a place: my car\n",
    "- Enter an item: bike\n",
    "- Enter a material, which rhymes with 'my car': tar\n",
    "\n",
    "OUTPUT: \n",
    "I once knew Agatha from my car. Her bike was constructed of tar.\n"
   ]
  },
  {
   "cell_type": "markdown",
   "metadata": {
    "collapsed": true
   },
   "source": [
    "## Step 1: Problem Analysis\n",
    "\n",
    "Inputs:\n",
    "\n",
    "- Enter a woman's name: Marry\n",
    "- enter a place: Hong Kong\n",
    "- enter an item:  phone\n",
    "- enter a material, which rhymes with 'Hong Kong':ping pong\n",
    "\n",
    "Outputs:\n",
    "I once knew Marry from Hong Kong. Her phone was constructed of ping pong.\n",
    "Algorithm (Steps in Program):"
   ]
  },
  {
   "cell_type": "code",
   "execution_count": 6,
   "metadata": {
    "collapsed": false
   },
   "outputs": [
    {
     "name": "stdout",
     "output_type": "stream",
     "text": [
      "who is the woman?  6\n",
      "where did u two met? 6\n",
      "what is she holding?6\n",
      "what is the material she holding? 66\n",
      "I once knew 6 from 6. her 6 was constructed of 66.\n"
     ]
    }
   ],
   "source": [
    "# Step 2: Write code here\n",
    "a=input(\"who is the woman?  \")\n",
    "B=input(\"where did u two met? \")\n",
    "c=input(\"what is she holding?\" )\n",
    "d=input(\"what is the material she holding? \")\n",
    "\n",
    "print(\"I once knew\",a,\"from\",B+'.',\"her\",c,\"was constructed of\",d+'.')"
   ]
  },
  {
   "cell_type": "markdown",
   "metadata": {},
   "source": [
    "# Step 3: Questions\n",
    "\n",
    "1. What happens when neglect to follow the instructions and enter any inputs we desire? Does the code still run? Why?\n",
    "2. What type of error occurs when the program runs but does not handle bad input?\n",
    "3. Is there anything you can do in code to correct this type of error? Why or why not?"
   ]
  },
  {
   "cell_type": "markdown",
   "metadata": {},
   "source": [
    "## Reminder of Evaluation Criteria\n",
    "\n",
    "1. What the problem attempted (analysis, code, and answered questions) ?\n",
    "2. What the problem analysis thought out? (does the program match the plan?)\n",
    "3. Does the code execute without syntax error?\n",
    "4. Does the code solve the intended problem?\n",
    "5. Is the code well written? (easy to understand, modular, and self-documenting, handles errors)\n"
   ]
  },
  {
   "cell_type": "code",
   "execution_count": null,
   "metadata": {
    "collapsed": true
   },
   "outputs": [],
   "source": []
  }
 ],
 "metadata": {
  "anaconda-cloud": {},
  "kernelspec": {
   "display_name": "Python 3",
   "language": "python",
   "name": "python3"
  },
  "language_info": {
   "codemirror_mode": {
    "name": "ipython",
    "version": 3
   },
   "file_extension": ".py",
   "mimetype": "text/x-python",
   "name": "python",
   "nbconvert_exporter": "python",
   "pygments_lexer": "ipython3",
   "version": "3.6.0"
  }
 },
 "nbformat": 4,
 "nbformat_minor": 1
}
