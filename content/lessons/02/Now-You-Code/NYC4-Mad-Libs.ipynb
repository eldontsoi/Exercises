{
 "cells": [
  {
   "cell_type": "markdown",
   "metadata": {},
   "source": [
    "# Now You Code 4: Mad Libs!\n",
    "\n",
    "Write a Python program which creates your own unique Mad-Libs! story.\n",
    "\n",
    "If you are not familar with a Mad-Libs! story, check out:\n",
    "http://www.madlibs.com and http://www.madtakes.com\n",
    "\n",
    "Your story should take at least 5 inputs, and should include more than\n",
    "once sentence. \n"
   ]
  },
  {
   "cell_type": "markdown",
   "metadata": {
    "collapsed": true
   },
   "source": [
    "## Step 1: Problem Analysis\n",
    "\n",
    "Inputs:\n",
    "noun\n",
    "plural noun\n",
    "noun\n",
    "place\n",
    "adjective\n",
    "noun\n",
    "\n",
    "Outputs:\n",
    "\n",
    "Algorithm (Steps in Program):"
   ]
  },
  {
   "cell_type": "code",
   "execution_count": 2,
   "metadata": {
    "collapsed": false
   },
   "outputs": [
    {
     "name": "stdout",
     "output_type": "stream",
     "text": [
      "noun:3\n",
      "plural_noun:443\n",
      "noun:g\n",
      "place:\n",
      "adjective:g\n",
      "noun:r5g\n",
      "Be kind to your 3\n",
      "For a 443 may be somebody`s Mistress\n",
      "Be kind to your Ages in \n",
      "Where the weather is always Embarrassing.\n",
      "You may think that this is the g.\n",
      "Well it r5g.\n"
     ]
    }
   ],
   "source": [
    "n1=input(\"noun:\" )\n",
    "n2=input(\"plural_noun:\" )\n",
    "n3=input(\"noun:\" )\n",
    "p=input(\"place:\" )\n",
    "adj=input(\"adjective:\" )\n",
    "n4=input(\"noun:\" )\n",
    "\n",
    "print(\"Be kind to your\",n1)\n",
    "print(\"For a\",n2,\"may be somebody`s Mistress\")\n",
    "print(\"Be kind to your Ages in\",p)\n",
    "print(\"Where the weather is always Embarrassing.\")\n",
    "print(\"You may think that this is the\",adj+'.')\n",
    "print(\"Well it\",n4+'.')"
   ]
  },
  {
   "cell_type": "markdown",
   "metadata": {},
   "source": [
    "## Step 3: Questions\n",
    "\n",
    "1. What happens when neglect to follow the instructions and enter any inputs we desire? Does the code still run? Why?\n",
    "\n",
    "It still runs because I did not set any restrictions on what to input.\n",
    "\n",
    "2. What type of error occurs when the program runs but does not handle bad input?\n",
    "\n",
    "logic error.\n",
    "\n",
    "3. Is there anything you can do in code to correct this type of error? Why or why not?\n",
    "\n",
    "not at this moment, because I haven't learn how to add restrictions yet."
   ]
  },
  {
   "cell_type": "markdown",
   "metadata": {},
   "source": [
    "## Reminder of Evaluation Criteria\n",
    "\n",
    "1. What the problem attempted (analysis, code, and answered questions) ?\n",
    "2. What the problem analysis thought out? (does the program match the plan?)\n",
    "3. Does the code execute without syntax error?\n",
    "4. Does the code solve the intended problem?\n",
    "5. Is the code well written? (easy to understand, modular, and self-documenting, handles errors)\n"
   ]
  },
  {
   "cell_type": "code",
   "execution_count": null,
   "metadata": {
    "collapsed": true
   },
   "outputs": [],
   "source": []
  }
 ],
 "metadata": {
  "anaconda-cloud": {},
  "kernelspec": {
   "display_name": "Python 3",
   "language": "python",
   "name": "python3"
  },
  "language_info": {
   "codemirror_mode": {
    "name": "ipython",
    "version": 3
   },
   "file_extension": ".py",
   "mimetype": "text/x-python",
   "name": "python",
   "nbconvert_exporter": "python",
   "pygments_lexer": "ipython3",
   "version": "3.6.0"
  }
 },
 "nbformat": 4,
 "nbformat_minor": 0
}
