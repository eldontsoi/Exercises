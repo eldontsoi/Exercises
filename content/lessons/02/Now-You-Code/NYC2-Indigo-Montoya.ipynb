{
 "cells": [
  {
   "cell_type": "markdown",
   "metadata": {},
   "source": [
    "# Now You Code 2: Indigo Montoya\n",
    "\n",
    "[The Pricess Bride](https://www.rottentomatoes.com/m/princess_bride/) is an adventure film from the 80's, a true cult classic. One of the many notable scenes involves a character Indigo Montoya who explains his character's motivation for revenge through the catch-phase:\n",
    "\n",
    "\"Hello. My name is Indigo Montoya. You killed my father. Prepare to die!\"\n",
    "\n",
    "You can watch the clip here: [https://www.youtube.com/watch?v=YY4cnMmo9qw](https://www.youtube.com/watch?v=YY4cnMmo9qw)\n",
    "\n",
    "Write a program in Python which asks the user to enter **your name**, a **relative** and an **past-tense action**. For example if you enter \"Indigo Montoya\", \"Father\" and \"killed\", the program will then output:\n",
    "\n",
    "\"Hello. My name is Indigo Montoya. You killed my father. Prepare to die!\"\n",
    "\n",
    "Or you could input \"Mike Fudge\", \"Uncle\" and \"Tickled\" to get:\n",
    "\n",
    "\"Hello. My name is Mike Fudge. You Tickled my Uncle. Prepare to die!\"\n"
   ]
  },
  {
   "cell_type": "markdown",
   "metadata": {
    "collapsed": true
   },
   "source": [
    "## Step 1: Problem Analysis\n",
    "\n",
    "Inputs:\n",
    "- name\n",
    "- a relative\n",
    "- past tense action\n",
    "Outputs:\n",
    "- \"hello. My name is name. You past-tense action my relative. Prepare to die!\"\n",
    "\n",
    "Algorithm (Steps in Program):\n",
    "\n",
    "- let variables\n",
    "- print"
   ]
  },
  {
   "cell_type": "code",
   "execution_count": 1,
   "metadata": {},
   "outputs": [
    {
     "name": "stdout",
     "output_type": "stream",
     "text": [
      "what is your name? s\n",
      "who is your relative? s\n",
      "what is your past-tense reaction? s\n",
      "Hello. My name is s, you s my s, Prepare to die!\n"
     ]
    }
   ],
   "source": [
    "name= input(\"what is your name? \")\n",
    "relative= input(\"who is your relative? \")\n",
    "action= input(\"what is your past-tense reaction? \")\n",
    "lol=str(\".\")\n",
    "print(\"Hello. My name is\",name+\",\",\"you\", action,\"my\",relative+\",\",\"Prepare to die!\")"
   ]
  },
  {
   "cell_type": "markdown",
   "metadata": {},
   "source": [
    "## Step 3: Questions\n",
    "\n",
    "1. What happens when neglect the instructions and enter a past-tense action instead of a name? Does the code still run? Why?\n",
    "\n",
    "Yes, the code still runs, but there will be empty spaces in between, because the empty space is the defult output.\n",
    "\n",
    "2. What type of error it when the program runs but does not handle bad input?\n",
    "\n",
    "user error, the output does not make logical sense in the sense of incomplete sentences.\n",
    "\n",
    "3. Is there anything you can do in code to correct this type of error? Why or why not?\n",
    "\n",
    "Yes. If the code does not detect words that means relatives or actual names or actual past tense actions, it should prompt an error and refuse to execute. "
   ]
  },
  {
   "cell_type": "markdown",
   "metadata": {},
   "source": [
    "## Reminder of Evaluation Criteria\n",
    "\n",
    "1. What the problem attempted (analysis, code, and answered questions) ?\n",
    "2. What the problem analysis thought out? (does the program match the plan?)\n",
    "3. Does the code execute without syntax error?\n",
    "4. Does the code solve the intended problem?\n",
    "5. Is the code well written? (easy to understand, modular, and self-documenting, handles errors)\n"
   ]
  },
  {
   "cell_type": "code",
   "execution_count": null,
   "metadata": {},
   "outputs": [],
   "source": []
  }
 ],
 "metadata": {
  "anaconda-cloud": {},
  "kernelspec": {
   "display_name": "Python 3",
   "language": "python",
   "name": "python3"
  },
  "language_info": {
   "codemirror_mode": {
    "name": "ipython",
    "version": 3
   },
   "file_extension": ".py",
   "mimetype": "text/x-python",
   "name": "python",
   "nbconvert_exporter": "python",
   "pygments_lexer": "ipython3",
   "version": "3.6.3"
  }
 },
 "nbformat": 4,
 "nbformat_minor": 1
}
