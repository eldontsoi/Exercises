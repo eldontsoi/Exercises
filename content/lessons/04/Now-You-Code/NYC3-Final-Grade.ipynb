{
 "cells": [
  {
   "cell_type": "markdown",
   "metadata": {},
   "source": [
    "# Now You Code 3: Final Grade in IST256\n",
    "\n",
    "# Part 1\n",
    "\n",
    "Our Course Syllabus has a grading scale here:\n",
    "\n",
    "http://ist256.syr.edu/syllabus/#grading-scale\n",
    "\n",
    "Write a Python program to input a number of points earned out of 600 and then\n",
    "outputs the registrar letter grade. \n",
    "\n",
    "For example:\n",
    "\n",
    "    IST256 Grade Calculator\n",
    "    Enter total points out of 600:  550\n",
    "    Grade: A- \n"
   ]
  },
  {
   "cell_type": "markdown",
   "metadata": {
    "collapsed": true
   },
   "source": [
    "## Step 1: Problem Analysis\n",
    "\n",
    "Inputs:\n",
    "- a grade\n",
    "Outputs:\n",
    "\n",
    "- A,b,c,d,f,a-,b+/-,c+/-\n",
    "\n",
    "Algorithm (Steps in Program):\n",
    "\n",
    "print ist256 calculator\n",
    "ask for your grade in number\n",
    "do if procedures\n",
    "print grade\n"
   ]
  },
  {
   "cell_type": "code",
   "execution_count": 10,
   "metadata": {},
   "outputs": [
    {
     "name": "stdout",
     "output_type": "stream",
     "text": [
      "IST256 Grade Calculator\n",
      "Enter total points out of 600: asdfasfd\n"
     ]
    },
    {
     "ename": "ValueError",
     "evalue": "invalid literal for int() with base 10: 'asdfasfd'",
     "output_type": "error",
     "traceback": [
      "\u001b[1;31m---------------------------------------------------------------------------\u001b[0m",
      "\u001b[1;31mValueError\u001b[0m                                Traceback (most recent call last)",
      "\u001b[1;32m<ipython-input-10-ee8d27dd3505>\u001b[0m in \u001b[0;36m<module>\u001b[1;34m()\u001b[0m\n\u001b[0;32m      2\u001b[0m \u001b[1;33m\u001b[0m\u001b[0m\n\u001b[0;32m      3\u001b[0m \u001b[0mprint\u001b[0m\u001b[1;33m(\u001b[0m\u001b[1;34m\"IST256 Grade Calculator\"\u001b[0m\u001b[1;33m)\u001b[0m\u001b[1;33m\u001b[0m\u001b[0m\n\u001b[1;32m----> 4\u001b[1;33m \u001b[0mgrade\u001b[0m\u001b[1;33m=\u001b[0m\u001b[0mint\u001b[0m\u001b[1;33m(\u001b[0m\u001b[0minput\u001b[0m\u001b[1;33m(\u001b[0m\u001b[1;34m\"Enter total points out of 600: \"\u001b[0m\u001b[1;33m)\u001b[0m\u001b[1;33m)\u001b[0m\u001b[1;33m\u001b[0m\u001b[0m\n\u001b[0m\u001b[0;32m      5\u001b[0m \u001b[1;32mif\u001b[0m \u001b[1;36m570\u001b[0m\u001b[1;33m<=\u001b[0m\u001b[0mgrade\u001b[0m\u001b[1;33m<=\u001b[0m\u001b[1;36m600\u001b[0m\u001b[1;33m:\u001b[0m\u001b[1;33m\u001b[0m\u001b[0m\n\u001b[0;32m      6\u001b[0m     \u001b[0mprint\u001b[0m\u001b[1;33m(\u001b[0m\u001b[1;34m\"grade: A\"\u001b[0m\u001b[1;33m)\u001b[0m\u001b[1;33m\u001b[0m\u001b[0m\n",
      "\u001b[1;31mValueError\u001b[0m: invalid literal for int() with base 10: 'asdfasfd'"
     ]
    }
   ],
   "source": [
    "#Step 2: write code here\n",
    "\n",
    "print(\"IST256 Grade Calculator\")\n",
    "grade=int(input(\"Enter total points out of 600: \"))\n",
    "if 570<=grade<=600:\n",
    "    print(\"grade: A\")\n",
    "elif 540<=grade<=569:\n",
    "    print(\"grade: A-\")\n",
    "elif 510<=grade<=539:\n",
    "    print(\"grade: B+\")\n",
    "elif 480<=grade<=509:\n",
    "    print(\"grade: B\")\n",
    "elif 450<=grade<=479:\n",
    "    print(\"grade: B-\")\n",
    "elif 420<=grade<=449:\n",
    "    print(\"grade: C+\")\n",
    "elif 390<=grade<=419:\n",
    "    print(\"Grade: C\")\n",
    "elif 360<=grade<=389:\n",
    "    print(\"Grade: C-\")\n",
    "elif 300<=grade<=359:\n",
    "    print(\"Grade: D\")\n",
    "elif 0<=grade<=299:\n",
    "    print(\"Grade F\")\n",
    "\n",
    "        "
   ]
  },
  {
   "cell_type": "markdown",
   "metadata": {},
   "source": [
    "# Part 2\n",
    "\n",
    "Now that you got it working,  re-write your code to handle bad input. Specifically:\n",
    "\n",
    "\n",
    "- non integer values\n",
    "- integer values outside the 0 to 600 range.\n",
    "\n",
    "**Note:** Exception handling is not part of our algorithm. It's a programming concern, not a problem-solving concern!"
   ]
  },
  {
   "cell_type": "code",
   "execution_count": 1,
   "metadata": {},
   "outputs": [
    {
     "name": "stdout",
     "output_type": "stream",
     "text": [
      "IST256 Grade Calculator\n",
      "Enter total points out of 600: 888\n",
      "That's out of range!\n"
     ]
    }
   ],
   "source": [
    "## Step 2 (again): write code again but handle errors with try...except\n",
    "\n",
    "print(\"IST256 Grade Calculator\")\n",
    "try:\n",
    "    grade=int(input(\"Enter total points out of 600: \"))\n",
    "    if 570<=grade<=600:\n",
    "        print(\"grade: A\")\n",
    "    elif 540<=grade<=569:\n",
    "        print(\"grade: A-\")\n",
    "    elif 510<=grade<=539:\n",
    "        print(\"grade: B+\")\n",
    "    elif 480<=grade<=509:\n",
    "        print(\"grade: B\")\n",
    "    elif 450<=grade<=479:\n",
    "        print(\"grade: B-\")\n",
    "    elif 420<=grade<=449:\n",
    "        print(\"grade: C+\")\n",
    "    elif 390<=grade<=419:\n",
    "        print(\"Grade: C\")\n",
    "    elif 360<=grade<=389:\n",
    "        print(\"Grade: C-\")\n",
    "    elif 300<=grade<=359:\n",
    "        print(\"Grade: D\")\n",
    "    elif 0<=grade<=299:\n",
    "        print(\"Grade F\")\n",
    "    else:\n",
    "        print(\"That's out of range!\")\n",
    "except:\n",
    "    print(\"That's not a grade!\")"
   ]
  },
  {
   "cell_type": "markdown",
   "metadata": {},
   "source": [
    "## Step 3: Questions\n",
    "\n",
    "1. What specific Python Error are we handling (please provide the name of it)?\n",
    "\n",
    "- value error\n",
    "\n",
    "2. How many times must you execute this program and check the output before you canbe reasonably assured your code is correct? Explain.\n",
    "\n",
    "- 12 times, one for each range, one for str, one for out of range.\n",
    "\n",
    "3. When testing this program do you think its more important to test numbers in the middle of the grade range or exactly on the boundary between one grade range and the next. Justify your response.\n",
    "\n",
    "- exactly on the boundary, because we can code for larger than, smaller than, or \"larger/smaller than or equal to\"\n",
    "we have to get the syntax right to make sure the boundary numbers are correct.\n",
    "if boundary correct, numbers in between boundary should be correct.\n"
   ]
  },
  {
   "cell_type": "markdown",
   "metadata": {},
   "source": [
    "## Reminder of Evaluation Criteria\n",
    "\n",
    "1. What the problem attempted (analysis, code, and answered questions) ?\n",
    "2. What the problem analysis thought out? (does the program match the plan?)\n",
    "3. Does the code execute without syntax error?\n",
    "4. Does the code solve the intended problem?\n",
    "5. Is the code well written? (easy to understand, modular, and self-documenting, handles errors)\n"
   ]
  }
 ],
 "metadata": {
  "anaconda-cloud": {},
  "kernelspec": {
   "display_name": "Python 3",
   "language": "python",
   "name": "python3"
  },
  "language_info": {
   "codemirror_mode": {
    "name": "ipython",
    "version": 3
   },
   "file_extension": ".py",
   "mimetype": "text/x-python",
   "name": "python",
   "nbconvert_exporter": "python",
   "pygments_lexer": "ipython3",
   "version": "3.6.3"
  }
 },
 "nbformat": 4,
 "nbformat_minor": 1
}
