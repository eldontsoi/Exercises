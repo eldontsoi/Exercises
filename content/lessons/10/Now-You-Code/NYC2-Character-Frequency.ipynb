{
 "cells": [
  {
   "cell_type": "markdown",
   "metadata": {},
   "source": [
    "# Now You Code 2: Character Frequency\n",
    "\n",
    "Write a program to input some text (a word or a sentence). The program should create a histogram of each character in the text and it's frequency. For example the text `apple` has a frequency `a:1, p:2, l:1, e:1`\n",
    "\n",
    "Some advice:\n",
    "\n",
    "- build a dictionary of each character where the character is the key and the value is the number of occurences of that character.\n",
    "- omit spaces, in the input text, and they cannot be represented as dictionary keys\n",
    "- convert the input text to lower case, so that `A` and `a` are counted as the same character.\n",
    "\n",
    "After you count the characters:\n",
    "- sort the dictionary keys alphabetically, \n",
    "- print out the character distribution\n",
    "\n",
    "Example Run:\n",
    "\n",
    "```\n",
    "Enter some text: Michael is a Man from Mississppi.\n",
    ". : 1\n",
    "a : 3\n",
    "c : 1\n",
    "e : 1\n",
    "f : 1\n",
    "h : 1\n",
    "i : 5\n",
    "l : 1\n",
    "m : 4\n",
    "n : 1\n",
    "o : 1\n",
    "p : 2\n",
    "r : 1\n",
    "s : 5\n",
    "```\n"
   ]
  },
  {
   "cell_type": "markdown",
   "metadata": {
    "collapsed": true
   },
   "source": [
    "## Step 1: Problem Analysis\n",
    "\n",
    "Inputs:\n",
    "\n",
    "- a line of text\n",
    "\n",
    "Outputs:\n",
    "\n",
    "- frequency of the alphabets, sorted\n",
    "\n",
    "Algorithm (Steps in Program):\n",
    "\n",
    "- input\n",
    "- make all characters same .lower\n",
    "- do a for loop and count the characters\n",
    "    - if word not in word\n",
    "    - value remain same\n",
    "    - if word in word\n",
    "        - value incriment 1\n",
    "- \n"
   ]
  },
  {
   "cell_type": "code",
   "execution_count": 4,
   "metadata": {},
   "outputs": [
    {
     "name": "stdout",
     "output_type": "stream",
     "text": [
      "Enter some text: Michael is a Man from Mississppi.\n"
     ]
    },
    {
     "ename": "TypeError",
     "evalue": "'builtin_function_or_method' object is not subscriptable",
     "output_type": "error",
     "traceback": [
      "\u001b[0;31m---------------------------------------------------------------------------\u001b[0m",
      "\u001b[0;31mTypeError\u001b[0m                                 Traceback (most recent call last)",
      "\u001b[0;32m<ipython-input-4-cf99650c2a87>\u001b[0m in \u001b[0;36m<module>\u001b[0;34m()\u001b[0m\n\u001b[1;32m     13\u001b[0m     \u001b[0;32mif\u001b[0m \u001b[0malphabets\u001b[0m \u001b[0;32mnot\u001b[0m \u001b[0;32min\u001b[0m \u001b[0mword_dict\u001b[0m\u001b[0;34m:\u001b[0m\u001b[0;34m\u001b[0m\u001b[0m\n\u001b[1;32m     14\u001b[0m      \u001b[0;31m#   word_dict[alphabets] = 0\u001b[0m\u001b[0;34m\u001b[0m\u001b[0;34m\u001b[0m\u001b[0m\n\u001b[0;32m---> 15\u001b[0;31m         \u001b[0mword_dict\u001b[0m\u001b[0;34m[\u001b[0m\u001b[0malphabets\u001b[0m\u001b[0;34m]\u001b[0m \u001b[0;34m=\u001b[0m \u001b[0mword_dict\u001b[0m\u001b[0;34m.\u001b[0m\u001b[0mget\u001b[0m\u001b[0;34m[\u001b[0m\u001b[0malphabets\u001b[0m\u001b[0;34m,\u001b[0m\u001b[0;36m0\u001b[0m\u001b[0;34m]\u001b[0m \u001b[0;34m+\u001b[0m \u001b[0;36m1\u001b[0m\u001b[0;34m\u001b[0m\u001b[0m\n\u001b[0m\u001b[1;32m     16\u001b[0m \u001b[0;34m\u001b[0m\u001b[0m\n\u001b[1;32m     17\u001b[0m \u001b[0;32mfor\u001b[0m \u001b[0mkey\u001b[0m\u001b[0;34m,\u001b[0m\u001b[0mvalue\u001b[0m \u001b[0;32min\u001b[0m \u001b[0msorted\u001b[0m\u001b[0;34m(\u001b[0m\u001b[0mword_dict\u001b[0m\u001b[0;34m.\u001b[0m\u001b[0mitems\u001b[0m\u001b[0;34m(\u001b[0m\u001b[0;34m)\u001b[0m\u001b[0;34m)\u001b[0m\u001b[0;34m:\u001b[0m \u001b[0;31m#got help in stackoverflow\u001b[0m\u001b[0;34m\u001b[0m\u001b[0m\n",
      "\u001b[0;31mTypeError\u001b[0m: 'builtin_function_or_method' object is not subscriptable"
     ]
    }
   ],
   "source": [
    "## Step 2: Write code here\n",
    "word = input(\"Enter some text: \")\n",
    "word = word.lower()\n",
    "word = word.replace(\" \",\"\")\n",
    "if word == '':\n",
    "    print(\"please input something\")\n",
    "\n",
    "word_dict = dict()\n",
    "word_list = list(word_dict.keys())\n",
    "\n",
    "for alphabets in word:\n",
    "    word_list.sort()\n",
    "    if alphabets not in word_dict:\n",
    "     #   word_dict[alphabets] = 0\n",
    "        word_dict[alphabets] = word_dict.get[alphabets,0] + 1\n",
    "\n",
    "for key,value in sorted(word_dict.items()): #got help in stackoverflow\n",
    "    #word_list = list(word_dict.keys())\n",
    "    #word_list.sort()\n",
    "    print(\"{} : {}\".format(key, value)) #stack overflow\n",
    "\n",
    "    \n",
    "    #print(key,':',word_dict[key])"
   ]
  },
  {
   "cell_type": "code",
   "execution_count": 10,
   "metadata": {},
   "outputs": [
    {
     "name": "stdout",
     "output_type": "stream",
     "text": [
      "Enter some text: Michael is a Man from Mississppi.\n",
      ". : 1\n",
      "a : 3\n",
      "c : 1\n",
      "e : 1\n",
      "f : 1\n",
      "h : 1\n",
      "i : 5\n",
      "l : 1\n",
      "m : 4\n",
      "n : 1\n",
      "o : 1\n",
      "p : 2\n",
      "r : 1\n",
      "s : 5\n"
     ]
    }
   ],
   "source": [
    "## Step 2: Write code here\n",
    "word = input(\"Enter some text: \")\n",
    "word = word.lower()\n",
    "word = word.replace(\" \",\"\")\n",
    "if word == '':\n",
    "    print(\"please input something\")\n",
    "\n",
    "word_dict = {} #what is the difference between this one and the one above? which one is healthier for python?\n",
    "word_list = [(word_dict.keys())]\n",
    "\n",
    "for alphabets in word:\n",
    "    word_list.sort()\n",
    "    if alphabets not in word_dict:\n",
    "        word_dict[alphabets] = 0\n",
    "    word_dict[alphabets] = word_dict[alphabets] + 1\n",
    "\n",
    "for key,value in sorted(word_dict.items()): #got help in stackoverflow\n",
    "\n",
    "    print(\"{} : {}\".format(key, value)) #stack overflow\n",
    "\n"
   ]
  },
  {
   "cell_type": "code",
   "execution_count": 8,
   "metadata": {},
   "outputs": [
    {
     "name": "stdout",
     "output_type": "stream",
     "text": [
      "Enter some text: Michael is a Man from Mississppi.\n"
     ]
    },
    {
     "ename": "TypeError",
     "evalue": "'dict' object is not callable",
     "output_type": "error",
     "traceback": [
      "\u001b[0;31m---------------------------------------------------------------------------\u001b[0m",
      "\u001b[0;31mTypeError\u001b[0m                                 Traceback (most recent call last)",
      "\u001b[0;32m<ipython-input-8-0d125ffce743>\u001b[0m in \u001b[0;36m<module>\u001b[0;34m()\u001b[0m\n\u001b[1;32m     17\u001b[0m \u001b[0;34m\u001b[0m\u001b[0m\n\u001b[1;32m     18\u001b[0m \u001b[0;32mfor\u001b[0m \u001b[0mkey\u001b[0m \u001b[0;32min\u001b[0m \u001b[0mword_dict\u001b[0m\u001b[0;34m.\u001b[0m\u001b[0mkeys\u001b[0m\u001b[0;34m(\u001b[0m\u001b[0;34m)\u001b[0m\u001b[0;34m:\u001b[0m\u001b[0;34m\u001b[0m\u001b[0m\n\u001b[0;32m---> 19\u001b[0;31m     \u001b[0mprint\u001b[0m\u001b[0;34m(\u001b[0m\u001b[0mkey\u001b[0m\u001b[0;34m,\u001b[0m\u001b[0;34m\":\"\u001b[0m\u001b[0;34m,\u001b[0m\u001b[0mword_dict\u001b[0m\u001b[0;34m(\u001b[0m\u001b[0mkey\u001b[0m\u001b[0;34m)\u001b[0m\u001b[0;34m)\u001b[0m\u001b[0;34m\u001b[0m\u001b[0m\n\u001b[0m\u001b[1;32m     20\u001b[0m     \u001b[0;31m#for key,value in sorted(word_dict.items()): #got help in stackoverflow\u001b[0m\u001b[0;34m\u001b[0m\u001b[0;34m\u001b[0m\u001b[0m\n\u001b[1;32m     21\u001b[0m     \u001b[0;31m#word_list = list(word_dict.keys())\u001b[0m\u001b[0;34m\u001b[0m\u001b[0;34m\u001b[0m\u001b[0m\n",
      "\u001b[0;31mTypeError\u001b[0m: 'dict' object is not callable"
     ]
    }
   ],
   "source": [
    "## Step 2: Write code here\n",
    "word = input(\"Enter some text: \")\n",
    "word = word.lower()\n",
    "word = word.replace(\" \",\"\")\n",
    "word =  sorted(word)\n",
    "if word == '':\n",
    "    print(\"please input something\")\n",
    "\n",
    "word_dict = {}\n",
    "word_list = list(word_dict.keys())\n",
    "\n",
    "for alphabets in word:\n",
    "    word_list.sort()\n",
    "    if alphabets not in word_dict:\n",
    "        word_dict[alphabets] = 0\n",
    "    word_dict[alphabets] = word_dict[alphabets] + 1\n",
    "\n",
    "for key in word_dict.keys():\n",
    "    print(key,\":\",word_dict(key))\n",
    "    #for key,value in sorted(word_dict.items()): #got help in stackoverflow\n",
    "    #word_list = list(word_dict.keys())\n",
    "    #word_list.sort()\n",
    "    print(\"{} : {}\".format(key, value)) #stack overflow\n",
    "\n",
    "    \n",
    "    #print(key,':',word_dict[key])"
   ]
  },
  {
   "cell_type": "code",
   "execution_count": 1,
   "metadata": {},
   "outputs": [
    {
     "ename": "NameError",
     "evalue": "name 'word' is not defined",
     "output_type": "error",
     "traceback": [
      "\u001b[0;31m---------------------------------------------------------------------------\u001b[0m",
      "\u001b[0;31mNameError\u001b[0m                                 Traceback (most recent call last)",
      "\u001b[0;32m<ipython-input-1-60d3f5ba92a8>\u001b[0m in \u001b[0;36m<module>\u001b[0;34m()\u001b[0m\n\u001b[0;32m----> 1\u001b[0;31m \u001b[0mprint\u001b[0m\u001b[0;34m(\u001b[0m\u001b[0mword\u001b[0m\u001b[0;34m)\u001b[0m\u001b[0;34m\u001b[0m\u001b[0m\n\u001b[0m",
      "\u001b[0;31mNameError\u001b[0m: name 'word' is not defined"
     ]
    }
   ],
   "source": [
    "print(word)"
   ]
  },
  {
   "cell_type": "raw",
   "metadata": {},
   "source": [
    "#### Step 3: Questions\n",
    "\n",
    "1. Explain how you handled the situation where the dictionary key does not exist? (For instance the first time you encounter a character?)\n",
    "\n",
    "i reviewed what i wrote and try to trouble shoot by printing every step and variable\n",
    "\n",
    "2. What happens when you just press `ENTER` as opposed to entering some actual text? What can be done about this to provide better feedback.\n",
    "\n",
    "set condition through if statement\n",
    "\n",
    "3. This program is similar to the popular word cloud generators [http://www.wordclouds.com/] you can find on the Web. Describe how this program could be modified to count words instead of characters.\n",
    "\n",
    "import all the input to a list\n",
    "if the index is the same in the list\n",
    "increment count by 1\n"
   ]
  },
  {
   "cell_type": "code",
   "execution_count": 23,
   "metadata": {},
   "outputs": [
    {
     "name": "stdout",
     "output_type": "stream",
     "text": [
      "Enter some text: iukfdsfdgfhgjhk bik;j\n",
      "  : 22\n"
     ]
    }
   ],
   "source": [
    "#word count verison\n",
    "word = input(\"Enter some text: \")\n",
    "if word == '':\n",
    "    print(\"please input something\")\n",
    "word_dict = dict()\n",
    "for words in word:\n",
    "    if alphabets not in word_dict:\n",
    "        word_dict[alphabets] = 1\n",
    "    word_dict[alphabets] = word_dict[alphabets] + 1\n",
    "\n",
    "for key in word_dict:\n",
    "    print(key,':',word_dict[key])"
   ]
  },
  {
   "cell_type": "markdown",
   "metadata": {},
   "source": [
    "## Reminder of Evaluation Criteria\n",
    "\n",
    "1. What the problem attempted (analysis, code, and answered questions) ?\n",
    "2. What the problem analysis thought out? (does the program match the plan?)\n",
    "3. Does the code execute without syntax error?\n",
    "4. Does the code solve the intended problem?\n",
    "5. Is the code well written? (easy to understand, modular, and self-documenting, handles errors)\n"
   ]
  },
  {
   "cell_type": "code",
   "execution_count": null,
   "metadata": {
    "collapsed": true
   },
   "outputs": [],
   "source": []
  }
 ],
 "metadata": {
  "anaconda-cloud": {},
  "kernelspec": {
   "display_name": "Python 3",
   "language": "python",
   "name": "python3"
  },
  "language_info": {
   "codemirror_mode": {
    "name": "ipython",
    "version": 3
   },
   "file_extension": ".py",
   "mimetype": "text/x-python",
   "name": "python",
   "nbconvert_exporter": "python",
   "pygments_lexer": "ipython3",
   "version": "3.6.4"
  }
 },
 "nbformat": 4,
 "nbformat_minor": 1
}
