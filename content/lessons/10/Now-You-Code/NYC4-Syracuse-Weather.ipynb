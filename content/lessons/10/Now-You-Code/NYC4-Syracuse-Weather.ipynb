{
 "cells": [
  {
   "cell_type": "markdown",
   "metadata": {},
   "source": [
    "# Now You Code 4: Syracuse Weather\n",
    "\n",
    "Write a program to load the Syracuse weather data from Dec 2015 in\n",
    "JSON format into a Python list of dictionary. \n",
    "\n",
    "The file with the weather data is in your `Now-You-Code` folder: `\"NYC4-syr-weather-dec-2015.json\"`\n",
    "\n",
    "You should load this data into a Python list of dictionary using the `json` package. \n",
    "\n",
    "After you load this data, loop over the list of weather items and record whether or not the `'Mean TemperatureF'` is above or below freezing. \n",
    "\n",
    "Sort this information into a separate Python dictionary, called `stats` so you can print it out like this:\n",
    "```\n",
    "{'below-freezing': 4, 'above-freezing': 27}\n",
    "```\n",
    "\n"
   ]
  },
  {
   "cell_type": "markdown",
   "metadata": {
    "collapsed": true
   },
   "source": [
    "## Step 1: Problem Analysis `input_address` function\n",
    "\n",
    "This function should get input from the user at run time and return the input address.\n",
    "\n",
    "Inputs: None (gets input from user)\n",
    "\n",
    "Outputs: a Python dictionary of address info (street, city, state, postal_code)\n",
    "\n",
    "Algorithm (Steps in Program):\n",
    "\n",
    "- import json\n",
    "- load file to list\n",
    "- loop list\n",
    "    - check below or above freezing\n",
    "- print "
   ]
  },
  {
   "cell_type": "code",
   "execution_count": 8,
   "metadata": {},
   "outputs": [
    {
     "name": "stdout",
     "output_type": "stream",
     "text": [
      "[{\"EST\":\"2015-12-1\",\"Max TemperatureF\":49,\"Mean TemperatureF\":42.0,\"Min TemperatureF\":34,\"Max Dew PointF\":47,\"MeanDew PointF\":36,\"Min DewpointF\":26,\"Max Humidity\":100,\"Mean Humidity\":85,\"Min Humidity\":70,\"Max Sea Level PressureIn\":30.26,\"Mean Sea Level PressureIn\":30.08,\"Min Sea Level PressureIn\":29.86,\"Max VisibilityMiles\":10,\"Mean VisibilityMiles\":6,\"Min VisibilityMiles\":2,\"Max Wind SpeedMPH\":15,\"Mean Wind SpeedMPH\":10,\"Max Gust SpeedMPH\":22.0,\"PrecipitationIn\":\"0.26\",\"CloudCover\":8,\"Events\":\"Rain\",\"WindDirDegrees\":81},{\"EST\":\"2015-12-2\",\"Max TemperatureF\":48,\"Mean TemperatureF\":44.0,\"Min TemperatureF\":40,\"Max Dew PointF\":46,\"MeanDew PointF\":43,\"Min DewpointF\":39,\"Max Humidity\":100,\"Mean Humidity\":96,\"Min Humidity\":92,\"Max Sea Level PressureIn\":29.88,\"Mean Sea Level PressureIn\":29.78,\"Min Sea Level PressureIn\":29.65,\"Max VisibilityMiles\":10,\"Mean VisibilityMiles\":5,\"Min VisibilityMiles\":1,\"Max Wind SpeedMPH\":17,\"Mean Wind SpeedMPH\":6,\"Max Gust SpeedMPH\":22.0,\"PrecipitationIn\":\"0.93\",\"CloudCover\":8,\"Events\":\"Rain\",\"WindDirDegrees\":360},{\"EST\":\"2015-12-3\",\"Max TemperatureF\":42,\"Mean TemperatureF\":39.0,\"Min TemperatureF\":35,\"Max Dew PointF\":39,\"MeanDew PointF\":37,\"Min DewpointF\":32,\"Max Humidity\":100,\"Mean Humidity\":88,\"Min Humidity\":76,\"Max Sea Level PressureIn\":30.23,\"Mean Sea Level PressureIn\":29.94,\"Min Sea Level PressureIn\":29.74,\"Max VisibilityMiles\":10,\"Mean VisibilityMiles\":8,\"Min VisibilityMiles\":2,\"Max Wind SpeedMPH\":22,\"Mean Wind SpeedMPH\":11,\"Max Gust SpeedMPH\":29.0,\"PrecipitationIn\":\"0.14\",\"CloudCover\":8,\"Events\":\"Rain\",\"WindDirDegrees\":274},{\"EST\":\"2015-12-4\",\"Max TemperatureF\":43,\"Mean TemperatureF\":41.0,\"Min TemperatureF\":38,\"Max Dew PointF\":37,\"MeanDew PointF\":33,\"Min DewpointF\":31,\"Max Humidity\":100,\"Mean Humidity\":84,\"Min Humidity\":67,\"Max Sea Level PressureIn\":30.6,\"Mean Sea Level PressureIn\":30.41,\"Min Sea Level PressureIn\":30.24,\"Max VisibilityMiles\":10,\"Mean VisibilityMiles\":10,\"Min VisibilityMiles\":10,\"Max Wind SpeedMPH\":21,\"Mean Wind SpeedMPH\":10,\"Max Gust SpeedMPH\":26.0,\"PrecipitationIn\":\"T\",\"CloudCover\":8,\"Events\":\"Rain\",\"WindDirDegrees\":259},{\"EST\":\"2015-12-5\",\"Max TemperatureF\":43,\"Mean TemperatureF\":37.0,\"Min TemperatureF\":30,\"Max Dew PointF\":34,\"MeanDew PointF\":33,\"Min DewpointF\":29,\"Max Humidity\":100,\"Mean Humidity\":85,\"Min Humidity\":70,\"Max Sea Level PressureIn\":30.72,\"Mean Sea Level PressureIn\":30.66,\"Min Sea Level PressureIn\":30.61,\"Max VisibilityMiles\":10,\"Mean VisibilityMiles\":9,\"Min VisibilityMiles\":5,\"Max Wind SpeedMPH\":13,\"Mean Wind SpeedMPH\":5,\"Max Gust SpeedMPH\":15.0,\"PrecipitationIn\":\"0.00\",\"CloudCover\":7,\"Events\":null,\"WindDirDegrees\":234},{\"EST\":\"2015-12-6\",\"Max TemperatureF\":39,\"Mean TemperatureF\":32.0,\"Min TemperatureF\":25,\"Max Dew PointF\":35,\"MeanDew PointF\":30,\"Min DewpointF\":24,\"Max Humidity\":100,\"Mean Humidity\":90,\"Min Humidity\":79,\"Max Sea Level PressureIn\":30.58,\"Mean Sea Level PressureIn\":30.41,\"Min Sea Level PressureIn\":30.21,\"Max VisibilityMiles\":10,\"Mean VisibilityMiles\":6,\"Min VisibilityMiles\":2,\"Max Wind SpeedMPH\":8,\"Mean Wind SpeedMPH\":3,\"Max Gust SpeedMPH\":9.0,\"PrecipitationIn\":\"0.00\",\"CloudCover\":5,\"Events\":\"Fog\",\"WindDirDegrees\":85},{\"EST\":\"2015-12-7\",\"Max TemperatureF\":41,\"Mean TemperatureF\":33.0,\"Min TemperatureF\":25,\"Max Dew PointF\":35,\"MeanDew PointF\":30,\"Min DewpointF\":24,\"Max Humidity\":100,\"Mean Humidity\":85,\"Min Humidity\":70,\"Max Sea Level PressureIn\":30.22,\"Mean Sea Level PressureIn\":30.18,\"Min Sea Level PressureIn\":30.15,\"Max VisibilityMiles\":10,\"Mean VisibilityMiles\":8,\"Min VisibilityMiles\":4,\"Max Wind SpeedMPH\":10,\"Mean Wind SpeedMPH\":3,\"Max Gust SpeedMPH\":12.0,\"PrecipitationIn\":\"0.00\",\"CloudCover\":7,\"Events\":\"Fog\",\"WindDirDegrees\":296},{\"EST\":\"2015-12-8\",\"Max TemperatureF\":39,\"Mean TemperatureF\":34.0,\"Min TemperatureF\":28,\"Max Dew PointF\":31,\"MeanDew PointF\":29,\"Min DewpointF\":26,\"Max Humidity\":92,\"Mean Humidity\":78,\"Min Humidity\":64,\"Max Sea Level PressureIn\":30.17,\"Mean Sea Level PressureIn\":30.11,\"Min Sea Level PressureIn\":30.05,\"Max VisibilityMiles\":10,\"Mean VisibilityMiles\":10,\"Min VisibilityMiles\":10,\"Max Wind SpeedMPH\":13,\"Mean Wind SpeedMPH\":5,\"Max Gust SpeedMPH\":14.0,\"PrecipitationIn\":\"0.00\",\"CloudCover\":8,\"Events\":null,\"WindDirDegrees\":103},{\"EST\":\"2015-12-9\",\"Max TemperatureF\":53,\"Mean TemperatureF\":42.0,\"Min TemperatureF\":30,\"Max Dew PointF\":41,\"MeanDew PointF\":35,\"Min DewpointF\":29,\"Max Humidity\":92,\"Mean Humidity\":73,\"Min Humidity\":54,\"Max Sea Level PressureIn\":30.04,\"Mean Sea Level PressureIn\":29.94,\"Min Sea Level PressureIn\":29.81,\"Max VisibilityMiles\":10,\"Mean VisibilityMiles\":10,\"Min VisibilityMiles\":7,\"Max Wind SpeedMPH\":23,\"Mean Wind SpeedMPH\":10,\"Max Gust SpeedMPH\":33.0,\"PrecipitationIn\":\"T\",\"CloudCover\":6,\"Events\":\"Rain\",\"WindDirDegrees\":129},{\"EST\":\"2015-12-10\",\"Max TemperatureF\":57,\"Mean TemperatureF\":51.0,\"Min TemperatureF\":45,\"Max Dew PointF\":44,\"MeanDew PointF\":41,\"Min DewpointF\":38,\"Max Humidity\":93,\"Mean Humidity\":74,\"Min Humidity\":55,\"Max Sea Level PressureIn\":29.94,\"Mean Sea Level PressureIn\":29.87,\"Min Sea Level PressureIn\":29.78,\"Max VisibilityMiles\":10,\"Mean VisibilityMiles\":9,\"Min VisibilityMiles\":5,\"Max Wind SpeedMPH\":20,\"Mean Wind SpeedMPH\":7,\"Max Gust SpeedMPH\":28.0,\"PrecipitationIn\":\"0.10\",\"CloudCover\":8,\"Events\":\"Rain\",\"WindDirDegrees\":180},{\"EST\":\"2015-12-11\",\"Max TemperatureF\":60,\"Mean TemperatureF\":51.0,\"Min TemperatureF\":41,\"Max Dew PointF\":44,\"MeanDew PointF\":39,\"Min DewpointF\":32,\"Max Humidity\":74,\"Mean Humidity\":59,\"Min Humidity\":43,\"Max Sea Level PressureIn\":30.0,\"Mean Sea Level PressureIn\":29.81,\"Min Sea Level PressureIn\":29.73,\"Max VisibilityMiles\":10,\"Mean VisibilityMiles\":10,\"Min VisibilityMiles\":9,\"Max Wind SpeedMPH\":24,\"Mean Wind SpeedMPH\":10,\"Max Gust SpeedMPH\":30.0,\"PrecipitationIn\":\"0.00\",\"CloudCover\":6,\"Events\":null,\"WindDirDegrees\":215},{\"EST\":\"2015-12-12\",\"Max TemperatureF\":52,\"Mean TemperatureF\":43.0,\"Min TemperatureF\":34,\"Max Dew PointF\":46,\"MeanDew PointF\":39,\"Min DewpointF\":34,\"Max Humidity\":100,\"Mean Humidity\":82,\"Min Humidity\":63,\"Max Sea Level PressureIn\":30.13,\"Mean Sea Level PressureIn\":30.08,\"Min Sea Level PressureIn\":30.02,\"Max VisibilityMiles\":10,\"Mean VisibilityMiles\":10,\"Min VisibilityMiles\":10,\"Max Wind SpeedMPH\":9,\"Mean Wind SpeedMPH\":2,\"Max Gust SpeedMPH\":10.0,\"PrecipitationIn\":\"0.02\",\"CloudCover\":7,\"Events\":\"Rain\",\"WindDirDegrees\":30},{\"EST\":\"2015-12-13\",\"Max TemperatureF\":54,\"Mean TemperatureF\":50.0,\"Min TemperatureF\":46,\"Max Dew PointF\":46,\"MeanDew PointF\":44,\"Min DewpointF\":40,\"Max Humidity\":100,\"Mean Humidity\":86,\"Min Humidity\":71,\"Max Sea Level PressureIn\":30.19,\"Mean Sea Level PressureIn\":30.11,\"Min Sea Level PressureIn\":29.92,\"Max VisibilityMiles\":10,\"Mean VisibilityMiles\":10,\"Min VisibilityMiles\":10,\"Max Wind SpeedMPH\":14,\"Mean Wind SpeedMPH\":5,\"Max Gust SpeedMPH\":18.0,\"PrecipitationIn\":\"T\",\"CloudCover\":8,\"Events\":null,\"WindDirDegrees\":70},{\"EST\":\"2015-12-14\",\"Max TemperatureF\":66,\"Mean TemperatureF\":56.0,\"Min TemperatureF\":45,\"Max Dew PointF\":59,\"MeanDew PointF\":50,\"Min DewpointF\":40,\"Max Humidity\":93,\"Mean Humidity\":76,\"Min Humidity\":58,\"Max Sea Level PressureIn\":29.89,\"Mean Sea Level PressureIn\":29.6,\"Min Sea Level PressureIn\":29.33,\"Max VisibilityMiles\":10,\"Mean VisibilityMiles\":9,\"Min VisibilityMiles\":4,\"Max Wind SpeedMPH\":28,\"Mean Wind SpeedMPH\":7,\"Max Gust SpeedMPH\":37.0,\"PrecipitationIn\":\"0.33\",\"CloudCover\":8,\"Events\":\"Rain\",\"WindDirDegrees\":98},{\"EST\":\"2015-12-15\",\"Max TemperatureF\":54,\"Mean TemperatureF\":47.0,\"Min TemperatureF\":40,\"Max Dew PointF\":49,\"MeanDew PointF\":41,\"Min DewpointF\":33,\"Max Humidity\":100,\"Mean Humidity\":85,\"Min Humidity\":70,\"Max Sea Level PressureIn\":29.98,\"Mean Sea Level PressureIn\":29.65,\"Min Sea Level PressureIn\":29.4,\"Max VisibilityMiles\":10,\"Mean VisibilityMiles\":9,\"Min VisibilityMiles\":2,\"Max Wind SpeedMPH\":33,\"Mean Wind SpeedMPH\":16,\"Max Gust SpeedMPH\":40.0,\"PrecipitationIn\":\"0.02\",\"CloudCover\":8,\"Events\":\"Rain\",\"WindDirDegrees\":280},{\"EST\":\"2015-12-16\",\"Max TemperatureF\":46,\"Mean TemperatureF\":42.0,\"Min TemperatureF\":37,\"Max Dew PointF\":37,\"MeanDew PointF\":34,\"Min DewpointF\":30,\"Max Humidity\":82,\"Mean Humidity\":76,\"Min Humidity\":70,\"Max Sea Level PressureIn\":30.13,\"Mean Sea Level PressureIn\":30.04,\"Min Sea Level PressureIn\":29.88,\"Max VisibilityMiles\":10,\"Mean VisibilityMiles\":10,\"Min VisibilityMiles\":10,\"Max Wind SpeedMPH\":20,\"Mean Wind SpeedMPH\":7,\"Max Gust SpeedMPH\":31.0,\"PrecipitationIn\":\"0.00\",\"CloudCover\":8,\"Events\":null,\"WindDirDegrees\":86},{\"EST\":\"2015-12-17\",\"Max TemperatureF\":51,\"Mean TemperatureF\":46.0,\"Min TemperatureF\":41,\"Max Dew PointF\":49,\"MeanDew PointF\":44,\"Min DewpointF\":36,\"Max Humidity\":100,\"Mean Humidity\":83,\"Min Humidity\":66,\"Max Sea Level PressureIn\":29.85,\"Mean Sea Level PressureIn\":29.75,\"Min Sea Level PressureIn\":29.66,\"Max VisibilityMiles\":10,\"Mean VisibilityMiles\":8,\"Min VisibilityMiles\":2,\"Max Wind SpeedMPH\":18,\"Mean Wind SpeedMPH\":8,\"Max Gust SpeedMPH\":23.0,\"PrecipitationIn\":\"0.45\",\"CloudCover\":8,\"Events\":\"Rain\",\"WindDirDegrees\":201},{\"EST\":\"2015-12-18\",\"Max TemperatureF\":41,\"Mean TemperatureF\":37.0,\"Min TemperatureF\":33,\"Max Dew PointF\":36,\"MeanDew PointF\":26,\"Min DewpointF\":21,\"Max Humidity\":79,\"Mean Humidity\":66,\"Min Humidity\":52,\"Max Sea Level PressureIn\":29.82,\"Mean Sea Level PressureIn\":29.8,\"Min Sea Level PressureIn\":29.77,\"Max VisibilityMiles\":10,\"Mean VisibilityMiles\":10,\"Min VisibilityMiles\":9,\"Max Wind SpeedMPH\":21,\"Mean Wind SpeedMPH\":12,\"Max Gust SpeedMPH\":28.0,\"PrecipitationIn\":\"T\",\"CloudCover\":8,\"Events\":null,\"WindDirDegrees\":262},{\"EST\":\"2015-12-19\",\"Max TemperatureF\":34,\"Mean TemperatureF\":31.0,\"Min TemperatureF\":27,\"Max Dew PointF\":24,\"MeanDew PointF\":16,\"Min DewpointF\":12,\"Max Humidity\":72,\"Mean Humidity\":58,\"Min Humidity\":43,\"Max Sea Level PressureIn\":30.26,\"Mean Sea Level PressureIn\":30.03,\"Min Sea Level PressureIn\":29.83,\"Max VisibilityMiles\":10,\"Mean VisibilityMiles\":10,\"Min VisibilityMiles\":9,\"Max Wind SpeedMPH\":33,\"Mean Wind SpeedMPH\":21,\"Max Gust SpeedMPH\":42.0,\"PrecipitationIn\":\"T\",\"CloudCover\":7,\"Events\":\"Snow\",\"WindDirDegrees\":250},{\"EST\":\"2015-12-20\",\"Max TemperatureF\":38,\"Mean TemperatureF\":34.0,\"Min TemperatureF\":29,\"Max Dew PointF\":21,\"MeanDew PointF\":19,\"Min DewpointF\":16,\"Max Humidity\":69,\"Mean Humidity\":57,\"Min Humidity\":44,\"Max Sea Level PressureIn\":30.48,\"Mean Sea Level PressureIn\":30.36,\"Min Sea Level PressureIn\":30.19,\"Max VisibilityMiles\":10,\"Mean VisibilityMiles\":10,\"Min VisibilityMiles\":9,\"Max Wind SpeedMPH\":29,\"Mean Wind SpeedMPH\":12,\"Max Gust SpeedMPH\":34.0,\"PrecipitationIn\":\"T\",\"CloudCover\":7,\"Events\":\"Snow\",\"WindDirDegrees\":210},{\"EST\":\"2015-12-21\",\"Max TemperatureF\":52,\"Mean TemperatureF\":44.0,\"Min TemperatureF\":35,\"Max Dew PointF\":41,\"MeanDew PointF\":27,\"Min DewpointF\":17,\"Max Humidity\":63,\"Mean Humidity\":48,\"Min Humidity\":33,\"Max Sea Level PressureIn\":30.17,\"Mean Sea Level PressureIn\":30.0,\"Min Sea Level PressureIn\":29.9,\"Max VisibilityMiles\":10,\"Mean VisibilityMiles\":10,\"Min VisibilityMiles\":10,\"Max Wind SpeedMPH\":22,\"Mean Wind SpeedMPH\":11,\"Max Gust SpeedMPH\":29.0,\"PrecipitationIn\":\"T\",\"CloudCover\":8,\"Events\":\"Rain\",\"WindDirDegrees\":182},{\"EST\":\"2015-12-22\",\"Max TemperatureF\":55,\"Mean TemperatureF\":48.0,\"Min TemperatureF\":41,\"Max Dew PointF\":51,\"MeanDew PointF\":46,\"Min DewpointF\":41,\"Max Humidity\":100,\"Mean Humidity\":84,\"Min Humidity\":68,\"Max Sea Level PressureIn\":30.06,\"Mean Sea Level PressureIn\":29.87,\"Min Sea Level PressureIn\":29.79,\"Max VisibilityMiles\":10,\"Mean VisibilityMiles\":7,\"Min VisibilityMiles\":1,\"Max Wind SpeedMPH\":14,\"Mean Wind SpeedMPH\":6,\"Max Gust SpeedMPH\":19.0,\"PrecipitationIn\":\"0.90\",\"CloudCover\":7,\"Events\":\"Fog-Rain\",\"WindDirDegrees\":127},{\"EST\":\"2015-12-23\",\"Max TemperatureF\":60,\"Mean TemperatureF\":51.0,\"Min TemperatureF\":42,\"Max Dew PointF\":53,\"MeanDew PointF\":50,\"Min DewpointF\":43,\"Max Humidity\":100,\"Mean Humidity\":86,\"Min Humidity\":72,\"Max Sea Level PressureIn\":30.07,\"Mean Sea Level PressureIn\":29.92,\"Min Sea Level PressureIn\":29.71,\"Max VisibilityMiles\":10,\"Mean VisibilityMiles\":10,\"Min VisibilityMiles\":4,\"Max Wind SpeedMPH\":20,\"Mean Wind SpeedMPH\":9,\"Max Gust SpeedMPH\":25.0,\"PrecipitationIn\":\"0.14\",\"CloudCover\":8,\"Events\":\"Fog-Rain\",\"WindDirDegrees\":87},{\"EST\":\"2015-12-24\",\"Max TemperatureF\":68,\"Mean TemperatureF\":53.0,\"Min TemperatureF\":37,\"Max Dew PointF\":58,\"MeanDew PointF\":47,\"Min DewpointF\":28,\"Max Humidity\":100,\"Mean Humidity\":72,\"Min Humidity\":43,\"Max Sea Level PressureIn\":30.12,\"Mean Sea Level PressureIn\":29.82,\"Min Sea Level PressureIn\":29.6,\"Max VisibilityMiles\":10,\"Mean VisibilityMiles\":10,\"Min VisibilityMiles\":10,\"Max Wind SpeedMPH\":35,\"Mean Wind SpeedMPH\":12,\"Max Gust SpeedMPH\":44.0,\"PrecipitationIn\":\"0.00\",\"CloudCover\":6,\"Events\":null,\"WindDirDegrees\":167},{\"EST\":\"2015-12-25\",\"Max TemperatureF\":54,\"Mean TemperatureF\":43.0,\"Min TemperatureF\":32,\"Max Dew PointF\":36,\"MeanDew PointF\":33,\"Min DewpointF\":29,\"Max Humidity\":92,\"Mean Humidity\":67,\"Min Humidity\":41,\"Max Sea Level PressureIn\":30.41,\"Mean Sea Level PressureIn\":30.21,\"Min Sea Level PressureIn\":30.09,\"Max VisibilityMiles\":10,\"Mean VisibilityMiles\":10,\"Min VisibilityMiles\":10,\"Max Wind SpeedMPH\":10,\"Mean Wind SpeedMPH\":3,\"Max Gust SpeedMPH\":13.0,\"PrecipitationIn\":\"T\",\"CloudCover\":7,\"Events\":\"Rain\",\"WindDirDegrees\":322},{\"EST\":\"2015-12-26\",\"Max TemperatureF\":46,\"Mean TemperatureF\":37.0,\"Min TemperatureF\":27,\"Max Dew PointF\":39,\"MeanDew PointF\":32,\"Min DewpointF\":27,\"Max Humidity\":100,\"Mean Humidity\":79,\"Min Humidity\":58,\"Max Sea Level PressureIn\":30.55,\"Mean Sea Level PressureIn\":30.43,\"Min Sea Level PressureIn\":30.09,\"Max VisibilityMiles\":10,\"Mean VisibilityMiles\":6,\"Min VisibilityMiles\":0,\"Max Wind SpeedMPH\":14,\"Mean Wind SpeedMPH\":5,\"Max Gust SpeedMPH\":17.0,\"PrecipitationIn\":\"0.06\",\"CloudCover\":6,\"Events\":\"Fog-Rain\",\"WindDirDegrees\":78},{\"EST\":\"2015-12-27\",\"Max TemperatureF\":50,\"Mean TemperatureF\":42.0,\"Min TemperatureF\":33,\"Max Dew PointF\":48,\"MeanDew PointF\":38,\"Min DewpointF\":31,\"Max Humidity\":100,\"Mean Humidity\":95,\"Min Humidity\":89,\"Max Sea Level PressureIn\":30.25,\"Mean Sea Level PressureIn\":30.03,\"Min Sea Level PressureIn\":29.84,\"Max VisibilityMiles\":10,\"Mean VisibilityMiles\":7,\"Min VisibilityMiles\":2,\"Max Wind SpeedMPH\":18,\"Mean Wind SpeedMPH\":8,\"Max Gust SpeedMPH\":25.0,\"PrecipitationIn\":\"0.61\",\"CloudCover\":8,\"Events\":\"Rain-Snow\",\"WindDirDegrees\":314},{\"EST\":\"2015-12-28\",\"Max TemperatureF\":33,\"Mean TemperatureF\":28.0,\"Min TemperatureF\":23,\"Max Dew PointF\":31,\"MeanDew PointF\":21,\"Min DewpointF\":13,\"Max Humidity\":96,\"Mean Humidity\":75,\"Min Humidity\":53,\"Max Sea Level PressureIn\":30.55,\"Mean Sea Level PressureIn\":30.4,\"Min Sea Level PressureIn\":30.25,\"Max VisibilityMiles\":10,\"Mean VisibilityMiles\":6,\"Min VisibilityMiles\":1,\"Max Wind SpeedMPH\":23,\"Mean Wind SpeedMPH\":12,\"Max Gust SpeedMPH\":30.0,\"PrecipitationIn\":\"0.33\",\"CloudCover\":8,\"Events\":\"Rain-Snow\",\"WindDirDegrees\":54},{\"EST\":\"2015-12-29\",\"Max TemperatureF\":41,\"Mean TemperatureF\":32.0,\"Min TemperatureF\":22,\"Max Dew PointF\":36,\"MeanDew PointF\":29,\"Min DewpointF\":20,\"Max Humidity\":100,\"Mean Humidity\":90,\"Min Humidity\":79,\"Max Sea Level PressureIn\":30.24,\"Mean Sea Level PressureIn\":30.01,\"Min Sea Level PressureIn\":29.86,\"Max VisibilityMiles\":10,\"Mean VisibilityMiles\":6,\"Min VisibilityMiles\":2,\"Max Wind SpeedMPH\":28,\"Mean Wind SpeedMPH\":9,\"Max Gust SpeedMPH\":35.0,\"PrecipitationIn\":\"0.45\",\"CloudCover\":8,\"Events\":\"Rain\",\"WindDirDegrees\":78},{\"EST\":\"2015-12-30\",\"Max TemperatureF\":44,\"Mean TemperatureF\":39.0,\"Min TemperatureF\":33,\"Max Dew PointF\":38,\"MeanDew PointF\":36,\"Min DewpointF\":34,\"Max Humidity\":100,\"Mean Humidity\":85,\"Min Humidity\":70,\"Max Sea Level PressureIn\":30.24,\"Mean Sea Level PressureIn\":30.11,\"Min Sea Level PressureIn\":30.03,\"Max VisibilityMiles\":10,\"Mean VisibilityMiles\":6,\"Min VisibilityMiles\":1,\"Max Wind SpeedMPH\":12,\"Mean Wind SpeedMPH\":4,\"Max Gust SpeedMPH\":14.0,\"PrecipitationIn\":\"0.07\",\"CloudCover\":8,\"Events\":\"Rain\",\"WindDirDegrees\":120},{\"EST\":\"2015-12-31\",\"Max TemperatureF\":37,\"Mean TemperatureF\":35.0,\"Min TemperatureF\":33,\"Max Dew PointF\":37,\"MeanDew PointF\":32,\"Min DewpointF\":27,\"Max Humidity\":100,\"Mean Humidity\":85,\"Min Humidity\":70,\"Max Sea Level PressureIn\":30.12,\"Mean Sea Level PressureIn\":30.08,\"Min Sea Level PressureIn\":30.06,\"Max VisibilityMiles\":10,\"Mean VisibilityMiles\":8,\"Min VisibilityMiles\":2,\"Max Wind SpeedMPH\":23,\"Mean Wind SpeedMPH\":11,\"Max Gust SpeedMPH\":29.0,\"PrecipitationIn\":\"0.02\",\"CloudCover\":8,\"Events\":\"Rain-Snow\",\"WindDirDegrees\":259}]\n"
     ]
    }
   ],
   "source": [
    "# Step 2: Write code\n",
    "\n",
    "import json \n",
    "#weather_info = ''\n",
    "\n",
    "#read file adn get json\n",
    "\n",
    "with open ('NYC4-syr-weather-dec-2015.json','r') as f:\n",
    "    weather_info = f.read()\n",
    "    #for items in f.readlines():\n",
    "print(weather_info)\n",
    "\n"
   ]
  },
  {
   "cell_type": "code",
   "execution_count": 18,
   "metadata": {},
   "outputs": [
    {
     "name": "stdout",
     "output_type": "stream",
     "text": [
      "<class 'str'>\n",
      "<class 'list'>\n"
     ]
    }
   ],
   "source": [
    "#create json object\n",
    "weather_object = json.loads(weather_info)\n",
    "print(type(weather_info))\n",
    "print(type(weather_object))"
   ]
  },
  {
   "cell_type": "code",
   "execution_count": 20,
   "metadata": {},
   "outputs": [
    {
     "name": "stdout",
     "output_type": "stream",
     "text": [
      "In Dec there were 27 days above, and 4 days below freezing\n"
     ]
    }
   ],
   "source": [
    "#loop count\n",
    "\n",
    "above_freezing = 0\n",
    "below_freezing = 0\n",
    "\n",
    "#loop and calculate\n",
    "for weather in weather_object:\n",
    "    if weather ['Mean TemperatureF'] > 32:\n",
    "        above_freezing = above_freezing + 1\n",
    "    else:\n",
    "        below_freezing = below_freezing + 1\n",
    "\n",
    "print(\"In Dec there were %s days above, and %s days below freezing\"%(above_freezing, below_freezing))"
   ]
  },
  {
   "cell_type": "markdown",
   "metadata": {},
   "source": [
    "## Step 3: Questions\n",
    "\n",
    "1. What are the advantages to storing the number of days above freezing and below freezing in a Python dictionary?\n",
    "\n",
    "- we can redirect to the numbers in a simplified way\n",
    "\n",
    "2. What is the data type of the weather data as it is read from the file `NYC4-syr-weather-dec-2015.json` ?\n",
    "\n",
    "- str\n",
    "\n",
    "3. Could this same program work for weather at other times in other cities? What conditions would need to be met for this to happen?\n",
    "\n",
    "- yes. we it has to be converted to a json filew"
   ]
  },
  {
   "cell_type": "code",
   "execution_count": null,
   "metadata": {},
   "outputs": [],
   "source": []
  },
  {
   "cell_type": "markdown",
   "metadata": {},
   "source": [
    "## Reminder of Evaluation Criteria\n",
    "\n",
    "1. What the problem attempted (analysis, code, and answered questions) ?\n",
    "2. What the problem analysis thought out? (does the program match the plan?)\n",
    "3. Does the code execute without syntax error?\n",
    "4. Does the code solve the intended problem?\n",
    "5. Is the code well written? (easy to understand, modular, and self-documenting, handles errors)\n"
   ]
  }
 ],
 "metadata": {
  "anaconda-cloud": {},
  "kernelspec": {
   "display_name": "Python 3",
   "language": "python",
   "name": "python3"
  },
  "language_info": {
   "codemirror_mode": {
    "name": "ipython",
    "version": 3
   },
   "file_extension": ".py",
   "mimetype": "text/x-python",
   "name": "python",
   "nbconvert_exporter": "python",
   "pygments_lexer": "ipython3",
   "version": "3.6.4"
  }
 },
 "nbformat": 4,
 "nbformat_minor": 1
}
