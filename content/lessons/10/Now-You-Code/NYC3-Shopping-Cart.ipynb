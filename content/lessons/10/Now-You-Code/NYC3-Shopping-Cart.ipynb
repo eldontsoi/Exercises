{
 "cells": [
  {
   "cell_type": "markdown",
   "metadata": {},
   "source": [
    "# Now You Code 3: Shopping Cart\n",
    "\n",
    "In this program you will implement an online shopping cart using a Python list of dictionary. The dictionary will contain the product name, price and quantity. \n",
    "\n",
    "\n",
    "The program should loop continually,  asking the user to enter \n",
    " - Product name\n",
    " - Product price\n",
    " - Product quantity\n",
    "\n",
    "until the user enters a product name of `'checkout'` at which time the loop should break.\n",
    "\n",
    "Each time through the loop you should create a dictionary of product name, product price and product quantity then add the dictionary to a list.\n",
    "\n",
    "After you enter `'checkout'`  the program should show:\n",
    "\n",
    " - all the items in the cart, including their quantity and price\n",
    " - and the total amount of the order, a running sum of quantity times price\n",
    "\n",
    "NOTE: Don't worry about handling bad inputs for this exercise.\n",
    "\n",
    "Example Run:\n",
    "\n",
    "```\n",
    "E-Commerce Shopping Cart\n",
    "Enter product name or 'checkout':pencil\n",
    "Enter pencil Price:0.99\n",
    "Enter pencil Quantity:10\n",
    "Enter product name or 'checkout':calculator\n",
    "Enter calculator Price:9.99\n",
    "Enter calculator Quantity:1\n",
    "Enter product name or 'checkout':checkout\n",
    "pencil 10 $0.99\n",
    "calculator 1 $9.99\n",
    "TOTAL: $19.89\n",
    "```\n",
    "\n",
    "Start out your program by writing your TODO list of steps you'll need to solve the problem!"
   ]
  },
  {
   "cell_type": "markdown",
   "metadata": {
    "collapsed": true
   },
   "source": [
    "## Step 1: Problem Analysis\n",
    "\n",
    "Inputs:\n",
    "\n",
    "- stuff i want to buy\n",
    "- price of stuff\n",
    "- quantity of stuff\n",
    "\n",
    "Outputs:\n",
    "\n",
    "- list consists of item i buy and corrisponding price \n",
    "\n",
    "Algorithm (Steps in Program):\n",
    "\n",
    "- create list\n",
    "- start loop\n",
    "    - create dictionary\n",
    "    - input item\n",
    "    - input price\n",
    "    - quatity\n",
    "    - assign item to key\n",
    "    - assign price to value\n",
    "    - put stuff to dictionary\n",
    "    - put dicitonary to list\n",
    "- print lsit"
   ]
  },
  {
   "cell_type": "code",
   "execution_count": 18,
   "metadata": {},
   "outputs": [
    {
     "name": "stdout",
     "output_type": "stream",
     "text": [
      "E-Commerce Shopping Cart\n",
      "Enter product name or 'checkout': u\n",
      "Enter u Price: 8\n",
      "Enter u quantity: 8\n",
      "Enter product name or 'checkout': u\n",
      "Enter u Price: 8\n",
      "Enter u quantity: 8\n",
      "Enter product name or 'checkout': checkout\n",
      "1666.0\n"
     ]
    }
   ],
   "source": [
    "# STEP 2: Write code\n",
    "print(\"E-Commerce Shopping Cart\")\n",
    "#set up an empty list \n",
    "ShoppingList = []\n",
    "\n",
    "while True:\n",
    "    ShoppingCart = {}\n",
    "    product = input(\"Enter product name or 'checkout': \")\n",
    "    if product == 'checkout':\n",
    "        for items in ShoppingCart:\n",
    "            #total = total + price*quantity\n",
    "            print(item, total)\n",
    "            print(\"%s %.2f %d\"%(product, price, quantity))\n",
    "        print(total)\n",
    "        break\n",
    "    price = float(input(\"Enter %s Price: \"% product))\n",
    "    quantity = int(input(\"Enter %s quantity: \" % product))\n",
    "    ShoppingCart ['product'] = product\n",
    "    ShoppingCart ['price and quantity'] = price, quantity\n",
    "\n",
    "    ShoppingList.append(ShoppingCart)\n",
    "    \n",
    "    total = total + price*quantity\n",
    "    \n"
   ]
  },
  {
   "cell_type": "code",
   "execution_count": null,
   "metadata": {},
   "outputs": [],
   "source": [
    "#debug\n",
    "print(ShoppingList)\n",
    "print(total)\n",
    "for items in ShoppingList:\n",
    "    print(\"\")"
   ]
  },
  {
   "cell_type": "markdown",
   "metadata": {},
   "source": [
    "## Step 3: Questions\n",
    "\n",
    "1. How does using a Python dictionary simplify this program? (Think of how you would have to write this program if you did not use a dictionary)\n",
    "2. What Happens when you run the program and just type `checkout`. Does the program work as you would expect?\n"
   ]
  },
  {
   "cell_type": "markdown",
   "metadata": {},
   "source": [
    "## Reminder of Evaluation Criteria\n",
    "\n",
    "1. What the problem attempted (analysis, code, and answered questions) ?\n",
    "2. What the problem analysis thought out? (does the program match the plan?)\n",
    "3. Does the code execute without syntax error?\n",
    "4. Does the code solve the intended problem?\n",
    "5. Is the code well written? (easy to understand, modular, and self-documenting, handles errors)\n"
   ]
  },
  {
   "cell_type": "code",
   "execution_count": null,
   "metadata": {},
   "outputs": [],
   "source": []
  }
 ],
 "metadata": {
  "anaconda-cloud": {},
  "kernelspec": {
   "display_name": "Python 3",
   "language": "python",
   "name": "python3"
  },
  "language_info": {
   "codemirror_mode": {
    "name": "ipython",
    "version": 3
   },
   "file_extension": ".py",
   "mimetype": "text/x-python",
   "name": "python",
   "nbconvert_exporter": "python",
   "pygments_lexer": "ipython3",
   "version": "3.6.4"
  }
 },
 "nbformat": 4,
 "nbformat_minor": 1
}
