{
 "cells": [
  {
   "cell_type": "markdown",
   "metadata": {},
   "source": [
    "# Now You Code 1: Check Divider\n",
    "\n",
    "This program will help you divide a dinner check evenly among the guests. You enter the number of diners and the amount of the check then the program will output the amount each diner should contribute to the check. \n",
    "\n",
    "Example run:\n",
    "\n",
    "```\n",
    "Python Check Divider\n",
    "How many people are dining? 4\n",
    "What is the total amount of the check? 60\n",
    "Each person should contribute 15.0 dollars.\n",
    "```"
   ]
  },
  {
   "cell_type": "markdown",
   "metadata": {
    "collapsed": true
   },
   "source": [
    "## Step 1: Problem Analysis\n",
    "\n",
    "Inputs:\n",
    "- number of diners as integer\n",
    "- total amount of the check\n",
    "\n",
    "Outputs:\n",
    "\n",
    "- amount each person should contribute to the check\n",
    "\n",
    "Algorithm (Steps in Program):\n",
    "\n",
    "1. input the number of diners\n",
    "2. input the amount of the check\n",
    "3. contribution = amount of check / diners\n",
    "4. print the contribution\n"
   ]
  },
  {
   "cell_type": "code",
   "execution_count": 3,
   "metadata": {},
   "outputs": [
    {
     "name": "stdout",
     "output_type": "stream",
     "text": [
      "Python Check Divider\n",
      "How many people are dining?12\n",
      "What is the total amount of the check?23\n",
      "Each perosn should contribute 1.9166666666666667 dollars.\n"
     ]
    }
   ],
   "source": [
    "print(\"Python Check Divider\")\n",
    "people = int(input(\"How many people are dining?\"))\n",
    "check_total = int(input(\"What is the total amount of the check?\"))\n",
    "contribution = check_total / people\n",
    "print(\"Each perosn should contribute\", contribution, \"dollars.\")"
   ]
  },
  {
   "cell_type": "markdown",
   "metadata": {
    "collapsed": true
   },
   "source": [
    "## Step 3: Questions\n",
    "\n",
    "1. What happens when you enter `TWO` instead of `2` for the number of people dining? or $60 as the amount of the check, instead of 60?\n",
    "\n",
    "there is a value error.\n",
    "\n",
    "2. Why do you think this happens?\n",
    "\n",
    "because the input value is not based 10.\n",
    "\n",
    "3. Explain what happens when you enter `0.5` for the number of people dining?\n",
    "\n",
    "the program does not recognize decimal numbers becaue int represents integers. Instead, float represents all real numbers.\n"
   ]
  },
  {
   "cell_type": "markdown",
   "metadata": {},
   "source": [
    "## Reminder of Evaluation Criteria\n",
    "\n",
    "1. What the problem attempted (analysis, code, and answered questions) ?\n",
    "\n",
    "The problem attempted to make a simple formula for a bill after dining by inputing integers. \n",
    "\n",
    "2. What the problem analysis thought out? (does the program match the plan?)\n",
    "\n",
    "The problem is to find out how much each person has to pay. The program maches the plan.\n",
    "\n",
    "3. Does the code execute without syntax error?\n",
    "\n",
    "no.\n",
    "\n",
    "4. Does the code solve the intended problem?\n",
    "\n",
    "yes.\n",
    "\n",
    "5. Is the code well written? (easy to understand, modular, and self-documenting, handles errors)\n",
    "\n",
    "yes. \n",
    "\n"
   ]
  }
 ],
 "metadata": {
  "anaconda-cloud": {},
  "kernelspec": {
   "display_name": "Python 3",
   "language": "python",
   "name": "python3"
  },
  "language_info": {
   "codemirror_mode": {
    "name": "ipython",
    "version": 3
   },
   "file_extension": ".py",
   "mimetype": "text/x-python",
   "name": "python",
   "nbconvert_exporter": "python",
   "pygments_lexer": "ipython3",
   "version": "3.6.3"
  }
 },
 "nbformat": 4,
 "nbformat_minor": 1
}
