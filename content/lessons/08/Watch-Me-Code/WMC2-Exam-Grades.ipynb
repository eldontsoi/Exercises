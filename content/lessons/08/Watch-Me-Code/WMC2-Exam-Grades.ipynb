{
 "cells": [
  {
   "cell_type": "markdown",
   "metadata": {},
   "source": [
    "# Watch Me Code 2: Exam Grades\n",
    "\n",
    "A simple example of reading and writing multiple lines of data to a file.\n"
   ]
  },
  {
   "cell_type": "code",
   "execution_count": 4,
   "metadata": {},
   "outputs": [
    {
     "ename": "SyntaxError",
     "evalue": "unexpected EOF while parsing (<ipython-input-4-7ddb49ca8dec>, line 1)",
     "output_type": "error",
     "traceback": [
      "\u001b[0;36m  File \u001b[0;32m\"<ipython-input-4-7ddb49ca8dec>\"\u001b[0;36m, line \u001b[0;32m1\u001b[0m\n\u001b[0;31m    with open('file.txt','w') as f:\u001b[0m\n\u001b[0m                                   ^\u001b[0m\n\u001b[0;31mSyntaxError\u001b[0m\u001b[0;31m:\u001b[0m unexpected EOF while parsing\n"
     ]
    }
   ],
   "source": [
    "with open('file.txt','w') as f:"
   ]
  },
  {
   "cell_type": "code",
   "execution_count": 1,
   "metadata": {},
   "outputs": [
    {
     "name": "stdout",
     "output_type": "stream",
     "text": [
      "WMC2-Grades.txt\n",
      "Please enter a grade or type 'q' to quit: 5\n",
      "Please enter a grade or type 'q' to quit: 5\n",
      "Please enter a grade or type 'q' to quit: 5\n",
      "Please enter a grade or type 'q' to quit: 55\n",
      "Please enter a grade or type 'q' to quit: 623\n",
      "Please enter a grade or type 'q' to quit: 623\n",
      "Please enter a grade or type 'q' to quit: 63\n",
      "Please enter a grade or type 'q' to quit: 632\n",
      "Please enter a grade or type 'q' to quit: 5324\n",
      "Please enter a grade or type 'q' to quit: 534\n",
      "Please enter a grade or type 'q' to quit: 5\n",
      "Please enter a grade or type 'q' to quit: 34\n",
      "Please enter a grade or type 'q' to quit: quit\n",
      "Please enter a grade or type 'q' to quit: q\n",
      "13 grades entered\n"
     ]
    },
    {
     "ename": "ValueError",
     "evalue": "invalid literal for int() with base 10: 'quit\\n'",
     "output_type": "error",
     "traceback": [
      "\u001b[0;31m---------------------------------------------------------------------------\u001b[0m",
      "\u001b[0;31mValueError\u001b[0m                                Traceback (most recent call last)",
      "\u001b[0;32m<ipython-input-1-d8906b717cca>\u001b[0m in \u001b[0;36m<module>\u001b[0;34m()\u001b[0m\n\u001b[1;32m     19\u001b[0m     \u001b[0mgrades\u001b[0m \u001b[0;34m=\u001b[0m \u001b[0;34m[\u001b[0m\u001b[0;34m]\u001b[0m\u001b[0;34m\u001b[0m\u001b[0m\n\u001b[1;32m     20\u001b[0m     \u001b[0;32mfor\u001b[0m \u001b[0mline\u001b[0m \u001b[0;32min\u001b[0m \u001b[0mout_file\u001b[0m\u001b[0;34m:\u001b[0m\u001b[0;34m\u001b[0m\u001b[0m\n\u001b[0;32m---> 21\u001b[0;31m         \u001b[0mgrades\u001b[0m\u001b[0;34m.\u001b[0m\u001b[0mappend\u001b[0m\u001b[0;34m(\u001b[0m\u001b[0mint\u001b[0m\u001b[0;34m(\u001b[0m\u001b[0mline\u001b[0m\u001b[0;34m)\u001b[0m\u001b[0;34m)\u001b[0m\u001b[0;34m\u001b[0m\u001b[0m\n\u001b[0m\u001b[1;32m     22\u001b[0m     \u001b[0maverage\u001b[0m \u001b[0;34m=\u001b[0m \u001b[0msum\u001b[0m\u001b[0;34m(\u001b[0m\u001b[0mgrades\u001b[0m\u001b[0;34m)\u001b[0m\u001b[0;34m/\u001b[0m\u001b[0mlen\u001b[0m\u001b[0;34m(\u001b[0m\u001b[0mgrades\u001b[0m\u001b[0;34m)\u001b[0m\u001b[0;34m\u001b[0m\u001b[0m\n\u001b[1;32m     23\u001b[0m     \u001b[0mprint\u001b[0m\u001b[0;34m(\u001b[0m\u001b[0;34m\"Average is %d\"\u001b[0m \u001b[0;34m%\u001b[0m \u001b[0maverage\u001b[0m\u001b[0;34m)\u001b[0m\u001b[0;34m\u001b[0m\u001b[0m\n",
      "\u001b[0;31mValueError\u001b[0m: invalid literal for int() with base 10: 'quit\\n'"
     ]
    }
   ],
   "source": [
    "from os import path\n",
    "\n",
    "filename = (\"WMC2-Grades.txt\")\n",
    "print(filename)\n",
    "# Let's input a bunch of grades and write them to a file:\n",
    "count = 0\n",
    "\n",
    "with open(filename, 'w', encoding=\"utf-8\") as in_file:\n",
    "    while True:\n",
    "        grade = input(\"Please enter a grade or type 'q' to quit: \")\n",
    "        if grade == 'q':\n",
    "            break\n",
    "        in_file.write(grade + \"\\n\")\n",
    "        count = count + 1\n",
    "    \n",
    "print(\"%d grades entered\" % count)\n",
    "\n",
    "with open(filename, 'r', encoding=\"utf-8\") as out_file:\n",
    "    grades = []\n",
    "    for line in out_file:\n",
    "        grades.append(int(line))\n",
    "    average = sum(grades)/len(grades)\n",
    "    print(\"Average is %d\" % average)\n",
    "    \n",
    "\n",
    "        \n",
    "\n",
    "    \n"
   ]
  },
  {
   "cell_type": "markdown",
   "metadata": {},
   "source": [
    "##### read them in\n",
    "count = 0\n",
    "total = 0\n",
    "with open(filename,'r') as inf:\n",
    "    for line in inf.readlines():\n",
    "        grade = float(line)\n",
    "        total = total + grade\n",
    "        count = count + 1\n",
    "print(\"Read in %s grades. Average is %.2f\" % (count, total/count))"
   ]
  },
  {
   "cell_type": "markdown",
   "metadata": {},
   "source": [
    "NOTE: Show this is really persistent. \n",
    "\n",
    "- open wmc1.txt from outside Jupyter.\n",
    "- edit the message. Re-run the 2nd example. "
   ]
  },
  {
   "cell_type": "code",
   "execution_count": null,
   "metadata": {
    "collapsed": true
   },
   "outputs": [],
   "source": []
  }
 ],
 "metadata": {
  "anaconda-cloud": {},
  "kernelspec": {
   "display_name": "Python 3",
   "language": "python",
   "name": "python3"
  },
  "language_info": {
   "codemirror_mode": {
    "name": "ipython",
    "version": 3
   },
   "file_extension": ".py",
   "mimetype": "text/x-python",
   "name": "python",
   "nbconvert_exporter": "python",
   "pygments_lexer": "ipython3",
   "version": "3.6.4"
  }
 },
 "nbformat": 4,
 "nbformat_minor": 1
}
