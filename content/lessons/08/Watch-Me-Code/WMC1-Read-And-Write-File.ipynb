{
 "cells": [
  {
   "cell_type": "markdown",
   "metadata": {},
   "source": [
    "# Watch Me Code 1: Read and Write Message\n",
    "\n",
    "A simple example of reading and writing to a file.\n"
   ]
  },
  {
   "cell_type": "code",
   "execution_count": 4,
   "metadata": {},
   "outputs": [],
   "source": [
    "filename = \"WMC1-Message.txt\""
   ]
  },
  {
   "cell_type": "code",
   "execution_count": 5,
   "metadata": {},
   "outputs": [
    {
     "name": "stdout",
     "output_type": "stream",
     "text": [
      "Type a message and I'll write it to WMC1-Message.txt:\n",
      "Done!\n"
     ]
    }
   ],
   "source": [
    "# Let's write to the file!\n",
    "message = input(\"Type a message and I'll write it to %s:\" % filename)\n",
    "with open (filename,'w') as file_out:\n",
    "    file_out = open (filename, 'a')\n",
    "    file_out.write(message)\n",
    "    \n",
    "print(\"Done!\")"
   ]
  },
  {
   "cell_type": "code",
   "execution_count": 6,
   "metadata": {},
   "outputs": [
    {
     "name": "stdout",
     "output_type": "stream",
     "text": [
      "Here's the message in WMC1-Message.txt:  hi i am eldoni am ammending this document!lool\n"
     ]
    }
   ],
   "source": [
    "with open(filename, 'r') as file_in:\n",
    "    file_in = open(filename,'r')\n",
    "\n",
    "    message = file_in.read()\n",
    "    \n",
    "print(\"Here's the message in %s:  %s\" % (filename, message))"
   ]
  },
  {
   "cell_type": "markdown",
   "metadata": {},
   "source": [
    "NOTE: Show this is really persistent. \n",
    "\n",
    "- open wmc1.txt from outside Jupyter.\n",
    "- edit the message. Re-run the 2nd example. "
   ]
  },
  {
   "cell_type": "code",
   "execution_count": 4,
   "metadata": {},
   "outputs": [
    {
     "name": "stdout",
     "output_type": "stream",
     "text": [
      "Please enter a message (Enter to view all messages)   message    \n",
      "Please enter a message (Enter to view all messages)\n",
      "this si a message, i am writing a emssage, to view all messages, enter, view all messages, message, quit, message\n"
     ]
    }
   ],
   "source": [
    "\n",
    "def put_text_in_file(text):\n",
    "    with open(\"test-messages.txt\", 'a', encoding='utf-8') as dog:\n",
    "    \n",
    "        #universal text format 8\n",
    "        #dog is handle \n",
    "        \n",
    "        dog.write(text.strip() + \"\\n\")\n",
    "    \n",
    "def get_text_out_file():\n",
    "    with open(\"test-messages.txt\", 'r') as file:\n",
    "        contents = []\n",
    "        \n",
    "        # declaring an empty list \n",
    "        \n",
    "        for line in file:\n",
    "            contents.append(line.strip())\n",
    "    return contents\n",
    "\n",
    "while True:\n",
    "    user_input = input(\"Please enter a message (Enter to view all messages)\")\n",
    "    if user_input == '':\n",
    "        break\n",
    "    put_text_in_file(user_input)\n",
    "\n",
    "messages = get_text_out_file()\n",
    "print(\", \".join(messages))\n",
    "\n",
    "    \n",
    "    \n"
   ]
  },
  {
   "cell_type": "code",
   "execution_count": 1,
   "metadata": {},
   "outputs": [
    {
     "name": "stdout",
     "output_type": "stream",
     "text": [
      "Help on method_descriptor:\n",
      "\n",
      "strip(...)\n",
      "    S.strip([chars]) -> str\n",
      "    \n",
      "    Return a copy of the string S with leading and trailing\n",
      "    whitespace removed.\n",
      "    If chars is given and not None, remove characters in chars instead.\n",
      "\n"
     ]
    }
   ],
   "source": [
    "help(str.strip)\n",
    "\n",
    "# look up leading and trailing"
   ]
  },
  {
   "cell_type": "code",
   "execution_count": 21,
   "metadata": {},
   "outputs": [
    {
     "name": "stdout",
     "output_type": "stream",
     "text": [
      "Please enter a message (Enter to view all messages)dfdf\n",
      "Please enter a message (Enter to view all messages)df\n",
      "Please enter a message (Enter to view all messages)df\n",
      "Please enter a message (Enter to view all messages)df\n",
      "Please enter a message (Enter to view all messages)df\n",
      "Please enter a message (Enter to view all messages)\n",
      "this si a message\n",
      "i am writing a emssage\n",
      "to view all messages\n",
      "enter\n",
      "view all messages\n",
      "message\n",
      "quit\n",
      "message\n",
      "yayyyy\n",
      "lol\n",
      "eh\n",
      "idk\n",
      "ya\n",
      "xd\n",
      "eh\n",
      "yeha\n",
      "lol\n",
      "haha\n",
      "hey\n",
      "xd\n",
      "a\n",
      "ddsadf\n",
      "asdfas\n",
      "fdsa\n",
      "a\n",
      "f\n",
      "dfdf\n",
      "df\n",
      "df\n",
      "df\n",
      "df\n"
     ]
    }
   ],
   "source": [
    "\n",
    "def put_text_in_file(text):\n",
    "    #with open(\"test-messages.txt\", 'a', encoding='utf-8') as dog:\n",
    "    dog = open(\"test-messages.txt\",'a',encoding='utf-8')\n",
    "    dog.write(text.strip() + \"\\n\")\n",
    "        #universal text format 8\n",
    "        #dog is handle \n",
    "        \n",
    "        #dog.write(text.strip() + \"\\n\")\n",
    "    \n",
    "def get_text_out_file():\n",
    "    with open(\"test-messages.txt\", 'r') as file:\n",
    "        contents = []\n",
    "        \n",
    "        # declaring an empty list \n",
    "        \n",
    "        for line in file:\n",
    "            contents.append(line.strip())\n",
    "    return contents\n",
    "\n",
    "while True:\n",
    "    user_input = input(\"Please enter a message (Enter to view all messages)\")\n",
    "    if user_input == '':\n",
    "        break\n",
    "    put_text_in_file(user_input)\n",
    "\n",
    "messages = get_text_out_file()\n",
    "print( '\\n'.join(messages))\n",
    "\n",
    "    \n",
    "    \n"
   ]
  },
  {
   "cell_type": "code",
   "execution_count": null,
   "metadata": {},
   "outputs": [],
   "source": []
  }
 ],
 "metadata": {
  "anaconda-cloud": {},
  "kernelspec": {
   "display_name": "Python 3",
   "language": "python",
   "name": "python3"
  },
  "language_info": {
   "codemirror_mode": {
    "name": "ipython",
    "version": 3
   },
   "file_extension": ".py",
   "mimetype": "text/x-python",
   "name": "python",
   "nbconvert_exporter": "python",
   "pygments_lexer": "ipython3",
   "version": "3.6.4"
  }
 },
 "nbformat": 4,
 "nbformat_minor": 1
}
