{
 "cells": [
  {
   "cell_type": "markdown",
   "metadata": {},
   "source": [
    "# Now You Code 3: Sentiment v2.0\n",
    "\n",
    "Let's write a better version of the basic sentiment analyzer in Python. Instead of using a string of words, this example will read a list of words positive and negative words from a file.\n",
    "\n",
    "In fact, we've included two files for you so you don't have to some up with the positive and negative words! Just load the files and go! Of course if you want more positive and negative words you can always edit the files.\n",
    "\n",
    "- Positive words are in `NYC3-pos.txt`\n",
    "- Negative words are in `NYC3-neg.txt`\n",
    "\n",
    "You will have to write a function called `LoadWords(filename)` to read the words from the file and load them into a string.\n",
    "\n",
    "## Step 1: Problem Analysis for function\n",
    "\n",
    "Input (function arguments): `filename` to read.\n",
    "Output (function returns): a `text` string of words as loaded from the file.\n",
    "\n",
    "Algorithm:\n",
    "\n",
    "```\n",
    "open the filename for reading\n",
    "    read the entire file all at once, into text\n",
    "    return the text\n",
    "```\n"
   ]
  },
  {
   "cell_type": "code",
   "execution_count": 11,
   "metadata": {},
   "outputs": [
    {
     "name": "stdout",
     "output_type": "stream",
     "text": [
      "['good', 'love', 'like', 'great', 'wonderful', 'fast', 'helpful', 'smart', 'friendly', 'happy', 'joy']\n",
      "['bad', 'hate', 'dislike', 'horrible', 'stinks', 'awful', 'slow', 'clueless', 'useless', 'dumb', 'sad']\n"
     ]
    }
   ],
   "source": [
    "## Step 2: Write the LoadWords(filename) function\n",
    "\n",
    "def loadWords (filename):\n",
    "    with open(filename, 'r') as f:\n",
    "        content = f.read()\n",
    "        tokens = content.split(\" \")\n",
    "    return tokens\n",
    "        \n",
    "print (loadWords(\"NYC3-pos.txt\")) \n",
    "print (loadWords(\"NYC3-neg.txt\"))"
   ]
  },
  {
   "cell_type": "code",
   "execution_count": 12,
   "metadata": {},
   "outputs": [
    {
     "name": "stdout",
     "output_type": "stream",
     "text": [
      "POSITIVE WORD LIST: ['good', 'love', 'like', 'great', 'wonderful', 'fast', 'helpful', 'smart', 'friendly', 'happy', 'joy']\n",
      "NEGATIVE WORD LIST ['bad', 'hate', 'dislike', 'horrible', 'stinks', 'awful', 'slow', 'clueless', 'useless', 'dumb', 'sad']\n"
     ]
    }
   ],
   "source": [
    "## Quick test of your LoadWords() function\n",
    "pos = loadWords(\"NYC3-pos.txt\")\n",
    "neg = loadWords(\"NYC3-neg.txt\")\n",
    "print(\"POSITIVE WORD LIST:\",pos)\n",
    "print(\"NEGATIVE WORD LIST\", neg)"
   ]
  },
  {
   "cell_type": "markdown",
   "metadata": {},
   "source": [
    "## Step 3: The Final Program\n",
    "  \n",
    "Now write a program which allows you to enter text and then analyzes the sentiment of the text by printing a score. The program should keep analyzing text input until you enter \"quit\".\n",
    "\n",
    "Sample Run\n",
    "\n",
    "```\n",
    "Sentiment Analyzer 1.0\n",
    "Type 'quit' to exit.\n",
    "Enter Text: i love a good book from amazon\n",
    "2 positive.\n",
    "Enter Text: i hate amazon their service makes me angry\n",
    "-2 negative.\n",
    "Enter Text: i love to hate amazon\n",
    "0 neutral.\n",
    "Enter Text: quit\n",
    "```\n",
    "\n",
    "### 3.a Problem Analysis\n",
    "\n",
    "Input:\n",
    "\n",
    "- some text include positive negative text\n",
    "\n",
    "Output:\n",
    "\n",
    "- neutral negative positive and integer\n",
    "\n",
    "Algorithm:\n",
    "\n",
    "- prompt for input\n",
    "\n",
    "\n",
    "\n"
   ]
  },
  {
   "cell_type": "markdown",
   "metadata": {},
   "source": [
    "###  3.a : Problem Analysis\n",
    "\n",
    "Inputs:\n",
    "\n",
    "- a number\n",
    "\n",
    "Outputs:\n",
    "\n",
    "2 positive\n",
    "-2 negative\n",
    "0 neutral.\n",
    "quit\n",
    "\n",
    "ALGORITHM:\n",
    "\n",
    "print title\n",
    "\n",
    "prompt input \n",
    "\n",
    "execute infinte loop statement\n",
    "- if input == quit\n",
    "    break\n",
    "- else\n",
    "    assign f(x) to variable token\n",
    "    if token > 0\n",
    "    score + 1\n",
    "    if token < 0 \n",
    "    score -1\n",
    "    else:\n",
    "    neutral"
   ]
  },
  {
   "cell_type": "code",
   "execution_count": 13,
   "metadata": {},
   "outputs": [
    {
     "name": "stdout",
     "output_type": "stream",
     "text": [
      "Sentiment Analyzer 1.0\n",
      "Type 'quit' to exit.\n",
      "Enter Text: good good godo\n"
     ]
    },
    {
     "ename": "NameError",
     "evalue": "name 'tokens' is not defined",
     "output_type": "error",
     "traceback": [
      "\u001b[0;31m---------------------------------------------------------------------------\u001b[0m",
      "\u001b[0;31mNameError\u001b[0m                                 Traceback (most recent call last)",
      "\u001b[0;32m<ipython-input-13-2de9693622dd>\u001b[0m in \u001b[0;36m<module>\u001b[0;34m()\u001b[0m\n\u001b[1;32m     15\u001b[0m         \u001b[0;31m#cannot break into two seperate lines\u001b[0m\u001b[0;34m\u001b[0m\u001b[0;34m\u001b[0m\u001b[0m\n\u001b[1;32m     16\u001b[0m \u001b[0;34m\u001b[0m\u001b[0m\n\u001b[0;32m---> 17\u001b[0;31m         \u001b[0;32mif\u001b[0m \u001b[0mtokens\u001b[0m\u001b[0;34m>\u001b[0m\u001b[0;36m0\u001b[0m\u001b[0;34m:\u001b[0m\u001b[0;34m\u001b[0m\u001b[0m\n\u001b[0m\u001b[1;32m     18\u001b[0m             \u001b[0mprint\u001b[0m \u001b[0;34m(\u001b[0m\u001b[0;34m\"%d positive.\"\u001b[0m\u001b[0;34m%\u001b[0m\u001b[0;34m(\u001b[0m\u001b[0mToken\u001b[0m\u001b[0;34m)\u001b[0m\u001b[0;34m)\u001b[0m\u001b[0;34m\u001b[0m\u001b[0m\n\u001b[1;32m     19\u001b[0m         \u001b[0;32melif\u001b[0m \u001b[0mtokens\u001b[0m \u001b[0;34m<\u001b[0m \u001b[0;36m0\u001b[0m\u001b[0;34m:\u001b[0m\u001b[0;34m\u001b[0m\u001b[0m\n",
      "\u001b[0;31mNameError\u001b[0m: name 'tokens' is not defined"
     ]
    }
   ],
   "source": [
    "## 3.b Write solution here, use Load Words to help you read in the pos and neg words.\n",
    "\n",
    "\n",
    "print(\"Sentiment Analyzer 1.0\")\n",
    "print(\"Type 'quit' to exit.\")\n",
    "\n",
    "while True :\n",
    "    text = input(\"Enter Text: \")\n",
    "    if text == 'quit':\n",
    "        break\n",
    "    else:\n",
    "        loadWords(\"NYC3-pos.txt\")\n",
    "        loadWords(\"NYC3-neg.txt\")\n",
    "        \n",
    "        #cannot break into two seperate lines\n",
    "        \n",
    "        if tokens>0:\n",
    "            print (\"%d positive.\"%(Token))\n",
    "        elif tokens < 0:\n",
    "            print(\"%d negative.\"%(Token))\n",
    "        else:\n",
    "            print(\"%d neutral\"%(Token))\n"
   ]
  },
  {
   "cell_type": "code",
   "execution_count": 18,
   "metadata": {},
   "outputs": [
    {
     "name": "stdout",
     "output_type": "stream",
     "text": [
      "['bad', 'hate', 'dislike', 'horrible', 'stinks', 'awful', 'slow', 'clueless', 'useless', 'dumb', 'sad']\n",
      "Sentiment Analyzer 2.0\n",
      "type 'quit' to quit\n",
      "enter some text bad bad hate hate\n",
      "-4\n"
     ]
    }
   ],
   "source": [
    "#justin's version\n",
    "\n",
    "def loadWord(filename):\n",
    "    with open(filename, 'r') as f:\n",
    "        filecontent = f.read()\n",
    "        tokens = filecontent.split(\" \")\n",
    "        \n",
    "    return tokens\n",
    "\n",
    "print (loadWords(\"NYC3-neg.txt\"))\n",
    "    \n",
    "\n",
    "def ScoreSentiment (input_text):\n",
    "    score = 0\n",
    "    pos_text = loadWords(\"NYC3-pos.txt\")\n",
    "    neg_text = loadWords(\"NYC3-neg.txt\")\n",
    "    \n",
    "    input_list = input_text.split(\" \")\n",
    "    for word in input_list:\n",
    "        if word in pos_text:\n",
    "            score = score + 1\n",
    "        if word in neg_text:\n",
    "            score = score - 1\n",
    "            \n",
    "    return score\n",
    "\n",
    "print(\"Sentiment Analyzer 2.0\")\n",
    "print(\"type 'quit' to quit\")\n",
    "userInput = input(\"enter some text \")\n",
    "score = ScoreSentiment(userInput)\n",
    "print(score)"
   ]
  },
  {
   "cell_type": "markdown",
   "metadata": {},
   "source": [
    "## Step 4: Questions\n",
    "\n",
    "1. This is a better solution than sentiment 1.0. Why?\n",
    "2. Execute the program and enter the following input: `i love! a GOOD book` What is the score and why? how can this issue be fixed?\n",
    "3. Re-write your final solution to address the issues discovered in step 2."
   ]
  },
  {
   "cell_type": "markdown",
   "metadata": {},
   "source": [
    "## Reminder of Evaluation Criteria\n",
    "\n",
    "1. What the problem attempted (analysis, code, and answered questions) ?\n",
    "2. What the problem analysis thought out? (does the program match the plan?)\n",
    "3. Does the code execute without syntax error?\n",
    "4. Does the code solve the intended problem?\n",
    "5. Is the code well written? (easy to understand, modular, and self-documenting, handles errors)\n"
   ]
  },
  {
   "cell_type": "code",
   "execution_count": null,
   "metadata": {},
   "outputs": [],
   "source": []
  }
 ],
 "metadata": {
  "anaconda-cloud": {},
  "kernelspec": {
   "display_name": "Python 3",
   "language": "python",
   "name": "python3"
  },
  "language_info": {
   "codemirror_mode": {
    "name": "ipython",
    "version": 3
   },
   "file_extension": ".py",
   "mimetype": "text/x-python",
   "name": "python",
   "nbconvert_exporter": "python",
   "pygments_lexer": "ipython3",
   "version": "3.6.4"
  }
 },
 "nbformat": 4,
 "nbformat_minor": 1
}
