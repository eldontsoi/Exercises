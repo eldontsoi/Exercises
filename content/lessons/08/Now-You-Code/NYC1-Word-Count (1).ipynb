{
 "cells": [
  {
   "cell_type": "markdown",
   "metadata": {},
   "source": [
    "# Now You Code 1: Word Count\n",
    "\n",
    "Let's write a program which takes a file name as input, counts the number of words in the file, then outputs the word count.\n",
    "\n",
    "The program should handle `FileNotFoundError` as an exception in case you enter a file that does not exist.\n",
    "\n",
    "Sample Run #1:\n",
    "\n",
    "```\n",
    "Word Count!\n",
    "Enter Filename: NYC1-romeo.txt\n",
    "There are 33 words in NYC1-romeo.txt\n",
    "```\n",
    "\n",
    "Sample Run #2:\n",
    "\n",
    "```\n",
    "Word Count!\n",
    "Enter Filename: testing\n",
    "File Not Found: testing\n",
    "```\n",
    "Try these files:\n",
    "\n",
    "- `NYC1-cant-stop-the-feeling.txt`\n",
    "- `NYC1-preamble.txt`\n",
    "- `NYC1-romeo.txt` or \n",
    "- `NYC1-zork.txt`\n",
    "\n",
    "\n",
    "**HINT**: Read in the file a line at a time, then split the line into words and count each word... and remember your algorithm does not need to account for exceptions... those are programming concerns!\n"
   ]
  },
  {
   "cell_type": "markdown",
   "metadata": {
    "collapsed": true
   },
   "source": [
    "## Step 1: Problem Analysis\n",
    "\n",
    "Inputs:\n",
    "\n",
    "- file name\n",
    "\n",
    "Outputs:\n",
    "\n",
    "- word count\n",
    "- file name\n",
    "\n",
    "\n",
    "Algorithm (Steps in Program):\n",
    "\n",
    "- open file and read\n",
    "- count number of words in the file\n",
    "- print number of words in the file\n"
   ]
  },
  {
   "cell_type": "code",
   "execution_count": 25,
   "metadata": {},
   "outputs": [
    {
     "name": "stdout",
     "output_type": "stream",
     "text": [
      "49\n"
     ]
    }
   ],
   "source": [
    "## Step 2: write code here\n",
    "count = 0\n",
    "words = 0\n",
    "\n",
    "filename = \"NYC1-romeo.txt\"\n",
    "f = open(filename, 'r')\n",
    "for word in f.readline():\n",
    "    word_split = word.split(\" \")\n",
    "    word_length = len(word_split)\n",
    "    count = count + 1\n",
    "    \n",
    "print (count)\n",
    "    \n",
    "   "
   ]
  },
  {
   "cell_type": "code",
   "execution_count": 2,
   "metadata": {},
   "outputs": [
    {
     "name": "stdout",
     "output_type": "stream",
     "text": [
      "Help on method_descriptor:\n",
      "\n",
      "count(...)\n",
      "    S.count(sub[, start[, end]]) -> int\n",
      "    \n",
      "    Return the number of non-overlapping occurrences of substring sub in\n",
      "    string S[start:end].  Optional arguments start and end are\n",
      "    interpreted as in slice notation.\n",
      "\n"
     ]
    }
   ],
   "source": [
    "help(str.count)"
   ]
  },
  {
   "cell_type": "markdown",
   "metadata": {
    "collapsed": true
   },
   "source": [
    "## Step 3: Questions\n",
    "\n",
    "1. Where are these files located? Make your own file, add words to it then run with the word count program.\n",
    "2. Explain a strategy for mkaing this program  smarter so that it does not include puncutuation in the word counts?\n",
    "3. Is it possible to have a file with a word count of 0? Explain.\n"
   ]
  },
  {
   "cell_type": "markdown",
   "metadata": {},
   "source": [
    "## Reminder of Evaluation Criteria\n",
    "\n",
    "1. What the problem attempted (analysis, code, and answered questions) ?\n",
    "2. What the problem analysis thought out? (does the program match the plan?)\n",
    "3. Does the code execute without syntax error?\n",
    "4. Does the code solve the intended problem?\n",
    "5. Is the code well written? (easy to understand, modular, and self-documenting, handles errors)\n"
   ]
  },
  {
   "cell_type": "code",
   "execution_count": null,
   "metadata": {},
   "outputs": [],
   "source": []
  }
 ],
 "metadata": {
  "anaconda-cloud": {},
  "kernelspec": {
   "display_name": "Python 3",
   "language": "python",
   "name": "python3"
  },
  "language_info": {
   "codemirror_mode": {
    "name": "ipython",
    "version": 3
   },
   "file_extension": ".py",
   "mimetype": "text/x-python",
   "name": "python",
   "nbconvert_exporter": "python",
   "pygments_lexer": "ipython3",
   "version": "3.6.4"
  }
 },
 "nbformat": 4,
 "nbformat_minor": 1
}
