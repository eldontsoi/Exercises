{
 "cells": [
  {
   "cell_type": "markdown",
   "metadata": {},
   "source": [
    "# Now You Code 2: Shopping List\n",
    "\n",
    "Write a program to input a list of grocery items for your shopping list and then writes them to a file a line at a time.  The program should keep asking you to enter grocery items until you type `'done'`.\n",
    "\n",
    "After you complete the list, the program should then load the file and read the list back to you by printing each item out.\n",
    "\n",
    "Sample Run:\n",
    "\n",
    "```\n",
    "Let's make a shopping list. Type 'done' when you're finished:\n",
    "Enter Item: milk\n",
    "Enter Item: cheese\n",
    "Enter Item: eggs\n",
    "Enter Item: beer\n",
    "Enter Item: apples\n",
    "Enter Item: done\n",
    "Your shopping list:\n",
    "milk\n",
    "cheese\n",
    "eggs\n",
    "beer\n",
    "apples\n",
    "```\n"
   ]
  },
  {
   "cell_type": "markdown",
   "metadata": {
    "collapsed": true
   },
   "source": [
    "## Step 1: Problem Analysis\n",
    "\n",
    "Inputs:\n",
    "\n",
    "\n",
    "- stuff want to append to the shopping list file\n",
    "- done\n",
    "Outputs:\n",
    "\n",
    "- show stuff appended\n",
    "\n",
    "Algorithm (Steps in Program):\n",
    "1.\n",
    "- open file to append\n",
    "- prompt input\n",
    "- input stuff want to buy\n",
    "- input done\n",
    "- close file\n",
    "\n",
    "- open file to read\n",
    "- print stuff in file\n",
    "2. \n",
    "- prompt input\n",
    "- open file to write \n",
    "- close file\n",
    "- open file to read"
   ]
  },
  {
   "cell_type": "code",
   "execution_count": 7,
   "metadata": {},
   "outputs": [
    {
     "name": "stdout",
     "output_type": "stream",
     "text": [
      "what do you want to buy? done\n",
      "your shoping list is: \n"
     ]
    }
   ],
   "source": [
    "#the ultimate final verison\n",
    "\n",
    "filename = (\"NYC2-shopping-list.txt\")\n",
    "with open (filename, 'w') as f:\n",
    "    while True:\n",
    "        shoppingList = input(\"what do you want to buy? \")\n",
    "        if shoppingList == \"done\":\n",
    "            break\n",
    "        else:\n",
    "            f.write (shoppingList + '\\n')\n",
    "with open (filename, 'r') as f:\n",
    "    print (\"your shoping list is: \")\n",
    "    for line in f.readlines():\n",
    "        print(line.strip())"
   ]
  },
  {
   "cell_type": "code",
   "execution_count": null,
   "metadata": {},
   "outputs": [
    {
     "name": "stdout",
     "output_type": "stream",
     "text": [
      "what u wnat to buy? food\n"
     ]
    }
   ],
   "source": [
    "filename = \"NYC2-shopping-list.txt\"\n",
    "## Step 2: write code here\n",
    "shopping_list = input(\"what u wnat to buy? \")\n",
    "with open (filename, \"a\") as f:\n",
    "    while True:\n",
    "        if shopping_list == 'done':\n",
    "            break\n",
    "            print(\"here are the stuff u want to buy \",)\n",
    "        else:\n",
    "            f.write(shopping_list)\n",
    "            \n",
    "        \n"
   ]
  },
  {
   "cell_type": "code",
   "execution_count": 7,
   "metadata": {},
   "outputs": [
    {
     "name": "stdout",
     "output_type": "stream",
     "text": [
      "What you want to buy?d\n",
      "What you want to buy?\n",
      "\n"
     ]
    }
   ],
   "source": [
    "while True:\n",
    "    shoppingList = input(\"What you want to buy?\")\n",
    "    if shoppingList == \"\":\n",
    "        \n",
    "        \n",
    "        with open (\"NYC2-shopping-list.txt\",'r') as f:\n",
    "            shop_list = f.read()\n",
    "\n",
    "        print(shop_list)\n",
    "        \n",
    "        break\n",
    "        \n",
    "    else:\n",
    "        continue\n"
   ]
  },
  {
   "cell_type": "code",
   "execution_count": 1,
   "metadata": {},
   "outputs": [
    {
     "ename": "KeyboardInterrupt",
     "evalue": "",
     "output_type": "error",
     "traceback": [
      "\u001b[0;31m---------------------------------------------------------------------------\u001b[0m",
      "\u001b[0;31mKeyboardInterrupt\u001b[0m                         Traceback (most recent call last)",
      "\u001b[0;32m~/miniconda3/lib/python3.6/site-packages/ipykernel/kernelbase.py\u001b[0m in \u001b[0;36m_input_request\u001b[0;34m(self, prompt, ident, parent, password)\u001b[0m\n\u001b[1;32m    728\u001b[0m             \u001b[0;32mtry\u001b[0m\u001b[0;34m:\u001b[0m\u001b[0;34m\u001b[0m\u001b[0m\n\u001b[0;32m--> 729\u001b[0;31m                 \u001b[0mident\u001b[0m\u001b[0;34m,\u001b[0m \u001b[0mreply\u001b[0m \u001b[0;34m=\u001b[0m \u001b[0mself\u001b[0m\u001b[0;34m.\u001b[0m\u001b[0msession\u001b[0m\u001b[0;34m.\u001b[0m\u001b[0mrecv\u001b[0m\u001b[0;34m(\u001b[0m\u001b[0mself\u001b[0m\u001b[0;34m.\u001b[0m\u001b[0mstdin_socket\u001b[0m\u001b[0;34m,\u001b[0m \u001b[0;36m0\u001b[0m\u001b[0;34m)\u001b[0m\u001b[0;34m\u001b[0m\u001b[0m\n\u001b[0m\u001b[1;32m    730\u001b[0m             \u001b[0;32mexcept\u001b[0m \u001b[0mException\u001b[0m\u001b[0;34m:\u001b[0m\u001b[0;34m\u001b[0m\u001b[0m\n",
      "\u001b[0;32m~/miniconda3/lib/python3.6/site-packages/jupyter_client/session.py\u001b[0m in \u001b[0;36mrecv\u001b[0;34m(self, socket, mode, content, copy)\u001b[0m\n\u001b[1;32m    802\u001b[0m         \u001b[0;32mtry\u001b[0m\u001b[0;34m:\u001b[0m\u001b[0;34m\u001b[0m\u001b[0m\n\u001b[0;32m--> 803\u001b[0;31m             \u001b[0mmsg_list\u001b[0m \u001b[0;34m=\u001b[0m \u001b[0msocket\u001b[0m\u001b[0;34m.\u001b[0m\u001b[0mrecv_multipart\u001b[0m\u001b[0;34m(\u001b[0m\u001b[0mmode\u001b[0m\u001b[0;34m,\u001b[0m \u001b[0mcopy\u001b[0m\u001b[0;34m=\u001b[0m\u001b[0mcopy\u001b[0m\u001b[0;34m)\u001b[0m\u001b[0;34m\u001b[0m\u001b[0m\n\u001b[0m\u001b[1;32m    804\u001b[0m         \u001b[0;32mexcept\u001b[0m \u001b[0mzmq\u001b[0m\u001b[0;34m.\u001b[0m\u001b[0mZMQError\u001b[0m \u001b[0;32mas\u001b[0m \u001b[0me\u001b[0m\u001b[0;34m:\u001b[0m\u001b[0;34m\u001b[0m\u001b[0m\n",
      "\u001b[0;32m~/miniconda3/lib/python3.6/site-packages/zmq/sugar/socket.py\u001b[0m in \u001b[0;36mrecv_multipart\u001b[0;34m(self, flags, copy, track)\u001b[0m\n\u001b[1;32m    465\u001b[0m         \"\"\"\n\u001b[0;32m--> 466\u001b[0;31m         \u001b[0mparts\u001b[0m \u001b[0;34m=\u001b[0m \u001b[0;34m[\u001b[0m\u001b[0mself\u001b[0m\u001b[0;34m.\u001b[0m\u001b[0mrecv\u001b[0m\u001b[0;34m(\u001b[0m\u001b[0mflags\u001b[0m\u001b[0;34m,\u001b[0m \u001b[0mcopy\u001b[0m\u001b[0;34m=\u001b[0m\u001b[0mcopy\u001b[0m\u001b[0;34m,\u001b[0m \u001b[0mtrack\u001b[0m\u001b[0;34m=\u001b[0m\u001b[0mtrack\u001b[0m\u001b[0;34m)\u001b[0m\u001b[0;34m]\u001b[0m\u001b[0;34m\u001b[0m\u001b[0m\n\u001b[0m\u001b[1;32m    467\u001b[0m         \u001b[0;31m# have first part already, only loop while more to receive\u001b[0m\u001b[0;34m\u001b[0m\u001b[0;34m\u001b[0m\u001b[0m\n",
      "\u001b[0;32mzmq/backend/cython/socket.pyx\u001b[0m in \u001b[0;36mzmq.backend.cython.socket.Socket.recv\u001b[0;34m()\u001b[0m\n",
      "\u001b[0;32mzmq/backend/cython/socket.pyx\u001b[0m in \u001b[0;36mzmq.backend.cython.socket.Socket.recv\u001b[0;34m()\u001b[0m\n",
      "\u001b[0;32mzmq/backend/cython/socket.pyx\u001b[0m in \u001b[0;36mzmq.backend.cython.socket._recv_copy\u001b[0;34m()\u001b[0m\n",
      "\u001b[0;32m~/miniconda3/lib/python3.6/site-packages/zmq/backend/cython/checkrc.pxd\u001b[0m in \u001b[0;36mzmq.backend.cython.checkrc._check_rc\u001b[0;34m()\u001b[0m\n",
      "\u001b[0;31mKeyboardInterrupt\u001b[0m: ",
      "\nDuring handling of the above exception, another exception occurred:\n",
      "\u001b[0;31mKeyboardInterrupt\u001b[0m                         Traceback (most recent call last)",
      "\u001b[0;32m<ipython-input-1-833e82a66e81>\u001b[0m in \u001b[0;36m<module>\u001b[0;34m()\u001b[0m\n\u001b[1;32m      2\u001b[0m \u001b[0mfilename\u001b[0m \u001b[0;34m=\u001b[0m \u001b[0;34m(\u001b[0m\u001b[0;34m\"NYC2-shopping-list.txt\"\u001b[0m\u001b[0;34m)\u001b[0m\u001b[0;34m\u001b[0m\u001b[0m\n\u001b[1;32m      3\u001b[0m \u001b[0;32mwhile\u001b[0m \u001b[0;32mTrue\u001b[0m\u001b[0;34m:\u001b[0m\u001b[0;34m\u001b[0m\u001b[0m\n\u001b[0;32m----> 4\u001b[0;31m     \u001b[0mshoppingList\u001b[0m \u001b[0;34m=\u001b[0m \u001b[0minput\u001b[0m\u001b[0;34m(\u001b[0m\u001b[0;34m\"What you want to buy?\"\u001b[0m\u001b[0;34m)\u001b[0m\u001b[0;34m\u001b[0m\u001b[0m\n\u001b[0m\u001b[1;32m      5\u001b[0m     \u001b[0;32mif\u001b[0m \u001b[0mshoppingList\u001b[0m \u001b[0;34m==\u001b[0m \u001b[0;34m\"done\"\u001b[0m\u001b[0;34m:\u001b[0m\u001b[0;34m\u001b[0m\u001b[0m\n\u001b[1;32m      6\u001b[0m         \u001b[0;32mwith\u001b[0m \u001b[0mopen\u001b[0m \u001b[0;34m(\u001b[0m\u001b[0mfilename\u001b[0m\u001b[0;34m,\u001b[0m\u001b[0;34m'r'\u001b[0m\u001b[0;34m)\u001b[0m \u001b[0;32mas\u001b[0m \u001b[0mf\u001b[0m\u001b[0;34m:\u001b[0m\u001b[0;34m\u001b[0m\u001b[0m\n",
      "\u001b[0;32m~/miniconda3/lib/python3.6/site-packages/ipykernel/kernelbase.py\u001b[0m in \u001b[0;36mraw_input\u001b[0;34m(self, prompt)\u001b[0m\n\u001b[1;32m    702\u001b[0m             \u001b[0mself\u001b[0m\u001b[0;34m.\u001b[0m\u001b[0m_parent_ident\u001b[0m\u001b[0;34m,\u001b[0m\u001b[0;34m\u001b[0m\u001b[0m\n\u001b[1;32m    703\u001b[0m             \u001b[0mself\u001b[0m\u001b[0;34m.\u001b[0m\u001b[0m_parent_header\u001b[0m\u001b[0;34m,\u001b[0m\u001b[0;34m\u001b[0m\u001b[0m\n\u001b[0;32m--> 704\u001b[0;31m             \u001b[0mpassword\u001b[0m\u001b[0;34m=\u001b[0m\u001b[0;32mFalse\u001b[0m\u001b[0;34m,\u001b[0m\u001b[0;34m\u001b[0m\u001b[0m\n\u001b[0m\u001b[1;32m    705\u001b[0m         )\n\u001b[1;32m    706\u001b[0m \u001b[0;34m\u001b[0m\u001b[0m\n",
      "\u001b[0;32m~/miniconda3/lib/python3.6/site-packages/ipykernel/kernelbase.py\u001b[0m in \u001b[0;36m_input_request\u001b[0;34m(self, prompt, ident, parent, password)\u001b[0m\n\u001b[1;32m    732\u001b[0m             \u001b[0;32mexcept\u001b[0m \u001b[0mKeyboardInterrupt\u001b[0m\u001b[0;34m:\u001b[0m\u001b[0;34m\u001b[0m\u001b[0m\n\u001b[1;32m    733\u001b[0m                 \u001b[0;31m# re-raise KeyboardInterrupt, to truncate traceback\u001b[0m\u001b[0;34m\u001b[0m\u001b[0;34m\u001b[0m\u001b[0m\n\u001b[0;32m--> 734\u001b[0;31m                 \u001b[0;32mraise\u001b[0m \u001b[0mKeyboardInterrupt\u001b[0m\u001b[0;34m\u001b[0m\u001b[0m\n\u001b[0m\u001b[1;32m    735\u001b[0m             \u001b[0;32melse\u001b[0m\u001b[0;34m:\u001b[0m\u001b[0;34m\u001b[0m\u001b[0m\n\u001b[1;32m    736\u001b[0m                 \u001b[0;32mbreak\u001b[0m\u001b[0;34m\u001b[0m\u001b[0m\n",
      "\u001b[0;31mKeyboardInterrupt\u001b[0m: "
     ]
    }
   ],
   "source": [
    "\n",
    "filename = (\"NYC2-shopping-list.txt\")\n",
    "while True:\n",
    "    shoppingList = input(\"What you want to buy?\")\n",
    "    if shoppingList == \"done\":\n",
    "        with open (filename,'r') as f:\n",
    "            f = open(filename,'r')\n",
    "            shop_list = f.read()\n",
    "            print(\"Here is the list you need to buy in shop:%s \\n\"%(shoppingList))\n",
    "            #print( '\\n'.join(shop_list))\n",
    "        break\n",
    "    else:\n",
    "        f.write(shoppingList + \"\\n\")\n",
    "    with open (\"NYC2-shopping-list.txt\", \"a\") as f:\n",
    "        f = open(filename,'a')\n",
    "        f.write(shoppingList + '\\n')\n",
    "    \n",
    "#       \n",
    "        "
   ]
  },
  {
   "cell_type": "code",
   "execution_count": 4,
   "metadata": {},
   "outputs": [
    {
     "name": "stdout",
     "output_type": "stream",
     "text": [
      "What you want to buy?food\n"
     ]
    },
    {
     "ename": "ValueError",
     "evalue": "I/O operation on closed file.",
     "output_type": "error",
     "traceback": [
      "\u001b[0;31m---------------------------------------------------------------------------\u001b[0m",
      "\u001b[0;31mValueError\u001b[0m                                Traceback (most recent call last)",
      "\u001b[0;32m<ipython-input-4-6320ba3bcdd2>\u001b[0m in \u001b[0;36m<module>\u001b[0;34m()\u001b[0m\n\u001b[1;32m     13\u001b[0m         \u001b[0;32mbreak\u001b[0m\u001b[0;34m\u001b[0m\u001b[0m\n\u001b[1;32m     14\u001b[0m     \u001b[0;32melse\u001b[0m\u001b[0;34m:\u001b[0m\u001b[0;34m\u001b[0m\u001b[0m\n\u001b[0;32m---> 15\u001b[0;31m         \u001b[0mf\u001b[0m\u001b[0;34m.\u001b[0m\u001b[0mwrite\u001b[0m\u001b[0;34m(\u001b[0m\u001b[0mshoppingList\u001b[0m \u001b[0;34m+\u001b[0m \u001b[0;34m'\\n'\u001b[0m\u001b[0;34m)\u001b[0m\u001b[0;34m\u001b[0m\u001b[0m\n\u001b[0m\u001b[1;32m     16\u001b[0m \u001b[0;32mwith\u001b[0m \u001b[0mopen\u001b[0m \u001b[0;34m(\u001b[0m\u001b[0;34m\"NYC2-shopping-list.txt\"\u001b[0m\u001b[0;34m,\u001b[0m \u001b[0;34m\"a\"\u001b[0m\u001b[0;34m)\u001b[0m \u001b[0;32mas\u001b[0m \u001b[0mf\u001b[0m\u001b[0;34m:\u001b[0m\u001b[0;34m\u001b[0m\u001b[0m\n\u001b[1;32m     17\u001b[0m \u001b[0;34m\u001b[0m\u001b[0m\n",
      "\u001b[0;31mValueError\u001b[0m: I/O operation on closed file."
     ]
    }
   ],
   "source": [
    "# 1 item version\n",
    "\n",
    "filename = (\"NYC2-shopping-list.txt\")\n",
    "while True:\n",
    "    shoppingList = input(\"What you want to buy?\")\n",
    "    if shoppingList == \"done\":\n",
    "        with open (filename,'r') as f:\n",
    "            contents = []\n",
    "            for line in f:\n",
    "                contents.append(line.strip())\n",
    "            #print(\"Here is the list you need to buy in shop:%s\"%(shop_list))\n",
    "            print(\" \\n \".join(shop_list))\n",
    "        break\n",
    "    else:\n",
    "        f.write(shoppingList + '\\n')\n",
    "with open (\"NYC2-shopping-list.txt\", \"a\") as f:\n",
    "            \n",
    "    f.write(text.strip() + \"\\n\")\n",
    "            \n",
    "            \n",
    "    \n",
    "#       \n",
    "        "
   ]
  },
  {
   "cell_type": "code",
   "execution_count": 3,
   "metadata": {},
   "outputs": [
    {
     "name": "stdout",
     "output_type": "stream",
     "text": [
      "what do you want to buy? food \n",
      "what do you want to buy? food\n",
      "what do you want to buy? food\n",
      "what do you want to buy? done\n",
      "your shoping list is: \n",
      "food\n",
      "food\n",
      "food\n"
     ]
    }
   ],
   "source": [
    "#the ultimate final verison\n",
    "\n",
    "filename = (\"NYC2-shopping-list.txt\")\n",
    "with open (filename, 'w') as f:\n",
    "    while True:\n",
    "        shoppingList = input(\"what do you want to buy? \")\n",
    "        if shoppingList == \"done\":\n",
    "            break\n",
    "        else:\n",
    "            f.write (shoppingList + '\\n')\n",
    "with open (filename, 'r') as f:\n",
    "    print (\"your shoping list is: \")\n",
    "    for line in f.readlines():\n",
    "        print(line.strip())"
   ]
  },
  {
   "cell_type": "code",
   "execution_count": 10,
   "metadata": {},
   "outputs": [],
   "source": [
    "def shoppinglist(filename):\n",
    "    with open(filename, 'r') as f:\n",
    "        shopList =  f.readlines()\n",
    "        for lines in f.readlines():\n",
    "    \n",
    "    return shopList"
   ]
  },
  {
   "cell_type": "code",
   "execution_count": 19,
   "metadata": {},
   "outputs": [
    {
     "name": "stdout",
     "output_type": "stream",
     "text": [
      "what do you want to buy today? food\n",
      "what do you want to buy today? food\n",
      "what do you want to buy today? \n",
      "what do you want to buy today? done\n",
      "[]\n"
     ]
    }
   ],
   "source": [
    "filename = \"NYC2-shopping-list.txt\"\n",
    "while True:\n",
    "    inp = input(\"what do you want to buy today? \")\n",
    "    if inp == \"done\":\n",
    "        break\n",
    "    else:\n",
    "        with open (filename, 'w') as f:\n",
    "            f.write(inp )\n",
    "print(shoppinglist(filename))\n"
   ]
  },
  {
   "cell_type": "code",
   "execution_count": 2,
   "metadata": {},
   "outputs": [
    {
     "name": "stdout",
     "output_type": "stream",
     "text": [
      "Help on method_descriptor:\n",
      "\n",
      "join(...)\n",
      "    S.join(iterable) -> str\n",
      "    \n",
      "    Return a string which is the concatenation of the strings in the\n",
      "    iterable.  The separator between elements is S.\n",
      "\n"
     ]
    }
   ],
   "source": [
    "help(str.join)"
   ]
  },
  {
   "cell_type": "markdown",
   "metadata": {
    "collapsed": true
   },
   "source": [
    "## Step 3: Refactoring\n",
    "\n",
    "Refactor the part of your program which reads the shopping list from the file into a separate user-defined function called `readShoppingList` \n",
    "re-write your program to use this function.\n",
    "\n",
    "## ReadShoppingList function\n",
    "\n",
    "Inputs:\n",
    "\n",
    "Outputs:\n",
    "\n",
    "Algorithm (Steps in Program):\n",
    "\n",
    "\n",
    "\n"
   ]
  },
  {
   "cell_type": "code",
   "execution_count": null,
   "metadata": {},
   "outputs": [],
   "source": [
    "## Step 4: Write program again with refactored code.\n",
    "def readShoppingList(shoppingList):\n",
    "    shoppingList = []\n",
    "    with open (shoppingList, 'w') as f:\n",
    "        shoppingList = f.readlines()\n",
    "        shoppingList = \" \".join(shoppingList)\n",
    "        return shoppingList\n",
    "    # todo read shopping list here\n",
    "shop = \"NYC2-shopping-list.txt\"\n",
    "print(readShoppingList(shop))\n",
    "\n",
    "# TODO Main code here\n",
    "\n"
   ]
  },
  {
   "cell_type": "markdown",
   "metadata": {},
   "source": [
    "## Step 5: Questions\n",
    "\n",
    "1. Is the refactored code in step 4 easier to read? Why or why not?\n",
    "2. Explain how this program could be refarctored further (there's one thing that's obvious).\n",
    "3. Describe how this program can be modified to support multiple shopping lists?\n"
   ]
  },
  {
   "cell_type": "markdown",
   "metadata": {},
   "source": [
    "## Reminder of Evaluation Criteria\n",
    "\n",
    "1. What the problem attempted (analysis, code, and answered questions) ?\n",
    "2. What the problem analysis thought out? (does the program match the plan?)\n",
    "3. Does the code execute without syntax error?\n",
    "4. Does the code solve the intended problem?\n",
    "5. Is the code well written? (easy to understand, modular, and self-documenting, handles errors)\n"
   ]
  }
 ],
 "metadata": {
  "anaconda-cloud": {},
  "kernelspec": {
   "display_name": "Python 3",
   "language": "python",
   "name": "python3"
  },
  "language_info": {
   "codemirror_mode": {
    "name": "ipython",
    "version": 3
   },
   "file_extension": ".py",
   "mimetype": "text/x-python",
   "name": "python",
   "nbconvert_exporter": "python",
   "pygments_lexer": "ipython3",
   "version": "3.6.4"
  }
 },
 "nbformat": 4,
 "nbformat_minor": 1
}
