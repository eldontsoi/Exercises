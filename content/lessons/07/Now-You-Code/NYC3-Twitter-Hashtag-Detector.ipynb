{
 "cells": [
  {
   "cell_type": "markdown",
   "metadata": {},
   "source": [
    "# Now You Code 3: Twitter Hastag Detector\n",
    "\n",
    "Let's use Python's built-in string functions to help us write a program to detect Twitter hashtags in text. Here's how it should work:\n",
    "\n",
    "Example Run 1:\n",
    "\n",
    "```\n",
    "Enter Tweet: You got a 50 on the exam? #iamsad for you!\n",
    "Hashtag: #iamsad\n",
    "```    \n",
    "Example Run 2:\n",
    "\n",
    "```\n",
    "Enter Tweet: #lol too funny #joke #haha\n",
    "Hashtag: #lol\n",
    "Hashtag: #joke\n",
    "Hashtag: #haha\n",
    "```\n",
    "\n",
    "Example Run 3:\n",
    "\n",
    "```\n",
    "Enter Tweet: Happy birthday @mafudge\n",
    "Hashtag: none\n",
    "```\n",
    "\n",
    "Your approach should be to split the text into words and for each word look for the hashtag `#` at the start of the word."
   ]
  },
  {
   "cell_type": "markdown",
   "metadata": {},
   "source": [
    "## Step 1: Problem Analysis Program\n",
    "\n",
    "Inputs:\n",
    "hastags\n",
    "Outputs:\n",
    "how many hashtags\n",
    "Algorithm (Steps in Program):\n",
    "\n",
    "input hastags\n",
    "output hastags\n",
    "print count hashtag\n",
    "\n",
    "\n",
    "algorithm improved:\n",
    "\n",
    "1. split tweet\n",
    "2. find tweet.startswith '#'\n",
    "3. if no hashtag\n",
    "    - quit\n",
    "4. if have hashtag\n",
    "3. loop\n",
    "4. print the string that starts with '#'\n",
    "    - how to print?\n",
    "    - \n"
   ]
  },
  {
   "cell_type": "code",
   "execution_count": 14,
   "metadata": {},
   "outputs": [
    {
     "name": "stdout",
     "output_type": "stream",
     "text": [
      "tweet something with hastag!: #lol k #haha\n",
      "['#lol', 'k', '#haha']\n"
     ]
    }
   ],
   "source": [
    "tweet = input(\"tweet something with hastag!: \")\n",
    "split_tweet = tweet.split()\n",
    "\n",
    "print(split_tweet)"
   ]
  },
  {
   "cell_type": "code",
   "execution_count": 2,
   "metadata": {},
   "outputs": [
    {
     "name": "stdout",
     "output_type": "stream",
     "text": [
      "tweet something with hastag!: #lol,#haha,#yay\n",
      "hashtag: #lol,#haha,#yay\n"
     ]
    }
   ],
   "source": [
    "## Step 2: todo write code for full problem\n",
    "tweet = input(\"tweet something with hastag!: \")\n",
    "if tweet.count('#') == 0:\n",
    "    print(\"Hashtag: none\")\n",
    "split_tweet = tweet.split(\" \")\n",
    "#count = 0\n",
    "\n",
    "for hashtags in split_tweet:\n",
    "    #hashtags ^ is iterator\n",
    "    if hashtags[0] == '#':\n",
    "        print('hashtag:',hashtags)\n",
    " #   if split_tweet.startswith( '#',tweet):\n",
    "#        print ('Hastag: ')\n"
   ]
  },
  {
   "cell_type": "code",
   "execution_count": 5,
   "metadata": {},
   "outputs": [
    {
     "name": "stdout",
     "output_type": "stream",
     "text": [
      "Help on method_descriptor:\n",
      "\n",
      "find(...)\n",
      "    S.find(sub[, start[, end]]) -> int\n",
      "    \n",
      "    Return the lowest index in S where substring sub is found,\n",
      "    such that sub is contained within S[start:end].  Optional\n",
      "    arguments start and end are interpreted as in slice notation.\n",
      "    \n",
      "    Return -1 on failure.\n",
      "\n"
     ]
    }
   ],
   "source": [
    "help(str.find)"
   ]
  },
  {
   "cell_type": "markdown",
   "metadata": {},
   "source": [
    "## Step 3: Questions\n",
    "\n",
    "1. What happens when the hashtag is not in the beginning of the word? ex. `it wights 64# that's #heavy`? Is this a problem?\n",
    "\n",
    "- yes, the word wont be count as a hashtag\n",
    "\n",
    "2. Describe an approach for refactoring this code to use a function? What would the arguments and return values be? (Don't refactor the code, just describe your approach!) \n",
    "\n",
    "    1. define function\n",
    "    2. assign a variable \n",
    "\n",
    "3. Is there a way to write this program without a loop?\n"
   ]
  },
  {
   "cell_type": "markdown",
   "metadata": {},
   "source": [
    "## Reminder of Evaluation Criteria\n",
    "\n",
    "1. What the problem attempted (analysis, code, and answered questions) ?\n",
    "2. What the problem analysis thought out? (does the program match the plan?)\n",
    "3. Does the code execute without syntax error?\n",
    "4. Does the code solve the intended problem?\n",
    "5. Is the code well written? (easy to understand, modular, and self-documenting, handles errors)\n"
   ]
  },
  {
   "cell_type": "code",
   "execution_count": 1,
   "metadata": {},
   "outputs": [
    {
     "data": {
      "text/plain": [
       "['__add__',\n",
       " '__class__',\n",
       " '__contains__',\n",
       " '__delattr__',\n",
       " '__dir__',\n",
       " '__doc__',\n",
       " '__eq__',\n",
       " '__format__',\n",
       " '__ge__',\n",
       " '__getattribute__',\n",
       " '__getitem__',\n",
       " '__getnewargs__',\n",
       " '__gt__',\n",
       " '__hash__',\n",
       " '__init__',\n",
       " '__init_subclass__',\n",
       " '__iter__',\n",
       " '__le__',\n",
       " '__len__',\n",
       " '__lt__',\n",
       " '__mod__',\n",
       " '__mul__',\n",
       " '__ne__',\n",
       " '__new__',\n",
       " '__reduce__',\n",
       " '__reduce_ex__',\n",
       " '__repr__',\n",
       " '__rmod__',\n",
       " '__rmul__',\n",
       " '__setattr__',\n",
       " '__sizeof__',\n",
       " '__str__',\n",
       " '__subclasshook__',\n",
       " 'capitalize',\n",
       " 'casefold',\n",
       " 'center',\n",
       " 'count',\n",
       " 'encode',\n",
       " 'endswith',\n",
       " 'expandtabs',\n",
       " 'find',\n",
       " 'format',\n",
       " 'format_map',\n",
       " 'index',\n",
       " 'isalnum',\n",
       " 'isalpha',\n",
       " 'isdecimal',\n",
       " 'isdigit',\n",
       " 'isidentifier',\n",
       " 'islower',\n",
       " 'isnumeric',\n",
       " 'isprintable',\n",
       " 'isspace',\n",
       " 'istitle',\n",
       " 'isupper',\n",
       " 'join',\n",
       " 'ljust',\n",
       " 'lower',\n",
       " 'lstrip',\n",
       " 'maketrans',\n",
       " 'partition',\n",
       " 'replace',\n",
       " 'rfind',\n",
       " 'rindex',\n",
       " 'rjust',\n",
       " 'rpartition',\n",
       " 'rsplit',\n",
       " 'rstrip',\n",
       " 'split',\n",
       " 'splitlines',\n",
       " 'startswith',\n",
       " 'strip',\n",
       " 'swapcase',\n",
       " 'title',\n",
       " 'translate',\n",
       " 'upper',\n",
       " 'zfill']"
      ]
     },
     "execution_count": 1,
     "metadata": {},
     "output_type": "execute_result"
    }
   ],
   "source": [
    "dir(\"\")"
   ]
  },
  {
   "cell_type": "code",
   "execution_count": null,
   "metadata": {},
   "outputs": [],
   "source": []
  }
 ],
 "metadata": {
  "anaconda-cloud": {},
  "kernelspec": {
   "display_name": "Python 3",
   "language": "python",
   "name": "python3"
  },
  "language_info": {
   "codemirror_mode": {
    "name": "ipython",
    "version": 3
   },
   "file_extension": ".py",
   "mimetype": "text/x-python",
   "name": "python",
   "nbconvert_exporter": "python",
   "pygments_lexer": "ipython3",
   "version": "3.6.4"
  }
 },
 "nbformat": 4,
 "nbformat_minor": 1
}
