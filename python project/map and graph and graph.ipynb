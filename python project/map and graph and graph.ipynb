{
 "cells": [
  {
   "cell_type": "code",
   "execution_count": null,
   "metadata": {},
   "outputs": [],
   "source": [
    "#display driver info\n",
    "#position\n",
    "\n",
    "#rank these people : lewis alonso vettel kimi nico from year 2008 to 2017"
   ]
  },
  {
   "cell_type": "code",
   "execution_count": 11,
   "metadata": {},
   "outputs": [
    {
     "ename": "NameError",
     "evalue": "name 'driver_website_dict' is not defined",
     "output_type": "error",
     "traceback": [
      "\u001b[0;31m---------------------------------------------------------------------------\u001b[0m",
      "\u001b[0;31mNameError\u001b[0m                                 Traceback (most recent call last)",
      "\u001b[0;32m<ipython-input-11-1026c3074605>\u001b[0m in \u001b[0;36m<module>\u001b[0;34m()\u001b[0m\n\u001b[1;32m      6\u001b[0m \u001b[0;34m\u001b[0m\u001b[0m\n\u001b[1;32m      7\u001b[0m                      'nico rosberg':'http://www.4mula1.ro/s/?cdx=dea2918&idd=919'}\n\u001b[0;32m----> 8\u001b[0;31m \u001b[0;32mfor\u001b[0m \u001b[0mkey\u001b[0m \u001b[0;32min\u001b[0m \u001b[0mdriver_website_dict\u001b[0m\u001b[0;34m:\u001b[0m\u001b[0;34m\u001b[0m\u001b[0m\n\u001b[0m\u001b[1;32m      9\u001b[0m     \u001b[0mthekey\u001b[0m \u001b[0;34m=\u001b[0m \u001b[0mdriver_website_dict\u001b[0m\u001b[0;34m[\u001b[0m\u001b[0mkey\u001b[0m\u001b[0;34m]\u001b[0m\u001b[0;34m\u001b[0m\u001b[0m\n\u001b[1;32m     10\u001b[0m \u001b[0;34m\u001b[0m\u001b[0m\n",
      "\u001b[0;31mNameError\u001b[0m: name 'driver_website_dict' is not defined"
     ]
    }
   ],
   "source": [
    "#highestpoints in each year since 2010\n",
    "driver_points_dict ={'lewis': 'http://www.4mula1.ro/s/?cdx=4d2ac0e&poi=1&idd=924',\n",
    "                          'alonso':'http://www.4mula1.ro/s/?cdx=f17791c&idd=884',\n",
    "                         'vettel':'http://www.4mula1.ro/s/?cdx=b23415a&idd=927',\n",
    "                         'kimi': 'http://www.4mula1.ro/s/?cdx=bde10b8&idd=881',\n",
    "              \n",
    "                 'rosberg':'http://www.4mula1.ro/s/?cdx=dea2918&idd=919'}\n",
    "for key in driver_website_dict:\n",
    "    thekey = driver_website_dict[key]\n",
    "    \n",
    "def plot_graph_1 (year):\n",
    "    plt.plot(['2007','2008','2009','2010','2011','2012','2013','2014','2015','2016','2017'],\n",
    "             [lewis,alonso,vettel,kimi,nico])\n",
    "    plt.title(driver+\"'s points from year 2010 to 2017\")\n",
    "    plt.ylabel('Points')\n",
    "    plt.xlabel('Year')  \n",
    "    "
   ]
  },
  {
   "cell_type": "code",
   "execution_count": null,
   "metadata": {},
   "outputs": [],
   "source": []
  },
  {
   "cell_type": "code",
   "execution_count": 50,
   "metadata": {},
   "outputs": [],
   "source": [
    "#modules and functions\n",
    "\n",
    "#import modules\n",
    "import pandas as pd\n",
    "import wikipedia\n",
    "import numpy as np\n",
    "from IPython.display import display\n",
    "import dateutil\n",
    "import matplotlib.pyplot as plt\n",
    "import folium\n",
    "import random \n",
    "from geopy.geocoders import Nominatim\n",
    "geolocator = Nominatim()\n",
    "import warnings\n",
    "warnings.filterwarnings('ignore')\n",
    "from gtts import gTTS\n",
    "from time import sleep\n",
    "import time\n",
    "import pyglet\n",
    "import os    \n",
    "import subprocess\n",
    "from gtts import gTTS\n",
    "map = folium.Map(zoom_start=3)\n",
    "import speech_recognition as sr\n",
    "from IPython.display import display, HTML\n",
    "import matplotlib.pyplot as plt; plt.rcdefaults()\n",
    "import webbrowser\n",
    "\n",
    "###functions###\n",
    "#text to audio\n",
    "def talk(text):\n",
    "    audio_file = \"hello.mp3\"\n",
    "    tts = gTTS(text, lang=\"en-uk\")\n",
    "    tts.save(audio_file)\n",
    "    return_code = subprocess.call([\"afplay\", audio_file])\n",
    "\n",
    "#text = input('text: ')\n",
    "#talk(text)\n",
    "#functions\n",
    "\n",
    "#website function\n",
    "def web_request (driver):\n",
    "    \n",
    "    driver_website_dict ={'lewis': 'http://www.4mula1.ro/s/?cdx=4d2ac0e&poi=1&idd=924',\n",
    "                          'alonso':'http://www.4mula1.ro/s/?cdx=f17791c&idd=884',\n",
    "                         'vettel':'http://www.4mula1.ro/s/?cdx=b23415a&idd=927',\n",
    "                         'kimi': 'http://www.4mula1.ro/s/?cdx=bde10b8&idd=881',\n",
    "                          'battle':'http://www.4mula1.ro/s/?cdx=b23415a&idd=927',\n",
    "                          'Roseburg':'http://www.4mula1.ro/s/?cdx=dea2918&idd=919',\n",
    "                          'timmy' : 'http://www.4mula1.ro/s/?cdx=bde10b8&idd=881',\n",
    "                         'nico rosberg':'http://www.4mula1.ro/s/?cdx=dea2918&idd=919'}\n",
    "    driver_website_dict[driver]\n",
    "    return driver_website_dict[driver]\n",
    "\n",
    "#plot graph\n",
    "\n",
    "def plot_graph (driver):\n",
    "    plt.plot(['2007','2008','2009','2010','2011','2012','2013','2014','2015','2016','2017'],\n",
    "             [total2007,total2008,total2009,total2010,total2011,total2012,total2013,total2014,total2015,total2016,total2017])\n",
    "    plt.title(driver+\"'s points from year 2007 to 2017\")\n",
    "    plt.ylabel('Points')\n",
    "    plt.xlabel('Year')\n",
    "    \n",
    "    return plt.show()\n",
    "#filter year funciton\n",
    "#how can i shrink these lines? groupby? \n",
    "def filter_year (df):\n",
    "    f1Data2007 = df[df[1].str[:4]=='2007'] \n",
    "    f1Data2008 = df[df[1].str[:4]=='2008'] \n",
    "    f1Data2009 = df[df[1].str[:4]=='2009'] \n",
    "    f1Data2010 = df[df[1].str[:4]=='2010']\n",
    "    f1Data2011 = df[df[1].str[:4]=='2011']\n",
    "    f1Data2012 = df[df[1].str[:4]=='2012']\n",
    "    f1Data2013 = df[df[1].str[:4]=='2013']\n",
    "    f1Data2014 = df[df[1].str[:4]=='2014']\n",
    "    f1Data2015 = df[df[1].str[:4]=='2015']\n",
    "    f1Data2016 = df[df[1].str[:4]=='2016']\n",
    "    f1Data2017 = df[df[1].str[:4]=='2017']\n",
    "    return True\n",
    "\n",
    "#total points calculator not working funciton\n",
    "def total_points_calulator ():\n",
    "    #make a function do int conversion\n",
    "    total2007 = 0\n",
    "    total2008 = 0\n",
    "    total2009 = 0\n",
    "    total2010 = 0\n",
    "    for items in f1Data2007[7]:\n",
    "        total2007 = total2007 + float(items)\n",
    "    for items in f1Data2008[7]:\n",
    "        total2008 = total2008 + float(items)\n",
    "    for items in f1Data2010[7]:\n",
    "        total2009 = total2009 + float(items)\n",
    "    for items in f1Data2010[7]:\n",
    "        total2010 = total2010 + float(items)\n",
    "    total2011 = 0\n",
    "    for items in f1Data2011[7]:\n",
    "        total2011 = total2011 + float(items)\n",
    "    total2012 = 0\n",
    "    for items in f1Data2012[7]:\n",
    "        total2012 = total2012 + float(items)\n",
    "    total2013 =0\n",
    "    for items in f1Data2013[7]:\n",
    "        total2013 = total2013 + float(items)\n",
    "    total2014 = 0\n",
    "    for items in f1Data2014[7]:\n",
    "        total2014 = total2014 + float(items)\n",
    "    total2015 = 0\n",
    "    for items in f1Data2015[7]:\n",
    "        total2015 = total2015 + float(items)\n",
    "    total2016 = 0\n",
    "    for items in f1Data2016[7]:\n",
    "        total2016 = total2016 + float(items)\n",
    "    total2017 = 0\n",
    "    for items in f1Data2017[7]:\n",
    "        total2017 = total2017 + float(items)\n",
    "    return True\n",
    "#location fider function convert city name to location coordinates\n",
    "def location_finder (city_list):\n",
    "    for city in city_list:\n",
    "        location = geolocator.geocode(city)\n",
    "        location.address\n",
    "        location_address = location.address.split(',')\n",
    "        location_address = location_address[0]\n",
    "        location_coord = location.latitude, location.longitude\n",
    "    return(location_address)\n",
    "\n",
    "#audio to text\n",
    "def audioFile():\n",
    "    with sr.Microphone(device_index = 0) as source:\n",
    "        r.energy_threshold = 4000\n",
    "        audio = r.listen(source,timeout=4.5)\n",
    "    return audio\n",
    "r = sr.Recognizer()\n",
    "\n",
    "#def please_try_again (driver_no):\n",
    "    \n",
    "#r.recognize_google(audioFile())\n",
    "\n",
    "#color code function\n",
    "\n",
    "def color_html (html_color, html_object):\n",
    "    display(HTML(\"<span style = 'color: %s;'>%s\"%(html_color,html_object)))\n",
    "    \n",
    "#how to change color of individual bar\n",
    "#speak function\n",
    "def speak ():\n",
    "    response = r.recognize_google(audioFile())\n",
    "    return response\n",
    "#response = speak()\n",
    "#print(response)\n",
    "#speech dont understand function, bad input\n",
    "def talk_bad ():\n",
    "    talk_cant_understand = \"I'm so sorry I didn't quite get that. please speak clearly.\"\n",
    "    return talk_cant_understand\n",
    "#color_html('red',talk_bad())\n",
    "#talk(talk_bad())\n",
    "#print graph function #funfact about teams\n",
    "\n",
    "def team_graph():\n",
    "    color_html(\"DarkRed\",\"The fun fact is despite Ferrari has the most victories, they have been in a championship drought for more than 10 years!\")\n",
    "    talk(\"The fun fact is despite Ferrari has the most victories, they have been in a championship drought for more than 10 years!\")\n",
    "    objects = ('Ferrari', 'McLaren', 'Mercedes', 'Williams', 'Lotus', 'Red Bull')\n",
    "    y_pos = np.arange(len(objects))\n",
    "    performance = [96,73,52,46,38,30]\n",
    "\n",
    "    plt.bar(y_pos, performance, align='center', alpha=0.5)\n",
    "    plt.xticks(y_pos, objects)\n",
    "    plt.ylabel('Number of Wins')\n",
    "    plt.title('Number of Cumalative Victories For each Team from 1950 to 2018')\n",
    "     #ax.legend()\n",
    "    return plt.show()"
   ]
  },
  {
   "cell_type": "code",
   "execution_count": 67,
   "metadata": {
    "collapsed": true
   },
   "outputs": [
    {
     "data": {
      "text/html": [
       "<div>\n",
       "<style scoped>\n",
       "    .dataframe tbody tr th:only-of-type {\n",
       "        vertical-align: middle;\n",
       "    }\n",
       "\n",
       "    .dataframe tbody tr th {\n",
       "        vertical-align: top;\n",
       "    }\n",
       "\n",
       "    .dataframe thead th {\n",
       "        text-align: right;\n",
       "    }\n",
       "</style>\n",
       "<table border=\"1\" class=\"dataframe\">\n",
       "  <thead>\n",
       "    <tr style=\"text-align: right;\">\n",
       "      <th></th>\n",
       "      <th>4</th>\n",
       "    </tr>\n",
       "  </thead>\n",
       "  <tbody>\n",
       "    <tr>\n",
       "      <th>1</th>\n",
       "      <td>McLaren</td>\n",
       "    </tr>\n",
       "    <tr>\n",
       "      <th>2</th>\n",
       "      <td>McLaren</td>\n",
       "    </tr>\n",
       "    <tr>\n",
       "      <th>3</th>\n",
       "      <td>McLaren</td>\n",
       "    </tr>\n",
       "    <tr>\n",
       "      <th>4</th>\n",
       "      <td>McLaren</td>\n",
       "    </tr>\n",
       "    <tr>\n",
       "      <th>5</th>\n",
       "      <td>McLaren</td>\n",
       "    </tr>\n",
       "    <tr>\n",
       "      <th>6</th>\n",
       "      <td>McLaren</td>\n",
       "    </tr>\n",
       "    <tr>\n",
       "      <th>7</th>\n",
       "      <td>McLaren</td>\n",
       "    </tr>\n",
       "    <tr>\n",
       "      <th>8</th>\n",
       "      <td>McLaren</td>\n",
       "    </tr>\n",
       "    <tr>\n",
       "      <th>9</th>\n",
       "      <td>McLaren</td>\n",
       "    </tr>\n",
       "    <tr>\n",
       "      <th>10</th>\n",
       "      <td>McLaren</td>\n",
       "    </tr>\n",
       "    <tr>\n",
       "      <th>11</th>\n",
       "      <td>McLaren</td>\n",
       "    </tr>\n",
       "    <tr>\n",
       "      <th>12</th>\n",
       "      <td>McLaren</td>\n",
       "    </tr>\n",
       "    <tr>\n",
       "      <th>13</th>\n",
       "      <td>McLaren</td>\n",
       "    </tr>\n",
       "    <tr>\n",
       "      <th>14</th>\n",
       "      <td>McLaren</td>\n",
       "    </tr>\n",
       "    <tr>\n",
       "      <th>15</th>\n",
       "      <td>McLaren</td>\n",
       "    </tr>\n",
       "    <tr>\n",
       "      <th>16</th>\n",
       "      <td>McLaren</td>\n",
       "    </tr>\n",
       "    <tr>\n",
       "      <th>17</th>\n",
       "      <td>McLaren</td>\n",
       "    </tr>\n",
       "    <tr>\n",
       "      <th>18</th>\n",
       "      <td>McLaren</td>\n",
       "    </tr>\n",
       "    <tr>\n",
       "      <th>19</th>\n",
       "      <td>McLaren</td>\n",
       "    </tr>\n",
       "    <tr>\n",
       "      <th>20</th>\n",
       "      <td>McLaren</td>\n",
       "    </tr>\n",
       "    <tr>\n",
       "      <th>21</th>\n",
       "      <td>McLaren</td>\n",
       "    </tr>\n",
       "    <tr>\n",
       "      <th>22</th>\n",
       "      <td>McLaren</td>\n",
       "    </tr>\n",
       "    <tr>\n",
       "      <th>23</th>\n",
       "      <td>McLaren</td>\n",
       "    </tr>\n",
       "    <tr>\n",
       "      <th>24</th>\n",
       "      <td>McLaren</td>\n",
       "    </tr>\n",
       "    <tr>\n",
       "      <th>25</th>\n",
       "      <td>McLaren</td>\n",
       "    </tr>\n",
       "    <tr>\n",
       "      <th>26</th>\n",
       "      <td>McLaren</td>\n",
       "    </tr>\n",
       "    <tr>\n",
       "      <th>27</th>\n",
       "      <td>McLaren</td>\n",
       "    </tr>\n",
       "    <tr>\n",
       "      <th>28</th>\n",
       "      <td>McLaren</td>\n",
       "    </tr>\n",
       "    <tr>\n",
       "      <th>29</th>\n",
       "      <td>McLaren</td>\n",
       "    </tr>\n",
       "    <tr>\n",
       "      <th>30</th>\n",
       "      <td>McLaren</td>\n",
       "    </tr>\n",
       "    <tr>\n",
       "      <th>...</th>\n",
       "      <td>...</td>\n",
       "    </tr>\n",
       "    <tr>\n",
       "      <th>147</th>\n",
       "      <td>Mercedes</td>\n",
       "    </tr>\n",
       "    <tr>\n",
       "      <th>148</th>\n",
       "      <td>Mercedes</td>\n",
       "    </tr>\n",
       "    <tr>\n",
       "      <th>149</th>\n",
       "      <td>Mercedes</td>\n",
       "    </tr>\n",
       "    <tr>\n",
       "      <th>150</th>\n",
       "      <td>Mercedes</td>\n",
       "    </tr>\n",
       "    <tr>\n",
       "      <th>151</th>\n",
       "      <td>Mercedes</td>\n",
       "    </tr>\n",
       "    <tr>\n",
       "      <th>152</th>\n",
       "      <td>Mercedes</td>\n",
       "    </tr>\n",
       "    <tr>\n",
       "      <th>153</th>\n",
       "      <td>Mercedes</td>\n",
       "    </tr>\n",
       "    <tr>\n",
       "      <th>154</th>\n",
       "      <td>Mercedes</td>\n",
       "    </tr>\n",
       "    <tr>\n",
       "      <th>155</th>\n",
       "      <td>Mercedes</td>\n",
       "    </tr>\n",
       "    <tr>\n",
       "      <th>156</th>\n",
       "      <td>Mercedes</td>\n",
       "    </tr>\n",
       "    <tr>\n",
       "      <th>157</th>\n",
       "      <td>Mercedes</td>\n",
       "    </tr>\n",
       "    <tr>\n",
       "      <th>158</th>\n",
       "      <td>Mercedes</td>\n",
       "    </tr>\n",
       "    <tr>\n",
       "      <th>159</th>\n",
       "      <td>Mercedes</td>\n",
       "    </tr>\n",
       "    <tr>\n",
       "      <th>160</th>\n",
       "      <td>Mercedes</td>\n",
       "    </tr>\n",
       "    <tr>\n",
       "      <th>161</th>\n",
       "      <td>Mercedes</td>\n",
       "    </tr>\n",
       "    <tr>\n",
       "      <th>162</th>\n",
       "      <td>Mercedes</td>\n",
       "    </tr>\n",
       "    <tr>\n",
       "      <th>163</th>\n",
       "      <td>Mercedes</td>\n",
       "    </tr>\n",
       "    <tr>\n",
       "      <th>164</th>\n",
       "      <td>Mercedes</td>\n",
       "    </tr>\n",
       "    <tr>\n",
       "      <th>165</th>\n",
       "      <td>Mercedes</td>\n",
       "    </tr>\n",
       "    <tr>\n",
       "      <th>166</th>\n",
       "      <td>Mercedes</td>\n",
       "    </tr>\n",
       "    <tr>\n",
       "      <th>167</th>\n",
       "      <td>Mercedes</td>\n",
       "    </tr>\n",
       "    <tr>\n",
       "      <th>168</th>\n",
       "      <td>Mercedes</td>\n",
       "    </tr>\n",
       "    <tr>\n",
       "      <th>169</th>\n",
       "      <td>Mercedes</td>\n",
       "    </tr>\n",
       "    <tr>\n",
       "      <th>170</th>\n",
       "      <td>Mercedes</td>\n",
       "    </tr>\n",
       "    <tr>\n",
       "      <th>171</th>\n",
       "      <td>Mercedes</td>\n",
       "    </tr>\n",
       "    <tr>\n",
       "      <th>172</th>\n",
       "      <td>Mercedes</td>\n",
       "    </tr>\n",
       "    <tr>\n",
       "      <th>173</th>\n",
       "      <td>Mercedes</td>\n",
       "    </tr>\n",
       "    <tr>\n",
       "      <th>174</th>\n",
       "      <td>Mercedes</td>\n",
       "    </tr>\n",
       "    <tr>\n",
       "      <th>175</th>\n",
       "      <td>Mercedes</td>\n",
       "    </tr>\n",
       "    <tr>\n",
       "      <th>176</th>\n",
       "      <td>Mercedes</td>\n",
       "    </tr>\n",
       "  </tbody>\n",
       "</table>\n",
       "<p>176 rows × 1 columns</p>\n",
       "</div>"
      ],
      "text/plain": [
       "            4\n",
       "1     McLaren\n",
       "2     McLaren\n",
       "3     McLaren\n",
       "4     McLaren\n",
       "5     McLaren\n",
       "6     McLaren\n",
       "7     McLaren\n",
       "8     McLaren\n",
       "9     McLaren\n",
       "10    McLaren\n",
       "11    McLaren\n",
       "12    McLaren\n",
       "13    McLaren\n",
       "14    McLaren\n",
       "15    McLaren\n",
       "16    McLaren\n",
       "17    McLaren\n",
       "18    McLaren\n",
       "19    McLaren\n",
       "20    McLaren\n",
       "21    McLaren\n",
       "22    McLaren\n",
       "23    McLaren\n",
       "24    McLaren\n",
       "25    McLaren\n",
       "26    McLaren\n",
       "27    McLaren\n",
       "28    McLaren\n",
       "29    McLaren\n",
       "30    McLaren\n",
       "..        ...\n",
       "147  Mercedes\n",
       "148  Mercedes\n",
       "149  Mercedes\n",
       "150  Mercedes\n",
       "151  Mercedes\n",
       "152  Mercedes\n",
       "153  Mercedes\n",
       "154  Mercedes\n",
       "155  Mercedes\n",
       "156  Mercedes\n",
       "157  Mercedes\n",
       "158  Mercedes\n",
       "159  Mercedes\n",
       "160  Mercedes\n",
       "161  Mercedes\n",
       "162  Mercedes\n",
       "163  Mercedes\n",
       "164  Mercedes\n",
       "165  Mercedes\n",
       "166  Mercedes\n",
       "167  Mercedes\n",
       "168  Mercedes\n",
       "169  Mercedes\n",
       "170  Mercedes\n",
       "171  Mercedes\n",
       "172  Mercedes\n",
       "173  Mercedes\n",
       "174  Mercedes\n",
       "175  Mercedes\n",
       "176  Mercedes\n",
       "\n",
       "[176 rows x 1 columns]"
      ]
     },
     "execution_count": 67,
     "metadata": {},
     "output_type": "execute_result"
    }
   ],
   "source": [
    "#f1Data = pd.DataFrame() \n",
    "#f1Data_Team = f1Data.append[f1Data[0]].drop([1,2,5,7], axis=1).dropna().drop(['0'])\n",
    "\n",
    "\n",
    "    #append to list and drop fastest lap and one another column\n",
    "#f1Data = f1Data.append(datalist[0]).drop([0,3,6, 8,9], axis=1).dropna()\n",
    " \n",
    "Team_LH = pd.DataFrame() \n",
    "#append to list and drop fastest lap and one another column\n",
    "Team_LH = f1Data.append(datalist[0]).drop([0,3,6, 8,9,1,2,5,7], axis=1).dropna().drop([0])\n",
    "Team_LH\n",
    "\n",
    "    #print(driver_web)"
   ]
  },
  {
   "cell_type": "code",
   "execution_count": 71,
   "metadata": {},
   "outputs": [
    {
     "name": "stdout",
     "output_type": "stream",
     "text": [
      "lalalala lalalala\n"
     ]
    }
   ],
   "source": [
    "def speak ():\n",
    "    response = r.recognize_google(audioFile())\n",
    "    return response\n",
    "response = speak()\n",
    "print(response)"
   ]
  },
  {
   "cell_type": "code",
   "execution_count": null,
   "metadata": {},
   "outputs": [],
   "source": [
    "#youtube search\n",
    "\n",
    "lewis_yt_search = \"https://www.youtube.com/results?search_query=lewis+hamilton\"\n",
    "rosberg_yt_search = 'https://www.youtube.com/results?search_query=nico+rosberg'\n"
   ]
  },
  {
   "cell_type": "code",
   "execution_count": 90,
   "metadata": {},
   "outputs": [
    {
     "data": {
      "text/html": [
       "<span style = 'color: red;'>sorry I didn't quite get that. please speak clearly"
      ],
      "text/plain": [
       "<IPython.core.display.HTML object>"
      ]
     },
     "metadata": {},
     "output_type": "display_data"
    }
   ],
   "source": [
    "#error when talking\n",
    "def talk_bad ():\n",
    "    talk_cant_understand = \"sorry I didn't quite get that. please speak clearly\"\n",
    "    return talk_cant_understand\n",
    "color_html('red',talk_bad())\n",
    "talk(talk_bad())\n"
   ]
  },
  {
   "cell_type": "code",
   "execution_count": 36,
   "metadata": {},
   "outputs": [
    {
     "data": {
      "text/html": [
       "<span style = 'color: lightblue;'>let's start off by searching some Formula 1 related youtube videos! What would you like to search about?"
      ],
      "text/plain": [
       "<IPython.core.display.HTML object>"
      ]
     },
     "metadata": {},
     "output_type": "display_data"
    },
    {
     "name": "stdout",
     "output_type": "stream",
     "text": [
      "Your FormulaSmart Assistnat is listening...\n"
     ]
    },
    {
     "data": {
      "text/plain": [
       "True"
      ]
     },
     "execution_count": 36,
     "metadata": {},
     "output_type": "execute_result"
    }
   ],
   "source": [
    "#def youtube_search (speak_function) fail:\n",
    "\n",
    "color_html('lightblue',\"let's start off by searching some Formula 1 related youtube videos! What would you like to search about?\")\n",
    "talk(\"let's start off by searching some Formula 1 related youtube videos! What would you like to search about? e.g. you can say f1 Australia 2018 racing highlights \")\n",
    "print(\"Your FormulaSmart Assistnat is listening...\")\n",
    "youtube_response = \"https://www.youtube.com/results?search_query=\"+speak().replace(\" \",\",\")\n",
    "#YT_response_wif_pic = \"http://img.youtube.com/vi/<\"+youtube_response+\">/maxresdefault.jpg\"\n",
    "#url = 'http://www.python.org/'\n",
    "\n",
    "# Open URL in a new tab, if a browser window is already open.\n",
    "webbrowser.open_new_tab(youtube_response)\n",
    "\n",
    "#youtube_search(speak())"
   ]
  },
  {
   "cell_type": "code",
   "execution_count": 35,
   "metadata": {},
   "outputs": [
    {
     "data": {
      "text/plain": [
       "True"
      ]
     },
     "execution_count": 35,
     "metadata": {},
     "output_type": "execute_result"
    }
   ],
   "source": [
    "webbrowser.open_new_tab(youtube_response )"
   ]
  },
  {
   "cell_type": "code",
   "execution_count": 56,
   "metadata": {},
   "outputs": [
    {
     "name": "stdout",
     "output_type": "stream",
     "text": [
      "battle\n"
     ]
    }
   ],
   "source": [
    "speak()\n",
    "print(speak())"
   ]
  },
  {
   "cell_type": "code",
   "execution_count": 59,
   "metadata": {
    "scrolled": true
   },
   "outputs": [
    {
     "data": {
      "text/html": [
       "<span style = 'color: lightblue;'>Hi I am FormulaSmart! Your personal sport assistant. I can answer your inquiries about Formula 1! "
      ],
      "text/plain": [
       "<IPython.core.display.HTML object>"
      ]
     },
     "metadata": {},
     "output_type": "display_data"
    },
    {
     "data": {
      "text/html": [
       "<span style = 'color: lightblue;'>let's start off by searching some Formula 1 related youtube videos! What would you like to search about?e.g. f1 2018 australia highlights"
      ],
      "text/plain": [
       "<IPython.core.display.HTML object>"
      ]
     },
     "metadata": {},
     "output_type": "display_data"
    },
    {
     "name": "stdout",
     "output_type": "stream",
     "text": [
      "Your FormulaSmart Assistnat is listening...\n",
      "shall we continue the program? fgjkl;'\n"
     ]
    },
    {
     "data": {
      "text/html": [
       "<span style = 'color: lightblue;'>Do you want to know a fun fact about formula 1?"
      ],
      "text/plain": [
       "<IPython.core.display.HTML object>"
      ]
     },
     "metadata": {},
     "output_type": "display_data"
    },
    {
     "name": "stdout",
     "output_type": "stream",
     "text": [
      "Your FormulaSmart Assistnat is listening...\n",
      "it's okay let's move on to something else\n",
      "Do you know what is formula 1? please answer yes or no \n",
      "Your FormulaSmart Assistnat is listening...\n"
     ]
    },
    {
     "data": {
      "text/html": [
       "<span style = 'color: blue;'>here are the most successful drivers in the past 5 years: Lewis, Nico Rosberg, Vettel,Alonso, and Kimi  "
      ],
      "text/plain": [
       "<IPython.core.display.HTML object>"
      ]
     },
     "metadata": {},
     "output_type": "display_data"
    },
    {
     "name": "stdout",
     "output_type": "stream",
     "text": [
      "Your FormulaSmart Assistnat is listening...\n",
      "Here's is a summary of kimi\n"
     ]
    },
    {
     "data": {
      "image/png": "[encoded data removed]",
      "text/plain": [
       "<Figure size 640x480 with 1 Axes>"
      ]
     },
     "metadata": {},
     "output_type": "display_data"
    },
    {
     "data": {
      "text/html": [
       "<span style = 'color: blue;'>Here are the  points kimi scored each year from year 2007 to 2017. "
      ],
      "text/plain": [
       "<IPython.core.display.HTML object>"
      ]
     },
     "metadata": {},
     "output_type": "display_data"
    },
    {
     "data": {
      "text/html": [
       "<span style = 'color: blue;'>Which year do you think kimi is the best in? Please choose from range 2007 to 2017: "
      ],
      "text/plain": [
       "<IPython.core.display.HTML object>"
      ]
     },
     "metadata": {},
     "output_type": "display_data"
    },
    {
     "data": {
      "text/html": [
       "<span style = 'color: blue;'>Enter the year you think kimi is the best in: "
      ],
      "text/plain": [
       "<IPython.core.display.HTML object>"
      ]
     },
     "metadata": {},
     "output_type": "display_data"
    },
    {
     "name": "stdout",
     "output_type": "stream",
     "text": [
      "Your FormulaSmart Assistnat is listening...\n"
     ]
    },
    {
     "data": {
      "text/html": [
       "<span style = 'color: red;'>Please input a valid year"
      ],
      "text/plain": [
       "<IPython.core.display.HTML object>"
      ]
     },
     "metadata": {},
     "output_type": "display_data"
    },
    {
     "name": "stdout",
     "output_type": "stream",
     "text": [
      "Your FormulaSmart Assistnat is listening...\n"
     ]
    },
    {
     "data": {
      "text/html": [
       "<span style = 'color: red;'>Please input a valid year"
      ],
      "text/plain": [
       "<IPython.core.display.HTML object>"
      ]
     },
     "metadata": {},
     "output_type": "display_data"
    },
    {
     "name": "stdout",
     "output_type": "stream",
     "text": [
      "Your FormulaSmart Assistnat is listening...\n"
     ]
    },
    {
     "data": {
      "text/html": [
       "<span style = 'color: red;'>Please input a valid year"
      ],
      "text/plain": [
       "<IPython.core.display.HTML object>"
      ]
     },
     "metadata": {},
     "output_type": "display_data"
    },
    {
     "name": "stdout",
     "output_type": "stream",
     "text": [
      "Your FormulaSmart Assistnat is listening...\n"
     ]
    },
    {
     "data": {
      "text/html": [
       "<span style = 'color: lightblue;'>Here are the locations kimi finished first in year 2017!"
      ],
      "text/plain": [
       "<IPython.core.display.HTML object>"
      ]
     },
     "metadata": {},
     "output_type": "display_data"
    },
    {
     "data": {
      "text/html": [
       "<span style = 'color: darkblue;'>Here are the locations kimi finished second in year 2017!"
      ],
      "text/plain": [
       "<IPython.core.display.HTML object>"
      ]
     },
     "metadata": {},
     "output_type": "display_data"
    },
    {
     "data": {
      "text/html": [
       "<span style = 'color: darkblue;'>Monte Carlo"
      ],
      "text/plain": [
       "<IPython.core.display.HTML object>"
      ]
     },
     "metadata": {},
     "output_type": "display_data"
    },
    {
     "data": {
      "text/html": [
       "<span style = 'color: darkblue;'>Hungaroring"
      ],
      "text/plain": [
       "<IPython.core.display.HTML object>"
      ]
     },
     "metadata": {},
     "output_type": "display_data"
    },
    {
     "data": {
      "text/html": [
       "<span style = 'color: CadetBlue;'>Last but not least, here are the locations kimi finished third in year 2017!"
      ],
      "text/plain": [
       "<IPython.core.display.HTML object>"
      ]
     },
     "metadata": {},
     "output_type": "display_data"
    },
    {
     "data": {
      "text/html": [
       "<span style = 'color: CadetBlue;'>Sochi"
      ],
      "text/plain": [
       "<IPython.core.display.HTML object>"
      ]
     },
     "metadata": {},
     "output_type": "display_data"
    },
    {
     "data": {
      "text/html": [
       "<span style = 'color: CadetBlue;'>Silverstone"
      ],
      "text/plain": [
       "<IPython.core.display.HTML object>"
      ]
     },
     "metadata": {},
     "output_type": "display_data"
    },
    {
     "data": {
      "text/html": [
       "<span style = 'color: CadetBlue;'>Austin"
      ],
      "text/plain": [
       "<IPython.core.display.HTML object>"
      ]
     },
     "metadata": {},
     "output_type": "display_data"
    },
    {
     "data": {
      "text/html": [
       "<span style = 'color: CadetBlue;'>Mexico City"
      ],
      "text/plain": [
       "<IPython.core.display.HTML object>"
      ]
     },
     "metadata": {},
     "output_type": "display_data"
    },
    {
     "data": {
      "text/html": [
       "<span style = 'color: CadetBlue;'>Interlagos"
      ],
      "text/plain": [
       "<IPython.core.display.HTML object>"
      ]
     },
     "metadata": {},
     "output_type": "display_data"
    },
    {
     "name": "stdout",
     "output_type": "stream",
     "text": [
      "here are the exact location of the circuit that kimi got first, second, and third place.\n",
      "light blue is first place, blue is second place, dark blue is third place.\n"
     ]
    },
    {
     "data": {
      "text/html": [
       "<div style=\"width:100%;\"><div style=\"position:relative;width:100%;height:0;padding-bottom:60%;\"><iframe src=\"data:text/html;charset=utf-8;base64,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\" style=\"position:absolute;width:100%;height:100%;left:0;top:0;border:none !important;\" allowfullscreen webkitallowfullscreen mozallowfullscreen></iframe></div></div>"
      ],
      "text/plain": [
       "<folium.folium.Map at 0x1175b1ac8>"
      ]
     },
     "execution_count": 59,
     "metadata": {},
     "output_type": "execute_result"
    }
   ],
   "source": [
    "#from geopy.exc import GeocoderTimedOut\n",
    "#actual code\n",
    "#f1Data['Date'] = f1Data[1].apply(dateutil.parser.parse, dayfirst=False)\n",
    "color_html('lightblue',\"Hi I am FormulaSmart! Your personal sport assistant. I can answer your inquiries about Formula 1! \")\n",
    "talk(\"Hi I am FormulaSmart! Your personal sport assistant. I can answer your inquiries about Formula 1!\")\n",
    "try:\n",
    "    #def youtube_search (speak_function) fail:\n",
    "\n",
    "    color_html('lightblue',\"let's start off by searching some Formula 1 related youtube videos! What would you like to search about?e.g. f1 2018 australia highlights\")\n",
    "    talk(\"let's start off by searching some Formula 1 related youtube videos! What would you like to search about?   \")\n",
    "    color_html('Aquamarine',\"Your FormulaSmart Assistant is listening...\")\n",
    "    youtube_response = \"https://www.youtube.com/results?search_query=\"+speak().replace(\" \",\",\")\n",
    "    #YT_response_wif_pic = \"http://img.youtube.com/vi/<\"+youtube_response+\">/maxresdefault.jpg\"\n",
    "    #url = 'http://www.python.org/'\n",
    "\n",
    "    # Open URL in a new tab, if a browser window is already open.\n",
    "    webbrowser.open_new_tab(youtube_response)\n",
    "\n",
    "#youtube_search(speak())\n",
    "    \n",
    "except:\n",
    "    talk(talk_bad())\n",
    "try:\n",
    "    start_program = input(\"press enter to continue \")\n",
    "    color_html('lightblue',\"Do you want to know a fun fact about formula 1?\")\n",
    "    talk(\"Do you want to knowa fun fact about formula 1?\")\n",
    "    color_html('Aquamarine',\"Your FormulaSmart Assistant is listening...\")\n",
    "    team_response = speak()\n",
    "    if team_response == 'yeah' or team_response == 'yes' or team_response == 'mmhumm' or team_response == 'yup':\n",
    "        \n",
    "        team_graph()\n",
    "    if team_response == 'nah' or team_response ==  'no' or team_response == 'nope': \n",
    "        color_html(\"lightblue\",\"it's okay let's move on to something else\")\n",
    "        talk(\"it's okay let's move on to something else\")\n",
    "except:\n",
    "    color_html('red',talk_bad())\n",
    "    talk(talk_bad())\n",
    "\n",
    "color_html(\"lightblue\",\"Do you know what is formula 1? please answer yes or no \")\n",
    "talk(\"Do you know what is formula 1? please answer yes or no \")\n",
    "while True:\n",
    "    try:\n",
    "        color_html('Aquamarine',\"Your FormulaSmart Assistant is listening...\")\n",
    "        response = speak().lower()\n",
    "        if response == 'yes' or response == 'no' :\n",
    "            break\n",
    "        \n",
    "    except:\n",
    "        color_html('red',talk_bad())\n",
    "        talk(talk_bad())\n",
    "\n",
    "try:\n",
    "    if response == 'yes':\n",
    "        color_html(\"blue\",\"here are the most successful drivers in the past 5 years: Lewis, Nico Rosberg, Vettel,Alonso, and Kimi  \")\n",
    "\n",
    "        text = \"Lets get to know the best drivers in formula 1 recent history! Please say the driver name you want to know more about. you can choose lewis, rosberg, vettel,alonso, and kimi \"\n",
    "        talk(text)\n",
    "        while True:\n",
    "            try:\n",
    "                color_html('Aquamarine',\"Your FormulaSmart Assistant is listening...\")\n",
    "                driver = speak().lower()\n",
    "                #talk(\"You chose %s\"%(driver))\n",
    "                if driver == 'lewis'or driver == 'rosberg'or driver == 'vettel'or driver == 'alonso'or driver == 'kimi'or driver == 'roseburg' or driver == 'timmy' or driver == 'battle':\n",
    "                    if driver == 'battle':\n",
    "                        driver = 'vettel'\n",
    "                    if driver == 'roseburg':\n",
    "                        driver = 'rosberg'\n",
    "                    if driver == 'timmy':\n",
    "                        driver = 'kimi'\n",
    "                    if driver == 'alonzo':\n",
    "                        driver = 'alonso'\n",
    "                    color_html(\"lightblue\",\"Here's is a summary of %s\"%(driver))\n",
    "                    talk(\"Here's is a summary of %s\"%(driver))\n",
    "                    break\n",
    "                else:\n",
    "                    color_html('red',talk_bad())\n",
    "                    talk(talk_bad())\n",
    "            except:\n",
    "                color_html('red',talk_bad())\n",
    "                talk(talk_bad())\n",
    "    if response =='no':\n",
    "        color_html(\"blue\",\"I will tell you more about formula 1\")\n",
    "        talk(\"I will tell you more about formula 1\")\n",
    "        wiki_stuff = wikipedia.summary(\"Formula 1\")\n",
    "        color_html(\"cadetblue\",\"%s\"%(wiki_stuff))\n",
    "        talk(\"Here is a summary of Formula 1, please enjoy\")\n",
    "        color_html(\"blue\",\"here are the most successful drivers in the past 5 years: Lewis, Nico Rosberg, Vettel,Alonso, and Kimi  \")\n",
    "        \n",
    "        color_html('lightblue',\"Which driver do you want to know more about? Please say in his name. you can choose lewis,rosberg, vettel,alonso, and kimi \")\n",
    "        text = \"Which driver do you want to know more about? Please type in his name. you can choose lewis,rosberg, vettel,alonso, and kimi \"\n",
    "        talk(text)\n",
    "        \n",
    "        while True:\n",
    "            try:\n",
    "                color_html('Aquamarine',\"Your FormulaSmart Assistant is listening...\")\n",
    "                driver = speak().lower()\n",
    "                #talk(\"You chose %s\"%(driver))\n",
    "                if driver == 'lewis'or driver == 'rosberg'or driver == 'vettel'or driver == 'alonso'or driver == 'kimi':\n",
    "                    color_html('lightblue',\"Here's is a summary of %s\"%(driver))\n",
    "                    talk(\"Here's is a summary of %s\"%(driver))\n",
    "                else:\n",
    "                    color_html('red',talk_bad())\n",
    "                    talk(talk_bad())\n",
    "                break\n",
    "            except:\n",
    "                color_html('red',talk_bad())\n",
    "                talk(talk_bad())\n",
    "except KeyError:\n",
    "    color_html(\"red\",\"Are you sure this is one of the suggested drivers? Please input the suggested drivern name again.\")\n",
    "\n",
    "#def web\n",
    "\n",
    "try:\n",
    "    driver_web = web_request (driver)\n",
    "    datalist = pd.read_html(driver_web) \n",
    "    f1Data = pd.DataFrame() \n",
    "    #append to list and drop fastest lap and one another column\n",
    "    f1Data = f1Data.append(datalist[0]).drop([0,3,6, 8,9], axis=1).dropna()\n",
    "    #print(driver_web)\n",
    "    \n",
    "    #filter year funciton\n",
    "    #how can i shrink these lines? groupby? \n",
    "    f1Data2007 = f1Data[f1Data[1].str[:4]=='2007'] \n",
    "    f1Data2008 = f1Data[f1Data[1].str[:4]=='2008'] \n",
    "    f1Data2009 = f1Data[f1Data[1].str[:4]=='2009'] \n",
    "    f1Data2010 = f1Data[f1Data[1].str[:4]=='2010']\n",
    "    f1Data2011 = f1Data[f1Data[1].str[:4]=='2011']\n",
    "    f1Data2012 = f1Data[f1Data[1].str[:4]=='2012']\n",
    "    f1Data2013 = f1Data[f1Data[1].str[:4]=='2013']\n",
    "    f1Data2014 = f1Data[f1Data[1].str[:4]=='2014']\n",
    "    f1Data2015 = f1Data[f1Data[1].str[:4]=='2015']\n",
    "    f1Data2016 = f1Data[f1Data[1].str[:4]=='2016']\n",
    "    f1Data2017 = f1Data[f1Data[1].str[:4]=='2017']\n",
    "    \n",
    "    f1Data_list = [f1Data2007,f1Data2008,f1Data2009,f1Data2010,\n",
    "                   f1Data2011,f1Data2012,f1Data2013,f1Data2014,f1Data2015,f1Data2016,f1Data2017]\n",
    "    #while true \n",
    "    \n",
    "    total2007 = 0\n",
    "    total2008 = 0\n",
    "    total2009 = 0\n",
    "    total2010 = 0\n",
    "    for items in f1Data2007[7]:\n",
    "        total2007 = total2007 + float(items)\n",
    "    for items in f1Data2008[7]:\n",
    "        total2008 = total2008 + float(items)\n",
    "    for items in f1Data2010[7]:\n",
    "        total2009 = total2009 + float(items)\n",
    "    for items in f1Data2010[7]:\n",
    "        total2010 = total2010 + float(items)\n",
    "    total2011 = 0\n",
    "    for items in f1Data2011[7]:\n",
    "        total2011 = total2011 + float(items)\n",
    "    total2012 = 0\n",
    "    for items in f1Data2012[7]:\n",
    "        total2012 = total2012 + float(items)\n",
    "    total2013 =0\n",
    "    for items in f1Data2013[7]:\n",
    "        total2013 = total2013 + float(items)\n",
    "    total2014 = 0\n",
    "    for items in f1Data2014[7]:\n",
    "        total2014 = total2014 + float(items)\n",
    "    total2015 = 0\n",
    "    for items in f1Data2015[7]:\n",
    "        total2015 = total2015 + float(items)\n",
    "    total2016 = 0\n",
    "    for items in f1Data2016[7]:\n",
    "        total2016 = total2016 + float(items)\n",
    "    total2017 = 0\n",
    "    for items in f1Data2017[7]:\n",
    "        total2017 = total2017 + float(items)\n",
    "    total_points_calulator ()\n",
    "    #sum up the points for each year\n",
    "    #plot team graph\n",
    "    \n",
    "    \n",
    "    \n",
    "    #plot driver team graph\n",
    "   \n",
    "    #plot driver score graph\n",
    "    plot_graph(driver)\n",
    "    talk(\"Here are the  points %s scored each year from year 2007 to 2017. \"%(driver))\n",
    "    color_html('blue',\"Here are the  points %s scored each year from year 2007 to 2017. \"%(driver))\n",
    "\n",
    "    \n",
    "except KeyError:\n",
    "    color_html('red',\"Your driver is either:1)not in the list 2)has their name typed wrong. Please try again :)\")\n",
    "    talk(\"Your driver is either:1)not in the list 2)has their name typed wrong. Please try again\")\n",
    "#not sure why prints twice\n",
    "#f1DataMap = f1Data.append(datalist[0]).drop([0,3,6, 8,9,4,7], axis=1).dropna()\n",
    "#f1DataMap = f1DataMap[f1DataMap[1].str[:4]=='2017']\n",
    "#f1DataMap = f1DataMap[f1DataMap[5] == '2'] #or f1DataMap[f1DataMap[5] == '2']\n",
    "#f1DataMap = f1DataMap[f1DataMap[5] == '2']\n",
    "#f1DataMap\n",
    "#gradient plotting?\n",
    "\n",
    "\n",
    "talk(\"Which year do you think %s is the best in? Please choose from range 2007 to 2017: \" %(driver))\n",
    "color_html('blue',\"Which year do you think %s is the best in? Please choose from range 2007 to 2017: \" %(driver))\n",
    "color_html(\"blue\",\"Enter the year you think %s is the best in: \" %(driver))\n",
    "while True:\n",
    "    try: \n",
    "        color_html('Aquamarine',\"Your FormulaSmart Assistant is listening...\")\n",
    "        podium_year = int(speak())\n",
    "        #while podium_year < 2007 and podium_year > 2017:\n",
    "        if podium_year > 2007 and podium_year < 2018:\n",
    "            break\n",
    "        else:    \n",
    "            color_html(\"red\",'Please input a valid year')\n",
    "    except:\n",
    "        color_html(\"red\",'Please input a valid year')\n",
    "    \n",
    "    \n",
    "\n",
    "f1DataMap = f1Data[f1Data[1].str[:4]==str(podium_year)]\n",
    "f1DataMap_first = f1DataMap[f1DataMap[5]=='1']\n",
    "f1DataMap_second = f1DataMap[f1DataMap[5]=='2']\n",
    "f1DataMap_third = f1DataMap[f1DataMap[5]=='3']\n",
    "\n",
    "#talk(\"Here is a map of %s's first, second, and third place\"%(driver))\n",
    "#def find_city (driver)\n",
    "city_first = []#cities that the driver came first\n",
    "color_html(\"lightblue\",\"Here are the locations %s finished first in year %s!\"%(driver,podium_year))\n",
    "talk(\"Here are the locations %s finished first in year %s!\"%(driver,podium_year))\n",
    "for city in f1DataMap_first[2]:\n",
    "    city_first.append(city)\n",
    "    color_html(\"lightblue\",city)\n",
    "\n",
    "\n",
    "\n",
    "    \n",
    "city_second = [] #cities the driver came second\n",
    "color_html(\"darkblue\",\"Here are the locations %s finished second in year %s!\"%(driver,podium_year))\n",
    "talk(\"Here are the locations %s finished second in year %s!\"%(driver,podium_year))\n",
    "for city in f1DataMap_second[2]:\n",
    "    city_second.append(city)\n",
    "    color_html(\"darkblue\",city)\n",
    "\n",
    "\n",
    "city_third = [] #city driver came third\n",
    "color_html(\"CadetBlue\",\"Last but not least, here are the locations %s finished third in year %s!\"%(driver, podium_year))\n",
    "talk(\" Last but not least, here are the locations %s finished third! in year %s!\"%(driver,podium_year))\n",
    "for city in f1DataMap_third[2]:\n",
    "    city_third.append(city)\n",
    "    color_html(\"CadetBlue\",city)\n",
    "\n",
    "#return city_list\n",
    "\n",
    "if city_first == []:\n",
    "    talk(\"i'm so sorry your selected driver has no wins this year\")\n",
    "if city_second == []:\n",
    "    talk(\"i'm so sorry your selected driver has no second place this year\")\n",
    "\n",
    "if city_third == []:\n",
    "    talk(\"i'm so sorry your selected driver has no third place this year\")\n",
    "\n",
    "\n",
    "\n",
    "    \n",
    "##more on maps\n",
    "#f1DataMap = f1DataMap[f1DataMap[5]=='3']  \n",
    "#f1DataMap\n",
    "import warnings\n",
    "warnings.filterwarnings('ignore')\n",
    "colors = ['blue', 'darkblue',  'cadetblue',\n",
    "             'lightblue', ]\n",
    "colors = ['blue', 'darkblue',  'cadetblue',\n",
    "             'lightblue', ]\n",
    "\n",
    "print(\"here are the exact location of the circuit that %s got first, second, and third place.\"%(driver))\n",
    "talk(\"here are the exact location of the circuit that %s got first, second, and third place.\"%(driver))\n",
    "\n",
    "print(\"light blue is first place, blue is second place, dark blue is third place.\")\n",
    "talk(\"light blue is first place, blue is second place, dark blue is third place.\")\n",
    "color_html(\"brown\",'please wait patiently while we generate a map for you')\n",
    "talk(\"please wait patiently while we generate a map for you\")\n",
    "\n",
    "map = folium.Map(zoom_start=3)\n",
    "for city in city_first:\n",
    "    location = geolocator.geocode(city)\n",
    "    location_coord = location.latitude, location.longitude\n",
    "    marker = folium.Marker(location=location_coord, \n",
    "                    popup=\"%s\" % (location.address),\n",
    "                    icon = folium.Icon(color = colors[3], icon='user')\n",
    "\n",
    "                      )\n",
    "    #map = (zoom_start=4)\n",
    "    map.add_child(marker)\n",
    "map\n",
    "\n",
    "#talk(\"here are the exact location of the circuit that your driver got second place \")\n",
    "for city in city_second:\n",
    "    location = geolocator.geocode(city)\n",
    "    location_coord = location.latitude, location.longitude\n",
    "    marker = folium.Marker(location=location_coord, \n",
    "                    popup=\"%s\" % (location.address),\n",
    "                    icon = folium.Icon(color = colors[1], icon='user')\n",
    "                      )\n",
    "    map.add_child(marker)\n",
    "\n",
    "map\n",
    "\n",
    "\n",
    "\n",
    "\n",
    "#talk(\"here are the exact location of the circuit that your driver got third place \")\n",
    "for city in city_third:\n",
    "    location = geolocator.geocode(city)\n",
    "    location_coord = location.latitude, location.longitude\n",
    "    marker = folium.Marker(location=location_coord, \n",
    "                    popup=\"%s\" % (location.address),\n",
    "                    icon = folium.Icon(color = colors[2], icon='user')\n",
    "                      )\n",
    "    map.add_child(marker)\n",
    "map"
   ]
  },
  {
   "cell_type": "code",
   "execution_count": 65,
   "metadata": {},
   "outputs": [
    {
     "name": "stdout",
     "output_type": "stream",
     "text": [
      "Your FormulaSmart Assistnat is listening...\n"
     ]
    },
    {
     "data": {
      "text/html": [
       "<span style = 'color: lightblue;'>Here's is a summary of vettel"
      ],
      "text/plain": [
       "<IPython.core.display.HTML object>"
      ]
     },
     "metadata": {},
     "output_type": "display_data"
    }
   ],
   "source": [
    "print(\"Your FormulaSmart Assistnat is listening...\")\n",
    "driver = speak().lower()\n",
    "#talk(\"You chose %s\"%(driver))\n",
    "if driver == 'lewis'or driver == 'rosberg'or driver == 'vettel'or driver == 'alonso'or driver == 'kimi' or  driver =='alonzo' or driver == 'roseburg' or driver == 'timmy' or driver == 'battle':\n",
    "    if driver == 'battle':\n",
    "        driver = 'vettel'\n",
    "    if driver == 'roseburg':\n",
    "        driver = 'rosberg'\n",
    "    if driver == 'timmy':\n",
    "        driver = 'kimi'\n",
    "    if driver == 'alonzo':\n",
    "        driver = 'alonso'\n",
    "    color_html(\"lightblue\",\"Here's is a summary of %s\"%(driver))\n",
    "    talk(\"Here's is a summary of %s\"%(driver))"
   ]
  },
  {
   "cell_type": "code",
   "execution_count": null,
   "metadata": {},
   "outputs": [],
   "source": [
    "#shutdown code\n",
    "map_response = 'no'\n",
    "if map_response == 'nah' or map_response == 'no' :\n",
    "    color_html(\"light blue\",\"thank you for using FormulaSmart. See you next time!\")\n",
    "    talk(\"thank you for using FormulaSmart. See you next time!\")\n",
    "    color_html('darkblue',\"Shutting down...\")"
   ]
  },
  {
   "cell_type": "code",
   "execution_count": 63,
   "metadata": {},
   "outputs": [
    {
     "name": "stdout",
     "output_type": "stream",
     "text": [
      "alonzo\n"
     ]
    }
   ],
   "source": [
    "print(driver)"
   ]
  },
  {
   "cell_type": "code",
   "execution_count": 47,
   "metadata": {},
   "outputs": [
    {
     "data": {
      "text/html": [
       "<span style = 'color: lightblue;'>Do you want to have a look at the map of where your selected driver won?"
      ],
      "text/plain": [
       "<IPython.core.display.HTML object>"
      ]
     },
     "metadata": {},
     "output_type": "display_data"
    },
    {
     "name": "stdout",
     "output_type": "stream",
     "text": [
      "Your FormulaSmart Assistnat is listening...\n"
     ]
    },
    {
     "ename": "UnknownValueError",
     "evalue": "",
     "output_type": "error",
     "traceback": [
      "\u001b[0;31m---------------------------------------------------------------------------\u001b[0m",
      "\u001b[0;31mUnknownValueError\u001b[0m                         Traceback (most recent call last)",
      "\u001b[0;32m<ipython-input-47-7538a07f7246>\u001b[0m in \u001b[0;36m<module>\u001b[0;34m()\u001b[0m\n\u001b[1;32m      7\u001b[0m \u001b[0;34m\u001b[0m\u001b[0m\n\u001b[1;32m      8\u001b[0m \u001b[0mprint\u001b[0m\u001b[0;34m(\u001b[0m\u001b[0;34m\"Your FormulaSmart Assistnat is listening...\"\u001b[0m\u001b[0;34m)\u001b[0m\u001b[0;34m\u001b[0m\u001b[0m\n\u001b[0;32m----> 9\u001b[0;31m \u001b[0mmap_response\u001b[0m \u001b[0;34m=\u001b[0m \u001b[0mspeak\u001b[0m\u001b[0;34m(\u001b[0m\u001b[0;34m)\u001b[0m\u001b[0;34m\u001b[0m\u001b[0m\n\u001b[0m\u001b[1;32m     10\u001b[0m \u001b[0;32mif\u001b[0m \u001b[0mmap_response\u001b[0m \u001b[0;34m==\u001b[0m \u001b[0;34m'nah'\u001b[0m \u001b[0;32mor\u001b[0m \u001b[0mmap_response\u001b[0m \u001b[0;34m==\u001b[0m \u001b[0;34m'no'\u001b[0m \u001b[0;34m:\u001b[0m\u001b[0;34m\u001b[0m\u001b[0m\n\u001b[1;32m     11\u001b[0m     \u001b[0mcolor_html\u001b[0m\u001b[0;34m(\u001b[0m\u001b[0;34m\"light blue\"\u001b[0m\u001b[0;34m,\u001b[0m\u001b[0;34m\"thank you for using FormulaSmart. See you next time!\"\u001b[0m\u001b[0;34m)\u001b[0m\u001b[0;34m\u001b[0m\u001b[0m\n",
      "\u001b[0;32m<ipython-input-17-cc824235e362>\u001b[0m in \u001b[0;36mspeak\u001b[0;34m()\u001b[0m\n\u001b[1;32m    142\u001b[0m \u001b[0;31m#speak function\u001b[0m\u001b[0;34m\u001b[0m\u001b[0;34m\u001b[0m\u001b[0m\n\u001b[1;32m    143\u001b[0m \u001b[0;32mdef\u001b[0m \u001b[0mspeak\u001b[0m \u001b[0;34m(\u001b[0m\u001b[0;34m)\u001b[0m\u001b[0;34m:\u001b[0m\u001b[0;34m\u001b[0m\u001b[0m\n\u001b[0;32m--> 144\u001b[0;31m     \u001b[0mresponse\u001b[0m \u001b[0;34m=\u001b[0m \u001b[0mr\u001b[0m\u001b[0;34m.\u001b[0m\u001b[0mrecognize_google\u001b[0m\u001b[0;34m(\u001b[0m\u001b[0maudioFile\u001b[0m\u001b[0;34m(\u001b[0m\u001b[0;34m)\u001b[0m\u001b[0;34m)\u001b[0m\u001b[0;34m\u001b[0m\u001b[0m\n\u001b[0m\u001b[1;32m    145\u001b[0m     \u001b[0;32mreturn\u001b[0m \u001b[0mresponse\u001b[0m\u001b[0;34m\u001b[0m\u001b[0m\n\u001b[1;32m    146\u001b[0m \u001b[0;31m#response = speak()\u001b[0m\u001b[0;34m\u001b[0m\u001b[0;34m\u001b[0m\u001b[0m\n",
      "\u001b[0;32m~/miniconda3/lib/python3.6/site-packages/speech_recognition/__init__.py\u001b[0m in \u001b[0;36mrecognize_google\u001b[0;34m(self, audio_data, key, language, show_all)\u001b[0m\n\u001b[1;32m    856\u001b[0m         \u001b[0;31m# return results\u001b[0m\u001b[0;34m\u001b[0m\u001b[0;34m\u001b[0m\u001b[0m\n\u001b[1;32m    857\u001b[0m         \u001b[0;32mif\u001b[0m \u001b[0mshow_all\u001b[0m\u001b[0;34m:\u001b[0m \u001b[0;32mreturn\u001b[0m \u001b[0mactual_result\u001b[0m\u001b[0;34m\u001b[0m\u001b[0m\n\u001b[0;32m--> 858\u001b[0;31m         \u001b[0;32mif\u001b[0m \u001b[0;32mnot\u001b[0m \u001b[0misinstance\u001b[0m\u001b[0;34m(\u001b[0m\u001b[0mactual_result\u001b[0m\u001b[0;34m,\u001b[0m \u001b[0mdict\u001b[0m\u001b[0;34m)\u001b[0m \u001b[0;32mor\u001b[0m \u001b[0mlen\u001b[0m\u001b[0;34m(\u001b[0m\u001b[0mactual_result\u001b[0m\u001b[0;34m.\u001b[0m\u001b[0mget\u001b[0m\u001b[0;34m(\u001b[0m\u001b[0;34m\"alternative\"\u001b[0m\u001b[0;34m,\u001b[0m \u001b[0;34m[\u001b[0m\u001b[0;34m]\u001b[0m\u001b[0;34m)\u001b[0m\u001b[0;34m)\u001b[0m \u001b[0;34m==\u001b[0m \u001b[0;36m0\u001b[0m\u001b[0;34m:\u001b[0m \u001b[0;32mraise\u001b[0m \u001b[0mUnknownValueError\u001b[0m\u001b[0;34m(\u001b[0m\u001b[0;34m)\u001b[0m\u001b[0;34m\u001b[0m\u001b[0m\n\u001b[0m\u001b[1;32m    859\u001b[0m \u001b[0;34m\u001b[0m\u001b[0m\n\u001b[1;32m    860\u001b[0m         \u001b[0;32mif\u001b[0m \u001b[0;34m\"confidence\"\u001b[0m \u001b[0;32min\u001b[0m \u001b[0mactual_result\u001b[0m\u001b[0;34m[\u001b[0m\u001b[0;34m\"alternative\"\u001b[0m\u001b[0;34m]\u001b[0m\u001b[0;34m:\u001b[0m\u001b[0;34m\u001b[0m\u001b[0m\n",
      "\u001b[0;31mUnknownValueError\u001b[0m: "
     ]
    }
   ],
   "source": [
    "#map test 2\n",
    "\n",
    "colors = ['blue', 'darkblue',  'cadetblue',\n",
    "             'lightblue', ]\n",
    "\n",
    "print(\"here are the exact location of the circuit that your driver got first, second, and third place.\")\n",
    "talk(\"here are the exact location of the circuit that your driver got first, second, and third place.\")\n",
    "\n",
    "print(\"light blue is first place, blue is second place, dark blue is third place.\")\n",
    "talk(\"light blue is first place, blue is second place, dark blue is third place.\")\n",
    "\n",
    "map = folium.Map(zoom_start=3)\n",
    "for city in city_first:\n",
    "    location = geolocator.geocode(city)\n",
    "    location_coord = location.latitude, location.longitude\n",
    "    marker = folium.Marker(location=location_coord, \n",
    "                    popup=\"%s\" % (location.address),\n",
    "                    icon = folium.Icon(color = colors[3], icon='user')\n",
    "\n",
    "                      )\n",
    "    #map = (zoom_start=4)\n",
    "    map.add_child(marker)\n",
    "map\n",
    "\n",
    "#talk(\"here are the exact location of the circuit that your driver got second place \")\n",
    "for city in city_second:\n",
    "    location = geolocator.geocode(city)\n",
    "    location_coord = location.latitude, location.longitude\n",
    "    marker = folium.Marker(location=location_coord, \n",
    "                    popup=\"%s\" % (location.address),\n",
    "                    icon = folium.Icon(color = colors[1], icon='user')\n",
    "                      )\n",
    "    map.add_child(marker)\n",
    "\n",
    "map\n",
    "\n",
    "\n",
    "\n",
    "\n",
    "#talk(\"here are the exact location of the circuit that your driver got third place \")\n",
    "for city in city_third:\n",
    "    location = geolocator.geocode(city)\n",
    "    location_coord = location.latitude, location.longitude\n",
    "    marker = folium.Marker(location=location_coord, \n",
    "                    popup=\"%s\" % (location.address),\n",
    "                    icon = folium.Icon(color = colors[2], icon='user')\n",
    "                      )\n",
    "    map.add_child(marker)\n",
    "map"
   ]
  },
  {
   "cell_type": "code",
   "execution_count": 49,
   "metadata": {},
   "outputs": [
    {
     "data": {
      "text/html": [
       "<span style = 'color: light blue;'>thank you for using FormulaSmart. See you next time!"
      ],
      "text/plain": [
       "<IPython.core.display.HTML object>"
      ]
     },
     "metadata": {},
     "output_type": "display_data"
    },
    {
     "name": "stdout",
     "output_type": "stream",
     "text": [
      "Shutting down...\n"
     ]
    }
   ],
   "source": [
    "map_response = 'no'\n",
    "if map_response == 'nah' or map_response == 'no' :\n",
    "    color_html(\"light blue\",\"thank you for using FormulaSmart. See you next time!\")\n",
    "    talk(\"thank you for using FormulaSmart. See you next time!\")\n",
    "    color_html('darkblue',\"Shutting down...\")"
   ]
  },
  {
   "cell_type": "code",
   "execution_count": 43,
   "metadata": {},
   "outputs": [
    {
     "data": {
      "text/html": [
       "<div style=\"width:100%;\"><div style=\"position:relative;width:100%;height:0;padding-bottom:60%;\"><iframe src=\"data:text/html;charset=utf-8;base64,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\" style=\"position:absolute;width:100%;height:100%;left:0;top:0;border:none !important;\" allowfullscreen webkitallowfullscreen mozallowfullscreen></iframe></div></div>"
      ],
      "text/plain": [
       "<folium.folium.Map at 0x123850ba8>"
      ]
     },
     "execution_count": 43,
     "metadata": {},
     "output_type": "execute_result"
    }
   ],
   "source": [
    "talk(\"here are the exact location of the circuit that your driver got first, second, and third place.\")\n",
    "talk(\"light blue is first place, blue is second place, dark blue is third place.\")\n",
    "map = folium.Map(zoom_start=3)\n",
    "for city in city_first:\n",
    "    location = geolocator.geocode(city)\n",
    "    location_coord = location.latitude, location.longitude\n",
    "    marker = folium.Marker(location=location_coord, \n",
    "                    popup=\"%s\" % (location.address),\n",
    "                    icon = folium.Icon(color = colors[3], icon='user')\n",
    "\n",
    "                      )\n",
    "    #map = (zoom_start=4)\n",
    "    map.add_child(marker)\n",
    "map\n",
    "\n",
    "#talk(\"here are the exact location of the circuit that your driver got second place \")\n",
    "for city in city_second:\n",
    "    location = geolocator.geocode(city)\n",
    "    location_coord = location.latitude, location.longitude\n",
    "    marker = folium.Marker(location=location_coord, \n",
    "                    popup=\"%s\" % (location.address),\n",
    "                    icon = folium.Icon(color = colors[1], icon='user')\n",
    "                      )\n",
    "    map.add_child(marker)\n",
    "\n",
    "map\n",
    "\n",
    "\n",
    "\n",
    "\n",
    "#talk(\"here are the exact location of the circuit that your driver got third place \")\n",
    "for city in city_third:\n",
    "    location = geolocator.geocode(city)\n",
    "    location_coord = location.latitude, location.longitude\n",
    "    marker = folium.Marker(location=location_coord, \n",
    "                    popup=\"%s\" % (location.address),\n",
    "                    icon = folium.Icon(color = colors[2], icon='user')\n",
    "                      )\n",
    "    map.add_child(marker)\n",
    "map"
   ]
  },
  {
   "cell_type": "code",
   "execution_count": 8,
   "metadata": {},
   "outputs": [],
   "source": [
    "#how to change color of individual bar\n",
    "\n",
    "def team_graph():\n",
    "    #print(\"Guess which team %s is the selected driver is in\")\n",
    "    print(\"Despite Ferrari has the most wins, they haven't win a championship in more than 10 years!\")\n",
    "    talk(\"Despite Ferrari has the most wins, they haven't win a championship in more than 10 years!\")\n",
    "    objects = ('Ferrari', 'McLaren', 'Mercedes', 'Williams', 'Lotus', 'Red Bull')\n",
    "    y_pos = np.arange(len(objects))\n",
    "    performance = [96,73,52,46,38,30]\n",
    "\n",
    "    plt.bar(y_pos, performance, align='center', alpha=0.5)\n",
    "    plt.xticks(y_pos, objects)\n",
    "    plt.ylabel('Number of Wins')\n",
    "    plt.title('Number of Cumalative Victories For each Team from 1950 to 2018')\n",
    "     #ax.legend()\n",
    "    return plt.show()"
   ]
  },
  {
   "cell_type": "code",
   "execution_count": 10,
   "metadata": {},
   "outputs": [
    {
     "name": "stdout",
     "output_type": "stream",
     "text": [
      "Despite Ferrari has the most wins, they haven't win a championship in more than 10 years!\n"
     ]
    },
    {
     "data": {
      "image/png": "[encoded data removed]",
      "text/plain": [
       "<Figure size 640x480 with 1 Axes>"
      ]
     },
     "metadata": {},
     "output_type": "display_data"
    }
   ],
   "source": [
    "team_graph()"
   ]
  },
  {
   "cell_type": "code",
   "execution_count": 99,
   "metadata": {},
   "outputs": [
    {
     "name": "stdout",
     "output_type": "stream",
     "text": [
      "http://www.youtube.com/watch?v=FLs54_T3yko\n"
     ]
    }
   ],
   "source": [
    "#youtube search\n",
    "\n",
    "import urllib.request\n",
    "import urllib.parse\n",
    "import re\n",
    "\n",
    "query_string = urllib.parse.urlencode({\"search_query\" : 'lewis'})\n",
    "html_content = urllib.request.urlopen(\"http://www.youtube.com/results?\" + query_string)\n",
    "search_results = re.findall(r'href=\\\"\\/watch\\?v=(.{11})', html_content.read().decode())\n",
    "print(\"http://www.youtube.com/watch?v=\" + search_results[0])"
   ]
  },
  {
   "cell_type": "code",
   "execution_count": null,
   "metadata": {},
   "outputs": [],
   "source": [
    "#print team drvier beta\n",
    "\n",
    "print(\"Do you want to know more about your driver? Please answer yes or no\")\n",
    "    talk(\"Do you want to know more about your driver? Please answer yes or no\")\n",
    "    response = speak().lower\n",
    "    if response == 'yes':\n",
    "        if driver == 'lewis':\n",
    "            print(\"%s has raced for team McLaren and Mercedes\"%(driver))\n",
    "            talk(\"%s has raced for team McLaren and Mercedes\"%(driver))\n",
    "        if driver == 'nico':\n",
    "            print(\"%s has raced for team Williams and Mercedes\"%(driver))\n",
    "            talk(\"%s has raced for team Williams and Mercedes\"%(driver))\n",
    "        if driver =='kimi':\n",
    "            print(\"%s has raced for team McLaren and Ferrari\"%(driver))\n",
    "            talk(\"%s has raced for team McLaren and Ferrari\"%(driver))\n",
    "        if driver == 'vettel':\n",
    "            print(\"%s has raced for team Red Bull and Ferrari\"%(driver))\n",
    "            talk(\"%s has raced for team Red Bull and Ferrari\"%(driver))\n",
    "        if driver == 'alonso':\n",
    "            print(\"%s has raced for team McLaren and Ferrari\"%(driver))\n",
    "            talk(\"%s has raced for team McLaren and Ferrari\"%(driver))"
   ]
  },
  {
   "cell_type": "code",
   "execution_count": 23,
   "metadata": {},
   "outputs": [
    {
     "name": "stdout",
     "output_type": "stream",
     "text": [
      " AWF\n"
     ]
    },
    {
     "data": {
      "text/html": [
       "<span style = 'color: red;'>Please input a valid year"
      ],
      "text/plain": [
       "<IPython.core.display.HTML object>"
      ]
     },
     "metadata": {},
     "output_type": "display_data"
    },
    {
     "name": "stdout",
     "output_type": "stream",
     "text": [
      " 23\n"
     ]
    },
    {
     "data": {
      "text/html": [
       "<span style = 'color: red;'>Please input a valid year"
      ],
      "text/plain": [
       "<IPython.core.display.HTML object>"
      ]
     },
     "metadata": {},
     "output_type": "display_data"
    },
    {
     "name": "stdout",
     "output_type": "stream",
     "text": [
      " W\n"
     ]
    },
    {
     "data": {
      "text/html": [
       "<span style = 'color: red;'>Please input a valid year"
      ],
      "text/plain": [
       "<IPython.core.display.HTML object>"
      ]
     },
     "metadata": {},
     "output_type": "display_data"
    },
    {
     "name": "stdout",
     "output_type": "stream",
     "text": [
      " R\n"
     ]
    },
    {
     "data": {
      "text/html": [
       "<span style = 'color: red;'>Please input a valid year"
      ],
      "text/plain": [
       "<IPython.core.display.HTML object>"
      ]
     },
     "metadata": {},
     "output_type": "display_data"
    },
    {
     "name": "stdout",
     "output_type": "stream",
     "text": [
      " QR\n"
     ]
    },
    {
     "data": {
      "text/html": [
       "<span style = 'color: red;'>Please input a valid year"
      ],
      "text/plain": [
       "<IPython.core.display.HTML object>"
      ]
     },
     "metadata": {},
     "output_type": "display_data"
    },
    {
     "name": "stdout",
     "output_type": "stream",
     "text": [
      " QR\n"
     ]
    },
    {
     "data": {
      "text/html": [
       "<span style = 'color: red;'>Please input a valid year"
      ],
      "text/plain": [
       "<IPython.core.display.HTML object>"
      ]
     },
     "metadata": {},
     "output_type": "display_data"
    },
    {
     "name": "stdout",
     "output_type": "stream",
     "text": [
      " 20156\n"
     ]
    },
    {
     "data": {
      "text/html": [
       "<span style = 'color: red;'>Please input a valid year"
      ],
      "text/plain": [
       "<IPython.core.display.HTML object>"
      ]
     },
     "metadata": {},
     "output_type": "display_data"
    },
    {
     "name": "stdout",
     "output_type": "stream",
     "text": [
      " 2014\n"
     ]
    }
   ],
   "source": [
    "#podium_year = 0\n",
    "\n",
    "while True:\n",
    "    try: \n",
    "        podium_year = int(input(\" \"))\n",
    "        #while podium_year < 2007 and podium_year > 2017:\n",
    "        if podium_year > 2007 and podium_year < 2018:\n",
    "            break\n",
    "        else:    \n",
    "            color_html(\"red\",'Please input a valid year')\n",
    "    except:\n",
    "        color_html(\"red\",'Please input a valid year')"
   ]
  },
  {
   "cell_type": "code",
   "execution_count": null,
   "metadata": {},
   "outputs": [],
   "source": [
    "#testing df make scores and total scores and calculations \n",
    "\n",
    "#actual program without function\n",
    "driver_web = web_request (driver)\n",
    "datalist = pd.read_html(driver_web) \n",
    "f1Data = pd.DataFrame() \n",
    "#append to list and drop fastest lap and one another column\n",
    "\n",
    "#print(driver_web)\n",
    "\n",
    "#filter year funciton\n",
    "#how can i shrink these lines? groupby? \n",
    "f1Data2007 = f1Data[f1Data[1].str[:4]=='2007'] \n",
    "f1Data2008 = f1Data[f1Data[1].str[:4]=='2008'] \n",
    "f1Data2009 = f1Data[f1Data[1].str[:4]=='2009'] \n",
    "f1Data2010 = f1Data[f1Data[1].str[:4]=='2010']\n",
    "f1Data2011 = f1Data[f1Data[1].str[:4]=='2011']\n",
    "f1Data2012 = f1Data[f1Data[1].str[:4]=='2012']\n",
    "f1Data2013 = f1Data[f1Data[1].str[:4]=='2013']\n",
    "f1Data2014 = f1Data[f1Data[1].str[:4]=='2014']\n",
    "f1Data2015 = f1Data[f1Data[1].str[:4]=='2015']\n",
    "f1Data2016 = f1Data[f1Data[1].str[:4]=='2016']\n",
    "f1Data2017 = f1Data[f1Data[1].str[:4]=='2017']\n",
    "\n",
    "f1Data_list = [f1Data2007,f1Data2008,f1Data2009,f1Data2010,\n",
    "               f1Data2011,f1Data2012,f1Data2013,f1Data2014,f1Data2015,f1Data2016,f1Data2017]\n",
    "#while true \n",
    "\n",
    "total2007 = 0\n",
    "total2008 = 0\n",
    "total2009 = 0\n",
    "total2010 = 0\n",
    "for items in f1Data2007[7]:\n",
    "    total2007 = total2007 + float(items)\n",
    "for items in f1Data2008[7]:\n",
    "    total2008 = total2008 + float(items)\n",
    "for items in f1Data2010[7]:\n",
    "    total2009 = total2009 + float(items)\n",
    "for items in f1Data2010[7]:\n",
    "    total2010 = total2010 + float(items)\n",
    "total2011 = 0\n",
    "for items in f1Data2011[7]:\n",
    "    total2011 = total2011 + float(items)\n",
    "total2012 = 0\n",
    "for items in f1Data2012[7]:\n",
    "    total2012 = total2012 + float(items)\n",
    "total2013 =0\n",
    "for items in f1Data2013[7]:\n",
    "    total2013 = total2013 + float(items)\n",
    "total2014 = 0\n",
    "for items in f1Data2014[7]:\n",
    "    total2014 = total2014 + float(items)\n",
    "total2015 = 0\n",
    "for items in f1Data2015[7]:\n",
    "    total2015 = total2015 + float(items)\n",
    "total2016 = 0\n",
    "for items in f1Data2016[7]:\n",
    "    total2016 = total2016 + float(items)\n",
    "total2017 = 0\n",
    "for items in f1Data2017[7]:\n",
    "    total2017 = total2017 + float(items)\n",
    "total_points_calulator ()\n",
    "#sum up the points for each year\n",
    "\n",
    "#plot graph"
   ]
  },
  {
   "cell_type": "raw",
   "metadata": {},
   "source": [
    "\n",
    "\n",
    "from IPython.display import display, HTML\n",
    "def color_html (html_color, html_object):\n",
    "    display(HTML(\"<span style = 'color: %s;'>%s\"%(html_color,html_object)))\n",
    "def year (year):\n",
    "    \n",
    "    try: \n",
    "        podium_year = int(year)\n",
    "        while podium_year < 2007 and podium_year > 2017:\n",
    "            color_html(\"red\",'please input a valid year')\n",
    "            if podium_year > 2007 and podium_year < 2017:\n",
    "                break\n",
    "    return podium_year\n",
    "            #else:    \n",
    "                #break\n",
    "    except:\n",
    "        color_html(\"red\",'please input a valid year')\n",
    "    return \n",
    "    \n",
    "\n",
    "print(year(input(\"\")))"
   ]
  },
  {
   "cell_type": "code",
   "execution_count": 17,
   "metadata": {},
   "outputs": [],
   "source": [
    "map = folium.Map(zoom_start=3)\n",
    "for city in city_first:\n",
    "    location = geolocator.geocode(city)\n",
    "    location_coord = location.latitude, location.longitude\n",
    "    marker = folium.Marker(location=location_coord, \n",
    "                    popup=\"%s\" % (location.address),\n",
    "                    icon = folium.Icon(color = colors[3], icon='user')\n",
    "\n",
    "                      )\n",
    "    #map = (zoom_start=4)\n",
    "    map.add_child(marker)\n",
    "map\n",
    "\n",
    "#talk(\"here are the exact location of the circuit that your driver got second place \")\n",
    "for city in city_second:\n",
    "    location = geolocator.geocode(city)\n",
    "    location_coord = location.latitude, location.longitude\n",
    "    marker = folium.Marker(location=location_coord, \n",
    "                    popup=\"%s\" % (location.address),\n",
    "                    icon = folium.Icon(color = colors[1], icon='user')\n",
    "                      )\n",
    "    map.add_child(marker)\n",
    "\n",
    "map\n",
    "\n",
    "    \n",
    "\n",
    "\n",
    "#talk(\"here are the exact location of the circuit that your driver got third place \")\n",
    "for city in city_third:\n",
    "    location = geolocator.geocode(city)\n",
    "    location_coord = location.latitude, location.longitude\n",
    "    marker = folium.Marker(location=location_coord, \n",
    "                    popup=\"%s\" % (location.address),\n",
    "                    icon = folium.Icon(color = colors[2], icon='user')\n",
    "                      )\n",
    "    map.add_child(marker)\n",
    "map\n",
    "\n",
    "    \n",
    "#map test pin\n",
    "import warnings\n",
    "warnings.filterwarnings('ignore')\n",
    "\n",
    "\n",
    "#talk(\"I really enjoyed interacting with you. Hope %s will win championship next year! \" %(driver))\n",
    "#map problem: every time have to restart kernal otherwise the map wont \"forget\" the pins and adds up"
   ]
  },
  {
   "cell_type": "code",
   "execution_count": 19,
   "metadata": {},
   "outputs": [
    {
     "data": {
      "text/html": [
       "<div style=\"width:100%;\"><div style=\"position:relative;width:100%;height:0;padding-bottom:60%;\"><iframe src=\"data:text/html;charset=utf-8;base64,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\" style=\"position:absolute;width:100%;height:100%;left:0;top:0;border:none !important;\" allowfullscreen webkitallowfullscreen mozallowfullscreen></iframe></div></div>"
      ],
      "text/plain": [
       "<folium.folium.Map at 0x111578080>"
      ]
     },
     "execution_count": 19,
     "metadata": {},
     "output_type": "execute_result"
    }
   ],
   "source": [
    "map = folium.Map(zoom_start=5)\n",
    "for city in city_first:\n",
    "    location = geolocator.geocode(city)\n",
    "    location_coord = location.latitude, location.longitude\n",
    "    marker = folium.Marker(location=location_coord, \n",
    "                    popup=\"%s\" % (location.address),\n",
    "                    icon = folium.Icon(color = colors[3], icon='user')\n",
    "\n",
    "                      )\n",
    "    #map = (zoom_start=4)\n",
    "    map.add_child(marker)\n",
    "map\n",
    "for city in city_second:\n",
    "    location = geolocator.geocode(city)\n",
    "    location_coord = location.latitude, location.longitude\n",
    "    marker = folium.Marker(location=location_coord, \n",
    "                    popup=\"%s\" % (location.address),\n",
    "                    icon = folium.Icon(color = colors[1], icon='user')\n",
    "                      )\n",
    "    map.add_child(marker)\n",
    "\n",
    "map\n",
    "for city in city_third:\n",
    "    location = geolocator.geocode(city)\n",
    "    location_coord = location.latitude, location.longitude\n",
    "    marker = folium.Marker(location=location_coord, \n",
    "                    popup=\"%s\" % (location.address),\n",
    "                    icon = folium.Icon(color = colors[2], icon='user')\n",
    "                      )\n",
    "    map.add_child(marker)\n",
    "map"
   ]
  },
  {
   "cell_type": "code",
   "execution_count": 5,
   "metadata": {},
   "outputs": [
    {
     "name": "stdout",
     "output_type": "stream",
     "text": [
      "['Abu Dhabi'] ['Bahrain', 'Valencia', 'Hungaroring'] ['Catalunya', 'Hockenheim', 'Spa-Francorchamps']\n"
     ]
    }
   ],
   "source": [
    "print(city_first,city_second,city_third)"
   ]
  },
  {
   "cell_type": "code",
   "execution_count": 31,
   "metadata": {
    "scrolled": true
   },
   "outputs": [
    {
     "name": "stdout",
     "output_type": "stream",
     "text": [
      "Here are the locations kimi finished first!\n",
      "Here are the locations kimi finished second!\n",
      "[]\n"
     ]
    }
   ],
   "source": [
    "#speaking city\n",
    "\n",
    "city_first = []#cities that the driver came first\n",
    "for city in f1DataMap_first[2]:\n",
    "    city_first.append(city)\n",
    "    print(city)\n",
    "print(\"Here are the locations %s finished first!\"%(driver))\n",
    "#talk(\"Here are the locations %s finished first!\" %(driver))\n",
    "\n",
    "\n",
    "    \n",
    "city_second = [] #cities the driver came second\n",
    "for city in f1DataMap_second[2]:\n",
    "    city_second.append(city)\n",
    "    print(city)\n",
    "print(\"Here are the locations %s finished second!\"%(driver))\n",
    "#talk(\"Here are the locations %s finished second!\"%(driver))\n",
    "print(city_third)"
   ]
  },
  {
   "cell_type": "code",
   "execution_count": 6,
   "metadata": {},
   "outputs": [
    {
     "ename": "TypeError",
     "evalue": "'str' object is not callable",
     "output_type": "error",
     "traceback": [
      "\u001b[0;31m---------------------------------------------------------------------------\u001b[0m",
      "\u001b[0;31mTypeError\u001b[0m                                 Traceback (most recent call last)",
      "\u001b[0;32m<ipython-input-6-b07d87ccfa6a>\u001b[0m in \u001b[0;36m<module>\u001b[0;34m()\u001b[0m\n\u001b[1;32m      3\u001b[0m              'lightblue', ]\n\u001b[1;32m      4\u001b[0m \u001b[0;34m\u001b[0m\u001b[0m\n\u001b[0;32m----> 5\u001b[0;31m \u001b[0mtext\u001b[0m\u001b[0;34m(\u001b[0m\u001b[0;34m\"here are the exact location of the circuit that your driver won \"\u001b[0m\u001b[0;34m)\u001b[0m\u001b[0;34m\u001b[0m\u001b[0m\n\u001b[0m\u001b[1;32m      6\u001b[0m \u001b[0;32mfor\u001b[0m \u001b[0mcity\u001b[0m \u001b[0;32min\u001b[0m \u001b[0mcity_first\u001b[0m\u001b[0;34m:\u001b[0m\u001b[0;34m\u001b[0m\u001b[0m\n\u001b[1;32m      7\u001b[0m     \u001b[0mlocation\u001b[0m \u001b[0;34m=\u001b[0m \u001b[0mgeolocator\u001b[0m\u001b[0;34m.\u001b[0m\u001b[0mgeocode\u001b[0m\u001b[0;34m(\u001b[0m\u001b[0mcity\u001b[0m\u001b[0;34m)\u001b[0m\u001b[0;34m\u001b[0m\u001b[0m\n",
      "\u001b[0;31mTypeError\u001b[0m: 'str' object is not callable"
     ]
    }
   ],
   "source": [
    "#map original code\n",
    "colors = ['blue', 'darkblue',  'cadetblue',\n",
    "             'lightblue', ]\n",
    "\n",
    "text(\"here are the exact location of the circuit that your driver won \")\n",
    "for city in city_first:\n",
    "    location = geolocator.geocode(city)\n",
    "    location_coord = location.latitude, location.longitude\n",
    "    marker = folium.Marker(location=location_coord, \n",
    "                    popup=\"%s\" % (location.address),\n",
    "                    icon = folium.Icon(color = colors[3], icon='user')\n",
    "                   \n",
    "                          )\n",
    "    #map = (zoom_start=4)\n",
    "    map.add_child(marker)\n",
    "map\n",
    "\n",
    "for city in city_second:\n",
    "    location = geolocator.geocode(city)\n",
    "    location_coord = location.latitude, location.longitude\n",
    "    marker = folium.Marker(location=location_coord, \n",
    "                    popup=\"%s\" % (location.address),\n",
    "                    icon = folium.Icon(color = colors[1], icon='user')\n",
    "                          )\n",
    "    map.add_child(marker)\n",
    "    \n",
    "map\n",
    "\n",
    "for city in city_third:\n",
    "    location = geolocator.geocode(city)\n",
    "    location_coord = location.latitude, location.longitude\n",
    "    marker = folium.Marker(location=location_coord, \n",
    "                    popup=\"%s\" % (location.address),\n",
    "                    icon = folium.Icon(color = colors[2], icon='user')\n",
    "                          )\n",
    "    map.add_child(marker)\n",
    "map"
   ]
  },
  {
   "cell_type": "code",
   "execution_count": 3,
   "metadata": {
    "scrolled": false
   },
   "outputs": [
    {
     "data": {
      "text/html": [
       "<div style=\"width:100%;\"><div style=\"position:relative;width:100%;height:0;padding-bottom:60%;\"><iframe src=\"data:text/html;charset=utf-8;base64,PCFET0NUWVBFIGh0bWw+CjxoZWFkPiAgICAKICAgIDxtZXRhIGh0dHAtZXF1aXY9ImNvbnRlbnQtdHlwZSIgY29udGVudD0idGV4dC9odG1sOyBjaGFyc2V0PVVURi04IiAvPgogICAgPHNjcmlwdD5MX1BSRUZFUl9DQU5WQVMgPSBmYWxzZTsgTF9OT19UT1VDSCA9IGZhbHNlOyBMX0RJU0FCTEVfM0QgPSBmYWxzZTs8L3NjcmlwdD4KICAgIDxzY3JpcHQgc3JjPSJodHRwczovL2Nkbi5qc2RlbGl2ci5uZXQvbnBtL2xlYWZsZXRAMS4yLjAvZGlzdC9sZWFmbGV0LmpzIj48L3NjcmlwdD4KICAgIDxzY3JpcHQgc3JjPSJodHRwczovL2FqYXguZ29vZ2xlYXBpcy5jb20vYWpheC9saWJzL2pxdWVyeS8xLjExLjEvanF1ZXJ5Lm1pbi5qcyI+PC9zY3JpcHQ+CiAgICA8c2NyaXB0IHNyYz0iaHR0cHM6Ly9tYXhjZG4uYm9vdHN0cmFwY2RuLmNvbS9ib290c3RyYXAvMy4yLjAvanMvYm9vdHN0cmFwLm1pbi5qcyI+PC9zY3JpcHQ+CiAgICA8c2NyaXB0IHNyYz0iaHR0cHM6Ly9jZG5qcy5jbG91ZGZsYXJlLmNvbS9hamF4L2xpYnMvTGVhZmxldC5hd2Vzb21lLW1hcmtlcnMvMi4wLjIvbGVhZmxldC5hd2Vzb21lLW1hcmtlcnMuanMiPjwvc2NyaXB0PgogICAgPGxpbmsgcmVsPSJzdHlsZXNoZWV0IiBocmVmPSJodHRwczovL2Nkbi5qc2RlbGl2ci5uZXQvbnBtL2xlYWZsZXRAMS4yLjAvZGlzdC9sZWFmbGV0LmNzcyIgLz4KICAgIDxsaW5rIHJlbD0ic3R5bGVzaGVldCIgaHJlZj0iaHR0cHM6Ly9tYXhjZG4uYm9vdHN0cmFwY2RuLmNvbS9ib290c3RyYXAvMy4yLjAvY3NzL2Jvb3RzdHJhcC5taW4uY3NzIiAvPgogICAgPGxpbmsgcmVsPSJzdHlsZXNoZWV0IiBocmVmPSJodHRwczovL21heGNkbi5ib290c3RyYXBjZG4uY29tL2Jvb3RzdHJhcC8zLjIuMC9jc3MvYm9vdHN0cmFwLXRoZW1lLm1pbi5jc3MiIC8+CiAgICA8bGluayByZWw9InN0eWxlc2hlZXQiIGhyZWY9Imh0dHBzOi8vbWF4Y2RuLmJvb3RzdHJhcGNkbi5jb20vZm9udC1hd2Vzb21lLzQuNi4zL2Nzcy9mb250LWF3ZXNvbWUubWluLmNzcyIgLz4KICAgIDxsaW5rIHJlbD0ic3R5bGVzaGVldCIgaHJlZj0iaHR0cHM6Ly9jZG5qcy5jbG91ZGZsYXJlLmNvbS9hamF4L2xpYnMvTGVhZmxldC5hd2Vzb21lLW1hcmtlcnMvMi4wLjIvbGVhZmxldC5hd2Vzb21lLW1hcmtlcnMuY3NzIiAvPgogICAgPGxpbmsgcmVsPSJzdHlsZXNoZWV0IiBocmVmPSJodHRwczovL3Jhd2dpdC5jb20vcHl0aG9uLXZpc3VhbGl6YXRpb24vZm9saXVtL21hc3Rlci9mb2xpdW0vdGVtcGxhdGVzL2xlYWZsZXQuYXdlc29tZS5yb3RhdGUuY3NzIiAvPgogICAgPHN0eWxlPmh0bWwsIGJvZHkge3dpZHRoOiAxMDAlO2hlaWdodDogMTAwJTttYXJnaW46IDA7cGFkZGluZzogMDt9PC9zdHlsZT4KICAgIDxzdHlsZT4jbWFwIHtwb3NpdGlvbjphYnNvbHV0ZTt0b3A6MDtib3R0b206MDtyaWdodDowO2xlZnQ6MDt9PC9zdHlsZT4KICAgIAogICAgICAgICAgICA8c3R5bGU+ICNtYXBfNDYxNDgxYjE1MTdmNDkyZmI5NDk4NDc3ZjdlNzM3MWEgewogICAgICAgICAgICAgICAgcG9zaXRpb24gOiByZWxhdGl2ZTsKICAgICAgICAgICAgICAgIHdpZHRoIDogMTAwLjAlOwogICAgICAgICAgICAgICAgaGVpZ2h0OiAxMDAuMCU7CiAgICAgICAgICAgICAgICBsZWZ0OiAwLjAlOwogICAgICAgICAgICAgICAgdG9wOiAwLjAlOwogICAgICAgICAgICAgICAgfQogICAgICAgICAgICA8L3N0eWxlPgogICAgICAgIAo8L2hlYWQ+Cjxib2R5PiAgICAKICAgIAogICAgICAgICAgICA8ZGl2IGNsYXNzPSJmb2xpdW0tbWFwIiBpZD0ibWFwXzQ2MTQ4MWIxNTE3ZjQ5MmZiOTQ5ODQ3N2Y3ZTczNzFhIiA+PC9kaXY+CiAgICAgICAgCjwvYm9keT4KPHNjcmlwdD4gICAgCiAgICAKCiAgICAgICAgICAgIAogICAgICAgICAgICAgICAgdmFyIGJvdW5kcyA9IG51bGw7CiAgICAgICAgICAgIAoKICAgICAgICAgICAgdmFyIG1hcF80NjE0ODFiMTUxN2Y0OTJmYjk0OTg0NzdmN2U3MzcxYSA9IEwubWFwKAogICAgICAgICAgICAgICAgICAgICAgICAgICAgICAgICAgJ21hcF80NjE0ODFiMTUxN2Y0OTJmYjk0OTg0NzdmN2U3MzcxYScsCiAgICAgICAgICAgICAgICAgICAgICAgICAgICAgICAgICB7Y2VudGVyOiBbMCwwXSwKICAgICAgICAgICAgICAgICAgICAgICAgICAgICAgICAgIHpvb206IDEsCiAgICAgICAgICAgICAgICAgICAgICAgICAgICAgICAgICBtYXhCb3VuZHM6IGJvdW5kcywKICAgICAgICAgICAgICAgICAgICAgICAgICAgICAgICAgIGxheWVyczogW10sCiAgICAgICAgICAgICAgICAgICAgICAgICAgICAgICAgICB3b3JsZENvcHlKdW1wOiBmYWxzZSwKICAgICAgICAgICAgICAgICAgICAgICAgICAgICAgICAgIGNyczogTC5DUlMuRVBTRzM4NTcKICAgICAgICAgICAgICAgICAgICAgICAgICAgICAgICAgfSk7CiAgICAgICAgICAgIAogICAgICAgIAogICAgCiAgICAgICAgICAgIHZhciB0aWxlX2xheWVyXzRhN2UyMWRhOWIyOTQzN2ViYWI5YWViYTJjNTA0NDJkID0gTC50aWxlTGF5ZXIoCiAgICAgICAgICAgICAgICAnaHR0cHM6Ly97c30udGlsZS5vcGVuc3RyZWV0bWFwLm9yZy97en0ve3h9L3t5fS5wbmcnLAogICAgICAgICAgICAgICAgewogICJhdHRyaWJ1dGlvbiI6IG51bGwsCiAgImRldGVjdFJldGluYSI6IGZhbHNlLAogICJtYXhab29tIjogMTgsCiAgIm1pblpvb20iOiAxLAogICJub1dyYXAiOiBmYWxzZSwKICAic3ViZG9tYWlucyI6ICJhYmMiCn0KICAgICAgICAgICAgICAgICkuYWRkVG8obWFwXzQ2MTQ4MWIxNTE3ZjQ5MmZiOTQ5ODQ3N2Y3ZTczNzFhKTsKICAgICAgICAKICAgIAoKICAgICAgICAgICAgdmFyIG1hcmtlcl8wNGRmMDU3YzgwZmE0YjgwYWQ5MGY5ZGUxODk2MjMzMyA9IEwubWFya2VyKAogICAgICAgICAgICAgICAgWzIzLjk5NzY0NDM1LDUzLjY0MzkwOTc1NjkyMTNdLAogICAgICAgICAgICAgICAgewogICAgICAgICAgICAgICAgICAgIGljb246IG5ldyBMLkljb24uRGVmYXVsdCgpCiAgICAgICAgICAgICAgICAgICAgfQogICAgICAgICAgICAgICAgKQogICAgICAgICAgICAgICAgLmFkZFRvKG1hcF80NjE0ODFiMTUxN2Y0OTJmYjk0OTg0NzdmN2U3MzcxYSk7CiAgICAgICAgICAgIAogICAgCgogICAgICAgICAgICAgICAgdmFyIGljb25fMjM1MGE5NDYzODBkNGYzZWE1NTFhZTMzNmExNWNhMDIgPSBMLkF3ZXNvbWVNYXJrZXJzLmljb24oewogICAgICAgICAgICAgICAgICAgIGljb246ICd1c2VyJywKICAgICAgICAgICAgICAgICAgICBpY29uQ29sb3I6ICd3aGl0ZScsCiAgICAgICAgICAgICAgICAgICAgbWFya2VyQ29sb3I6ICdsaWdodGJsdWUnLAogICAgICAgICAgICAgICAgICAgIHByZWZpeDogJ2dseXBoaWNvbicsCiAgICAgICAgICAgICAgICAgICAgZXh0cmFDbGFzc2VzOiAnZmEtcm90YXRlLTAnCiAgICAgICAgICAgICAgICAgICAgfSk7CiAgICAgICAgICAgICAgICBtYXJrZXJfMDRkZjA1N2M4MGZhNGI4MGFkOTBmOWRlMTg5NjIzMzMuc2V0SWNvbihpY29uXzIzNTBhOTQ2MzgwZDRmM2VhNTUxYWUzMzZhMTVjYTAyKTsKICAgICAgICAgICAgCiAgICAKICAgICAgICAgICAgdmFyIHBvcHVwX2UwN2ViYmZhOTk5NzRjNjA5MjI2ZWZlMGQ1ZmE4YzQxID0gTC5wb3B1cCh7bWF4V2lkdGg6ICczMDAnfSk7CgogICAgICAgICAgICAKICAgICAgICAgICAgICAgIHZhciBodG1sXzRhN2M3Mjk4YjJkOTQxNzE5ZDA0MzhmNzljMDk2NTRiID0gJCgnPGRpdiBpZD0iaHRtbF80YTdjNzI5OGIyZDk0MTcxOWQwNDM4Zjc5YzA5NjU0YiIgc3R5bGU9IndpZHRoOiAxMDAuMCU7IGhlaWdodDogMTAwLjAlOyI+2KPYqNmIINi42KjZiiwg2KfZhNil2YXYp9ix2KfYqiDYp9mE2LnYsdio2YrYqSDYp9mE2YXYqtit2K/YqTwvZGl2PicpWzBdOwogICAgICAgICAgICAgICAgcG9wdXBfZTA3ZWJiZmE5OTk3NGM2MDkyMjZlZmUwZDVmYThjNDEuc2V0Q29udGVudChodG1sXzRhN2M3Mjk4YjJkOTQxNzE5ZDA0MzhmNzljMDk2NTRiKTsKICAgICAgICAgICAgCgogICAgICAgICAgICBtYXJrZXJfMDRkZjA1N2M4MGZhNGI4MGFkOTBmOWRlMTg5NjIzMzMuYmluZFBvcHVwKHBvcHVwX2UwN2ViYmZhOTk5NzRjNjA5MjI2ZWZlMGQ1ZmE4YzQxKTsKCiAgICAgICAgICAgIAogICAgICAgIAogICAgCgogICAgICAgICAgICB2YXIgbWFya2VyX2Y1MDFlOWY4NTllMjQ4ZGNiNWRlYzBiZmRmMzcyNGRkID0gTC5tYXJrZXIoCiAgICAgICAgICAgICAgICBbMzUuMjA3ODAxMiw3Mi41NDczOTY4XSwKICAgICAgICAgICAgICAgIHsKICAgICAgICAgICAgICAgICAgICBpY29uOiBuZXcgTC5JY29uLkRlZmF1bHQoKQogICAgICAgICAgICAgICAgICAgIH0KICAgICAgICAgICAgICAgICkKICAgICAgICAgICAgICAgIC5hZGRUbyhtYXBfNDYxNDgxYjE1MTdmNDkyZmI5NDk4NDc3ZjdlNzM3MWEpOwogICAgICAgICAgICAKICAgIAoKICAgICAgICAgICAgICAgIHZhciBpY29uXzI5NDI0MjQ4MDFiNzRlNGFhZGMyNmI5NTZjYzBlYWJiID0gTC5Bd2Vzb21lTWFya2Vycy5pY29uKHsKICAgICAgICAgICAgICAgICAgICBpY29uOiAndXNlcicsCiAgICAgICAgICAgICAgICAgICAgaWNvbkNvbG9yOiAnd2hpdGUnLAogICAgICAgICAgICAgICAgICAgIG1hcmtlckNvbG9yOiAnZGFya2JsdWUnLAogICAgICAgICAgICAgICAgICAgIHByZWZpeDogJ2dseXBoaWNvbicsCiAgICAgICAgICAgICAgICAgICAgZXh0cmFDbGFzc2VzOiAnZmEtcm90YXRlLTAnCiAgICAgICAgICAgICAgICAgICAgfSk7CiAgICAgICAgICAgICAgICBtYXJrZXJfZjUwMWU5Zjg1OWUyNDhkY2I1ZGVjMGJmZGYzNzI0ZGQuc2V0SWNvbihpY29uXzI5NDI0MjQ4MDFiNzRlNGFhZGMyNmI5NTZjYzBlYWJiKTsKICAgICAgICAgICAgCiAgICAKICAgICAgICAgICAgdmFyIHBvcHVwXzU1ZjkxNjgyZmNhYzQxMmRhOGM0NDcyYTYzMWE0MzcxID0gTC5wb3B1cCh7bWF4V2lkdGg6ICczMDAnfSk7CgogICAgICAgICAgICAKICAgICAgICAgICAgICAgIHZhciBodG1sX2YyNTk5N2I4NDljZDQ1Zjk4N2UwMTRiZTE0NzcyYzJkID0gJCgnPGRpdiBpZD0iaHRtbF9mMjU5OTdiODQ5Y2Q0NWY5ODdlMDE0YmUxNDc3MmMyZCIgc3R5bGU9IndpZHRoOiAxMDAuMCU7IGhlaWdodDogMTAwLjAlOyI+QmFocmFpbiwgU3fEgXQgRGlzdHJpY3QsINiu24zYqNixINm+2K7YqtmI2YbYrtmI2KcsIOKAj9m+2Kfaqdiz2KrYp9mG4oCOPC9kaXY+JylbMF07CiAgICAgICAgICAgICAgICBwb3B1cF81NWY5MTY4MmZjYWM0MTJkYThjNDQ3MmE2MzFhNDM3MS5zZXRDb250ZW50KGh0bWxfZjI1OTk3Yjg0OWNkNDVmOTg3ZTAxNGJlMTQ3NzJjMmQpOwogICAgICAgICAgICAKCiAgICAgICAgICAgIG1hcmtlcl9mNTAxZTlmODU5ZTI0OGRjYjVkZWMwYmZkZjM3MjRkZC5iaW5kUG9wdXAocG9wdXBfNTVmOTE2ODJmY2FjNDEyZGE4YzQ0NzJhNjMxYTQzNzEpOwoKICAgICAgICAgICAgCiAgICAgICAgCiAgICAKCiAgICAgICAgICAgIHZhciBtYXJrZXJfZmM1ZWFjMjgxNTE0NDJkOTkxNzAzNWM4YzI4ZTFkYzEgPSBMLm1hcmtlcigKICAgICAgICAgICAgICAgIFszOS40Njk5MDE0LC0wLjM3NTk1MTNdLAogICAgICAgICAgICAgICAgewogICAgICAgICAgICAgICAgICAgIGljb246IG5ldyBMLkljb24uRGVmYXVsdCgpCiAgICAgICAgICAgICAgICAgICAgfQogICAgICAgICAgICAgICAgKQogICAgICAgICAgICAgICAgLmFkZFRvKG1hcF80NjE0ODFiMTUxN2Y0OTJmYjk0OTg0NzdmN2U3MzcxYSk7CiAgICAgICAgICAgIAogICAgCgogICAgICAgICAgICAgICAgdmFyIGljb25fNjc4ZjY0MjIwMjA2NDNjODliYjRkYTI0OGJhNTU4NDMgPSBMLkF3ZXNvbWVNYXJrZXJzLmljb24oewogICAgICAgICAgICAgICAgICAgIGljb246ICd1c2VyJywKICAgICAgICAgICAgICAgICAgICBpY29uQ29sb3I6ICd3aGl0ZScsCiAgICAgICAgICAgICAgICAgICAgbWFya2VyQ29sb3I6ICdkYXJrYmx1ZScsCiAgICAgICAgICAgICAgICAgICAgcHJlZml4OiAnZ2x5cGhpY29uJywKICAgICAgICAgICAgICAgICAgICBleHRyYUNsYXNzZXM6ICdmYS1yb3RhdGUtMCcKICAgICAgICAgICAgICAgICAgICB9KTsKICAgICAgICAgICAgICAgIG1hcmtlcl9mYzVlYWMyODE1MTQ0MmQ5OTE3MDM1YzhjMjhlMWRjMS5zZXRJY29uKGljb25fNjc4ZjY0MjIwMjA2NDNjODliYjRkYTI0OGJhNTU4NDMpOwogICAgICAgICAgICAKICAgIAogICAgICAgICAgICB2YXIgcG9wdXBfMGQ2ZWJiNDhhYzA0NDk2NDk5MzVlZjhiZDQ1N2FlNmYgPSBMLnBvcHVwKHttYXhXaWR0aDogJzMwMCd9KTsKCiAgICAgICAgICAgIAogICAgICAgICAgICAgICAgdmFyIGh0bWxfNjY3YmVmYzc5YmFlNGVjN2EyNjJjMjMxOTUxMmFmYTYgPSAkKCc8ZGl2IGlkPSJodG1sXzY2N2JlZmM3OWJhZTRlYzdhMjYyYzIzMTk1MTJhZmE2IiBzdHlsZT0id2lkdGg6IDEwMC4wJTsgaGVpZ2h0OiAxMDAuMCU7Ij5WYWzDqG5jaWEsIENvbWFyY2EgZGUgVmFsw6huY2lhLCBWYWxlbmNpYS9WYWzDqG5jaWEsIENvbXVuaXRhdCBWYWxlbmNpYW5hLCA0NjAwMiwgRXNwYcOxYTwvZGl2PicpWzBdOwogICAgICAgICAgICAgICAgcG9wdXBfMGQ2ZWJiNDhhYzA0NDk2NDk5MzVlZjhiZDQ1N2FlNmYuc2V0Q29udGVudChodG1sXzY2N2JlZmM3OWJhZTRlYzdhMjYyYzIzMTk1MTJhZmE2KTsKICAgICAgICAgICAgCgogICAgICAgICAgICBtYXJrZXJfZmM1ZWFjMjgxNTE0NDJkOTkxNzAzNWM4YzI4ZTFkYzEuYmluZFBvcHVwKHBvcHVwXzBkNmViYjQ4YWMwNDQ5NjQ5OTM1ZWY4YmQ0NTdhZTZmKTsKCiAgICAgICAgICAgIAogICAgICAgIAogICAgCgogICAgICAgICAgICB2YXIgbWFya2VyXzdkMDcwNjk5NGU3ZDQzMjVhMWQ5ZGZmZDBlYzJlZGU3ID0gTC5tYXJrZXIoCiAgICAgICAgICAgICAgICBbNDcuNTgyNDEsMTkuMjUwMDQ0NDM5MDE5NF0sCiAgICAgICAgICAgICAgICB7CiAgICAgICAgICAgICAgICAgICAgaWNvbjogbmV3IEwuSWNvbi5EZWZhdWx0KCkKICAgICAgICAgICAgICAgICAgICB9CiAgICAgICAgICAgICAgICApCiAgICAgICAgICAgICAgICAuYWRkVG8obWFwXzQ2MTQ4MWIxNTE3ZjQ5MmZiOTQ5ODQ3N2Y3ZTczNzFhKTsKICAgICAgICAgICAgCiAgICAKCiAgICAgICAgICAgICAgICB2YXIgaWNvbl82ZmRhOGM0OTRlZDM0YTM3ODg4ZGEwMWFjNDVmYjc4ZiA9IEwuQXdlc29tZU1hcmtlcnMuaWNvbih7CiAgICAgICAgICAgICAgICAgICAgaWNvbjogJ3VzZXInLAogICAgICAgICAgICAgICAgICAgIGljb25Db2xvcjogJ3doaXRlJywKICAgICAgICAgICAgICAgICAgICBtYXJrZXJDb2xvcjogJ2RhcmtibHVlJywKICAgICAgICAgICAgICAgICAgICBwcmVmaXg6ICdnbHlwaGljb24nLAogICAgICAgICAgICAgICAgICAgIGV4dHJhQ2xhc3NlczogJ2ZhLXJvdGF0ZS0wJwogICAgICAgICAgICAgICAgICAgIH0pOwogICAgICAgICAgICAgICAgbWFya2VyXzdkMDcwNjk5NGU3ZDQzMjVhMWQ5ZGZmZDBlYzJlZGU3LnNldEljb24oaWNvbl82ZmRhOGM0OTRlZDM0YTM3ODg4ZGEwMWFjNDVmYjc4Zik7CiAgICAgICAgICAgIAogICAgCiAgICAgICAgICAgIHZhciBwb3B1cF9lOWYzNTMyODJlNWE0YzFlYTE5N2FkYjIyYWFhYTVhYyA9IEwucG9wdXAoe21heFdpZHRoOiAnMzAwJ30pOwoKICAgICAgICAgICAgCiAgICAgICAgICAgICAgICB2YXIgaHRtbF9lZDMyODQ0ZmU5MzM0YWVkYTU2M2JjNDRiM2JiMWZhZSA9ICQoJzxkaXYgaWQ9Imh0bWxfZWQzMjg0NGZlOTMzNGFlZGE1NjNiYzQ0YjNiYjFmYWUiIHN0eWxlPSJ3aWR0aDogMTAwLjAlOyBoZWlnaHQ6IDEwMC4wJTsiPkh1bmdhcm9yaW5nLCBNb2d5b3LDs3NrYSwgTW9neW9yw7NkLCBHw7Zkw7ZsbMWRaSBqw6Fyw6FzLCBQZXN0IG1lZ3llLCBLw7Z6w6lwLU1hZ3lhcm9yc3rDoWcsIDIxNDYsIE1hZ3lhcm9yc3rDoWc8L2Rpdj4nKVswXTsKICAgICAgICAgICAgICAgIHBvcHVwX2U5ZjM1MzI4MmU1YTRjMWVhMTk3YWRiMjJhYWFhNWFjLnNldENvbnRlbnQoaHRtbF9lZDMyODQ0ZmU5MzM0YWVkYTU2M2JjNDRiM2JiMWZhZSk7CiAgICAgICAgICAgIAoKICAgICAgICAgICAgbWFya2VyXzdkMDcwNjk5NGU3ZDQzMjVhMWQ5ZGZmZDBlYzJlZGU3LmJpbmRQb3B1cChwb3B1cF9lOWYzNTMyODJlNWE0YzFlYTE5N2FkYjIyYWFhYTVhYyk7CgogICAgICAgICAgICAKICAgICAgICAKICAgIAoKICAgICAgICAgICAgdmFyIG1hcmtlcl8wNWM4OWYxNmFhYWE0NjY5YjQyMjZjMjY2ZmQ0OWZmZCA9IEwubWFya2VyKAogICAgICAgICAgICAgICAgWzQxLjM4NjIzMTUsMi4xNzAwMDI0XSwKICAgICAgICAgICAgICAgIHsKICAgICAgICAgICAgICAgICAgICBpY29uOiBuZXcgTC5JY29uLkRlZmF1bHQoKQogICAgICAgICAgICAgICAgICAgIH0KICAgICAgICAgICAgICAgICkKICAgICAgICAgICAgICAgIC5hZGRUbyhtYXBfNDYxNDgxYjE1MTdmNDkyZmI5NDk4NDc3ZjdlNzM3MWEpOwogICAgICAgICAgICAKICAgIAoKICAgICAgICAgICAgICAgIHZhciBpY29uX2YzODY5NWNjZjI0YzRjM2NiM2EwOTIyNWEyN2JkZDE3ID0gTC5Bd2Vzb21lTWFya2Vycy5pY29uKHsKICAgICAgICAgICAgICAgICAgICBpY29uOiAndXNlcicsCiAgICAgICAgICAgICAgICAgICAgaWNvbkNvbG9yOiAnd2hpdGUnLAogICAgICAgICAgICAgICAgICAgIG1hcmtlckNvbG9yOiAnY2FkZXRibHVlJywKICAgICAgICAgICAgICAgICAgICBwcmVmaXg6ICdnbHlwaGljb24nLAogICAgICAgICAgICAgICAgICAgIGV4dHJhQ2xhc3NlczogJ2ZhLXJvdGF0ZS0wJwogICAgICAgICAgICAgICAgICAgIH0pOwogICAgICAgICAgICAgICAgbWFya2VyXzA1Yzg5ZjE2YWFhYTQ2NjliNDIyNmMyNjZmZDQ5ZmZkLnNldEljb24oaWNvbl9mMzg2OTVjY2YyNGM0YzNjYjNhMDkyMjVhMjdiZGQxNyk7CiAgICAgICAgICAgIAogICAgCiAgICAgICAgICAgIHZhciBwb3B1cF85ZjkxMDc1MzIwZDg0Y2ExOGRiNzdlZGM4MjA5MmYzZiA9IEwucG9wdXAoe21heFdpZHRoOiAnMzAwJ30pOwoKICAgICAgICAgICAgCiAgICAgICAgICAgICAgICB2YXIgaHRtbF9mZjhkNDZlMmY2NDE0YWYxYTYwYTdiZDBiZGM3NDMyMSA9ICQoJzxkaXYgaWQ9Imh0bWxfZmY4ZDQ2ZTJmNjQxNGFmMWE2MGE3YmQwYmRjNzQzMjEiIHN0eWxlPSJ3aWR0aDogMTAwLjAlOyBoZWlnaHQ6IDEwMC4wJTsiPkNhdGFsdW55YSwgZWwgUmF2YWwsIEVpeGFtcGxlLCBCYXJjZWxvbmEsIEJDTiwgQ0FULCAwODAwMywgRXNwYcOxYTwvZGl2PicpWzBdOwogICAgICAgICAgICAgICAgcG9wdXBfOWY5MTA3NTMyMGQ4NGNhMThkYjc3ZWRjODIwOTJmM2Yuc2V0Q29udGVudChodG1sX2ZmOGQ0NmUyZjY0MTRhZjFhNjBhN2JkMGJkYzc0MzIxKTsKICAgICAgICAgICAgCgogICAgICAgICAgICBtYXJrZXJfMDVjODlmMTZhYWFhNDY2OWI0MjI2YzI2NmZkNDlmZmQuYmluZFBvcHVwKHBvcHVwXzlmOTEwNzUzMjBkODRjYTE4ZGI3N2VkYzgyMDkyZjNmKTsKCiAgICAgICAgICAgIAogICAgICAgIAogICAgCgogICAgICAgICAgICB2YXIgbWFya2VyX2U0NGI3OTJmYWE2MTQ4ODE4MWYwNTNkMTBmOTQzZWUzID0gTC5tYXJrZXIoCiAgICAgICAgICAgICAgICBbNDkuMzE5NjA0Niw4LjU0OTk5MDNdLAogICAgICAgICAgICAgICAgewogICAgICAgICAgICAgICAgICAgIGljb246IG5ldyBMLkljb24uRGVmYXVsdCgpCiAgICAgICAgICAgICAgICAgICAgfQogICAgICAgICAgICAgICAgKQogICAgICAgICAgICAgICAgLmFkZFRvKG1hcF80NjE0ODFiMTUxN2Y0OTJmYjk0OTg0NzdmN2U3MzcxYSk7CiAgICAgICAgICAgIAogICAgCgogICAgICAgICAgICAgICAgdmFyIGljb25fNGUxOTM3NDU0MGY5NGRmNGI1ODcxMmUzOTQ1NTI1OTUgPSBMLkF3ZXNvbWVNYXJrZXJzLmljb24oewogICAgICAgICAgICAgICAgICAgIGljb246ICd1c2VyJywKICAgICAgICAgICAgICAgICAgICBpY29uQ29sb3I6ICd3aGl0ZScsCiAgICAgICAgICAgICAgICAgICAgbWFya2VyQ29sb3I6ICdjYWRldGJsdWUnLAogICAgICAgICAgICAgICAgICAgIHByZWZpeDogJ2dseXBoaWNvbicsCiAgICAgICAgICAgICAgICAgICAgZXh0cmFDbGFzc2VzOiAnZmEtcm90YXRlLTAnCiAgICAgICAgICAgICAgICAgICAgfSk7CiAgICAgICAgICAgICAgICBtYXJrZXJfZTQ0Yjc5MmZhYTYxNDg4MTgxZjA1M2QxMGY5NDNlZTMuc2V0SWNvbihpY29uXzRlMTkzNzQ1NDBmOTRkZjRiNTg3MTJlMzk0NTUyNTk1KTsKICAgICAgICAgICAgCiAgICAKICAgICAgICAgICAgdmFyIHBvcHVwXzAyNjVhNmEyNDgzMDQzZGM5OGU0NGM2NDlhNmVjZTAyID0gTC5wb3B1cCh7bWF4V2lkdGg6ICczMDAnfSk7CgogICAgICAgICAgICAKICAgICAgICAgICAgICAgIHZhciBodG1sX2ZmZDg2NDQxZjIwZjQ2YjNiYzIwNDM1NjA0ZDI1NWQzID0gJCgnPGRpdiBpZD0iaHRtbF9mZmQ4NjQ0MWYyMGY0NmIzYmMyMDQzNTYwNGQyNTVkMyIgc3R5bGU9IndpZHRoOiAxMDAuMCU7IGhlaWdodDogMTAwLjAlOyI+SG9ja2VuaGVpbSwgVmVyd2FsdHVuZ3NnZW1laW5zY2hhZnQgSG9ja2VuaGVpbSwgUmhlaW4tTmVja2FyLUtyZWlzLCBSZWdpZXJ1bmdzYmV6aXJrIEthcmxzcnVoZSwgQmFkZW4tV8O8cnR0ZW1iZXJnLCA2ODc2NiwgRGV1dHNjaGxhbmQ8L2Rpdj4nKVswXTsKICAgICAgICAgICAgICAgIHBvcHVwXzAyNjVhNmEyNDgzMDQzZGM5OGU0NGM2NDlhNmVjZTAyLnNldENvbnRlbnQoaHRtbF9mZmQ4NjQ0MWYyMGY0NmIzYmMyMDQzNTYwNGQyNTVkMyk7CiAgICAgICAgICAgIAoKICAgICAgICAgICAgbWFya2VyX2U0NGI3OTJmYWE2MTQ4ODE4MWYwNTNkMTBmOTQzZWUzLmJpbmRQb3B1cChwb3B1cF8wMjY1YTZhMjQ4MzA0M2RjOThlNDRjNjQ5YTZlY2UwMik7CgogICAgICAgICAgICAKICAgICAgICAKICAgIAoKICAgICAgICAgICAgdmFyIG1hcmtlcl9hNjY2Mzg4ZjdhZjk0MDllYjhjZTZmMDMzYzViYjQ4MyA9IEwubWFya2VyKAogICAgICAgICAgICAgICAgWzUwLjU2MzMwOTMsNS4yMjA2MTkzXSwKICAgICAgICAgICAgICAgIHsKICAgICAgICAgICAgICAgICAgICBpY29uOiBuZXcgTC5JY29uLkRlZmF1bHQoKQogICAgICAgICAgICAgICAgICAgIH0KICAgICAgICAgICAgICAgICkKICAgICAgICAgICAgICAgIC5hZGRUbyhtYXBfNDYxNDgxYjE1MTdmNDkyZmI5NDk4NDc3ZjdlNzM3MWEpOwogICAgICAgICAgICAKICAgIAoKICAgICAgICAgICAgICAgIHZhciBpY29uXzUwOTMyMjQ0MjAwYjQzZTI4YTQ5YTdjMTMyY2ZhZTJlID0gTC5Bd2Vzb21lTWFya2Vycy5pY29uKHsKICAgICAgICAgICAgICAgICAgICBpY29uOiAndXNlcicsCiAgICAgICAgICAgICAgICAgICAgaWNvbkNvbG9yOiAnd2hpdGUnLAogICAgICAgICAgICAgICAgICAgIG1hcmtlckNvbG9yOiAnY2FkZXRibHVlJywKICAgICAgICAgICAgICAgICAgICBwcmVmaXg6ICdnbHlwaGljb24nLAogICAgICAgICAgICAgICAgICAgIGV4dHJhQ2xhc3NlczogJ2ZhLXJvdGF0ZS0wJwogICAgICAgICAgICAgICAgICAgIH0pOwogICAgICAgICAgICAgICAgbWFya2VyX2E2NjYzODhmN2FmOTQwOWViOGNlNmYwMzNjNWJiNDgzLnNldEljb24oaWNvbl81MDkzMjI0NDIwMGI0M2UyOGE0OWE3YzEzMmNmYWUyZSk7CiAgICAgICAgICAgIAogICAgCiAgICAgICAgICAgIHZhciBwb3B1cF8yYTJlM2U3NTVkYmY0ZTQ4YTA4ODM3MWFhNzgzNGYwMCA9IEwucG9wdXAoe21heFdpZHRoOiAnMzAwJ30pOwoKICAgICAgICAgICAgCiAgICAgICAgICAgICAgICB2YXIgaHRtbF8xYzk0ODAwNDcyZTI0YmIyODMyYWNkMDUxMDg3NjkyZiA9ICQoJzxkaXYgaWQ9Imh0bWxfMWM5NDgwMDQ3MmUyNGJiMjgzMmFjZDA1MTA4NzY5MmYiIHN0eWxlPSJ3aWR0aDogMTAwLjAlOyBoZWlnaHQ6IDEwMC4wJTsiPlJ1ZSBkZXMgcnVlbGxlcywgUGV0aXRlIFdhbnplLCBXYW56ZSwgSHV5LCBMacOoZ2UsIFdhbGxvbmllLCA0NTIwLCBCZWxnacOrIC8gQmVsZ2lxdWUgLyBCZWxnaWVuPC9kaXY+JylbMF07CiAgICAgICAgICAgICAgICBwb3B1cF8yYTJlM2U3NTVkYmY0ZTQ4YTA4ODM3MWFhNzgzNGYwMC5zZXRDb250ZW50KGh0bWxfMWM5NDgwMDQ3MmUyNGJiMjgzMmFjZDA1MTA4NzY5MmYpOwogICAgICAgICAgICAKCiAgICAgICAgICAgIG1hcmtlcl9hNjY2Mzg4ZjdhZjk0MDllYjhjZTZmMDMzYzViYjQ4My5iaW5kUG9wdXAocG9wdXBfMmEyZTNlNzU1ZGJmNGU0OGEwODgzNzFhYTc4MzRmMDApOwoKICAgICAgICAgICAgCiAgICAgICAgCiAgICAKCiAgICAgICAgICAgIHZhciBtYXJrZXJfMmU5ZGY4MjRjNjc3NGU4YmE5NTFiYjUzYTNjNmU0ODUgPSBMLm1hcmtlcigKICAgICAgICAgICAgICAgIFszNS4yMDc4MDEyLDcyLjU0NzM5NjhdLAogICAgICAgICAgICAgICAgewogICAgICAgICAgICAgICAgICAgIGljb246IG5ldyBMLkljb24uRGVmYXVsdCgpCiAgICAgICAgICAgICAgICAgICAgfQogICAgICAgICAgICAgICAgKQogICAgICAgICAgICAgICAgLmFkZFRvKG1hcF80NjE0ODFiMTUxN2Y0OTJmYjk0OTg0NzdmN2U3MzcxYSk7CiAgICAgICAgICAgIAogICAgCgogICAgICAgICAgICAgICAgdmFyIGljb25fNWE1YjdhNDY5ZTVjNGFkODllZjliOTlkN2U3NTI5OGIgPSBMLkF3ZXNvbWVNYXJrZXJzLmljb24oewogICAgICAgICAgICAgICAgICAgIGljb246ICd1c2VyJywKICAgICAgICAgICAgICAgICAgICBpY29uQ29sb3I6ICd3aGl0ZScsCiAgICAgICAgICAgICAgICAgICAgbWFya2VyQ29sb3I6ICdsaWdodGJsdWUnLAogICAgICAgICAgICAgICAgICAgIHByZWZpeDogJ2dseXBoaWNvbicsCiAgICAgICAgICAgICAgICAgICAgZXh0cmFDbGFzc2VzOiAnZmEtcm90YXRlLTAnCiAgICAgICAgICAgICAgICAgICAgfSk7CiAgICAgICAgICAgICAgICBtYXJrZXJfMmU5ZGY4MjRjNjc3NGU4YmE5NTFiYjUzYTNjNmU0ODUuc2V0SWNvbihpY29uXzVhNWI3YTQ2OWU1YzRhZDg5ZWY5Yjk5ZDdlNzUyOThiKTsKICAgICAgICAgICAgCiAgICAKICAgICAgICAgICAgdmFyIHBvcHVwX2E3ZDM0MjE3NWM1ZDRjN2Y4MjM0ODU0M2E1NjE3YmMyID0gTC5wb3B1cCh7bWF4V2lkdGg6ICczMDAnfSk7CgogICAgICAgICAgICAKICAgICAgICAgICAgICAgIHZhciBodG1sXzYyODAzNjU3MTFmMTRmZjE4NTJiMDExMjliOWI1OWMyID0gJCgnPGRpdiBpZD0iaHRtbF82MjgwMzY1NzExZjE0ZmYxODUyYjAxMTI5YjliNTljMiIgc3R5bGU9IndpZHRoOiAxMDAuMCU7IGhlaWdodDogMTAwLjAlOyI+QmFocmFpbiwgU3fEgXQgRGlzdHJpY3QsINiu24zYqNixINm+2K7YqtmI2YbYrtmI2KcsIOKAj9m+2Kfaqdiz2KrYp9mG4oCOPC9kaXY+JylbMF07CiAgICAgICAgICAgICAgICBwb3B1cF9hN2QzNDIxNzVjNWQ0YzdmODIzNDg1NDNhNTYxN2JjMi5zZXRDb250ZW50KGh0bWxfNjI4MDM2NTcxMWYxNGZmMTg1MmIwMTEyOWI5YjU5YzIpOwogICAgICAgICAgICAKCiAgICAgICAgICAgIG1hcmtlcl8yZTlkZjgyNGM2Nzc0ZThiYTk1MWJiNTNhM2M2ZTQ4NS5iaW5kUG9wdXAocG9wdXBfYTdkMzQyMTc1YzVkNGM3ZjgyMzQ4NTQzYTU2MTdiYzIpOwoKICAgICAgICAgICAgCiAgICAgICAgCiAgICAKCiAgICAgICAgICAgIHZhciBtYXJrZXJfZjUzNTZiYjljMDdmNGU0OWFlNTk4ZDA5ZThhMTVlNTkgPSBMLm1hcmtlcigKICAgICAgICAgICAgICAgIFszOS40Njk5MDE0LC0wLjM3NTk1MTNdLAogICAgICAgICAgICAgICAgewogICAgICAgICAgICAgICAgICAgIGljb246IG5ldyBMLkljb24uRGVmYXVsdCgpCiAgICAgICAgICAgICAgICAgICAgfQogICAgICAgICAgICAgICAgKQogICAgICAgICAgICAgICAgLmFkZFRvKG1hcF80NjE0ODFiMTUxN2Y0OTJmYjk0OTg0NzdmN2U3MzcxYSk7CiAgICAgICAgICAgIAogICAgCgogICAgICAgICAgICAgICAgdmFyIGljb25fMjkyZDBhYTMyOWE2NDRlYzk1OGI2NTMzZDIyNjEwMGIgPSBMLkF3ZXNvbWVNYXJrZXJzLmljb24oewogICAgICAgICAgICAgICAgICAgIGljb246ICd1c2VyJywKICAgICAgICAgICAgICAgICAgICBpY29uQ29sb3I6ICd3aGl0ZScsCiAgICAgICAgICAgICAgICAgICAgbWFya2VyQ29sb3I6ICdsaWdodGJsdWUnLAogICAgICAgICAgICAgICAgICAgIHByZWZpeDogJ2dseXBoaWNvbicsCiAgICAgICAgICAgICAgICAgICAgZXh0cmFDbGFzc2VzOiAnZmEtcm90YXRlLTAnCiAgICAgICAgICAgICAgICAgICAgfSk7CiAgICAgICAgICAgICAgICBtYXJrZXJfZjUzNTZiYjljMDdmNGU0OWFlNTk4ZDA5ZThhMTVlNTkuc2V0SWNvbihpY29uXzI5MmQwYWEzMjlhNjQ0ZWM5NThiNjUzM2QyMjYxMDBiKTsKICAgICAgICAgICAgCiAgICAKICAgICAgICAgICAgdmFyIHBvcHVwXzZlYTczMmU3ZDZiMjQ0MTlhYjY5MWI2ZjY5ZTU3YjU3ID0gTC5wb3B1cCh7bWF4V2lkdGg6ICczMDAnfSk7CgogICAgICAgICAgICAKICAgICAgICAgICAgICAgIHZhciBodG1sX2JkYmJjNDEyNzU5YjQ1MThhMzA3MDkwMDYxOGE4ZjhjID0gJCgnPGRpdiBpZD0iaHRtbF9iZGJiYzQxMjc1OWI0NTE4YTMwNzA5MDA2MThhOGY4YyIgc3R5bGU9IndpZHRoOiAxMDAuMCU7IGhlaWdodDogMTAwLjAlOyI+VmFsw6huY2lhLCBDb21hcmNhIGRlIFZhbMOobmNpYSwgVmFsZW5jaWEvVmFsw6huY2lhLCBDb211bml0YXQgVmFsZW5jaWFuYSwgNDYwMDIsIEVzcGHDsWE8L2Rpdj4nKVswXTsKICAgICAgICAgICAgICAgIHBvcHVwXzZlYTczMmU3ZDZiMjQ0MTlhYjY5MWI2ZjY5ZTU3YjU3LnNldENvbnRlbnQoaHRtbF9iZGJiYzQxMjc1OWI0NTE4YTMwNzA5MDA2MThhOGY4Yyk7CiAgICAgICAgICAgIAoKICAgICAgICAgICAgbWFya2VyX2Y1MzU2YmI5YzA3ZjRlNDlhZTU5OGQwOWU4YTE1ZTU5LmJpbmRQb3B1cChwb3B1cF82ZWE3MzJlN2Q2YjI0NDE5YWI2OTFiNmY2OWU1N2I1Nyk7CgogICAgICAgICAgICAKICAgICAgICAKICAgIAoKICAgICAgICAgICAgdmFyIG1hcmtlcl9iMWUwMTAyYjcyN2M0MTk5YWVjMGUyNjE0YWUwYjgyZCA9IEwubWFya2VyKAogICAgICAgICAgICAgICAgWzQ3LjU4MjQxLDE5LjI1MDA0NDQzOTAxOTRdLAogICAgICAgICAgICAgICAgewogICAgICAgICAgICAgICAgICAgIGljb246IG5ldyBMLkljb24uRGVmYXVsdCgpCiAgICAgICAgICAgICAgICAgICAgfQogICAgICAgICAgICAgICAgKQogICAgICAgICAgICAgICAgLmFkZFRvKG1hcF80NjE0ODFiMTUxN2Y0OTJmYjk0OTg0NzdmN2U3MzcxYSk7CiAgICAgICAgICAgIAogICAgCgogICAgICAgICAgICAgICAgdmFyIGljb25fMGEwZWIzY2NmYWI1NDcyZmE3ZjU5MjFhM2UyNGE2OWEgPSBMLkF3ZXNvbWVNYXJrZXJzLmljb24oewogICAgICAgICAgICAgICAgICAgIGljb246ICd1c2VyJywKICAgICAgICAgICAgICAgICAgICBpY29uQ29sb3I6ICd3aGl0ZScsCiAgICAgICAgICAgICAgICAgICAgbWFya2VyQ29sb3I6ICdsaWdodGJsdWUnLAogICAgICAgICAgICAgICAgICAgIHByZWZpeDogJ2dseXBoaWNvbicsCiAgICAgICAgICAgICAgICAgICAgZXh0cmFDbGFzc2VzOiAnZmEtcm90YXRlLTAnCiAgICAgICAgICAgICAgICAgICAgfSk7CiAgICAgICAgICAgICAgICBtYXJrZXJfYjFlMDEwMmI3MjdjNDE5OWFlYzBlMjYxNGFlMGI4MmQuc2V0SWNvbihpY29uXzBhMGViM2NjZmFiNTQ3MmZhN2Y1OTIxYTNlMjRhNjlhKTsKICAgICAgICAgICAgCiAgICAKICAgICAgICAgICAgdmFyIHBvcHVwXzY3MDlkNzA5ZDUwODQzOGNiNGZiODliMzdjZTdlOWMxID0gTC5wb3B1cCh7bWF4V2lkdGg6ICczMDAnfSk7CgogICAgICAgICAgICAKICAgICAgICAgICAgICAgIHZhciBodG1sX2QyMzJlY2U3ZTczMTQwOWViNDliOTFhNjgzZGZjOTk5ID0gJCgnPGRpdiBpZD0iaHRtbF9kMjMyZWNlN2U3MzE0MDllYjQ5YjkxYTY4M2RmYzk5OSIgc3R5bGU9IndpZHRoOiAxMDAuMCU7IGhlaWdodDogMTAwLjAlOyI+SHVuZ2Fyb3JpbmcsIE1vZ3lvcsOzc2thLCBNb2d5b3LDs2QsIEfDtmTDtmxsxZFpIGrDoXLDoXMsIFBlc3QgbWVneWUsIEvDtnrDqXAtTWFneWFyb3JzesOhZywgMjE0NiwgTWFneWFyb3JzesOhZzwvZGl2PicpWzBdOwogICAgICAgICAgICAgICAgcG9wdXBfNjcwOWQ3MDlkNTA4NDM4Y2I0ZmI4OWIzN2NlN2U5YzEuc2V0Q29udGVudChodG1sX2QyMzJlY2U3ZTczMTQwOWViNDliOTFhNjgzZGZjOTk5KTsKICAgICAgICAgICAgCgogICAgICAgICAgICBtYXJrZXJfYjFlMDEwMmI3MjdjNDE5OWFlYzBlMjYxNGFlMGI4MmQuYmluZFBvcHVwKHBvcHVwXzY3MDlkNzA5ZDUwODQzOGNiNGZiODliMzdjZTdlOWMxKTsKCiAgICAgICAgICAgIAogICAgICAgIAo8L3NjcmlwdD4=\" style=\"position:absolute;width:100%;height:100%;left:0;top:0;border:none !important;\" allowfullscreen webkitallowfullscreen mozallowfullscreen></iframe></div></div>"
      ],
      "text/plain": [
       "<folium.folium.Map at 0x10be85048>"
      ]
     },
     "execution_count": 3,
     "metadata": {},
     "output_type": "execute_result"
    }
   ],
   "source": [
    "for city in city_second:\n",
    "    location = geolocator.geocode(city)\n",
    "    location_coord = location.latitude, location.longitude\n",
    "    marker = folium.Marker(location=location_coord, \n",
    "                    popup=\"%s\" % (location.address),\n",
    "                    icon = folium.Icon(color = colors[3], icon='user')\n",
    "                   \n",
    "                          )\n",
    "    #map = (zoom_start=4)\n",
    "    map.add_child(marker)\n",
    "map"
   ]
  },
  {
   "cell_type": "code",
   "execution_count": 11,
   "metadata": {},
   "outputs": [
    {
     "data": {
      "text/html": [
       "<div style=\"width:100%;\"><div style=\"position:relative;width:100%;height:0;padding-bottom:60%;\"><iframe src=\"data:text/html;charset=utf-8;base64,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\" style=\"position:absolute;width:100%;height:100%;left:0;top:0;border:none !important;\" allowfullscreen webkitallowfullscreen mozallowfullscreen></iframe></div></div>"
      ],
      "text/plain": [
       "<folium.folium.Map at 0x10379c710>"
      ]
     },
     "execution_count": 11,
     "metadata": {},
     "output_type": "execute_result"
    }
   ],
   "source": [
    "#speaking map\n",
    "talk(\"here are the exact location of the circuit that %s got first, second, and third place.\"%(driver))\n",
    "talk(\"light blue is first place, blue is second place, dark blue is third place.\")\n",
    "           \n",
    "for city in city_first:\n",
    "    location = geolocator.geocode(city)\n",
    "    location_coord = location.latitude, location.longitude\n",
    "    marker = folium.Marker(location=location_coord, \n",
    "                    popup=\"%s\" % (location.address),\n",
    "                    icon = folium.Icon(color = colors[3], icon='user')\n",
    "\n",
    "                      )\n",
    "    #map = (zoom_start=4)\n",
    "    map.add_child(marker)\n",
    "map\n",
    "\n",
    "\n",
    "\n",
    "\n",
    "if city_second == []:\n",
    "    talk(\"i'm so sorry your selected driver has no second place this year\")\n",
    "\n",
    "#talk(\"here are the exact location of the circuit that your driver got second place \")\n",
    "for city in city_second:\n",
    "    location = geolocator.geocode(city)\n",
    "    location_coord = location.latitude, location.longitude\n",
    "    marker = folium.Marker(location=location_coord, \n",
    "                    popup=\"%s\" % (location.address),\n",
    "                    icon = folium.Icon(color = colors[1], icon='user')\n",
    "                      )\n",
    "    map.add_child(marker)\n",
    "\n",
    "map\n",
    "\n",
    "    \n",
    "if city_third == []:\n",
    "    talk(\"i'm so sorry your selected driver has no third place this year\")\n",
    "\n",
    "#talk(\"here are the exact location of the circuit that your driver got third place \")\n",
    "for city in city_third:\n",
    "    location = geolocator.geocode(city)\n",
    "    location_coord = location.latitude, location.longitude\n",
    "    marker = folium.Marker(location=location_coord, \n",
    "                    popup=\"%s\" % (location.address),\n",
    "                    icon = folium.Icon(color = colors[2], icon='user')\n",
    "                      )\n",
    "    map.add_child(marker)\n",
    "map\n",
    "\n",
    "\n"
   ]
  },
  {
   "cell_type": "code",
   "execution_count": 31,
   "metadata": {},
   "outputs": [
    {
     "data": {
      "text/html": [
       "<div>\n",
       "<style scoped>\n",
       "    .dataframe tbody tr th:only-of-type {\n",
       "        vertical-align: middle;\n",
       "    }\n",
       "\n",
       "    .dataframe tbody tr th {\n",
       "        vertical-align: top;\n",
       "    }\n",
       "\n",
       "    .dataframe thead th {\n",
       "        text-align: right;\n",
       "    }\n",
       "</style>\n",
       "<table border=\"1\" class=\"dataframe\">\n",
       "  <thead>\n",
       "    <tr style=\"text-align: right;\">\n",
       "      <th></th>\n",
       "      <th>1</th>\n",
       "      <th>2</th>\n",
       "      <th>4</th>\n",
       "      <th>5</th>\n",
       "      <th>7</th>\n",
       "    </tr>\n",
       "  </thead>\n",
       "  <tbody>\n",
       "    <tr>\n",
       "      <th>254</th>\n",
       "      <td>2017-03-26</td>\n",
       "      <td>Melbourne</td>\n",
       "      <td>Ferrari</td>\n",
       "      <td>4</td>\n",
       "      <td>12.00</td>\n",
       "    </tr>\n",
       "    <tr>\n",
       "      <th>255</th>\n",
       "      <td>2017-04-09</td>\n",
       "      <td>Shanghai</td>\n",
       "      <td>Ferrari</td>\n",
       "      <td>5</td>\n",
       "      <td>10.00</td>\n",
       "    </tr>\n",
       "    <tr>\n",
       "      <th>256</th>\n",
       "      <td>2017-04-16</td>\n",
       "      <td>Bahrain</td>\n",
       "      <td>Ferrari</td>\n",
       "      <td>4</td>\n",
       "      <td>12.00</td>\n",
       "    </tr>\n",
       "    <tr>\n",
       "      <th>257</th>\n",
       "      <td>2017-04-30</td>\n",
       "      <td>Sochi</td>\n",
       "      <td>Ferrari</td>\n",
       "      <td>3</td>\n",
       "      <td>15.00</td>\n",
       "    </tr>\n",
       "    <tr>\n",
       "      <th>259</th>\n",
       "      <td>2017-05-28</td>\n",
       "      <td>Monte Carlo</td>\n",
       "      <td>Ferrari</td>\n",
       "      <td>2</td>\n",
       "      <td>18.00</td>\n",
       "    </tr>\n",
       "    <tr>\n",
       "      <th>260</th>\n",
       "      <td>2017-06-11</td>\n",
       "      <td>Montreal</td>\n",
       "      <td>Ferrari</td>\n",
       "      <td>7</td>\n",
       "      <td>6.00</td>\n",
       "    </tr>\n",
       "    <tr>\n",
       "      <th>262</th>\n",
       "      <td>2017-07-09</td>\n",
       "      <td>A1 Ring</td>\n",
       "      <td>Ferrari</td>\n",
       "      <td>5</td>\n",
       "      <td>10.00</td>\n",
       "    </tr>\n",
       "    <tr>\n",
       "      <th>263</th>\n",
       "      <td>2017-07-16</td>\n",
       "      <td>Silverstone</td>\n",
       "      <td>Ferrari</td>\n",
       "      <td>3</td>\n",
       "      <td>15.00</td>\n",
       "    </tr>\n",
       "    <tr>\n",
       "      <th>264</th>\n",
       "      <td>2017-07-30</td>\n",
       "      <td>Hungaroring</td>\n",
       "      <td>Ferrari</td>\n",
       "      <td>2</td>\n",
       "      <td>18.00</td>\n",
       "    </tr>\n",
       "    <tr>\n",
       "      <th>265</th>\n",
       "      <td>2017-08-27</td>\n",
       "      <td>Spa-Francorchamps</td>\n",
       "      <td>Ferrari</td>\n",
       "      <td>4</td>\n",
       "      <td>12.00</td>\n",
       "    </tr>\n",
       "    <tr>\n",
       "      <th>266</th>\n",
       "      <td>2017-09-03</td>\n",
       "      <td>Monza</td>\n",
       "      <td>Ferrari</td>\n",
       "      <td>5</td>\n",
       "      <td>10.00</td>\n",
       "    </tr>\n",
       "    <tr>\n",
       "      <th>269</th>\n",
       "      <td>2017-10-08</td>\n",
       "      <td>Suzuka</td>\n",
       "      <td>Ferrari</td>\n",
       "      <td>5</td>\n",
       "      <td>10.00</td>\n",
       "    </tr>\n",
       "    <tr>\n",
       "      <th>270</th>\n",
       "      <td>2017-10-22</td>\n",
       "      <td>Austin</td>\n",
       "      <td>Ferrari</td>\n",
       "      <td>3</td>\n",
       "      <td>15.00</td>\n",
       "    </tr>\n",
       "    <tr>\n",
       "      <th>271</th>\n",
       "      <td>2017-10-29</td>\n",
       "      <td>Mexico City</td>\n",
       "      <td>Ferrari</td>\n",
       "      <td>3</td>\n",
       "      <td>15.00</td>\n",
       "    </tr>\n",
       "    <tr>\n",
       "      <th>272</th>\n",
       "      <td>2017-11-12</td>\n",
       "      <td>Interlagos</td>\n",
       "      <td>Ferrari</td>\n",
       "      <td>3</td>\n",
       "      <td>15.00</td>\n",
       "    </tr>\n",
       "    <tr>\n",
       "      <th>273</th>\n",
       "      <td>2017-11-26</td>\n",
       "      <td>Abu Dhabi</td>\n",
       "      <td>Ferrari</td>\n",
       "      <td>4</td>\n",
       "      <td>12.00</td>\n",
       "    </tr>\n",
       "  </tbody>\n",
       "</table>\n",
       "</div>"
      ],
      "text/plain": [
       "              1                  2        4  5      7\n",
       "254  2017-03-26          Melbourne  Ferrari  4  12.00\n",
       "255  2017-04-09           Shanghai  Ferrari  5  10.00\n",
       "256  2017-04-16            Bahrain  Ferrari  4  12.00\n",
       "257  2017-04-30              Sochi  Ferrari  3  15.00\n",
       "259  2017-05-28        Monte Carlo  Ferrari  2  18.00\n",
       "260  2017-06-11           Montreal  Ferrari  7   6.00\n",
       "262  2017-07-09            A1 Ring  Ferrari  5  10.00\n",
       "263  2017-07-16        Silverstone  Ferrari  3  15.00\n",
       "264  2017-07-30        Hungaroring  Ferrari  2  18.00\n",
       "265  2017-08-27  Spa-Francorchamps  Ferrari  4  12.00\n",
       "266  2017-09-03              Monza  Ferrari  5  10.00\n",
       "269  2017-10-08             Suzuka  Ferrari  5  10.00\n",
       "270  2017-10-22             Austin  Ferrari  3  15.00\n",
       "271  2017-10-29        Mexico City  Ferrari  3  15.00\n",
       "272  2017-11-12         Interlagos  Ferrari  3  15.00\n",
       "273  2017-11-26          Abu Dhabi  Ferrari  4  12.00"
      ]
     },
     "execution_count": 31,
     "metadata": {},
     "output_type": "execute_result"
    }
   ],
   "source": [
    "df_list = [ f1Data2015, f1Data2016 ,f1Data2017, f1Data2012]\n",
    "df_list[2]"
   ]
  },
  {
   "cell_type": "code",
   "execution_count": 32,
   "metadata": {},
   "outputs": [
    {
     "name": "stdout",
     "output_type": "stream",
     "text": [
      "(35.2078012, 72.5473968)\n",
      "(39.4699014, -0.3759513)\n",
      "(47.58241, 19.2500444390194)\n"
     ]
    }
   ],
   "source": [
    "for city in city_second:\n",
    "    location = geolocator.geocode(city)\n",
    "    location_coord = location.latitude, location.longitude\n",
    "    print(location_coord)"
   ]
  },
  {
   "cell_type": "code",
   "execution_count": 19,
   "metadata": {},
   "outputs": [],
   "source": [
    "#functions\n",
    "\n",
    "#website function\n",
    "def web_request (driver):\n",
    "    \n",
    "    driver_website_dict ={'lewis': 'http://www.4mula1.ro/s/?cdx=4d2ac0e&poi=1&idd=924',\n",
    "                          'alonso':'http://www.4mula1.ro/s/?cdx=f17791c&idd=884',\n",
    "                         'vettel':'http://www.4mula1.ro/s/?cdx=b23415a&idd=927',\n",
    "                         'kimi': 'http://www.4mula1.ro/s/?cdx=bde10b8&idd=881'}\n",
    "    driver_website_dict[driver]\n",
    "    return driver_website_dict[driver]\n",
    "\n",
    "#plot graph\n",
    "\n",
    "def plot_graph (driver):\n",
    "    plt.plot(['2010','2011','2012','2013','2014','2015','2016','2017'],\n",
    "             [total2010,total2011,total2012,total2013,total2014,total2015,total2016,total2017])\n",
    "    plt.title(driver+\"'s points from year 2010 to 2017\")\n",
    "    plt.ylabel('Points')\n",
    "    plt.xlabel('Year')\n",
    "    \n",
    "    return plt.show()\n",
    "#filter year funciton\n",
    "#how can i shrink these lines? groupby? \n",
    "def filter_year (df):\n",
    "\n",
    "    df = df[df[1].str[:4]!='2007'] \n",
    "    df = df[df[1].str[:4]!='2008'] \n",
    "    df = df[df[1].str[:4]!='2009'] \n",
    "    f1Data2010 = df[df[1].str[:4]=='2010']\n",
    "    f1Data2011 = df[df[1].str[:4]=='2011']\n",
    "    f1Data2012 = df[df[1].str[:4]=='2012']\n",
    "    f1Data2013 = df[df[1].str[:4]=='2013']\n",
    "    f1Data2014 = df[df[1].str[:4]=='2014']\n",
    "    f1Data2015 = df[df[1].str[:4]=='2015']\n",
    "    f1Data2016 = df[df[1].str[:4]=='2016']\n",
    "    f1Data2017 = df[df[1].str[:4]=='2017']\n",
    "    return \n",
    "#f1Data['Date'] = f1Data[1].apply(dateutil.parser.parse, dayfirst=False)"
   ]
  },
  {
   "cell_type": "code",
   "execution_count": 78,
   "metadata": {},
   "outputs": [
    {
     "name": "stdout",
     "output_type": "stream",
     "text": [
      "Which driver do you want to know more about? kimi\n"
     ]
    },
    {
     "data": {
      "image/png": "[encoded data removed]",
      "text/plain": [
       "<Figure size 432x288 with 1 Axes>"
      ]
     },
     "metadata": {},
     "output_type": "display_data"
    }
   ],
   "source": [
    "#actual program without function\n",
    "driver = input(\"Which driver do you want to know more about? \").lower()\n",
    "try:\n",
    "    driver_web = web_request (driver)\n",
    "    datalist = pd.read_html(driver_web) \n",
    "    f1Data = pd.DataFrame() \n",
    "    #append to list and drop fastest lap and one another column\n",
    "    f1Data = f1Data.append(datalist[0]).drop([0,3,6, 8,9], axis=1).dropna()\n",
    "    #print(driver_web)\n",
    "\n",
    "    #filter year funciton\n",
    "    #how can i shrink these lines? groupby? \n",
    "    #def filter_year ('')\n",
    "    #year = '2000'\n",
    "    #while True:\n",
    "    f1Data = f1Data[f1Data[1].str[:4]!='2007'] \n",
    "    f1Data = f1Data[f1Data[1].str[:4]!='2008'] \n",
    "    f1Data = f1Data[f1Data[1].str[:4]!='2009'] \n",
    "    f1Data2010 = f1Data[f1Data[1].str[:4]=='2010']\n",
    "    f1Data2011 = f1Data[f1Data[1].str[:4]=='2011']\n",
    "    f1Data2012 = f1Data[f1Data[1].str[:4]=='2012']\n",
    "    f1Data2013 = f1Data[f1Data[1].str[:4]=='2013']\n",
    "    f1Data2014 = f1Data[f1Data[1].str[:4]=='2014']\n",
    "    f1Data2015 = f1Data[f1Data[1].str[:4]=='2015']\n",
    "    f1Data2016 = f1Data[f1Data[1].str[:4]=='2016']\n",
    "    f1Data2017 = f1Data[f1Data[1].str[:4]=='2017']\n",
    "\n",
    "    #sum up the points for each year\n",
    "    #total_points_calulator ()\n",
    "    #make a function do int conversion\n",
    "    total2010 = 0\n",
    "    for items in f1Data2010[7]:\n",
    "        total2010 = total2010 + float(items)\n",
    "    total2011 = 0\n",
    "    for items in f1Data2011[7]:\n",
    "        total2011 = total2011 + float(items)\n",
    "    total2012 = 0\n",
    "    for items in f1Data2012[7]:\n",
    "        total2012 = total2012 + float(items)\n",
    "    total2013 =0\n",
    "    for items in f1Data2013[7]:\n",
    "        total2013 = total2013 + float(items)\n",
    "    total2014 = 0\n",
    "    for items in f1Data2014[7]:\n",
    "        total2014 = total2014 + float(items)\n",
    "    total2015 = 0\n",
    "    for items in f1Data2015[7]:\n",
    "        total2015 = total2015 + float(items)\n",
    "    total2016 = 0\n",
    "    for items in f1Data2016[7]:\n",
    "        total2016 = total2016 + float(items)\n",
    "    total2017 = 0\n",
    "    for items in f1Data2017[7]:\n",
    "        total2017 = total2017 + float(items)\n",
    "    #plot graph\n",
    "\n",
    "    plot_graph(driver)\n",
    "except KeyError:\n",
    "    print(\"Your driver is either:1)not in the list 2)has their name typed wrong. Please try again :)\")\n",
    "    "
   ]
  },
  {
   "cell_type": "code",
   "execution_count": 16,
   "metadata": {},
   "outputs": [
    {
     "name": "stdout",
     "output_type": "stream",
     "text": [
      "(40.7410861, -73.9896298241625)\n"
     ]
    }
   ],
   "source": [
    "from geopy.geocoders import Nominatim\n",
    "geolocator = Nominatim()\n",
    "location = geolocator.geocode(\"175 5th Avenue NYC\")\n",
    "#print(location.address)\n",
    "#latiron Building, 175, 5th Avenue, Flatiron, New York, NYC, New York, ...\n",
    "print((location.latitude, location.longitude))\n",
    "#(40.7410861, -73.9896297241625)\n",
    "#print(location.raw)\n",
    "#{'place_id': '9167009604', 'type': 'attraction', ...}"
   ]
  },
  {
   "cell_type": "code",
   "execution_count": null,
   "metadata": {},
   "outputs": [],
   "source": [
    "#working python\n",
    "f1DataMap = f1Data[f1Data[1].str[:4]=='2017']\n",
    "f1DataMap = f1DataMap[f1DataMap[5] == '1']\n",
    "f1DataMap\n",
    "\n",
    "city_list = []\n",
    "for city in f1DataMap[2]:\n",
    "    city_list.append(city)\n",
    "print(city_list)\n",
    "\n",
    "for city in city_list:\n",
    "    location = geolocator.geocode(city)\n",
    "    print((location.latitude, location.longitude))"
   ]
  },
  {
   "cell_type": "code",
   "execution_count": 42,
   "metadata": {},
   "outputs": [
    {
     "data": {
      "text/html": [
       "<div>\n",
       "<style scoped>\n",
       "    .dataframe tbody tr th:only-of-type {\n",
       "        vertical-align: middle;\n",
       "    }\n",
       "\n",
       "    .dataframe tbody tr th {\n",
       "        vertical-align: top;\n",
       "    }\n",
       "\n",
       "    .dataframe thead th {\n",
       "        text-align: right;\n",
       "    }\n",
       "</style>\n",
       "<table border=\"1\" class=\"dataframe\">\n",
       "  <thead>\n",
       "    <tr style=\"text-align: right;\">\n",
       "      <th></th>\n",
       "      <th>1</th>\n",
       "      <th>2</th>\n",
       "      <th>4</th>\n",
       "      <th>5</th>\n",
       "      <th>7</th>\n",
       "    </tr>\n",
       "  </thead>\n",
       "  <tbody>\n",
       "  </tbody>\n",
       "</table>\n",
       "</div>"
      ],
      "text/plain": [
       "Empty DataFrame\n",
       "Columns: [1, 2, 4, 5, 7]\n",
       "Index: []"
      ]
     },
     "execution_count": 42,
     "metadata": {},
     "output_type": "execute_result"
    }
   ],
   "source": [
    "f1DataMap"
   ]
  },
  {
   "cell_type": "code",
   "execution_count": 93,
   "metadata": {},
   "outputs": [
    {
     "name": "stdout",
     "output_type": "stream",
     "text": [
      "Enter the year you think your driver is the best in: 2011\n",
      "i'm so sorry your selected driver has no wins this year\n"
     ]
    }
   ],
   "source": [
    "#not sure why prints twice\n",
    "#f1DataMap = f1Data.append(datalist[0]).drop([0,3,6, 8,9,4,7], axis=1).dropna()\n",
    "#f1DataMap = f1DataMap[f1DataMap[1].str[:4]=='2017']\n",
    "#f1DataMap = f1DataMap[f1DataMap[5] == '2'] #or f1DataMap[f1DataMap[5] == '2']\n",
    "#f1DataMap = f1DataMap[f1DataMap[5] == '2']\n",
    "#f1DataMap\n",
    "#gradient plotting?\n",
    "\n",
    "podium_year = input(\"Enter the year you think your driver is the best in: \")\n",
    "\n",
    "f1DataMap = f1Data[f1Data[1].str[:4]==podium_year]\n",
    "f1DataMap_first = f1DataMap[f1DataMap[5]=='1']\n",
    "f1DataMap_second = f1DataMap[f1DataMap[5]=='2']\n",
    "f1DataMap_third = f1DataMap[f1DataMap[5]=='3']\n",
    "#f1DataMap = f1DataMap[f1DataMap[5]=='3']  \n",
    "#f1DataMap\n",
    "\n",
    "def location_finder (city_list):\n",
    "    for city in city_list:\n",
    "        location = geolocator.geocode(city)\n",
    "        location.address\n",
    "        location_address = location.address.split(',')\n",
    "        location_address = location_address[0]\n",
    "        location_coord = location.latitude, location.longitude\n",
    "    return(location_address)\n",
    "\n",
    "#def find_city (driver)\n",
    "city_first = []\n",
    "for city in f1DataMap_first[2]:\n",
    "    city_first.append(city)\n",
    "    print(\"here are the locations %s finished first!\"%(driver),location_finder(city_first))\n",
    "    \n",
    "city_second = []\n",
    "for city in f1DataMap_second[2]:\n",
    "    city_second.append(city)\n",
    "    print(\"here are the locations %s finished second!\"%(driver),location_finder(city_second))\n",
    "city_third = []\n",
    "for city in f1DataMap_third[2]:\n",
    "    city_third.append(city)\n",
    "    print(\"here are the locations %s finished third!\"%(driver),location_finder(city_third))\n",
    "#return city_list\n",
    "\n",
    "if city_first == [] or city_second == [] or city_third == []:\n",
    "    print(\"i'm so sorry your selected driver has no wins this year\")\n",
    "\n"
   ]
  },
  {
   "cell_type": "code",
   "execution_count": 91,
   "metadata": {},
   "outputs": [
    {
     "name": "stdout",
     "output_type": "stream",
     "text": [
      "Interlagos\n"
     ]
    }
   ],
   "source": [
    "location.address\n",
    "location_address = location.address.split(',')\n",
    "location_address = location_address[0]\n",
    "print(location_address)"
   ]
  },
  {
   "cell_type": "code",
   "execution_count": null,
   "metadata": {},
   "outputs": [],
   "source": [
    "\n",
    "#coord test\n",
    "for city in city_list:\n",
    "    location = geolocator.geocode(city)\n",
    "    location_coord = location.latitude, location.longitude\n",
    "    print(location_coord)"
   ]
  },
  {
   "cell_type": "code",
   "execution_count": 66,
   "metadata": {},
   "outputs": [
    {
     "name": "stdout",
     "output_type": "stream",
     "text": [
      "(31.2253441, 121.4888922)\n",
      "(41.3862315, 2.1700024)\n",
      "(45.4972159, -73.6103642)\n",
      "(52.0877287, -1.0241177)\n",
      "(50.5633093, 5.2206193)\n",
      "(45.5834418, 9.2735257)\n",
      "(1.2904753, 103.8520359)\n",
      "(34.886687, 136.5850198)\n",
      "(30.2711286, -97.7436995)\n"
     ]
    }
   ],
   "source": [
    "def location_finder (city_list):\n",
    "    for city in city_list:\n",
    "        location = geolocator.geocode(city)\n",
    "        location_coord = location.latitude, location.longitude\n",
    "    return(location_coord)\n",
    "\n",
    "#def find_city (driver)\n",
    "city_first = []\n",
    "for city in f1DataMap_first[2]:\n",
    "    city_first.append(city)\n",
    "    #location_finder(city_first)\n",
    "    print(location_finder(city_first))"
   ]
  },
  {
   "cell_type": "code",
   "execution_count": 31,
   "metadata": {},
   "outputs": [
    {
     "data": {
      "text/html": [
       "<div>\n",
       "<style scoped>\n",
       "    .dataframe tbody tr th:only-of-type {\n",
       "        vertical-align: middle;\n",
       "    }\n",
       "\n",
       "    .dataframe tbody tr th {\n",
       "        vertical-align: top;\n",
       "    }\n",
       "\n",
       "    .dataframe thead th {\n",
       "        text-align: right;\n",
       "    }\n",
       "</style>\n",
       "<table border=\"1\" class=\"dataframe\">\n",
       "  <thead>\n",
       "    <tr style=\"text-align: right;\">\n",
       "      <th></th>\n",
       "      <th>1</th>\n",
       "      <th>2</th>\n",
       "      <th>5</th>\n",
       "    </tr>\n",
       "  </thead>\n",
       "  <tbody>\n",
       "  </tbody>\n",
       "</table>\n",
       "</div>"
      ],
      "text/plain": [
       "Empty DataFrame\n",
       "Columns: [1, 2, 5]\n",
       "Index: []"
      ]
     },
     "execution_count": 31,
     "metadata": {},
     "output_type": "execute_result"
    }
   ],
   "source": [
    "f1DataMap = f1Data.append(datalist[0]).drop([0,3,6, 8,9,4,7], axis=1).dropna()\n",
    "f1DataMap = f1DataMap[f1DataMap[1].str[:4]=='2017']\n",
    "f1DataMap = f1DataMap[f1DataMap[5] == '1'] #or f1DataMap[f1DataMap[5] == '2']\n",
    "#f1DataMap = f1DataMap[f1DataMap[5] == '2']\n",
    "f1DataMap\n",
    "#gradient plotting?\n",
    "\n"
   ]
  },
  {
   "cell_type": "code",
   "execution_count": 14,
   "metadata": {},
   "outputs": [
    {
     "data": {
      "text/html": [
       "<div style=\"width:100%;\"><div style=\"position:relative;width:100%;height:0;padding-bottom:60%;\"><iframe src=\"data:text/html;charset=utf-8;base64,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\" style=\"position:absolute;width:100%;height:100%;left:0;top:0;border:none !important;\" allowfullscreen webkitallowfullscreen mozallowfullscreen></iframe></div></div>"
      ],
      "text/plain": [
       "<folium.folium.Map at 0x11e1b40f0>"
      ]
     },
     "execution_count": 14,
     "metadata": {},
     "output_type": "execute_result"
    }
   ],
   "source": [
    "#map test pin\n",
    "import warnings\n",
    "warnings.filterwarnings('ignore')\n",
    "colors = ['blue', 'darkblue',  'cadetblue',\n",
    "             'lightblue', ]\n",
    "\n",
    "\n",
    "for city in city_first:\n",
    "    location = geolocator.geocode(city)\n",
    "    location_coord = location.latitude, location.longitude\n",
    "    marker = folium.Marker(location=location_coord, \n",
    "                    popup=\"%s\" % (location.address),\n",
    "                    icon = folium.Icon(color = colors[3], icon='user')\n",
    "                   \n",
    "                          )\n",
    "    #map = (zoom_start=4)\n",
    "    map.add_child(marker)\n",
    "map\n",
    "\n",
    "for city in city_second:\n",
    "    location = geolocator.geocode(city)\n",
    "    location_coord = location.latitude, location.longitude\n",
    "    marker = folium.Marker(location=location_coord, \n",
    "                    popup=\"%s\" % (location.address),\n",
    "                    icon = folium.Icon(color = colors[1], icon='user')\n",
    "                          )\n",
    "    map.add_child(marker)\n",
    "    \n",
    "map\n",
    "\n",
    "for city in city_third:\n",
    "    location = geolocator.geocode(city)\n",
    "    location_coord = location.latitude, location.longitude\n",
    "    marker = folium.Marker(location=location_coord, \n",
    "                    popup=\"%s\" % (location.address),\n",
    "                    icon = folium.Icon(color = colors[2], icon='user')\n",
    "                          )\n",
    "    map.add_child(marker)\n",
    "map"
   ]
  },
  {
   "cell_type": "code",
   "execution_count": 73,
   "metadata": {},
   "outputs": [
    {
     "data": {
      "text/html": [
       "<div>\n",
       "<style scoped>\n",
       "    .dataframe tbody tr th:only-of-type {\n",
       "        vertical-align: middle;\n",
       "    }\n",
       "\n",
       "    .dataframe tbody tr th {\n",
       "        vertical-align: top;\n",
       "    }\n",
       "\n",
       "    .dataframe thead th {\n",
       "        text-align: right;\n",
       "    }\n",
       "</style>\n",
       "<table border=\"1\" class=\"dataframe\">\n",
       "  <thead>\n",
       "    <tr style=\"text-align: right;\">\n",
       "      <th></th>\n",
       "      <th>1</th>\n",
       "      <th>2</th>\n",
       "      <th>4</th>\n",
       "      <th>5</th>\n",
       "      <th>7</th>\n",
       "    </tr>\n",
       "  </thead>\n",
       "  <tbody>\n",
       "    <tr>\n",
       "      <th>153</th>\n",
       "      <td>2017-03-26</td>\n",
       "      <td>Melbourne</td>\n",
       "      <td>Mercedes</td>\n",
       "      <td>2</td>\n",
       "      <td>18.00</td>\n",
       "    </tr>\n",
       "    <tr>\n",
       "      <th>154</th>\n",
       "      <td>2017-04-09</td>\n",
       "      <td>Shanghai</td>\n",
       "      <td>Mercedes</td>\n",
       "      <td>1</td>\n",
       "      <td>25.00</td>\n",
       "    </tr>\n",
       "    <tr>\n",
       "      <th>155</th>\n",
       "      <td>2017-04-16</td>\n",
       "      <td>Bahrain</td>\n",
       "      <td>Mercedes</td>\n",
       "      <td>2</td>\n",
       "      <td>18.00</td>\n",
       "    </tr>\n",
       "    <tr>\n",
       "      <th>156</th>\n",
       "      <td>2017-04-30</td>\n",
       "      <td>Sochi</td>\n",
       "      <td>Mercedes</td>\n",
       "      <td>4</td>\n",
       "      <td>12.00</td>\n",
       "    </tr>\n",
       "    <tr>\n",
       "      <th>157</th>\n",
       "      <td>2017-05-14</td>\n",
       "      <td>Catalunya</td>\n",
       "      <td>Mercedes</td>\n",
       "      <td>1</td>\n",
       "      <td>25.00</td>\n",
       "    </tr>\n",
       "    <tr>\n",
       "      <th>158</th>\n",
       "      <td>2017-05-28</td>\n",
       "      <td>Monte Carlo</td>\n",
       "      <td>Mercedes</td>\n",
       "      <td>7</td>\n",
       "      <td>6.00</td>\n",
       "    </tr>\n",
       "    <tr>\n",
       "      <th>159</th>\n",
       "      <td>2017-06-11</td>\n",
       "      <td>Montreal</td>\n",
       "      <td>Mercedes</td>\n",
       "      <td>1</td>\n",
       "      <td>25.00</td>\n",
       "    </tr>\n",
       "    <tr>\n",
       "      <th>160</th>\n",
       "      <td>2017-06-25</td>\n",
       "      <td>Baku</td>\n",
       "      <td>Mercedes</td>\n",
       "      <td>5</td>\n",
       "      <td>10.00</td>\n",
       "    </tr>\n",
       "    <tr>\n",
       "      <th>161</th>\n",
       "      <td>2017-07-09</td>\n",
       "      <td>A1 Ring</td>\n",
       "      <td>Mercedes</td>\n",
       "      <td>4</td>\n",
       "      <td>12.00</td>\n",
       "    </tr>\n",
       "    <tr>\n",
       "      <th>162</th>\n",
       "      <td>2017-07-16</td>\n",
       "      <td>Silverstone</td>\n",
       "      <td>Mercedes</td>\n",
       "      <td>1</td>\n",
       "      <td>25.00</td>\n",
       "    </tr>\n",
       "    <tr>\n",
       "      <th>163</th>\n",
       "      <td>2017-07-30</td>\n",
       "      <td>Hungaroring</td>\n",
       "      <td>Mercedes</td>\n",
       "      <td>4</td>\n",
       "      <td>12.00</td>\n",
       "    </tr>\n",
       "    <tr>\n",
       "      <th>164</th>\n",
       "      <td>2017-08-27</td>\n",
       "      <td>Spa-Francorchamps</td>\n",
       "      <td>Mercedes</td>\n",
       "      <td>1</td>\n",
       "      <td>25.00</td>\n",
       "    </tr>\n",
       "    <tr>\n",
       "      <th>165</th>\n",
       "      <td>2017-09-03</td>\n",
       "      <td>Monza</td>\n",
       "      <td>Mercedes</td>\n",
       "      <td>1</td>\n",
       "      <td>25.00</td>\n",
       "    </tr>\n",
       "    <tr>\n",
       "      <th>166</th>\n",
       "      <td>2017-09-17</td>\n",
       "      <td>Singapore</td>\n",
       "      <td>Mercedes</td>\n",
       "      <td>1</td>\n",
       "      <td>25.00</td>\n",
       "    </tr>\n",
       "    <tr>\n",
       "      <th>167</th>\n",
       "      <td>2017-10-01</td>\n",
       "      <td>Sepang</td>\n",
       "      <td>Mercedes</td>\n",
       "      <td>2</td>\n",
       "      <td>18.00</td>\n",
       "    </tr>\n",
       "    <tr>\n",
       "      <th>168</th>\n",
       "      <td>2017-10-08</td>\n",
       "      <td>Suzuka</td>\n",
       "      <td>Mercedes</td>\n",
       "      <td>1</td>\n",
       "      <td>25.00</td>\n",
       "    </tr>\n",
       "    <tr>\n",
       "      <th>169</th>\n",
       "      <td>2017-10-22</td>\n",
       "      <td>Austin</td>\n",
       "      <td>Mercedes</td>\n",
       "      <td>1</td>\n",
       "      <td>25.00</td>\n",
       "    </tr>\n",
       "    <tr>\n",
       "      <th>170</th>\n",
       "      <td>2017-10-29</td>\n",
       "      <td>Mexico City</td>\n",
       "      <td>Mercedes</td>\n",
       "      <td>9</td>\n",
       "      <td>2.00</td>\n",
       "    </tr>\n",
       "    <tr>\n",
       "      <th>171</th>\n",
       "      <td>2017-11-12</td>\n",
       "      <td>Interlagos</td>\n",
       "      <td>Mercedes</td>\n",
       "      <td>4</td>\n",
       "      <td>12.00</td>\n",
       "    </tr>\n",
       "    <tr>\n",
       "      <th>172</th>\n",
       "      <td>2017-11-26</td>\n",
       "      <td>Abu Dhabi</td>\n",
       "      <td>Mercedes</td>\n",
       "      <td>2</td>\n",
       "      <td>18.00</td>\n",
       "    </tr>\n",
       "  </tbody>\n",
       "</table>\n",
       "</div>"
      ],
      "text/plain": [
       "              1                  2         4  5      7\n",
       "153  2017-03-26          Melbourne  Mercedes  2  18.00\n",
       "154  2017-04-09           Shanghai  Mercedes  1  25.00\n",
       "155  2017-04-16            Bahrain  Mercedes  2  18.00\n",
       "156  2017-04-30              Sochi  Mercedes  4  12.00\n",
       "157  2017-05-14          Catalunya  Mercedes  1  25.00\n",
       "158  2017-05-28        Monte Carlo  Mercedes  7   6.00\n",
       "159  2017-06-11           Montreal  Mercedes  1  25.00\n",
       "160  2017-06-25               Baku  Mercedes  5  10.00\n",
       "161  2017-07-09            A1 Ring  Mercedes  4  12.00\n",
       "162  2017-07-16        Silverstone  Mercedes  1  25.00\n",
       "163  2017-07-30        Hungaroring  Mercedes  4  12.00\n",
       "164  2017-08-27  Spa-Francorchamps  Mercedes  1  25.00\n",
       "165  2017-09-03              Monza  Mercedes  1  25.00\n",
       "166  2017-09-17          Singapore  Mercedes  1  25.00\n",
       "167  2017-10-01             Sepang  Mercedes  2  18.00\n",
       "168  2017-10-08             Suzuka  Mercedes  1  25.00\n",
       "169  2017-10-22             Austin  Mercedes  1  25.00\n",
       "170  2017-10-29        Mexico City  Mercedes  9   2.00\n",
       "171  2017-11-12         Interlagos  Mercedes  4  12.00\n",
       "172  2017-11-26          Abu Dhabi  Mercedes  2  18.00"
      ]
     },
     "execution_count": 73,
     "metadata": {},
     "output_type": "execute_result"
    }
   ],
   "source": [
    "f1DataMap\n"
   ]
  },
  {
   "cell_type": "code",
   "execution_count": 9,
   "metadata": {},
   "outputs": [
    {
     "data": {
      "text/plain": [
       "['__class__',\n",
       " '__delattr__',\n",
       " '__dir__',\n",
       " '__doc__',\n",
       " '__eq__',\n",
       " '__format__',\n",
       " '__ge__',\n",
       " '__getattribute__',\n",
       " '__gt__',\n",
       " '__hash__',\n",
       " '__init__',\n",
       " '__init_subclass__',\n",
       " '__iter__',\n",
       " '__le__',\n",
       " '__lt__',\n",
       " '__ne__',\n",
       " '__new__',\n",
       " '__next__',\n",
       " '__reduce__',\n",
       " '__reduce_ex__',\n",
       " '__repr__',\n",
       " '__setattr__',\n",
       " '__sizeof__',\n",
       " '__str__',\n",
       " '__subclasshook__']"
      ]
     },
     "execution_count": 9,
     "metadata": {},
     "output_type": "execute_result"
    }
   ],
   "source": [
    "dir(map)"
   ]
  },
  {
   "cell_type": "code",
   "execution_count": 8,
   "metadata": {},
   "outputs": [
    {
     "data": {
      "text/html": [
       "<div style=\"width:100%;\"><div style=\"position:relative;width:100%;height:0;padding-bottom:60%;\"><iframe src=\"data:text/html;charset=utf-8;base64,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\" style=\"position:absolute;width:100%;height:100%;left:0;top:0;border:none !important;\" allowfullscreen webkitallowfullscreen mozallowfullscreen></iframe></div></div>"
      ],
      "text/plain": [
       "<folium.folium.Map at 0x10379c710>"
      ]
     },
     "execution_count": 8,
     "metadata": {},
     "output_type": "execute_result"
    }
   ],
   "source": [
    "# we need to center the map in the middle of the US. I googled for the location.\n",
    "CENTER_US = (39.8333333,-98.585522)\n",
    "london = (51.5074, -0.1278)\n",
    "map = folium.Map(zoom_start=2)\n",
    "map\n",
    "# read in a data file of IP address to locations.\n",
    "data = pd.read_csv('https://raw.githubusercontent.com/mafudge/datasets/master/clickstream/ip_lookup.csv')\n",
    "data.sample(5)\n",
    "# Let's place each location on the map\n",
    "for row in data.to_records():\n",
    "    pos = (row['ApproxLat'],row['ApproxLng'])\n",
    "    marker = folium.Marker(location=pos, \n",
    "                    popup=\"%s, %s\" % (row['City'],row['State'])\n",
    "                          )\n",
    "    map.add_child(marker)\n",
    "map"
   ]
  },
  {
   "cell_type": "code",
   "execution_count": 19,
   "metadata": {},
   "outputs": [
    {
     "ename": "SyntaxError",
     "evalue": "invalid syntax (<ipython-input-19-6b43aa624d87>, line 3)",
     "output_type": "error",
     "traceback": [
      "\u001b[0;36m  File \u001b[0;32m\"<ipython-input-19-6b43aa624d87>\"\u001b[0;36m, line \u001b[0;32m3\u001b[0m\n\u001b[0;31m    print(h1\"lol\")\u001b[0m\n\u001b[0m                ^\u001b[0m\n\u001b[0;31mSyntaxError\u001b[0m\u001b[0;31m:\u001b[0m invalid syntax\n"
     ]
    }
   ],
   "source": [
    "#print titles\n",
    "\n",
    "print(\"lol\")"
   ]
  },
  {
   "cell_type": "code",
   "execution_count": 4,
   "metadata": {},
   "outputs": [
    {
     "data": {
      "text/html": [
       "<div style=\"width:100%;\"><div style=\"position:relative;width:100%;height:0;padding-bottom:60%;\"><iframe src=\"data:text/html;charset=utf-8;base64,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\" style=\"position:absolute;width:100%;height:100%;left:0;top:0;border:none !important;\" allowfullscreen webkitallowfullscreen mozallowfullscreen></iframe></div></div>"
      ],
      "text/plain": [
       "<folium.folium.Map at 0x11511bda0>"
      ]
     },
     "execution_count": 4,
     "metadata": {},
     "output_type": "execute_result"
    }
   ],
   "source": [
    "map = folium.Map(zoom_start=2)\n",
    "map"
   ]
  },
  {
   "cell_type": "code",
   "execution_count": 10,
   "metadata": {},
   "outputs": [],
   "source": [
    "import wikipedia \n",
    "\n"
   ]
  },
  {
   "cell_type": "code",
   "execution_count": null,
   "metadata": {},
   "outputs": [],
   "source": [
    " f1Data = f1Data[f1Data[1].str[:4]!='2007'] \n",
    "    f1Data = f1Data[f1Data[1].str[:4]!='2008'] \n",
    "    f1Data = f1Data[f1Data[1].str[:4]!='2009'] \n",
    "    f1Data2010 = f1Data[f1Data[1].str[:4]=='2010']\n",
    "    f1Data2011 = f1Data[f1Data[1].str[:4]=='2011']\n",
    "    f1Data2012 = f1Data[f1Data[1].str[:4]=='2012']\n",
    "    f1Data2013 = f1Data[f1Data[1].str[:4]=='2013']\n",
    "    f1Data2014 = f1Data[f1Data[1].str[:4]=='2014']\n",
    "    f1Data2015 = f1Data[f1Data[1].str[:4]=='2015']\n",
    "    f1Data2016 = f1Data[f1Data[1].str[:4]=='2016']\n",
    "    f1Data2017 = f1Data[f1Data[1].str[:4]=='2017']"
   ]
  },
  {
   "cell_type": "code",
   "execution_count": 31,
   "metadata": {},
   "outputs": [
    {
     "name": "stdout",
     "output_type": "stream",
     "text": [
      "['Ferrari', 'McLaren', 'Mercedes', 'Williams', 'Lotus', 'Red Bull'] ['96', '73', '52', '46', '38', '30']\n"
     ]
    }
   ],
   "source": [
    "Team_list = []\n",
    "for items in Best_teams[1]:\n",
    "    Team_list.append(items)\n",
    "Team_wins = []\n",
    "for items in Best_teams[0]:\n",
    "    Team_wins.append(items)\n",
    "\n",
    "print(Team_list,Team_wins)"
   ]
  },
  {
   "cell_type": "code",
   "execution_count": 33,
   "metadata": {},
   "outputs": [
    {
     "ename": "TypeError",
     "evalue": "Empty 'DataFrame': no numeric data to plot",
     "output_type": "error",
     "traceback": [
      "\u001b[0;31m---------------------------------------------------------------------------\u001b[0m",
      "\u001b[0;31mTypeError\u001b[0m                                 Traceback (most recent call last)",
      "\u001b[0;32m<ipython-input-33-c821f57384b0>\u001b[0m in \u001b[0;36m<module>\u001b[0;34m()\u001b[0m\n\u001b[1;32m     11\u001b[0m \u001b[0;34m\u001b[0m\u001b[0m\n\u001b[1;32m     12\u001b[0m \u001b[0;31m#Best_teams = pd.DataFrame( { 1 : Best_teams[0].value_counts() } ).sort_index()\u001b[0m\u001b[0;34m\u001b[0m\u001b[0;34m\u001b[0m\u001b[0m\n\u001b[0;32m---> 13\u001b[0;31m \u001b[0mBest_teams\u001b[0m\u001b[0;34m.\u001b[0m\u001b[0mplot\u001b[0m\u001b[0;34m.\u001b[0m\u001b[0mbar\u001b[0m\u001b[0;34m(\u001b[0m\u001b[0msort_columns\u001b[0m\u001b[0;34m=\u001b[0m\u001b[0;32mTrue\u001b[0m\u001b[0;34m)\u001b[0m\u001b[0;34m\u001b[0m\u001b[0m\n\u001b[0m\u001b[1;32m     14\u001b[0m \u001b[0;34m\u001b[0m\u001b[0m\n\u001b[1;32m     15\u001b[0m \u001b[0mbar\u001b[0m\u001b[0;34m(\u001b[0m\u001b[0mTeam_list\u001b[0m\u001b[0;34m[\u001b[0m\u001b[0;36m0\u001b[0m\u001b[0;34m]\u001b[0m\u001b[0;34m,\u001b[0m \u001b[0mTeam_list\u001b[0m\u001b[0;34m[\u001b[0m\u001b[0;36m0\u001b[0m\u001b[0;34m]\u001b[0m\u001b[0;34m,\u001b[0m \u001b[0malign\u001b[0m\u001b[0;34m=\u001b[0m\u001b[0;34m'center'\u001b[0m\u001b[0;34m)\u001b[0m\u001b[0;34m\u001b[0m\u001b[0m\n",
      "\u001b[0;32m~/miniconda3/lib/python3.6/site-packages/pandas/plotting/_core.py\u001b[0m in \u001b[0;36mbar\u001b[0;34m(self, x, y, **kwds)\u001b[0m\n\u001b[1;32m   2714\u001b[0m         \u001b[0maxes\u001b[0m \u001b[0;34m:\u001b[0m \u001b[0mmatplotlib\u001b[0m\u001b[0;34m.\u001b[0m\u001b[0mAxesSubplot\u001b[0m \u001b[0;32mor\u001b[0m \u001b[0mnp\u001b[0m\u001b[0;34m.\u001b[0m\u001b[0marray\u001b[0m \u001b[0mof\u001b[0m \u001b[0mthem\u001b[0m\u001b[0;34m\u001b[0m\u001b[0m\n\u001b[1;32m   2715\u001b[0m         \"\"\"\n\u001b[0;32m-> 2716\u001b[0;31m         \u001b[0;32mreturn\u001b[0m \u001b[0mself\u001b[0m\u001b[0;34m(\u001b[0m\u001b[0mkind\u001b[0m\u001b[0;34m=\u001b[0m\u001b[0;34m'bar'\u001b[0m\u001b[0;34m,\u001b[0m \u001b[0mx\u001b[0m\u001b[0;34m=\u001b[0m\u001b[0mx\u001b[0m\u001b[0;34m,\u001b[0m \u001b[0my\u001b[0m\u001b[0;34m=\u001b[0m\u001b[0my\u001b[0m\u001b[0;34m,\u001b[0m \u001b[0;34m**\u001b[0m\u001b[0mkwds\u001b[0m\u001b[0;34m)\u001b[0m\u001b[0;34m\u001b[0m\u001b[0m\n\u001b[0m\u001b[1;32m   2717\u001b[0m \u001b[0;34m\u001b[0m\u001b[0m\n\u001b[1;32m   2718\u001b[0m     \u001b[0;32mdef\u001b[0m \u001b[0mbarh\u001b[0m\u001b[0;34m(\u001b[0m\u001b[0mself\u001b[0m\u001b[0;34m,\u001b[0m \u001b[0mx\u001b[0m\u001b[0;34m=\u001b[0m\u001b[0;32mNone\u001b[0m\u001b[0;34m,\u001b[0m \u001b[0my\u001b[0m\u001b[0;34m=\u001b[0m\u001b[0;32mNone\u001b[0m\u001b[0;34m,\u001b[0m \u001b[0;34m**\u001b[0m\u001b[0mkwds\u001b[0m\u001b[0;34m)\u001b[0m\u001b[0;34m:\u001b[0m\u001b[0;34m\u001b[0m\u001b[0m\n",
      "\u001b[0;32m~/miniconda3/lib/python3.6/site-packages/pandas/plotting/_core.py\u001b[0m in \u001b[0;36m__call__\u001b[0;34m(self, x, y, kind, ax, subplots, sharex, sharey, layout, figsize, use_index, title, grid, legend, style, logx, logy, loglog, xticks, yticks, xlim, ylim, rot, fontsize, colormap, table, yerr, xerr, secondary_y, sort_columns, **kwds)\u001b[0m\n\u001b[1;32m   2675\u001b[0m                           \u001b[0mfontsize\u001b[0m\u001b[0;34m=\u001b[0m\u001b[0mfontsize\u001b[0m\u001b[0;34m,\u001b[0m \u001b[0mcolormap\u001b[0m\u001b[0;34m=\u001b[0m\u001b[0mcolormap\u001b[0m\u001b[0;34m,\u001b[0m \u001b[0mtable\u001b[0m\u001b[0;34m=\u001b[0m\u001b[0mtable\u001b[0m\u001b[0;34m,\u001b[0m\u001b[0;34m\u001b[0m\u001b[0m\n\u001b[1;32m   2676\u001b[0m                           \u001b[0myerr\u001b[0m\u001b[0;34m=\u001b[0m\u001b[0myerr\u001b[0m\u001b[0;34m,\u001b[0m \u001b[0mxerr\u001b[0m\u001b[0;34m=\u001b[0m\u001b[0mxerr\u001b[0m\u001b[0;34m,\u001b[0m \u001b[0msecondary_y\u001b[0m\u001b[0;34m=\u001b[0m\u001b[0msecondary_y\u001b[0m\u001b[0;34m,\u001b[0m\u001b[0;34m\u001b[0m\u001b[0m\n\u001b[0;32m-> 2677\u001b[0;31m                           sort_columns=sort_columns, **kwds)\n\u001b[0m\u001b[1;32m   2678\u001b[0m     \u001b[0m__call__\u001b[0m\u001b[0;34m.\u001b[0m\u001b[0m__doc__\u001b[0m \u001b[0;34m=\u001b[0m \u001b[0mplot_frame\u001b[0m\u001b[0;34m.\u001b[0m\u001b[0m__doc__\u001b[0m\u001b[0;34m\u001b[0m\u001b[0m\n\u001b[1;32m   2679\u001b[0m \u001b[0;34m\u001b[0m\u001b[0m\n",
      "\u001b[0;32m~/miniconda3/lib/python3.6/site-packages/pandas/plotting/_core.py\u001b[0m in \u001b[0;36mplot_frame\u001b[0;34m(data, x, y, kind, ax, subplots, sharex, sharey, layout, figsize, use_index, title, grid, legend, style, logx, logy, loglog, xticks, yticks, xlim, ylim, rot, fontsize, colormap, table, yerr, xerr, secondary_y, sort_columns, **kwds)\u001b[0m\n\u001b[1;32m   1900\u001b[0m                  \u001b[0myerr\u001b[0m\u001b[0;34m=\u001b[0m\u001b[0myerr\u001b[0m\u001b[0;34m,\u001b[0m \u001b[0mxerr\u001b[0m\u001b[0;34m=\u001b[0m\u001b[0mxerr\u001b[0m\u001b[0;34m,\u001b[0m\u001b[0;34m\u001b[0m\u001b[0m\n\u001b[1;32m   1901\u001b[0m                  \u001b[0msecondary_y\u001b[0m\u001b[0;34m=\u001b[0m\u001b[0msecondary_y\u001b[0m\u001b[0;34m,\u001b[0m \u001b[0msort_columns\u001b[0m\u001b[0;34m=\u001b[0m\u001b[0msort_columns\u001b[0m\u001b[0;34m,\u001b[0m\u001b[0;34m\u001b[0m\u001b[0m\n\u001b[0;32m-> 1902\u001b[0;31m                  **kwds)\n\u001b[0m\u001b[1;32m   1903\u001b[0m \u001b[0;34m\u001b[0m\u001b[0m\n\u001b[1;32m   1904\u001b[0m \u001b[0;34m\u001b[0m\u001b[0m\n",
      "\u001b[0;32m~/miniconda3/lib/python3.6/site-packages/pandas/plotting/_core.py\u001b[0m in \u001b[0;36m_plot\u001b[0;34m(data, x, y, subplots, ax, kind, **kwds)\u001b[0m\n\u001b[1;32m   1727\u001b[0m         \u001b[0mplot_obj\u001b[0m \u001b[0;34m=\u001b[0m \u001b[0mklass\u001b[0m\u001b[0;34m(\u001b[0m\u001b[0mdata\u001b[0m\u001b[0;34m,\u001b[0m \u001b[0msubplots\u001b[0m\u001b[0;34m=\u001b[0m\u001b[0msubplots\u001b[0m\u001b[0;34m,\u001b[0m \u001b[0max\u001b[0m\u001b[0;34m=\u001b[0m\u001b[0max\u001b[0m\u001b[0;34m,\u001b[0m \u001b[0mkind\u001b[0m\u001b[0;34m=\u001b[0m\u001b[0mkind\u001b[0m\u001b[0;34m,\u001b[0m \u001b[0;34m**\u001b[0m\u001b[0mkwds\u001b[0m\u001b[0;34m)\u001b[0m\u001b[0;34m\u001b[0m\u001b[0m\n\u001b[1;32m   1728\u001b[0m \u001b[0;34m\u001b[0m\u001b[0m\n\u001b[0;32m-> 1729\u001b[0;31m     \u001b[0mplot_obj\u001b[0m\u001b[0;34m.\u001b[0m\u001b[0mgenerate\u001b[0m\u001b[0;34m(\u001b[0m\u001b[0;34m)\u001b[0m\u001b[0;34m\u001b[0m\u001b[0m\n\u001b[0m\u001b[1;32m   1730\u001b[0m     \u001b[0mplot_obj\u001b[0m\u001b[0;34m.\u001b[0m\u001b[0mdraw\u001b[0m\u001b[0;34m(\u001b[0m\u001b[0;34m)\u001b[0m\u001b[0;34m\u001b[0m\u001b[0m\n\u001b[1;32m   1731\u001b[0m     \u001b[0;32mreturn\u001b[0m \u001b[0mplot_obj\u001b[0m\u001b[0;34m.\u001b[0m\u001b[0mresult\u001b[0m\u001b[0;34m\u001b[0m\u001b[0m\n",
      "\u001b[0;32m~/miniconda3/lib/python3.6/site-packages/pandas/plotting/_core.py\u001b[0m in \u001b[0;36mgenerate\u001b[0;34m(self)\u001b[0m\n\u001b[1;32m    248\u001b[0m     \u001b[0;32mdef\u001b[0m \u001b[0mgenerate\u001b[0m\u001b[0;34m(\u001b[0m\u001b[0mself\u001b[0m\u001b[0;34m)\u001b[0m\u001b[0;34m:\u001b[0m\u001b[0;34m\u001b[0m\u001b[0m\n\u001b[1;32m    249\u001b[0m         \u001b[0mself\u001b[0m\u001b[0;34m.\u001b[0m\u001b[0m_args_adjust\u001b[0m\u001b[0;34m(\u001b[0m\u001b[0;34m)\u001b[0m\u001b[0;34m\u001b[0m\u001b[0m\n\u001b[0;32m--> 250\u001b[0;31m         \u001b[0mself\u001b[0m\u001b[0;34m.\u001b[0m\u001b[0m_compute_plot_data\u001b[0m\u001b[0;34m(\u001b[0m\u001b[0;34m)\u001b[0m\u001b[0;34m\u001b[0m\u001b[0m\n\u001b[0m\u001b[1;32m    251\u001b[0m         \u001b[0mself\u001b[0m\u001b[0;34m.\u001b[0m\u001b[0m_setup_subplots\u001b[0m\u001b[0;34m(\u001b[0m\u001b[0;34m)\u001b[0m\u001b[0;34m\u001b[0m\u001b[0m\n\u001b[1;32m    252\u001b[0m         \u001b[0mself\u001b[0m\u001b[0;34m.\u001b[0m\u001b[0m_make_plot\u001b[0m\u001b[0;34m(\u001b[0m\u001b[0;34m)\u001b[0m\u001b[0;34m\u001b[0m\u001b[0m\n",
      "\u001b[0;32m~/miniconda3/lib/python3.6/site-packages/pandas/plotting/_core.py\u001b[0m in \u001b[0;36m_compute_plot_data\u001b[0;34m(self)\u001b[0m\n\u001b[1;32m    363\u001b[0m         \u001b[0;32mif\u001b[0m \u001b[0mis_empty\u001b[0m\u001b[0;34m:\u001b[0m\u001b[0;34m\u001b[0m\u001b[0m\n\u001b[1;32m    364\u001b[0m             raise TypeError('Empty {0!r}: no numeric data to '\n\u001b[0;32m--> 365\u001b[0;31m                             'plot'.format(numeric_data.__class__.__name__))\n\u001b[0m\u001b[1;32m    366\u001b[0m \u001b[0;34m\u001b[0m\u001b[0m\n\u001b[1;32m    367\u001b[0m         \u001b[0mself\u001b[0m\u001b[0;34m.\u001b[0m\u001b[0mdata\u001b[0m \u001b[0;34m=\u001b[0m \u001b[0mnumeric_data\u001b[0m\u001b[0;34m\u001b[0m\u001b[0m\n",
      "\u001b[0;31mTypeError\u001b[0m: Empty 'DataFrame': no numeric data to plot"
     ]
    }
   ],
   "source": [
    "f1Data_Team = pd.DataFrame() \n",
    "\n",
    "scores = pd.read_html(\"http://www.4mula1.ro/statistics/team/victorypole.html\")\n",
    "\n",
    "Best_teams = f1Data_Team.append(scores[0]).dropna().loc[1:6, 0:1]\n",
    "#Best_teams = f1Data_Team_Victory.loc[1:6, 0:1]\n",
    "\n",
    "for items in Best_teams[0]:\n",
    "    items = int(items)\n",
    "Best_teams\n",
    "\n",
    "#Best_teams = pd.DataFrame( { 1 : Best_teams[0].value_counts() } ).sort_index()\n",
    "Best_teams.plot.bar(sort_columns=True)\n",
    "\n",
    "bar(Team_list[0], Team_list[0], align='center')\n",
    "#bar(x, height, width, *, align='center', **kwargs)\n",
    "#bar(x, height, width, bottom, *, align='center', **kwargs)"
   ]
  },
  {
   "cell_type": "code",
   "execution_count": 9,
   "metadata": {},
   "outputs": [
    {
     "data": {
      "image/png": "[encoded data removed]",
      "text/plain": [
       "<Figure size 432x288 with 1 Axes>"
      ]
     },
     "metadata": {},
     "output_type": "display_data"
    }
   ],
   "source": [
    "#each year top 5 drivers since 2007\n",
    "#plot bar graph\n",
    "f1Data_Team = pd.DataFrame() \n",
    "\n",
    "scores = pd.read_html(\"http://www.4mula1.ro/statistics/team/victorypole.html\")\n",
    "\n",
    "f1Data_Team_Victory = f1Data_Team.append(scores[0]).dropna()\n",
    "Best_teams = f1Data_Team_Victory.loc[1:6, 0:1]\n",
    "\n",
    "Team_list = []\n",
    "for items in Best_teams[1]:\n",
    "    Team_list.append(items)\n",
    "Team_wins = []\n",
    "for items in Best_teams[0]:\n",
    "    Team_wins.append(items)\n",
    "objects = Team_list\n",
    "performance = Team_wins\n",
    "y_pos = np.arange(len(performance))\n",
    "plt.bar(performance, objects)\n",
    "#plt.yticks(performance)\n",
    "#plt.xticks(objects)\n",
    "plt.ylabel('Team')\n",
    "plt.title('Number of Cumalative Victories For each Team from 1950 to 2018')\n",
    " \n",
    "plt.show()\n",
    "\n",
    "#print(Team_list)\n",
    "#Team_barchart.plot.bar(sort_columns=True)"
   ]
  },
  {
   "cell_type": "code",
   "execution_count": 34,
   "metadata": {},
   "outputs": [
    {
     "data": {
      "text/plain": [
       "['30', '38', '46', '52', '73', '96']"
      ]
     },
     "execution_count": 34,
     "metadata": {},
     "output_type": "execute_result"
    }
   ],
   "source": [
    "Team_wins.sort()\n",
    "Team_wins\n",
    "\n",
    "#Team_list.sort()\n",
    "#Team_list"
   ]
  },
  {
   "cell_type": "code",
   "execution_count": 40,
   "metadata": {},
   "outputs": [
    {
     "data": {
      "image/png": "[encoded data removed]",
      "text/plain": [
       "<Figure size 640x480 with 1 Axes>"
      ]
     },
     "metadata": {},
     "output_type": "display_data"
    }
   ],
   "source": [
    "import matplotlib.pyplot as plt; plt.rcdefaults()\n",
    "import numpy as np\n",
    "import matplotlib.pyplot as plt\n",
    " \n",
    "objects = ('Ferrari', 'McLaren', 'Mercedes', 'Williams', 'Lotus', 'Red Bull')\n",
    "y_pos = np.arange(len(objects))\n",
    "performance = [96,73,52,46,38,30]\n",
    " \n",
    "plt.bar(y_pos, performance, align='center', alpha=0.5)\n",
    "plt.xticks(y_pos, objects)\n",
    "plt.ylabel('Number of Wins')\n",
    "plt.title('Number of Cumalative Victories For each Team from 1950 to 2018')\n",
    " #ax.legend()\n",
    "plt.show()"
   ]
  },
  {
   "cell_type": "code",
   "execution_count": 46,
   "metadata": {},
   "outputs": [
    {
     "data": {
      "image/png": "[encoded data removed]",
      "text/plain": [
       "<Figure size 640x480 with 1 Axes>"
      ]
     },
     "metadata": {},
     "output_type": "display_data"
    }
   ],
   "source": [
    "x = [u'INFO', u'CUISINE', u'TYPE_OF_PLACE', u'DRINK', u'PLACE', u'MEAL_TIME', u'DISH', u'NEIGHBOURHOOD']\n",
    "y = [160, 167, 137, 18, 120, 36, 155, 130]\n",
    "\n",
    "fig, ax = plt.subplots()    \n",
    "width = 0.75 # the width of the bars \n",
    "ind = np.arange(len(y))  # the x locations for the groups\n",
    "ax.bar(ind, y, width, color=\"DeepSkyblue\")\n",
    "ax.set_yticks(ind+width/2)\n",
    "ax.set_yticklabels(x, minor=True)\n",
    "plt.title('title')\n",
    "plt.xlabel('x')\n",
    "plt.ylabel('y')\n",
    "for i, v in enumerate(y):\n",
    "    ax.text(v + 3, i + .25, str(v), color='blue', fontweight='bold')\n",
    "#plt.show()\n",
    "plt.savefig(os.path.join('test.png'), dpi=300, format='png', bbox_inches='tight') # use format='svg' or 'pdf' for vectorial pictures"
   ]
  },
  {
   "cell_type": "code",
   "execution_count": 15,
   "metadata": {},
   "outputs": [
    {
     "ename": "TypeError",
     "evalue": "cannot concatenate object of type \"<class 'int'>\"; only pd.Series, pd.DataFrame, and pd.Panel (deprecated) objs are valid",
     "output_type": "error",
     "traceback": [
      "\u001b[0;31m---------------------------------------------------------------------------\u001b[0m",
      "\u001b[0;31mTypeError\u001b[0m                                 Traceback (most recent call last)",
      "\u001b[0;32m<ipython-input-15-065c1c6dca6f>\u001b[0m in \u001b[0;36m<module>\u001b[0;34m()\u001b[0m\n\u001b[1;32m      1\u001b[0m \u001b[0;32mfor\u001b[0m \u001b[0mitems\u001b[0m \u001b[0;32min\u001b[0m \u001b[0mBest_teams\u001b[0m\u001b[0;34m[\u001b[0m\u001b[0;36m0\u001b[0m\u001b[0;34m]\u001b[0m\u001b[0;34m:\u001b[0m\u001b[0;34m\u001b[0m\u001b[0m\n\u001b[1;32m      2\u001b[0m     \u001b[0mitems\u001b[0m \u001b[0;34m=\u001b[0m \u001b[0mint\u001b[0m\u001b[0;34m(\u001b[0m\u001b[0mitems\u001b[0m\u001b[0;34m)\u001b[0m\u001b[0;34m\u001b[0m\u001b[0m\n\u001b[0;32m----> 3\u001b[0;31m     \u001b[0mBest_teams\u001b[0m\u001b[0;34m[\u001b[0m\u001b[0;36m0\u001b[0m\u001b[0;34m]\u001b[0m\u001b[0;34m.\u001b[0m\u001b[0mappend\u001b[0m\u001b[0;34m(\u001b[0m\u001b[0mitems\u001b[0m\u001b[0;34m)\u001b[0m\u001b[0;34m\u001b[0m\u001b[0m\n\u001b[0m\u001b[1;32m      4\u001b[0m \u001b[0;34m\u001b[0m\u001b[0m\n\u001b[1;32m      5\u001b[0m \u001b[0mBest_teams\u001b[0m\u001b[0;34m\u001b[0m\u001b[0m\n",
      "\u001b[0;32m~/miniconda3/lib/python3.6/site-packages/pandas/core/series.py\u001b[0m in \u001b[0;36mappend\u001b[0;34m(self, to_append, ignore_index, verify_integrity)\u001b[0m\n\u001b[1;32m   1678\u001b[0m             \u001b[0mto_concat\u001b[0m \u001b[0;34m=\u001b[0m \u001b[0;34m[\u001b[0m\u001b[0mself\u001b[0m\u001b[0;34m,\u001b[0m \u001b[0mto_append\u001b[0m\u001b[0;34m]\u001b[0m\u001b[0;34m\u001b[0m\u001b[0m\n\u001b[1;32m   1679\u001b[0m         return concat(to_concat, ignore_index=ignore_index,\n\u001b[0;32m-> 1680\u001b[0;31m                       verify_integrity=verify_integrity)\n\u001b[0m\u001b[1;32m   1681\u001b[0m \u001b[0;34m\u001b[0m\u001b[0m\n\u001b[1;32m   1682\u001b[0m     \u001b[0;32mdef\u001b[0m \u001b[0m_binop\u001b[0m\u001b[0;34m(\u001b[0m\u001b[0mself\u001b[0m\u001b[0;34m,\u001b[0m \u001b[0mother\u001b[0m\u001b[0;34m,\u001b[0m \u001b[0mfunc\u001b[0m\u001b[0;34m,\u001b[0m \u001b[0mlevel\u001b[0m\u001b[0;34m=\u001b[0m\u001b[0;32mNone\u001b[0m\u001b[0;34m,\u001b[0m \u001b[0mfill_value\u001b[0m\u001b[0;34m=\u001b[0m\u001b[0;32mNone\u001b[0m\u001b[0;34m)\u001b[0m\u001b[0;34m:\u001b[0m\u001b[0;34m\u001b[0m\u001b[0m\n",
      "\u001b[0;32m~/miniconda3/lib/python3.6/site-packages/pandas/core/reshape/concat.py\u001b[0m in \u001b[0;36mconcat\u001b[0;34m(objs, axis, join, join_axes, ignore_index, keys, levels, names, verify_integrity, copy)\u001b[0m\n\u001b[1;32m    210\u001b[0m                        \u001b[0mkeys\u001b[0m\u001b[0;34m=\u001b[0m\u001b[0mkeys\u001b[0m\u001b[0;34m,\u001b[0m \u001b[0mlevels\u001b[0m\u001b[0;34m=\u001b[0m\u001b[0mlevels\u001b[0m\u001b[0;34m,\u001b[0m \u001b[0mnames\u001b[0m\u001b[0;34m=\u001b[0m\u001b[0mnames\u001b[0m\u001b[0;34m,\u001b[0m\u001b[0;34m\u001b[0m\u001b[0m\n\u001b[1;32m    211\u001b[0m                        \u001b[0mverify_integrity\u001b[0m\u001b[0;34m=\u001b[0m\u001b[0mverify_integrity\u001b[0m\u001b[0;34m,\u001b[0m\u001b[0;34m\u001b[0m\u001b[0m\n\u001b[0;32m--> 212\u001b[0;31m                        copy=copy)\n\u001b[0m\u001b[1;32m    213\u001b[0m     \u001b[0;32mreturn\u001b[0m \u001b[0mop\u001b[0m\u001b[0;34m.\u001b[0m\u001b[0mget_result\u001b[0m\u001b[0;34m(\u001b[0m\u001b[0;34m)\u001b[0m\u001b[0;34m\u001b[0m\u001b[0m\n\u001b[1;32m    214\u001b[0m \u001b[0;34m\u001b[0m\u001b[0m\n",
      "\u001b[0;32m~/miniconda3/lib/python3.6/site-packages/pandas/core/reshape/concat.py\u001b[0m in \u001b[0;36m__init__\u001b[0;34m(self, objs, axis, join, join_axes, keys, levels, names, ignore_index, verify_integrity, copy)\u001b[0m\n\u001b[1;32m    270\u001b[0m                        \u001b[0;34m' only pd.Series, pd.DataFrame, and pd.Panel'\u001b[0m\u001b[0;34m\u001b[0m\u001b[0m\n\u001b[1;32m    271\u001b[0m                        ' (deprecated) objs are valid'.format(type(obj)))\n\u001b[0;32m--> 272\u001b[0;31m                 \u001b[0;32mraise\u001b[0m \u001b[0mTypeError\u001b[0m\u001b[0;34m(\u001b[0m\u001b[0mmsg\u001b[0m\u001b[0;34m)\u001b[0m\u001b[0;34m\u001b[0m\u001b[0m\n\u001b[0m\u001b[1;32m    273\u001b[0m \u001b[0;34m\u001b[0m\u001b[0m\n\u001b[1;32m    274\u001b[0m             \u001b[0;31m# consolidate\u001b[0m\u001b[0;34m\u001b[0m\u001b[0;34m\u001b[0m\u001b[0m\n",
      "\u001b[0;31mTypeError\u001b[0m: cannot concatenate object of type \"<class 'int'>\"; only pd.Series, pd.DataFrame, and pd.Panel (deprecated) objs are valid"
     ]
    }
   ],
   "source": [
    "for items in Best_teams[0]:\n",
    "    items = int(items)\n",
    "    Best_teams[0].append(items)\n",
    "\n",
    "Best_teams\n",
    "\n",
    "#Best_teams.plot.bar(sort_columns=True)"
   ]
  },
  {
   "cell_type": "code",
   "execution_count": 19,
   "metadata": {},
   "outputs": [
    {
     "data": {
      "image/png": "[encoded data removed]",
      "text/plain": [
       "<Figure size 432x288 with 1 Axes>"
      ]
     },
     "metadata": {},
     "output_type": "display_data"
    }
   ],
   "source": [
    "np.arange(len(performance))\n",
    "plt.bar(Team_list, Team_wins)\n",
    "plt.xlabel('Team')\n",
    "plt.ylabel('No of Victories')\n",
    "plt.xticks(Team_list)\n",
    "    plt.title('Number of Cumalative Victories For each Team from 1950 to 2018')\n",
    "plt.show()"
   ]
  },
  {
   "cell_type": "markdown",
   "metadata": {},
   "source": [
    "- x axis = team = teamvictory [1]\n",
    "- y axis = number of victories = teamvictory[0]\n"
   ]
  },
  {
   "cell_type": "code",
   "execution_count": 21,
   "metadata": {},
   "outputs": [
    {
     "ename": "ValueError",
     "evalue": "labels ['0'] not contained in axis",
     "output_type": "error",
     "traceback": [
      "\u001b[0;31m---------------------------------------------------------------------------\u001b[0m",
      "\u001b[0;31mValueError\u001b[0m                                Traceback (most recent call last)",
      "\u001b[0;32m<ipython-input-21-17613ca0e00b>\u001b[0m in \u001b[0;36m<module>\u001b[0;34m()\u001b[0m\n\u001b[1;32m      1\u001b[0m \u001b[0mdatalist\u001b[0m \u001b[0;34m=\u001b[0m \u001b[0mpd\u001b[0m\u001b[0;34m.\u001b[0m\u001b[0mread_html\u001b[0m\u001b[0;34m(\u001b[0m\u001b[0;34m\"http://www.4mula1.ro/statistics/team/victorypole.html\"\u001b[0m\u001b[0;34m)\u001b[0m\u001b[0;34m\u001b[0m\u001b[0m\n\u001b[1;32m      2\u001b[0m \u001b[0mf1Data_Team_Victory\u001b[0m \u001b[0;34m=\u001b[0m \u001b[0mpd\u001b[0m\u001b[0;34m.\u001b[0m\u001b[0mDataFrame\u001b[0m\u001b[0;34m(\u001b[0m\u001b[0;34m)\u001b[0m\u001b[0;34m\u001b[0m\u001b[0m\n\u001b[0;32m----> 3\u001b[0;31m \u001b[0mf1Data_Team_Victory\u001b[0m \u001b[0;34m=\u001b[0m \u001b[0mf1Data_Team_Victory\u001b[0m\u001b[0;34m.\u001b[0m\u001b[0mappend\u001b[0m\u001b[0;34m(\u001b[0m\u001b[0mdatalist\u001b[0m\u001b[0;34m[\u001b[0m\u001b[0;36m0\u001b[0m\u001b[0;34m]\u001b[0m\u001b[0;34m)\u001b[0m\u001b[0;34m.\u001b[0m\u001b[0mdropna\u001b[0m\u001b[0;34m(\u001b[0m\u001b[0;34m)\u001b[0m\u001b[0;34m.\u001b[0m\u001b[0mdrop\u001b[0m\u001b[0;34m(\u001b[0m\u001b[0;34m[\u001b[0m\u001b[0;34m'0'\u001b[0m\u001b[0;34m]\u001b[0m\u001b[0;34m)\u001b[0m\u001b[0;34m\u001b[0m\u001b[0m\n\u001b[0m\u001b[1;32m      4\u001b[0m \u001b[0;31m#df.drop(['Cochice', 'Pima'])\u001b[0m\u001b[0;34m\u001b[0m\u001b[0;34m\u001b[0m\u001b[0m\n\u001b[1;32m      5\u001b[0m \u001b[0mcount\u001b[0m \u001b[0;34m=\u001b[0m \u001b[0;36m0\u001b[0m\u001b[0;34m\u001b[0m\u001b[0m\n",
      "\u001b[0;32m~/miniconda3/lib/python3.6/site-packages/pandas/core/generic.py\u001b[0m in \u001b[0;36mdrop\u001b[0;34m(self, labels, axis, index, columns, level, inplace, errors)\u001b[0m\n\u001b[1;32m   2528\u001b[0m         \u001b[0;32mfor\u001b[0m \u001b[0maxis\u001b[0m\u001b[0;34m,\u001b[0m \u001b[0mlabels\u001b[0m \u001b[0;32min\u001b[0m \u001b[0maxes\u001b[0m\u001b[0;34m.\u001b[0m\u001b[0mitems\u001b[0m\u001b[0;34m(\u001b[0m\u001b[0;34m)\u001b[0m\u001b[0;34m:\u001b[0m\u001b[0;34m\u001b[0m\u001b[0m\n\u001b[1;32m   2529\u001b[0m             \u001b[0;32mif\u001b[0m \u001b[0mlabels\u001b[0m \u001b[0;32mis\u001b[0m \u001b[0;32mnot\u001b[0m \u001b[0;32mNone\u001b[0m\u001b[0;34m:\u001b[0m\u001b[0;34m\u001b[0m\u001b[0m\n\u001b[0;32m-> 2530\u001b[0;31m                 \u001b[0mobj\u001b[0m \u001b[0;34m=\u001b[0m \u001b[0mobj\u001b[0m\u001b[0;34m.\u001b[0m\u001b[0m_drop_axis\u001b[0m\u001b[0;34m(\u001b[0m\u001b[0mlabels\u001b[0m\u001b[0;34m,\u001b[0m \u001b[0maxis\u001b[0m\u001b[0;34m,\u001b[0m \u001b[0mlevel\u001b[0m\u001b[0;34m=\u001b[0m\u001b[0mlevel\u001b[0m\u001b[0;34m,\u001b[0m \u001b[0merrors\u001b[0m\u001b[0;34m=\u001b[0m\u001b[0merrors\u001b[0m\u001b[0;34m)\u001b[0m\u001b[0;34m\u001b[0m\u001b[0m\n\u001b[0m\u001b[1;32m   2531\u001b[0m \u001b[0;34m\u001b[0m\u001b[0m\n\u001b[1;32m   2532\u001b[0m         \u001b[0;32mif\u001b[0m \u001b[0minplace\u001b[0m\u001b[0;34m:\u001b[0m\u001b[0;34m\u001b[0m\u001b[0m\n",
      "\u001b[0;32m~/miniconda3/lib/python3.6/site-packages/pandas/core/generic.py\u001b[0m in \u001b[0;36m_drop_axis\u001b[0;34m(self, labels, axis, level, errors)\u001b[0m\n\u001b[1;32m   2560\u001b[0m                 \u001b[0mnew_axis\u001b[0m \u001b[0;34m=\u001b[0m \u001b[0maxis\u001b[0m\u001b[0;34m.\u001b[0m\u001b[0mdrop\u001b[0m\u001b[0;34m(\u001b[0m\u001b[0mlabels\u001b[0m\u001b[0;34m,\u001b[0m \u001b[0mlevel\u001b[0m\u001b[0;34m=\u001b[0m\u001b[0mlevel\u001b[0m\u001b[0;34m,\u001b[0m \u001b[0merrors\u001b[0m\u001b[0;34m=\u001b[0m\u001b[0merrors\u001b[0m\u001b[0;34m)\u001b[0m\u001b[0;34m\u001b[0m\u001b[0m\n\u001b[1;32m   2561\u001b[0m             \u001b[0;32melse\u001b[0m\u001b[0;34m:\u001b[0m\u001b[0;34m\u001b[0m\u001b[0m\n\u001b[0;32m-> 2562\u001b[0;31m                 \u001b[0mnew_axis\u001b[0m \u001b[0;34m=\u001b[0m \u001b[0maxis\u001b[0m\u001b[0;34m.\u001b[0m\u001b[0mdrop\u001b[0m\u001b[0;34m(\u001b[0m\u001b[0mlabels\u001b[0m\u001b[0;34m,\u001b[0m \u001b[0merrors\u001b[0m\u001b[0;34m=\u001b[0m\u001b[0merrors\u001b[0m\u001b[0;34m)\u001b[0m\u001b[0;34m\u001b[0m\u001b[0m\n\u001b[0m\u001b[1;32m   2563\u001b[0m             \u001b[0mdropped\u001b[0m \u001b[0;34m=\u001b[0m \u001b[0mself\u001b[0m\u001b[0;34m.\u001b[0m\u001b[0mreindex\u001b[0m\u001b[0;34m(\u001b[0m\u001b[0;34m**\u001b[0m\u001b[0;34m{\u001b[0m\u001b[0maxis_name\u001b[0m\u001b[0;34m:\u001b[0m \u001b[0mnew_axis\u001b[0m\u001b[0;34m}\u001b[0m\u001b[0;34m)\u001b[0m\u001b[0;34m\u001b[0m\u001b[0m\n\u001b[1;32m   2564\u001b[0m             \u001b[0;32mtry\u001b[0m\u001b[0;34m:\u001b[0m\u001b[0;34m\u001b[0m\u001b[0m\n",
      "\u001b[0;32m~/miniconda3/lib/python3.6/site-packages/pandas/core/indexes/base.py\u001b[0m in \u001b[0;36mdrop\u001b[0;34m(self, labels, errors)\u001b[0m\n\u001b[1;32m   3742\u001b[0m             \u001b[0;32mif\u001b[0m \u001b[0merrors\u001b[0m \u001b[0;34m!=\u001b[0m \u001b[0;34m'ignore'\u001b[0m\u001b[0;34m:\u001b[0m\u001b[0;34m\u001b[0m\u001b[0m\n\u001b[1;32m   3743\u001b[0m                 raise ValueError('labels %s not contained in axis' %\n\u001b[0;32m-> 3744\u001b[0;31m                                  labels[mask])\n\u001b[0m\u001b[1;32m   3745\u001b[0m             \u001b[0mindexer\u001b[0m \u001b[0;34m=\u001b[0m \u001b[0mindexer\u001b[0m\u001b[0;34m[\u001b[0m\u001b[0;34m~\u001b[0m\u001b[0mmask\u001b[0m\u001b[0;34m]\u001b[0m\u001b[0;34m\u001b[0m\u001b[0m\n\u001b[1;32m   3746\u001b[0m         \u001b[0;32mreturn\u001b[0m \u001b[0mself\u001b[0m\u001b[0;34m.\u001b[0m\u001b[0mdelete\u001b[0m\u001b[0;34m(\u001b[0m\u001b[0mindexer\u001b[0m\u001b[0;34m)\u001b[0m\u001b[0;34m\u001b[0m\u001b[0m\n",
      "\u001b[0;31mValueError\u001b[0m: labels ['0'] not contained in axis"
     ]
    }
   ],
   "source": [
    "datalist = pd.read_html(\"http://www.4mula1.ro/statistics/team/victorypole.html\") \n",
    "f1Data_Team_Victory = pd.DataFrame() \n",
    "f1Data_Team_Victory = f1Data_Team_Victory.append(datalist[0]).dropna().drop(['0'])\n",
    "#df.drop(['Cochice', 'Pima'])\n",
    "count = 0\n",
    "for items in f1Data_Team_Victory[0]:\n",
    "    print(items)\n",
    "    \n",
    "f1Data_Team_Victory\n",
    "# Take the value counts of letter grade and create a data frame\n",
    "#Team_names = pd.DataFrame( { 'Team Name' : f1Data_Team_Victory[0].value_counts() } ).sort_index()\n",
    "#f1Data_Team_Victory.plot.bar(sort_columns=True)\n"
   ]
  },
  {
   "cell_type": "code",
   "execution_count": 4,
   "metadata": {},
   "outputs": [
    {
     "ename": "NameError",
     "evalue": "name 'f1Data_Team' is not defined",
     "output_type": "error",
     "traceback": [
      "\u001b[0;31m---------------------------------------------------------------------------\u001b[0m",
      "\u001b[0;31mNameError\u001b[0m                                 Traceback (most recent call last)",
      "\u001b[0;32m<ipython-input-4-53681f80ee6e>\u001b[0m in \u001b[0;36m<module>\u001b[0;34m()\u001b[0m\n\u001b[0;32m----> 1\u001b[0;31m \u001b[0mTeam_Win\u001b[0m \u001b[0;34m=\u001b[0m \u001b[0mf1Data_Team\u001b[0m\u001b[0;34m.\u001b[0m\u001b[0mappend\u001b[0m\u001b[0;34m(\u001b[0m\u001b[0mdatalist\u001b[0m\u001b[0;34m[\u001b[0m\u001b[0;36m0\u001b[0m\u001b[0;34m]\u001b[0m\u001b[0;34m)\u001b[0m\u001b[0;34m.\u001b[0m\u001b[0mdrop\u001b[0m\u001b[0;34m(\u001b[0m\u001b[0;34m[\u001b[0m\u001b[0;34m'0'\u001b[0m\u001b[0;34m]\u001b[0m\u001b[0;34m)\u001b[0m\u001b[0;34m\u001b[0m\u001b[0m\n\u001b[0m\u001b[1;32m      2\u001b[0m \u001b[0mTeam_Win\u001b[0m\u001b[0;34m\u001b[0m\u001b[0m\n",
      "\u001b[0;31mNameError\u001b[0m: name 'f1Data_Team' is not defined"
     ]
    }
   ],
   "source": [
    "Team_Win = f1Data_Team.append(datalist[0]).drop(['0'])\n",
    "Team_Win"
   ]
  },
  {
   "cell_type": "code",
   "execution_count": 5,
   "metadata": {},
   "outputs": [
    {
     "ename": "KeyError",
     "evalue": "0",
     "output_type": "error",
     "traceback": [
      "\u001b[0;31m---------------------------------------------------------------------------\u001b[0m",
      "\u001b[0;31mKeyError\u001b[0m                                  Traceback (most recent call last)",
      "\u001b[0;32m~/miniconda3/lib/python3.6/site-packages/pandas/core/indexes/base.py\u001b[0m in \u001b[0;36mget_loc\u001b[0;34m(self, key, method, tolerance)\u001b[0m\n\u001b[1;32m   2524\u001b[0m             \u001b[0;32mtry\u001b[0m\u001b[0;34m:\u001b[0m\u001b[0;34m\u001b[0m\u001b[0m\n\u001b[0;32m-> 2525\u001b[0;31m                 \u001b[0;32mreturn\u001b[0m \u001b[0mself\u001b[0m\u001b[0;34m.\u001b[0m\u001b[0m_engine\u001b[0m\u001b[0;34m.\u001b[0m\u001b[0mget_loc\u001b[0m\u001b[0;34m(\u001b[0m\u001b[0mkey\u001b[0m\u001b[0;34m)\u001b[0m\u001b[0;34m\u001b[0m\u001b[0m\n\u001b[0m\u001b[1;32m   2526\u001b[0m             \u001b[0;32mexcept\u001b[0m \u001b[0mKeyError\u001b[0m\u001b[0;34m:\u001b[0m\u001b[0;34m\u001b[0m\u001b[0m\n",
      "\u001b[0;32mpandas/_libs/index.pyx\u001b[0m in \u001b[0;36mpandas._libs.index.IndexEngine.get_loc\u001b[0;34m()\u001b[0m\n",
      "\u001b[0;32mpandas/_libs/index.pyx\u001b[0m in \u001b[0;36mpandas._libs.index.IndexEngine.get_loc\u001b[0;34m()\u001b[0m\n",
      "\u001b[0;32mpandas/_libs/hashtable_class_helper.pxi\u001b[0m in \u001b[0;36mpandas._libs.hashtable.PyObjectHashTable.get_item\u001b[0;34m()\u001b[0m\n",
      "\u001b[0;32mpandas/_libs/hashtable_class_helper.pxi\u001b[0m in \u001b[0;36mpandas._libs.hashtable.PyObjectHashTable.get_item\u001b[0;34m()\u001b[0m\n",
      "\u001b[0;31mKeyError\u001b[0m: 0",
      "\nDuring handling of the above exception, another exception occurred:\n",
      "\u001b[0;31mKeyError\u001b[0m                                  Traceback (most recent call last)",
      "\u001b[0;32m<ipython-input-5-ac5ab94cfd51>\u001b[0m in \u001b[0;36m<module>\u001b[0;34m()\u001b[0m\n\u001b[0;32m----> 1\u001b[0;31m \u001b[0mf1Data_Team_Victory\u001b[0m\u001b[0;34m[\u001b[0m\u001b[0;36m0\u001b[0m\u001b[0;34m]\u001b[0m\u001b[0;34m\u001b[0m\u001b[0m\n\u001b[0m",
      "\u001b[0;32m~/miniconda3/lib/python3.6/site-packages/pandas/core/frame.py\u001b[0m in \u001b[0;36m__getitem__\u001b[0;34m(self, key)\u001b[0m\n\u001b[1;32m   2137\u001b[0m             \u001b[0;32mreturn\u001b[0m \u001b[0mself\u001b[0m\u001b[0;34m.\u001b[0m\u001b[0m_getitem_multilevel\u001b[0m\u001b[0;34m(\u001b[0m\u001b[0mkey\u001b[0m\u001b[0;34m)\u001b[0m\u001b[0;34m\u001b[0m\u001b[0m\n\u001b[1;32m   2138\u001b[0m         \u001b[0;32melse\u001b[0m\u001b[0;34m:\u001b[0m\u001b[0;34m\u001b[0m\u001b[0m\n\u001b[0;32m-> 2139\u001b[0;31m             \u001b[0;32mreturn\u001b[0m \u001b[0mself\u001b[0m\u001b[0;34m.\u001b[0m\u001b[0m_getitem_column\u001b[0m\u001b[0;34m(\u001b[0m\u001b[0mkey\u001b[0m\u001b[0;34m)\u001b[0m\u001b[0;34m\u001b[0m\u001b[0m\n\u001b[0m\u001b[1;32m   2140\u001b[0m \u001b[0;34m\u001b[0m\u001b[0m\n\u001b[1;32m   2141\u001b[0m     \u001b[0;32mdef\u001b[0m \u001b[0m_getitem_column\u001b[0m\u001b[0;34m(\u001b[0m\u001b[0mself\u001b[0m\u001b[0;34m,\u001b[0m \u001b[0mkey\u001b[0m\u001b[0;34m)\u001b[0m\u001b[0;34m:\u001b[0m\u001b[0;34m\u001b[0m\u001b[0m\n",
      "\u001b[0;32m~/miniconda3/lib/python3.6/site-packages/pandas/core/frame.py\u001b[0m in \u001b[0;36m_getitem_column\u001b[0;34m(self, key)\u001b[0m\n\u001b[1;32m   2144\u001b[0m         \u001b[0;31m# get column\u001b[0m\u001b[0;34m\u001b[0m\u001b[0;34m\u001b[0m\u001b[0m\n\u001b[1;32m   2145\u001b[0m         \u001b[0;32mif\u001b[0m \u001b[0mself\u001b[0m\u001b[0;34m.\u001b[0m\u001b[0mcolumns\u001b[0m\u001b[0;34m.\u001b[0m\u001b[0mis_unique\u001b[0m\u001b[0;34m:\u001b[0m\u001b[0;34m\u001b[0m\u001b[0m\n\u001b[0;32m-> 2146\u001b[0;31m             \u001b[0;32mreturn\u001b[0m \u001b[0mself\u001b[0m\u001b[0;34m.\u001b[0m\u001b[0m_get_item_cache\u001b[0m\u001b[0;34m(\u001b[0m\u001b[0mkey\u001b[0m\u001b[0;34m)\u001b[0m\u001b[0;34m\u001b[0m\u001b[0m\n\u001b[0m\u001b[1;32m   2147\u001b[0m \u001b[0;34m\u001b[0m\u001b[0m\n\u001b[1;32m   2148\u001b[0m         \u001b[0;31m# duplicate columns & possible reduce dimensionality\u001b[0m\u001b[0;34m\u001b[0m\u001b[0;34m\u001b[0m\u001b[0m\n",
      "\u001b[0;32m~/miniconda3/lib/python3.6/site-packages/pandas/core/generic.py\u001b[0m in \u001b[0;36m_get_item_cache\u001b[0;34m(self, item)\u001b[0m\n\u001b[1;32m   1840\u001b[0m         \u001b[0mres\u001b[0m \u001b[0;34m=\u001b[0m \u001b[0mcache\u001b[0m\u001b[0;34m.\u001b[0m\u001b[0mget\u001b[0m\u001b[0;34m(\u001b[0m\u001b[0mitem\u001b[0m\u001b[0;34m)\u001b[0m\u001b[0;34m\u001b[0m\u001b[0m\n\u001b[1;32m   1841\u001b[0m         \u001b[0;32mif\u001b[0m \u001b[0mres\u001b[0m \u001b[0;32mis\u001b[0m \u001b[0;32mNone\u001b[0m\u001b[0;34m:\u001b[0m\u001b[0;34m\u001b[0m\u001b[0m\n\u001b[0;32m-> 1842\u001b[0;31m             \u001b[0mvalues\u001b[0m \u001b[0;34m=\u001b[0m \u001b[0mself\u001b[0m\u001b[0;34m.\u001b[0m\u001b[0m_data\u001b[0m\u001b[0;34m.\u001b[0m\u001b[0mget\u001b[0m\u001b[0;34m(\u001b[0m\u001b[0mitem\u001b[0m\u001b[0;34m)\u001b[0m\u001b[0;34m\u001b[0m\u001b[0m\n\u001b[0m\u001b[1;32m   1843\u001b[0m             \u001b[0mres\u001b[0m \u001b[0;34m=\u001b[0m \u001b[0mself\u001b[0m\u001b[0;34m.\u001b[0m\u001b[0m_box_item_values\u001b[0m\u001b[0;34m(\u001b[0m\u001b[0mitem\u001b[0m\u001b[0;34m,\u001b[0m \u001b[0mvalues\u001b[0m\u001b[0;34m)\u001b[0m\u001b[0;34m\u001b[0m\u001b[0m\n\u001b[1;32m   1844\u001b[0m             \u001b[0mcache\u001b[0m\u001b[0;34m[\u001b[0m\u001b[0mitem\u001b[0m\u001b[0;34m]\u001b[0m \u001b[0;34m=\u001b[0m \u001b[0mres\u001b[0m\u001b[0;34m\u001b[0m\u001b[0m\n",
      "\u001b[0;32m~/miniconda3/lib/python3.6/site-packages/pandas/core/internals.py\u001b[0m in \u001b[0;36mget\u001b[0;34m(self, item, fastpath)\u001b[0m\n\u001b[1;32m   3841\u001b[0m \u001b[0;34m\u001b[0m\u001b[0m\n\u001b[1;32m   3842\u001b[0m             \u001b[0;32mif\u001b[0m \u001b[0;32mnot\u001b[0m \u001b[0misna\u001b[0m\u001b[0;34m(\u001b[0m\u001b[0mitem\u001b[0m\u001b[0;34m)\u001b[0m\u001b[0;34m:\u001b[0m\u001b[0;34m\u001b[0m\u001b[0m\n\u001b[0;32m-> 3843\u001b[0;31m                 \u001b[0mloc\u001b[0m \u001b[0;34m=\u001b[0m \u001b[0mself\u001b[0m\u001b[0;34m.\u001b[0m\u001b[0mitems\u001b[0m\u001b[0;34m.\u001b[0m\u001b[0mget_loc\u001b[0m\u001b[0;34m(\u001b[0m\u001b[0mitem\u001b[0m\u001b[0;34m)\u001b[0m\u001b[0;34m\u001b[0m\u001b[0m\n\u001b[0m\u001b[1;32m   3844\u001b[0m             \u001b[0;32melse\u001b[0m\u001b[0;34m:\u001b[0m\u001b[0;34m\u001b[0m\u001b[0m\n\u001b[1;32m   3845\u001b[0m                 \u001b[0mindexer\u001b[0m \u001b[0;34m=\u001b[0m \u001b[0mnp\u001b[0m\u001b[0;34m.\u001b[0m\u001b[0marange\u001b[0m\u001b[0;34m(\u001b[0m\u001b[0mlen\u001b[0m\u001b[0;34m(\u001b[0m\u001b[0mself\u001b[0m\u001b[0;34m.\u001b[0m\u001b[0mitems\u001b[0m\u001b[0;34m)\u001b[0m\u001b[0;34m)\u001b[0m\u001b[0;34m[\u001b[0m\u001b[0misna\u001b[0m\u001b[0;34m(\u001b[0m\u001b[0mself\u001b[0m\u001b[0;34m.\u001b[0m\u001b[0mitems\u001b[0m\u001b[0;34m)\u001b[0m\u001b[0;34m]\u001b[0m\u001b[0;34m\u001b[0m\u001b[0m\n",
      "\u001b[0;32m~/miniconda3/lib/python3.6/site-packages/pandas/core/indexes/base.py\u001b[0m in \u001b[0;36mget_loc\u001b[0;34m(self, key, method, tolerance)\u001b[0m\n\u001b[1;32m   2525\u001b[0m                 \u001b[0;32mreturn\u001b[0m \u001b[0mself\u001b[0m\u001b[0;34m.\u001b[0m\u001b[0m_engine\u001b[0m\u001b[0;34m.\u001b[0m\u001b[0mget_loc\u001b[0m\u001b[0;34m(\u001b[0m\u001b[0mkey\u001b[0m\u001b[0;34m)\u001b[0m\u001b[0;34m\u001b[0m\u001b[0m\n\u001b[1;32m   2526\u001b[0m             \u001b[0;32mexcept\u001b[0m \u001b[0mKeyError\u001b[0m\u001b[0;34m:\u001b[0m\u001b[0;34m\u001b[0m\u001b[0m\n\u001b[0;32m-> 2527\u001b[0;31m                 \u001b[0;32mreturn\u001b[0m \u001b[0mself\u001b[0m\u001b[0;34m.\u001b[0m\u001b[0m_engine\u001b[0m\u001b[0;34m.\u001b[0m\u001b[0mget_loc\u001b[0m\u001b[0;34m(\u001b[0m\u001b[0mself\u001b[0m\u001b[0;34m.\u001b[0m\u001b[0m_maybe_cast_indexer\u001b[0m\u001b[0;34m(\u001b[0m\u001b[0mkey\u001b[0m\u001b[0;34m)\u001b[0m\u001b[0;34m)\u001b[0m\u001b[0;34m\u001b[0m\u001b[0m\n\u001b[0m\u001b[1;32m   2528\u001b[0m \u001b[0;34m\u001b[0m\u001b[0m\n\u001b[1;32m   2529\u001b[0m         \u001b[0mindexer\u001b[0m \u001b[0;34m=\u001b[0m \u001b[0mself\u001b[0m\u001b[0;34m.\u001b[0m\u001b[0mget_indexer\u001b[0m\u001b[0;34m(\u001b[0m\u001b[0;34m[\u001b[0m\u001b[0mkey\u001b[0m\u001b[0;34m]\u001b[0m\u001b[0;34m,\u001b[0m \u001b[0mmethod\u001b[0m\u001b[0;34m=\u001b[0m\u001b[0mmethod\u001b[0m\u001b[0;34m,\u001b[0m \u001b[0mtolerance\u001b[0m\u001b[0;34m=\u001b[0m\u001b[0mtolerance\u001b[0m\u001b[0;34m)\u001b[0m\u001b[0;34m\u001b[0m\u001b[0m\n",
      "\u001b[0;32mpandas/_libs/index.pyx\u001b[0m in \u001b[0;36mpandas._libs.index.IndexEngine.get_loc\u001b[0;34m()\u001b[0m\n",
      "\u001b[0;32mpandas/_libs/index.pyx\u001b[0m in \u001b[0;36mpandas._libs.index.IndexEngine.get_loc\u001b[0;34m()\u001b[0m\n",
      "\u001b[0;32mpandas/_libs/hashtable_class_helper.pxi\u001b[0m in \u001b[0;36mpandas._libs.hashtable.PyObjectHashTable.get_item\u001b[0;34m()\u001b[0m\n",
      "\u001b[0;32mpandas/_libs/hashtable_class_helper.pxi\u001b[0m in \u001b[0;36mpandas._libs.hashtable.PyObjectHashTable.get_item\u001b[0;34m()\u001b[0m\n",
      "\u001b[0;31mKeyError\u001b[0m: 0"
     ]
    }
   ],
   "source": [
    "f1Data_Team_Victory[0]"
   ]
  },
  {
   "cell_type": "code",
   "execution_count": null,
   "metadata": {},
   "outputs": [],
   "source": []
  }
 ],
 "metadata": {
  "kernelspec": {
   "display_name": "Python 3",
   "language": "python",
   "name": "python3"
  },
  "language_info": {
   "codemirror_mode": {
    "name": "ipython",
    "version": 3
   },
   "file_extension": ".py",
   "mimetype": "text/x-python",
   "name": "python",
   "nbconvert_exporter": "python",
   "pygments_lexer": "ipython3",
   "version": "3.6.4"
  }
 },
 "nbformat": 4,
 "nbformat_minor": 2
}
